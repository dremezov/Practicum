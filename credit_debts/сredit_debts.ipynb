{
 "cells": [
  {
   "cell_type": "markdown",
   "id": "937989b0",
   "metadata": {},
   "source": [
    "<div style=\"border:solid green 2px; padding: 20px\">\n",
    "    \n",
    "<b>Данил, привет!</b> Мы рады тебя видеть на территории код-ревьюеров. Ты проделал большую работу над проектом, но давай познакомимся и сделаем его еще лучше! У нас тут своя атмосфера и несколько правил:\n",
    "\n",
    "\n",
    "1. Меня зовут Александр Матвеевский. Я работаю код-ревьюером, моя основная цель — не указать на совершенные тобою ошибки, а поделиться своим опытом и помочь тебе стать аналитиком данных.\n",
    "2. Общаемся на ты.\n",
    "3. Если хочешь написать, спросить - не нужно стесняться. Только выбери свой цвет для комментария.  \n",
    "4. Это учебный проект, тут можно не бояться сделать ошибку.  \n",
    "5. У тебя неограниченное количество попыток для сдачи проекта.  \n",
    "6. Let's Go!\n",
    "\n",
    "---\n",
    "\n",
    "Я буду красить комментарии цветом, пожалуйста, не удаляй их:\n",
    "\n",
    "<div class=\"alert alert-block alert-danger\">✍\n",
    "    \n",
    "\n",
    "__Комментарий от ревьюера №1__\n",
    "\n",
    "Такой комментарий нужно исправить обязательно, он критически влияет на удачное выполнение проекта.\n",
    "</div>\n",
    "    \n",
    "---\n",
    "\n",
    "<div class=\"alert alert-block alert-warning\">📝\n",
    "    \n",
    "\n",
    "__Комментарий от ревьюера №1__\n",
    "\n",
    "\n",
    "Такой комментарий является рекомендацией или советом. Можешь использовать их на своё усмотрение.\n",
    "</div>\n",
    "\n",
    "---\n",
    "\n",
    "<div class=\"alert alert-block alert-success\">✔️\n",
    "    \n",
    "\n",
    "__Комментарий от ревьюера №1__\n",
    "\n",
    "Такой комментарий  говорит о том, что было сделано что-то качественное и правильное =)\n",
    "</div>\n",
    "    \n",
    "---\n",
    "    \n",
    "Предлагаю работать над проектом в диалоге: если ты что-то меняешь в проекте или отвечаешь на мои комментарии — пиши об этом. Мне будет легче отследить изменения, если ты выделишь свои комментарии:   \n",
    "    \n",
    "<div class=\"alert alert-info\"> <b>Комментарии студента:</b> Например, вот так.</div>\n",
    "    \n",
    "Всё это поможет выполнить повторную проверку твоего проекта оперативнее. Если будут какие-нибудь вопросы по моим комментариям, пиши, будем разбираться вместе :)    \n",
    "    \n",
    "---"
   ]
  },
  {
   "cell_type": "markdown",
   "id": "c81daeeb",
   "metadata": {
    "deletable": false,
    "id": "c81daeeb"
   },
   "source": [
    "# Исследование надежности заемщиков\n"
   ]
  },
  {
   "cell_type": "markdown",
   "id": "827c20bf",
   "metadata": {
    "id": "827c20bf"
   },
   "source": [
    "Во второй части проекта вы выполните шаги 3 и 4. Их вручную проверит ревьюер.\n",
    "Чтобы вам не пришлось писать код заново для шагов 1 и 2, мы добавили авторские решения в ячейки с кодом. \n",
    "\n"
   ]
  },
  {
   "cell_type": "markdown",
   "id": "744d7639",
   "metadata": {
    "deletable": false,
    "id": "744d7639"
   },
   "source": [
    "## Откройте таблицу и изучите общую информацию о данных"
   ]
  },
  {
   "cell_type": "markdown",
   "id": "e7a14c31",
   "metadata": {
    "deletable": false,
    "id": "e7a14c31"
   },
   "source": [
    "**Задание 1. Импортируйте библиотеку pandas. Считайте данные из csv-файла в датафрейм и сохраните в переменную `data`. Путь к файлу:**\n",
    "\n",
    "`/datasets/data.csv`"
   ]
  },
  {
   "cell_type": "code",
   "execution_count": 1,
   "id": "7bcf75c9",
   "metadata": {
    "deletable": false,
    "id": "7bcf75c9"
   },
   "outputs": [],
   "source": [
    "import pandas as pd\n",
    "\n",
    "try:\n",
    "    data = pd.read_csv('/datasets/data.csv')\n",
    "except:\n",
    "    data = pd.read_csv('https://code.s3.yandex.net/datasets/data.csv')"
   ]
  },
  {
   "cell_type": "markdown",
   "id": "b8038fe3",
   "metadata": {
    "deletable": false,
    "id": "b8038fe3"
   },
   "source": [
    "**Задание 2. Выведите первые 20 строчек датафрейма `data` на экран.**"
   ]
  },
  {
   "cell_type": "code",
   "execution_count": 2,
   "id": "2a7cab99",
   "metadata": {
    "deletable": false,
    "id": "2a7cab99",
    "outputId": "1a8f3ef2-d323-4ec2-ddf7-89670b5944c4"
   },
   "outputs": [
    {
     "data": {
      "text/html": [
       "<div>\n",
       "<style scoped>\n",
       "    .dataframe tbody tr th:only-of-type {\n",
       "        vertical-align: middle;\n",
       "    }\n",
       "\n",
       "    .dataframe tbody tr th {\n",
       "        vertical-align: top;\n",
       "    }\n",
       "\n",
       "    .dataframe thead th {\n",
       "        text-align: right;\n",
       "    }\n",
       "</style>\n",
       "<table border=\"1\" class=\"dataframe\">\n",
       "  <thead>\n",
       "    <tr style=\"text-align: right;\">\n",
       "      <th></th>\n",
       "      <th>children</th>\n",
       "      <th>days_employed</th>\n",
       "      <th>dob_years</th>\n",
       "      <th>education</th>\n",
       "      <th>education_id</th>\n",
       "      <th>family_status</th>\n",
       "      <th>family_status_id</th>\n",
       "      <th>gender</th>\n",
       "      <th>income_type</th>\n",
       "      <th>debt</th>\n",
       "      <th>total_income</th>\n",
       "      <th>purpose</th>\n",
       "    </tr>\n",
       "  </thead>\n",
       "  <tbody>\n",
       "    <tr>\n",
       "      <th>0</th>\n",
       "      <td>1</td>\n",
       "      <td>-8437.673028</td>\n",
       "      <td>42</td>\n",
       "      <td>высшее</td>\n",
       "      <td>0</td>\n",
       "      <td>женат / замужем</td>\n",
       "      <td>0</td>\n",
       "      <td>F</td>\n",
       "      <td>сотрудник</td>\n",
       "      <td>0</td>\n",
       "      <td>253875.639453</td>\n",
       "      <td>покупка жилья</td>\n",
       "    </tr>\n",
       "    <tr>\n",
       "      <th>1</th>\n",
       "      <td>1</td>\n",
       "      <td>-4024.803754</td>\n",
       "      <td>36</td>\n",
       "      <td>среднее</td>\n",
       "      <td>1</td>\n",
       "      <td>женат / замужем</td>\n",
       "      <td>0</td>\n",
       "      <td>F</td>\n",
       "      <td>сотрудник</td>\n",
       "      <td>0</td>\n",
       "      <td>112080.014102</td>\n",
       "      <td>приобретение автомобиля</td>\n",
       "    </tr>\n",
       "    <tr>\n",
       "      <th>2</th>\n",
       "      <td>0</td>\n",
       "      <td>-5623.422610</td>\n",
       "      <td>33</td>\n",
       "      <td>Среднее</td>\n",
       "      <td>1</td>\n",
       "      <td>женат / замужем</td>\n",
       "      <td>0</td>\n",
       "      <td>M</td>\n",
       "      <td>сотрудник</td>\n",
       "      <td>0</td>\n",
       "      <td>145885.952297</td>\n",
       "      <td>покупка жилья</td>\n",
       "    </tr>\n",
       "    <tr>\n",
       "      <th>3</th>\n",
       "      <td>3</td>\n",
       "      <td>-4124.747207</td>\n",
       "      <td>32</td>\n",
       "      <td>среднее</td>\n",
       "      <td>1</td>\n",
       "      <td>женат / замужем</td>\n",
       "      <td>0</td>\n",
       "      <td>M</td>\n",
       "      <td>сотрудник</td>\n",
       "      <td>0</td>\n",
       "      <td>267628.550329</td>\n",
       "      <td>дополнительное образование</td>\n",
       "    </tr>\n",
       "    <tr>\n",
       "      <th>4</th>\n",
       "      <td>0</td>\n",
       "      <td>340266.072047</td>\n",
       "      <td>53</td>\n",
       "      <td>среднее</td>\n",
       "      <td>1</td>\n",
       "      <td>гражданский брак</td>\n",
       "      <td>1</td>\n",
       "      <td>F</td>\n",
       "      <td>пенсионер</td>\n",
       "      <td>0</td>\n",
       "      <td>158616.077870</td>\n",
       "      <td>сыграть свадьбу</td>\n",
       "    </tr>\n",
       "    <tr>\n",
       "      <th>5</th>\n",
       "      <td>0</td>\n",
       "      <td>-926.185831</td>\n",
       "      <td>27</td>\n",
       "      <td>высшее</td>\n",
       "      <td>0</td>\n",
       "      <td>гражданский брак</td>\n",
       "      <td>1</td>\n",
       "      <td>M</td>\n",
       "      <td>компаньон</td>\n",
       "      <td>0</td>\n",
       "      <td>255763.565419</td>\n",
       "      <td>покупка жилья</td>\n",
       "    </tr>\n",
       "    <tr>\n",
       "      <th>6</th>\n",
       "      <td>0</td>\n",
       "      <td>-2879.202052</td>\n",
       "      <td>43</td>\n",
       "      <td>высшее</td>\n",
       "      <td>0</td>\n",
       "      <td>женат / замужем</td>\n",
       "      <td>0</td>\n",
       "      <td>F</td>\n",
       "      <td>компаньон</td>\n",
       "      <td>0</td>\n",
       "      <td>240525.971920</td>\n",
       "      <td>операции с жильем</td>\n",
       "    </tr>\n",
       "    <tr>\n",
       "      <th>7</th>\n",
       "      <td>0</td>\n",
       "      <td>-152.779569</td>\n",
       "      <td>50</td>\n",
       "      <td>СРЕДНЕЕ</td>\n",
       "      <td>1</td>\n",
       "      <td>женат / замужем</td>\n",
       "      <td>0</td>\n",
       "      <td>M</td>\n",
       "      <td>сотрудник</td>\n",
       "      <td>0</td>\n",
       "      <td>135823.934197</td>\n",
       "      <td>образование</td>\n",
       "    </tr>\n",
       "    <tr>\n",
       "      <th>8</th>\n",
       "      <td>2</td>\n",
       "      <td>-6929.865299</td>\n",
       "      <td>35</td>\n",
       "      <td>ВЫСШЕЕ</td>\n",
       "      <td>0</td>\n",
       "      <td>гражданский брак</td>\n",
       "      <td>1</td>\n",
       "      <td>F</td>\n",
       "      <td>сотрудник</td>\n",
       "      <td>0</td>\n",
       "      <td>95856.832424</td>\n",
       "      <td>на проведение свадьбы</td>\n",
       "    </tr>\n",
       "    <tr>\n",
       "      <th>9</th>\n",
       "      <td>0</td>\n",
       "      <td>-2188.756445</td>\n",
       "      <td>41</td>\n",
       "      <td>среднее</td>\n",
       "      <td>1</td>\n",
       "      <td>женат / замужем</td>\n",
       "      <td>0</td>\n",
       "      <td>M</td>\n",
       "      <td>сотрудник</td>\n",
       "      <td>0</td>\n",
       "      <td>144425.938277</td>\n",
       "      <td>покупка жилья для семьи</td>\n",
       "    </tr>\n",
       "    <tr>\n",
       "      <th>10</th>\n",
       "      <td>2</td>\n",
       "      <td>-4171.483647</td>\n",
       "      <td>36</td>\n",
       "      <td>высшее</td>\n",
       "      <td>0</td>\n",
       "      <td>женат / замужем</td>\n",
       "      <td>0</td>\n",
       "      <td>M</td>\n",
       "      <td>компаньон</td>\n",
       "      <td>0</td>\n",
       "      <td>113943.491460</td>\n",
       "      <td>покупка недвижимости</td>\n",
       "    </tr>\n",
       "    <tr>\n",
       "      <th>11</th>\n",
       "      <td>0</td>\n",
       "      <td>-792.701887</td>\n",
       "      <td>40</td>\n",
       "      <td>среднее</td>\n",
       "      <td>1</td>\n",
       "      <td>женат / замужем</td>\n",
       "      <td>0</td>\n",
       "      <td>F</td>\n",
       "      <td>сотрудник</td>\n",
       "      <td>0</td>\n",
       "      <td>77069.234271</td>\n",
       "      <td>покупка коммерческой недвижимости</td>\n",
       "    </tr>\n",
       "    <tr>\n",
       "      <th>12</th>\n",
       "      <td>0</td>\n",
       "      <td>NaN</td>\n",
       "      <td>65</td>\n",
       "      <td>среднее</td>\n",
       "      <td>1</td>\n",
       "      <td>гражданский брак</td>\n",
       "      <td>1</td>\n",
       "      <td>M</td>\n",
       "      <td>пенсионер</td>\n",
       "      <td>0</td>\n",
       "      <td>NaN</td>\n",
       "      <td>сыграть свадьбу</td>\n",
       "    </tr>\n",
       "    <tr>\n",
       "      <th>13</th>\n",
       "      <td>0</td>\n",
       "      <td>-1846.641941</td>\n",
       "      <td>54</td>\n",
       "      <td>неоконченное высшее</td>\n",
       "      <td>2</td>\n",
       "      <td>женат / замужем</td>\n",
       "      <td>0</td>\n",
       "      <td>F</td>\n",
       "      <td>сотрудник</td>\n",
       "      <td>0</td>\n",
       "      <td>130458.228857</td>\n",
       "      <td>приобретение автомобиля</td>\n",
       "    </tr>\n",
       "    <tr>\n",
       "      <th>14</th>\n",
       "      <td>0</td>\n",
       "      <td>-1844.956182</td>\n",
       "      <td>56</td>\n",
       "      <td>высшее</td>\n",
       "      <td>0</td>\n",
       "      <td>гражданский брак</td>\n",
       "      <td>1</td>\n",
       "      <td>F</td>\n",
       "      <td>компаньон</td>\n",
       "      <td>1</td>\n",
       "      <td>165127.911772</td>\n",
       "      <td>покупка жилой недвижимости</td>\n",
       "    </tr>\n",
       "    <tr>\n",
       "      <th>15</th>\n",
       "      <td>1</td>\n",
       "      <td>-972.364419</td>\n",
       "      <td>26</td>\n",
       "      <td>среднее</td>\n",
       "      <td>1</td>\n",
       "      <td>женат / замужем</td>\n",
       "      <td>0</td>\n",
       "      <td>F</td>\n",
       "      <td>сотрудник</td>\n",
       "      <td>0</td>\n",
       "      <td>116820.904450</td>\n",
       "      <td>строительство собственной недвижимости</td>\n",
       "    </tr>\n",
       "    <tr>\n",
       "      <th>16</th>\n",
       "      <td>0</td>\n",
       "      <td>-1719.934226</td>\n",
       "      <td>35</td>\n",
       "      <td>среднее</td>\n",
       "      <td>1</td>\n",
       "      <td>женат / замужем</td>\n",
       "      <td>0</td>\n",
       "      <td>F</td>\n",
       "      <td>сотрудник</td>\n",
       "      <td>0</td>\n",
       "      <td>289202.704229</td>\n",
       "      <td>недвижимость</td>\n",
       "    </tr>\n",
       "    <tr>\n",
       "      <th>17</th>\n",
       "      <td>0</td>\n",
       "      <td>-2369.999720</td>\n",
       "      <td>33</td>\n",
       "      <td>высшее</td>\n",
       "      <td>0</td>\n",
       "      <td>гражданский брак</td>\n",
       "      <td>1</td>\n",
       "      <td>M</td>\n",
       "      <td>сотрудник</td>\n",
       "      <td>0</td>\n",
       "      <td>90410.586745</td>\n",
       "      <td>строительство недвижимости</td>\n",
       "    </tr>\n",
       "    <tr>\n",
       "      <th>18</th>\n",
       "      <td>0</td>\n",
       "      <td>400281.136913</td>\n",
       "      <td>53</td>\n",
       "      <td>среднее</td>\n",
       "      <td>1</td>\n",
       "      <td>вдовец / вдова</td>\n",
       "      <td>2</td>\n",
       "      <td>F</td>\n",
       "      <td>пенсионер</td>\n",
       "      <td>0</td>\n",
       "      <td>56823.777243</td>\n",
       "      <td>на покупку подержанного автомобиля</td>\n",
       "    </tr>\n",
       "    <tr>\n",
       "      <th>19</th>\n",
       "      <td>0</td>\n",
       "      <td>-10038.818549</td>\n",
       "      <td>48</td>\n",
       "      <td>СРЕДНЕЕ</td>\n",
       "      <td>1</td>\n",
       "      <td>в разводе</td>\n",
       "      <td>3</td>\n",
       "      <td>F</td>\n",
       "      <td>сотрудник</td>\n",
       "      <td>0</td>\n",
       "      <td>242831.107982</td>\n",
       "      <td>на покупку своего автомобиля</td>\n",
       "    </tr>\n",
       "  </tbody>\n",
       "</table>\n",
       "</div>"
      ],
      "text/plain": [
       "    children  days_employed  dob_years            education  education_id  \\\n",
       "0          1   -8437.673028         42               высшее             0   \n",
       "1          1   -4024.803754         36              среднее             1   \n",
       "2          0   -5623.422610         33              Среднее             1   \n",
       "3          3   -4124.747207         32              среднее             1   \n",
       "4          0  340266.072047         53              среднее             1   \n",
       "5          0    -926.185831         27               высшее             0   \n",
       "6          0   -2879.202052         43               высшее             0   \n",
       "7          0    -152.779569         50              СРЕДНЕЕ             1   \n",
       "8          2   -6929.865299         35               ВЫСШЕЕ             0   \n",
       "9          0   -2188.756445         41              среднее             1   \n",
       "10         2   -4171.483647         36               высшее             0   \n",
       "11         0    -792.701887         40              среднее             1   \n",
       "12         0            NaN         65              среднее             1   \n",
       "13         0   -1846.641941         54  неоконченное высшее             2   \n",
       "14         0   -1844.956182         56               высшее             0   \n",
       "15         1    -972.364419         26              среднее             1   \n",
       "16         0   -1719.934226         35              среднее             1   \n",
       "17         0   -2369.999720         33               высшее             0   \n",
       "18         0  400281.136913         53              среднее             1   \n",
       "19         0  -10038.818549         48              СРЕДНЕЕ             1   \n",
       "\n",
       "       family_status  family_status_id gender income_type  debt  \\\n",
       "0    женат / замужем                 0      F   сотрудник     0   \n",
       "1    женат / замужем                 0      F   сотрудник     0   \n",
       "2    женат / замужем                 0      M   сотрудник     0   \n",
       "3    женат / замужем                 0      M   сотрудник     0   \n",
       "4   гражданский брак                 1      F   пенсионер     0   \n",
       "5   гражданский брак                 1      M   компаньон     0   \n",
       "6    женат / замужем                 0      F   компаньон     0   \n",
       "7    женат / замужем                 0      M   сотрудник     0   \n",
       "8   гражданский брак                 1      F   сотрудник     0   \n",
       "9    женат / замужем                 0      M   сотрудник     0   \n",
       "10   женат / замужем                 0      M   компаньон     0   \n",
       "11   женат / замужем                 0      F   сотрудник     0   \n",
       "12  гражданский брак                 1      M   пенсионер     0   \n",
       "13   женат / замужем                 0      F   сотрудник     0   \n",
       "14  гражданский брак                 1      F   компаньон     1   \n",
       "15   женат / замужем                 0      F   сотрудник     0   \n",
       "16   женат / замужем                 0      F   сотрудник     0   \n",
       "17  гражданский брак                 1      M   сотрудник     0   \n",
       "18    вдовец / вдова                 2      F   пенсионер     0   \n",
       "19         в разводе                 3      F   сотрудник     0   \n",
       "\n",
       "     total_income                                 purpose  \n",
       "0   253875.639453                           покупка жилья  \n",
       "1   112080.014102                 приобретение автомобиля  \n",
       "2   145885.952297                           покупка жилья  \n",
       "3   267628.550329              дополнительное образование  \n",
       "4   158616.077870                         сыграть свадьбу  \n",
       "5   255763.565419                           покупка жилья  \n",
       "6   240525.971920                       операции с жильем  \n",
       "7   135823.934197                             образование  \n",
       "8    95856.832424                   на проведение свадьбы  \n",
       "9   144425.938277                 покупка жилья для семьи  \n",
       "10  113943.491460                    покупка недвижимости  \n",
       "11   77069.234271       покупка коммерческой недвижимости  \n",
       "12            NaN                         сыграть свадьбу  \n",
       "13  130458.228857                 приобретение автомобиля  \n",
       "14  165127.911772              покупка жилой недвижимости  \n",
       "15  116820.904450  строительство собственной недвижимости  \n",
       "16  289202.704229                            недвижимость  \n",
       "17   90410.586745              строительство недвижимости  \n",
       "18   56823.777243      на покупку подержанного автомобиля  \n",
       "19  242831.107982            на покупку своего автомобиля  "
      ]
     },
     "execution_count": 2,
     "metadata": {},
     "output_type": "execute_result"
    }
   ],
   "source": [
    "data.head(20)"
   ]
  },
  {
   "cell_type": "markdown",
   "id": "1c12e233",
   "metadata": {
    "deletable": false,
    "id": "1c12e233"
   },
   "source": [
    "**Задание 3. Выведите основную информацию о датафрейме с помощью метода `info()`.**"
   ]
  },
  {
   "cell_type": "code",
   "execution_count": 3,
   "id": "2b757bca",
   "metadata": {
    "deletable": false,
    "id": "2b757bca",
    "outputId": "15376089-8dad-46c9-b520-c05248d43158"
   },
   "outputs": [
    {
     "name": "stdout",
     "output_type": "stream",
     "text": [
      "<class 'pandas.core.frame.DataFrame'>\n",
      "RangeIndex: 21525 entries, 0 to 21524\n",
      "Data columns (total 12 columns):\n",
      " #   Column            Non-Null Count  Dtype  \n",
      "---  ------            --------------  -----  \n",
      " 0   children          21525 non-null  int64  \n",
      " 1   days_employed     19351 non-null  float64\n",
      " 2   dob_years         21525 non-null  int64  \n",
      " 3   education         21525 non-null  object \n",
      " 4   education_id      21525 non-null  int64  \n",
      " 5   family_status     21525 non-null  object \n",
      " 6   family_status_id  21525 non-null  int64  \n",
      " 7   gender            21525 non-null  object \n",
      " 8   income_type       21525 non-null  object \n",
      " 9   debt              21525 non-null  int64  \n",
      " 10  total_income      19351 non-null  float64\n",
      " 11  purpose           21525 non-null  object \n",
      "dtypes: float64(2), int64(5), object(5)\n",
      "memory usage: 2.0+ MB\n"
     ]
    }
   ],
   "source": [
    "data.info()"
   ]
  },
  {
   "cell_type": "markdown",
   "id": "333ec665",
   "metadata": {
    "deletable": false,
    "id": "333ec665"
   },
   "source": [
    "## Предобработка данных"
   ]
  },
  {
   "cell_type": "markdown",
   "id": "02d92d53",
   "metadata": {
    "deletable": false,
    "id": "02d92d53"
   },
   "source": [
    "### Удаление пропусков"
   ]
  },
  {
   "cell_type": "markdown",
   "id": "cd84967c",
   "metadata": {
    "deletable": false,
    "id": "cd84967c"
   },
   "source": [
    "**Задание 4. Выведите количество пропущенных значений для каждого столбца. Используйте комбинацию двух методов.**"
   ]
  },
  {
   "cell_type": "code",
   "execution_count": 4,
   "id": "7f9b2309",
   "metadata": {
    "deletable": false,
    "id": "7f9b2309",
    "outputId": "81f4d817-781c-465c-ed15-91ce4446810d"
   },
   "outputs": [
    {
     "data": {
      "text/plain": [
       "children               0\n",
       "days_employed       2174\n",
       "dob_years              0\n",
       "education              0\n",
       "education_id           0\n",
       "family_status          0\n",
       "family_status_id       0\n",
       "gender                 0\n",
       "income_type            0\n",
       "debt                   0\n",
       "total_income        2174\n",
       "purpose                0\n",
       "dtype: int64"
      ]
     },
     "execution_count": 4,
     "metadata": {},
     "output_type": "execute_result"
    }
   ],
   "source": [
    "data.isna().sum()"
   ]
  },
  {
   "cell_type": "markdown",
   "id": "db86e27b",
   "metadata": {
    "deletable": false,
    "id": "db86e27b"
   },
   "source": [
    "**Задание 5. В двух столбцах есть пропущенные значения. Один из них — `days_employed`. Пропуски в этом столбце вы обработаете на следующем этапе. Другой столбец с пропущенными значениями — `total_income` — хранит данные о доходах. На сумму дохода сильнее всего влияет тип занятости, поэтому заполнить пропуски в этом столбце нужно медианным значением по каждому типу из столбца `income_type`. Например, у человека с типом занятости `сотрудник` пропуск в столбце `total_income` должен быть заполнен медианным доходом среди всех записей с тем же типом.**"
   ]
  },
  {
   "cell_type": "code",
   "execution_count": 5,
   "id": "42006a93",
   "metadata": {
    "deletable": false,
    "id": "42006a93"
   },
   "outputs": [],
   "source": [
    "for t in data['income_type'].unique():\n",
    "    data.loc[(data['income_type'] == t) & (data['total_income'].isna()), 'total_income'] = \\\n",
    "    data.loc[(data['income_type'] == t), 'total_income'].median()"
   ]
  },
  {
   "cell_type": "markdown",
   "id": "89da5ece",
   "metadata": {
    "deletable": false,
    "id": "89da5ece"
   },
   "source": [
    "### Обработка аномальных значений"
   ]
  },
  {
   "cell_type": "markdown",
   "id": "57964554",
   "metadata": {
    "deletable": false,
    "id": "57964554"
   },
   "source": [
    "**Задание 6. В данных могут встречаться артефакты (аномалии) — значения, которые не отражают действительность и появились по какой-то ошибке. таким артефактом будет отрицательное количество дней трудового стажа в столбце `days_employed`. Для реальных данных это нормально. Обработайте значения в этом столбце: замените все отрицательные значения положительными с помощью метода `abs()`.**"
   ]
  },
  {
   "cell_type": "code",
   "execution_count": 6,
   "id": "f6f055bf",
   "metadata": {
    "deletable": false,
    "id": "f6f055bf"
   },
   "outputs": [],
   "source": [
    "data['days_employed'] = data['days_employed'].abs()"
   ]
  },
  {
   "cell_type": "markdown",
   "id": "6107dd2f",
   "metadata": {
    "deletable": false,
    "id": "6107dd2f"
   },
   "source": [
    "**Задание 7. Для каждого типа занятости выведите медианное значение трудового стажа `days_employed` в днях.**"
   ]
  },
  {
   "cell_type": "code",
   "execution_count": 7,
   "id": "85a5faf6",
   "metadata": {
    "deletable": false,
    "id": "85a5faf6",
    "outputId": "801ef80e-522b-4668-f34e-565af7432bcf"
   },
   "outputs": [
    {
     "data": {
      "text/plain": [
       "income_type\n",
       "безработный        366413.652744\n",
       "в декрете            3296.759962\n",
       "госслужащий          2689.368353\n",
       "компаньон            1547.382223\n",
       "пенсионер          365213.306266\n",
       "предприниматель       520.848083\n",
       "сотрудник            1574.202821\n",
       "студент               578.751554\n",
       "Name: days_employed, dtype: float64"
      ]
     },
     "execution_count": 7,
     "metadata": {},
     "output_type": "execute_result"
    }
   ],
   "source": [
    "data.groupby('income_type')['days_employed'].agg('median')"
   ]
  },
  {
   "cell_type": "markdown",
   "id": "38d1a030",
   "metadata": {
    "deletable": false,
    "id": "38d1a030"
   },
   "source": [
    "У двух типов (безработные и пенсионеры) получатся аномально большие значения. Исправить такие значения сложно, поэтому оставьте их как есть. Тем более этот столбец не понадобится вам для исследования."
   ]
  },
  {
   "cell_type": "markdown",
   "id": "d8a9f147",
   "metadata": {
    "deletable": false,
    "id": "d8a9f147"
   },
   "source": [
    "**Задание 8. Выведите перечень уникальных значений столбца `children`.**"
   ]
  },
  {
   "cell_type": "code",
   "execution_count": 8,
   "id": "ef5056eb",
   "metadata": {
    "deletable": false,
    "id": "ef5056eb",
    "outputId": "6975b15c-7f95-4697-d16d-a0c79b657b03"
   },
   "outputs": [
    {
     "data": {
      "text/plain": [
       "array([ 1,  0,  3,  2, -1,  4, 20,  5])"
      ]
     },
     "execution_count": 8,
     "metadata": {},
     "output_type": "execute_result"
    }
   ],
   "source": [
    "data['children'].unique()"
   ]
  },
  {
   "cell_type": "markdown",
   "id": "40b9ebf2",
   "metadata": {
    "deletable": false,
    "id": "40b9ebf2"
   },
   "source": [
    "**Задание 9. В столбце `children` есть два аномальных значения. Удалите строки, в которых встречаются такие аномальные значения из датафрейма `data`.**"
   ]
  },
  {
   "cell_type": "code",
   "execution_count": 9,
   "id": "3ff9801d",
   "metadata": {
    "deletable": false,
    "id": "3ff9801d"
   },
   "outputs": [],
   "source": [
    "data = data[(data['children'] != -1) & (data['children'] != 20)]"
   ]
  },
  {
   "cell_type": "markdown",
   "id": "bbc4d0ce",
   "metadata": {
    "deletable": false,
    "id": "bbc4d0ce"
   },
   "source": [
    "**Задание 10. Ещё раз выведите перечень уникальных значений столбца `children`, чтобы убедиться, что артефакты удалены.**"
   ]
  },
  {
   "cell_type": "code",
   "execution_count": 10,
   "id": "ad4fa8b7",
   "metadata": {
    "deletable": false,
    "id": "ad4fa8b7",
    "outputId": "b2097101-d49d-44d9-901b-32a65c9463d1"
   },
   "outputs": [
    {
     "data": {
      "text/plain": [
       "array([1, 0, 3, 2, 4, 5])"
      ]
     },
     "execution_count": 10,
     "metadata": {},
     "output_type": "execute_result"
    }
   ],
   "source": [
    "data['children'].unique()"
   ]
  },
  {
   "cell_type": "markdown",
   "id": "75440b63",
   "metadata": {
    "deletable": false,
    "id": "75440b63"
   },
   "source": [
    "### Удаление пропусков (продолжение)"
   ]
  },
  {
   "cell_type": "markdown",
   "id": "f4ea573f",
   "metadata": {
    "deletable": false,
    "id": "f4ea573f"
   },
   "source": [
    "**Задание 11. Заполните пропуски в столбце `days_employed` медианными значениями по каждого типа занятости `income_type`.**"
   ]
  },
  {
   "cell_type": "code",
   "execution_count": 11,
   "id": "af6b1a7e",
   "metadata": {
    "deletable": false,
    "id": "af6b1a7e"
   },
   "outputs": [],
   "source": [
    "for t in data['income_type'].unique():\n",
    "    data.loc[(data['income_type'] == t) & (data['days_employed'].isna()), 'days_employed'] = \\\n",
    "    data.loc[(data['income_type'] == t), 'days_employed'].median()"
   ]
  },
  {
   "cell_type": "markdown",
   "id": "2753f40d",
   "metadata": {
    "deletable": false,
    "id": "2753f40d"
   },
   "source": [
    "**Задание 12. Убедитесь, что все пропуски заполнены. Проверьте себя и ещё раз выведите количество пропущенных значений для каждого столбца с помощью двух методов.**"
   ]
  },
  {
   "cell_type": "code",
   "execution_count": 12,
   "id": "55f78bc2",
   "metadata": {
    "deletable": false,
    "id": "55f78bc2",
    "outputId": "8da1e4e1-358e-4e87-98c9-f261bce0a7b2"
   },
   "outputs": [
    {
     "data": {
      "text/plain": [
       "children            0\n",
       "days_employed       0\n",
       "dob_years           0\n",
       "education           0\n",
       "education_id        0\n",
       "family_status       0\n",
       "family_status_id    0\n",
       "gender              0\n",
       "income_type         0\n",
       "debt                0\n",
       "total_income        0\n",
       "purpose             0\n",
       "dtype: int64"
      ]
     },
     "execution_count": 12,
     "metadata": {},
     "output_type": "execute_result"
    }
   ],
   "source": [
    "data.isna().sum()"
   ]
  },
  {
   "cell_type": "markdown",
   "id": "ddc81e43",
   "metadata": {
    "deletable": false,
    "id": "ddc81e43"
   },
   "source": [
    "### Изменение типов данных"
   ]
  },
  {
   "cell_type": "markdown",
   "id": "42d19d24",
   "metadata": {
    "deletable": false,
    "id": "42d19d24"
   },
   "source": [
    "**Задание 13. Замените вещественный тип данных в столбце `total_income` на целочисленный с помощью метода `astype()`.**"
   ]
  },
  {
   "cell_type": "code",
   "execution_count": 13,
   "id": "920b65ad",
   "metadata": {
    "deletable": false,
    "id": "920b65ad"
   },
   "outputs": [],
   "source": [
    "data['total_income'] = data['total_income'].astype(int)"
   ]
  },
  {
   "cell_type": "markdown",
   "id": "80c420ba",
   "metadata": {
    "deletable": false,
    "id": "80c420ba"
   },
   "source": [
    "### Обработка дубликатов"
   ]
  },
  {
   "cell_type": "markdown",
   "id": "dc587695",
   "metadata": {
    "deletable": false,
    "id": "dc587695"
   },
   "source": [
    "**Задание 14. Выведите на экран количество строк-дубликатов в данных. Если такие строки присутствуют, удалите их.**"
   ]
  },
  {
   "cell_type": "code",
   "execution_count": 14,
   "id": "3ee445e4",
   "metadata": {
    "deletable": false,
    "id": "3ee445e4",
    "outputId": "9684deba-1934-42d1-99e1-cda61740f822"
   },
   "outputs": [
    {
     "data": {
      "text/plain": [
       "54"
      ]
     },
     "execution_count": 14,
     "metadata": {},
     "output_type": "execute_result"
    }
   ],
   "source": [
    "data.duplicated().sum()"
   ]
  },
  {
   "cell_type": "code",
   "execution_count": 15,
   "id": "8575fe05",
   "metadata": {
    "deletable": false,
    "id": "8575fe05"
   },
   "outputs": [],
   "source": [
    "data = data.drop_duplicates()"
   ]
  },
  {
   "cell_type": "markdown",
   "id": "9771a76c",
   "metadata": {
    "deletable": false,
    "id": "9771a76c"
   },
   "source": [
    "**Задание 15. Обработайте неявные дубликаты в столбце `education`. В этом столбце есть одни и те же значения, но записанные по-разному: с использованием заглавных и строчных букв. Приведите их к нижнему регистру. Проверьте остальные столбцы.**"
   ]
  },
  {
   "cell_type": "code",
   "execution_count": 16,
   "id": "a9f8e2bf",
   "metadata": {
    "deletable": false,
    "id": "a9f8e2bf"
   },
   "outputs": [],
   "source": [
    "data['education'] = data['education'].str.lower()"
   ]
  },
  {
   "cell_type": "markdown",
   "id": "9904cf55",
   "metadata": {
    "deletable": false,
    "id": "9904cf55"
   },
   "source": [
    "### Категоризация данных"
   ]
  },
  {
   "cell_type": "markdown",
   "id": "72fcc8a2",
   "metadata": {
    "deletable": false,
    "id": "72fcc8a2"
   },
   "source": [
    "**Задание 16. На основании диапазонов, указанных ниже, создайте в датафрейме `data` столбец `total_income_category` с категориями:**\n",
    "\n",
    "- 0–30000 — `'E'`;\n",
    "- 30001–50000 — `'D'`;\n",
    "- 50001–200000 — `'C'`;\n",
    "- 200001–1000000 — `'B'`;\n",
    "- 1000001 и выше — `'A'`.\n",
    "\n",
    "\n",
    "**Например, кредитополучателю с доходом 25000 нужно назначить категорию `'E'`, а клиенту, получающему 235000, — `'B'`. Используйте собственную функцию с именем `categorize_income()` и метод `apply()`.**"
   ]
  },
  {
   "cell_type": "code",
   "execution_count": 17,
   "id": "e1771346",
   "metadata": {
    "deletable": false,
    "id": "e1771346"
   },
   "outputs": [],
   "source": [
    "def categorize_income(income):\n",
    "    try:\n",
    "        if 0 <= income <= 30000:\n",
    "            return 'E'\n",
    "        elif 30001 <= income <= 50000:\n",
    "            return 'D'\n",
    "        elif 50001 <= income <= 200000:\n",
    "            return 'C'\n",
    "        elif 200001 <= income <= 1000000:\n",
    "            return 'B'\n",
    "        elif income >= 1000001:\n",
    "            return 'A'\n",
    "    except:\n",
    "        pass"
   ]
  },
  {
   "cell_type": "code",
   "execution_count": 18,
   "id": "d5f3586d",
   "metadata": {
    "deletable": false,
    "id": "d5f3586d"
   },
   "outputs": [],
   "source": [
    "data['total_income_category'] = data['total_income'].apply(categorize_income)"
   ]
  },
  {
   "cell_type": "markdown",
   "id": "dde49b5c",
   "metadata": {
    "deletable": false,
    "id": "dde49b5c"
   },
   "source": [
    "**Задание 17. Выведите на экран перечень уникальных целей взятия кредита из столбца `purpose`.**"
   ]
  },
  {
   "cell_type": "code",
   "execution_count": 19,
   "id": "f67ce9b3",
   "metadata": {
    "deletable": false,
    "id": "f67ce9b3",
    "outputId": "673c12d9-7d7e-4ae0-9812-c622c89dd244"
   },
   "outputs": [
    {
     "data": {
      "text/plain": [
       "array(['покупка жилья', 'приобретение автомобиля',\n",
       "       'дополнительное образование', 'сыграть свадьбу',\n",
       "       'операции с жильем', 'образование', 'на проведение свадьбы',\n",
       "       'покупка жилья для семьи', 'покупка недвижимости',\n",
       "       'покупка коммерческой недвижимости', 'покупка жилой недвижимости',\n",
       "       'строительство собственной недвижимости', 'недвижимость',\n",
       "       'строительство недвижимости', 'на покупку подержанного автомобиля',\n",
       "       'на покупку своего автомобиля',\n",
       "       'операции с коммерческой недвижимостью',\n",
       "       'строительство жилой недвижимости', 'жилье',\n",
       "       'операции со своей недвижимостью', 'автомобили',\n",
       "       'заняться образованием', 'сделка с подержанным автомобилем',\n",
       "       'получение образования', 'автомобиль', 'свадьба',\n",
       "       'получение дополнительного образования', 'покупка своего жилья',\n",
       "       'операции с недвижимостью', 'получение высшего образования',\n",
       "       'свой автомобиль', 'сделка с автомобилем',\n",
       "       'профильное образование', 'высшее образование',\n",
       "       'покупка жилья для сдачи', 'на покупку автомобиля', 'ремонт жилью',\n",
       "       'заняться высшим образованием'], dtype=object)"
      ]
     },
     "execution_count": 19,
     "metadata": {},
     "output_type": "execute_result"
    }
   ],
   "source": [
    "data['purpose'].unique()"
   ]
  },
  {
   "cell_type": "markdown",
   "id": "85d0aef0",
   "metadata": {
    "deletable": false,
    "id": "85d0aef0"
   },
   "source": [
    "**Задание 18. Создайте функцию, которая на основании данных из столбца `purpose` сформирует новый столбец `purpose_category`, в который войдут следующие категории:**\n",
    "\n",
    "- `'операции с автомобилем'`,\n",
    "- `'операции с недвижимостью'`,\n",
    "- `'проведение свадьбы'`,\n",
    "- `'получение образования'`.\n",
    "\n",
    "**Например, если в столбце `purpose` находится подстрока `'на покупку автомобиля'`, то в столбце `purpose_category` должна появиться строка `'операции с автомобилем'`.**\n",
    "\n",
    "**Используйте собственную функцию с именем `categorize_purpose()` и метод `apply()`. Изучите данные в столбце `purpose` и определите, какие подстроки помогут вам правильно определить категорию.**"
   ]
  },
  {
   "cell_type": "code",
   "execution_count": 20,
   "id": "e149fab4",
   "metadata": {
    "deletable": false,
    "id": "e149fab4"
   },
   "outputs": [],
   "source": [
    "def categorize_purpose(row):\n",
    "    try:\n",
    "        if 'автом' in row:\n",
    "            return 'операции с автомобилем'\n",
    "        elif 'жил' in row or 'недвиж' in row:\n",
    "            return 'операции с недвижимостью'\n",
    "        elif 'свад' in row:\n",
    "            return 'проведение свадьбы'\n",
    "        elif 'образов' in row:\n",
    "            return 'получение образования'\n",
    "    except:\n",
    "        return 'нет категории'"
   ]
  },
  {
   "cell_type": "code",
   "execution_count": 21,
   "id": "bf36e69b",
   "metadata": {
    "deletable": false,
    "id": "bf36e69b"
   },
   "outputs": [],
   "source": [
    "data['purpose_category'] = data['purpose'].apply(categorize_purpose)"
   ]
  },
  {
   "cell_type": "markdown",
   "id": "09b242bf",
   "metadata": {
    "deletable": false,
    "editable": false,
    "id": "09b242bf"
   },
   "source": [
    "## Исследуйте данные и ответьте на вопросы"
   ]
  },
  {
   "cell_type": "markdown",
   "id": "c5d66278",
   "metadata": {
    "deletable": false,
    "editable": false,
    "id": "c5d66278"
   },
   "source": [
    "**Задание 19. Есть ли зависимость между количеством детей и возвратом кредита в срок?**"
   ]
  },
  {
   "cell_type": "markdown",
   "id": "2f6a12f3",
   "metadata": {},
   "source": [
    "*Прямой подсчет наличия задолженностей в каждой группе мог бы привести к ошибочным выводам, так как в каждой группе будет разное  количество измерений. Следовательно, иллюстративнее будет использовать показатель \"среднее количество задолженностей\" в каждой группе.*"
   ]
  },
  {
   "cell_type": "code",
   "execution_count": 22,
   "id": "2cacfc4a",
   "metadata": {
    "id": "2cacfc4a"
   },
   "outputs": [],
   "source": [
    "''' \n",
    "    функция, которая разбивает на группы по нужной колонке,\n",
    "    затем для каждой группы считает по столбцу \"наличие задолженности\" показатели: \n",
    "    общее количество задолженностей, общее количество измерений и среднее количество задолженностей. \n",
    "'''\n",
    "def make_groups(data, column):\n",
    "    grouped_by_smth = data.groupby(column).agg({'debt': ['sum', 'count', 'mean']})\n",
    "    # избавимся от мультииндекса во втором и третьем столбцах\n",
    "    grouped_by_smth.columns = ['_'.join(col).strip() for col in grouped_by_smth.columns.values]\n",
    "    # перенесём индексы в отдельный столбец\n",
    "    grouped_by_smth = grouped_by_smth.reset_index()\n",
    "    # вернем получившуюся таблицу\n",
    "    return grouped_by_smth"
   ]
  },
  {
   "cell_type": "markdown",
   "id": "8e12078f",
   "metadata": {},
   "source": [
    "<div class=\"alert alert-block alert-success\">✔️\n",
    "    \n",
    "\n",
    "__Комментарий от ревьюера №1__\n",
    "\n",
    "Отличная функция!)\n",
    "</div>"
   ]
  },
  {
   "cell_type": "markdown",
   "id": "f918147b",
   "metadata": {},
   "source": [
    "<div class=\"alert alert-info\"> <b>Комментарии студента:</b> Спасибо)</div>"
   ]
  },
  {
   "cell_type": "code",
   "execution_count": 23,
   "id": "f2411877",
   "metadata": {},
   "outputs": [
    {
     "data": {
      "text/html": [
       "<div>\n",
       "<style scoped>\n",
       "    .dataframe tbody tr th:only-of-type {\n",
       "        vertical-align: middle;\n",
       "    }\n",
       "\n",
       "    .dataframe tbody tr th {\n",
       "        vertical-align: top;\n",
       "    }\n",
       "\n",
       "    .dataframe thead th {\n",
       "        text-align: right;\n",
       "    }\n",
       "</style>\n",
       "<table border=\"1\" class=\"dataframe\">\n",
       "  <thead>\n",
       "    <tr style=\"text-align: right;\">\n",
       "      <th></th>\n",
       "      <th>children</th>\n",
       "      <th>debt_sum</th>\n",
       "      <th>debt_count</th>\n",
       "      <th>debt_mean</th>\n",
       "    </tr>\n",
       "  </thead>\n",
       "  <tbody>\n",
       "    <tr>\n",
       "      <th>0</th>\n",
       "      <td>0</td>\n",
       "      <td>1063</td>\n",
       "      <td>14107</td>\n",
       "      <td>0.075353</td>\n",
       "    </tr>\n",
       "    <tr>\n",
       "      <th>1</th>\n",
       "      <td>1</td>\n",
       "      <td>444</td>\n",
       "      <td>4809</td>\n",
       "      <td>0.092327</td>\n",
       "    </tr>\n",
       "    <tr>\n",
       "      <th>2</th>\n",
       "      <td>2</td>\n",
       "      <td>194</td>\n",
       "      <td>2052</td>\n",
       "      <td>0.094542</td>\n",
       "    </tr>\n",
       "    <tr>\n",
       "      <th>3</th>\n",
       "      <td>3</td>\n",
       "      <td>27</td>\n",
       "      <td>330</td>\n",
       "      <td>0.081818</td>\n",
       "    </tr>\n",
       "    <tr>\n",
       "      <th>4</th>\n",
       "      <td>4</td>\n",
       "      <td>4</td>\n",
       "      <td>41</td>\n",
       "      <td>0.097561</td>\n",
       "    </tr>\n",
       "    <tr>\n",
       "      <th>5</th>\n",
       "      <td>5</td>\n",
       "      <td>0</td>\n",
       "      <td>9</td>\n",
       "      <td>0.000000</td>\n",
       "    </tr>\n",
       "  </tbody>\n",
       "</table>\n",
       "</div>"
      ],
      "text/plain": [
       "   children  debt_sum  debt_count  debt_mean\n",
       "0         0      1063       14107   0.075353\n",
       "1         1       444        4809   0.092327\n",
       "2         2       194        2052   0.094542\n",
       "3         3        27         330   0.081818\n",
       "4         4         4          41   0.097561\n",
       "5         5         0           9   0.000000"
      ]
     },
     "execution_count": 23,
     "metadata": {},
     "output_type": "execute_result"
    }
   ],
   "source": [
    "# сгруппируем исходные данные по количеству детей.\n",
    "children_grouped = make_groups(data, 'children')\n",
    "# выведем получившуюся таблицу\n",
    "children_grouped"
   ]
  },
  {
   "cell_type": "code",
   "execution_count": 24,
   "id": "27cfbb3d",
   "metadata": {
    "scrolled": true
   },
   "outputs": [
    {
     "data": {
      "image/png": "[encoded data removed]",
      "text/plain": [
       "<Figure size 432x288 with 1 Axes>"
      ]
     },
     "metadata": {
      "needs_background": "light"
     },
     "output_type": "display_data"
    }
   ],
   "source": [
    "# построим график зависимости среднего количества задолженностей от количества детей\n",
    "import matplotlib.pyplot as plt\n",
    "children_grouped.plot(x='children', y='debt_mean')\n",
    "plt.show()"
   ]
  },
  {
   "attachments": {
    "image.png": {
     "image/png": "[encoded data removed]"
    }
   },
   "cell_type": "markdown",
   "id": "43e3a55d",
   "metadata": {},
   "source": [
    "<div class=\"alert alert-block alert-success\">✔️\n",
    "    \n",
    "\n",
    "__Комментарий от ревьюера №1__\n",
    "Такие предупреждения можно убрать 2 способами:\n",
    "    \n",
    "1. В конец кода добавить `plt.show()`, но для этого нужно вызвать библиотеку matplotlib\n",
    "2. В конец кода добавить `;`\n",
    "    \n",
    "![image.png](attachment:image.png)\n",
    "</div>"
   ]
  },
  {
   "cell_type": "markdown",
   "id": "90c78ddb",
   "metadata": {},
   "source": [
    "<div class=\"alert alert-info\"> <b>Комментарии студента:</b> Спасибо, попробовал оба варианта - второй понравился больше)</div>"
   ]
  },
  {
   "cell_type": "markdown",
   "id": "a4937c0c",
   "metadata": {},
   "source": [
    "<div class=\"alert alert-block alert-success\">✔️\n",
    "    \n",
    "\n",
    "__Комментарий от ревьюера №2__\n",
    "\n",
    "2ой немного ленивее и легче. Лень двигатель прогресса\n",
    "</div>"
   ]
  },
  {
   "cell_type": "code",
   "execution_count": 25,
   "id": "b9a78c2f",
   "metadata": {},
   "outputs": [
    {
     "data": {
      "image/png": "[encoded data removed]",
      "text/plain": [
       "<Figure size 432x288 with 1 Axes>"
      ]
     },
     "metadata": {
      "needs_background": "light"
     },
     "output_type": "display_data"
    }
   ],
   "source": [
    "# построим гистограмму зависимости среднего количества задолженностей от количества детей\n",
    "import seaborn as sns\n",
    "sns.barplot(y=children_grouped['debt_mean'], x=children_grouped['children']);"
   ]
  },
  {
   "cell_type": "markdown",
   "id": "3a6b99ec",
   "metadata": {
    "deletable": false,
    "id": "3a6b99ec"
   },
   "source": [
    "**Вывод:** \n",
    "1. Как видно из первого графика, прямой или обратной зависимости между количеством детей и наличием задолженностей нет. \n",
    "2. Гистограмма показывает, что чаще задолженности возникают у людей с одним, двумя и четырьмя детьми. \n",
    "3. Резкое падение наличия задолженностей для группы людей с 5 детьми нельзя воспринимать как репрезентативное из-за малого количества измерений в этой группе. "
   ]
  },
  {
   "cell_type": "markdown",
   "id": "af362edf",
   "metadata": {},
   "source": [
    "<div class=\"alert alert-block alert-success\">✔️\n",
    "    \n",
    "\n",
    "__Комментарий от ревьюера №1__\n",
    "\n",
    "Согласен =)\n",
    "</div>"
   ]
  },
  {
   "cell_type": "markdown",
   "id": "97be82ca",
   "metadata": {
    "deletable": false,
    "editable": false,
    "id": "97be82ca"
   },
   "source": [
    "**Задание 20. Есть ли зависимость между семейным положением и возвратом кредита в срок?**"
   ]
  },
  {
   "cell_type": "code",
   "execution_count": 26,
   "id": "76f9aa63",
   "metadata": {},
   "outputs": [
    {
     "data": {
      "text/html": [
       "<div>\n",
       "<style scoped>\n",
       "    .dataframe tbody tr th:only-of-type {\n",
       "        vertical-align: middle;\n",
       "    }\n",
       "\n",
       "    .dataframe tbody tr th {\n",
       "        vertical-align: top;\n",
       "    }\n",
       "\n",
       "    .dataframe thead th {\n",
       "        text-align: right;\n",
       "    }\n",
       "</style>\n",
       "<table border=\"1\" class=\"dataframe\">\n",
       "  <thead>\n",
       "    <tr style=\"text-align: right;\">\n",
       "      <th></th>\n",
       "      <th>family_status</th>\n",
       "      <th>debt_sum</th>\n",
       "      <th>debt_count</th>\n",
       "      <th>debt_mean</th>\n",
       "    </tr>\n",
       "  </thead>\n",
       "  <tbody>\n",
       "    <tr>\n",
       "      <th>0</th>\n",
       "      <td>Не женат / не замужем</td>\n",
       "      <td>273</td>\n",
       "      <td>2796</td>\n",
       "      <td>0.097639</td>\n",
       "    </tr>\n",
       "    <tr>\n",
       "      <th>1</th>\n",
       "      <td>в разводе</td>\n",
       "      <td>84</td>\n",
       "      <td>1189</td>\n",
       "      <td>0.070648</td>\n",
       "    </tr>\n",
       "    <tr>\n",
       "      <th>2</th>\n",
       "      <td>вдовец / вдова</td>\n",
       "      <td>63</td>\n",
       "      <td>951</td>\n",
       "      <td>0.066246</td>\n",
       "    </tr>\n",
       "    <tr>\n",
       "      <th>3</th>\n",
       "      <td>гражданский брак</td>\n",
       "      <td>385</td>\n",
       "      <td>4146</td>\n",
       "      <td>0.092861</td>\n",
       "    </tr>\n",
       "    <tr>\n",
       "      <th>4</th>\n",
       "      <td>женат / замужем</td>\n",
       "      <td>927</td>\n",
       "      <td>12266</td>\n",
       "      <td>0.075575</td>\n",
       "    </tr>\n",
       "  </tbody>\n",
       "</table>\n",
       "</div>"
      ],
      "text/plain": [
       "           family_status  debt_sum  debt_count  debt_mean\n",
       "0  Не женат / не замужем       273        2796   0.097639\n",
       "1              в разводе        84        1189   0.070648\n",
       "2         вдовец / вдова        63         951   0.066246\n",
       "3       гражданский брак       385        4146   0.092861\n",
       "4        женат / замужем       927       12266   0.075575"
      ]
     },
     "execution_count": 26,
     "metadata": {},
     "output_type": "execute_result"
    }
   ],
   "source": [
    "# сгруппируем исходные данные по семейному положению.\n",
    "grouped_family_status = make_groups(data, 'family_status')\n",
    "# выведем получившуюся таблицу\n",
    "grouped_family_status"
   ]
  },
  {
   "cell_type": "code",
   "execution_count": 27,
   "id": "8939f760",
   "metadata": {},
   "outputs": [
    {
     "data": {
      "image/png": "[encoded data removed]",
      "text/plain": [
       "<Figure size 432x288 with 1 Axes>"
      ]
     },
     "metadata": {
      "needs_background": "light"
     },
     "output_type": "display_data"
    }
   ],
   "source": [
    "# построим гистограмму зависимости среднего количества задолженностей от семейного положения\n",
    "sns.barplot(y=grouped_family_status['family_status'], x=grouped_family_status['debt_mean']);"
   ]
  },
  {
   "cell_type": "markdown",
   "id": "1cef7837",
   "metadata": {
    "deletable": false,
    "id": "1cef7837"
   },
   "source": [
    "**Вывод:** \n",
    "1. В среднем наличие задолженности чаще всего встречается у неженатых / незамужних людей и у людей в гражданском браке.\n",
    "2. Реже задолженность по ранее выданным кредитам встречается у женатых / замужних людей.\n",
    "3. Меньше всего задолженности возникают у категорий \"в разводе\" и \"вдовец / вдова\". Однако здесь стоит отметить, что количество измерений в данных категориях в значительной степени меньше количества измерений в других категориях."
   ]
  },
  {
   "cell_type": "markdown",
   "id": "1e8b2fca",
   "metadata": {
    "deletable": false,
    "editable": false,
    "id": "1e8b2fca"
   },
   "source": [
    "**Задание 21. Есть ли зависимость между уровнем дохода и возвратом кредита в срок?**"
   ]
  },
  {
   "cell_type": "code",
   "execution_count": 28,
   "id": "cd7e3720",
   "metadata": {
    "id": "cd7e3720"
   },
   "outputs": [
    {
     "data": {
      "text/html": [
       "<div>\n",
       "<style scoped>\n",
       "    .dataframe tbody tr th:only-of-type {\n",
       "        vertical-align: middle;\n",
       "    }\n",
       "\n",
       "    .dataframe tbody tr th {\n",
       "        vertical-align: top;\n",
       "    }\n",
       "\n",
       "    .dataframe thead th {\n",
       "        text-align: right;\n",
       "    }\n",
       "</style>\n",
       "<table border=\"1\" class=\"dataframe\">\n",
       "  <thead>\n",
       "    <tr style=\"text-align: right;\">\n",
       "      <th></th>\n",
       "      <th>total_income_category</th>\n",
       "      <th>debt_sum</th>\n",
       "      <th>debt_count</th>\n",
       "      <th>debt_mean</th>\n",
       "    </tr>\n",
       "  </thead>\n",
       "  <tbody>\n",
       "    <tr>\n",
       "      <th>0</th>\n",
       "      <td>A</td>\n",
       "      <td>2</td>\n",
       "      <td>25</td>\n",
       "      <td>0.080000</td>\n",
       "    </tr>\n",
       "    <tr>\n",
       "      <th>1</th>\n",
       "      <td>B</td>\n",
       "      <td>354</td>\n",
       "      <td>5014</td>\n",
       "      <td>0.070602</td>\n",
       "    </tr>\n",
       "    <tr>\n",
       "      <th>2</th>\n",
       "      <td>C</td>\n",
       "      <td>1353</td>\n",
       "      <td>15938</td>\n",
       "      <td>0.084891</td>\n",
       "    </tr>\n",
       "    <tr>\n",
       "      <th>3</th>\n",
       "      <td>D</td>\n",
       "      <td>21</td>\n",
       "      <td>349</td>\n",
       "      <td>0.060172</td>\n",
       "    </tr>\n",
       "    <tr>\n",
       "      <th>4</th>\n",
       "      <td>E</td>\n",
       "      <td>2</td>\n",
       "      <td>22</td>\n",
       "      <td>0.090909</td>\n",
       "    </tr>\n",
       "  </tbody>\n",
       "</table>\n",
       "</div>"
      ],
      "text/plain": [
       "  total_income_category  debt_sum  debt_count  debt_mean\n",
       "0                     A         2          25   0.080000\n",
       "1                     B       354        5014   0.070602\n",
       "2                     C      1353       15938   0.084891\n",
       "3                     D        21         349   0.060172\n",
       "4                     E         2          22   0.090909"
      ]
     },
     "execution_count": 28,
     "metadata": {},
     "output_type": "execute_result"
    }
   ],
   "source": [
    "# сгруппируем исходные данные по уровню дохода.\n",
    "grouped_total_income = make_groups(data, 'total_income_category')\n",
    "grouped_total_income"
   ]
  },
  {
   "cell_type": "code",
   "execution_count": 29,
   "id": "6dadb7f4",
   "metadata": {},
   "outputs": [
    {
     "data": {
      "image/png": "[encoded data removed]",
      "text/plain": [
       "<Figure size 432x288 with 1 Axes>"
      ]
     },
     "metadata": {
      "needs_background": "light"
     },
     "output_type": "display_data"
    }
   ],
   "source": [
    "# построим гистограмму зависимости среднего количества задолженностей от уровня дохода\n",
    "sns.barplot(y=grouped_total_income['total_income_category'], x=grouped_total_income['debt_mean']);"
   ]
  },
  {
   "cell_type": "markdown",
   "id": "e8593def",
   "metadata": {
    "deletable": false,
    "id": "e8593def"
   },
   "source": [
    "**Вывод:** \n",
    "1. В среднем чаще всего задолженность по ранее выданым кредитам возникает у людей с уровнем дохода до 30,000 (категория E)\n",
    "2. Исправнее всего по ранее выданным кредитам платили люди с доходом от 30,000 до 50,000 (категория D).\n",
    "3. Прямой или обратной зависимости между уровнем дохода и средней частотой возникновения задолженности не наблюдается."
   ]
  },
  {
   "cell_type": "markdown",
   "id": "7c4dd081",
   "metadata": {},
   "source": [
    "<div class=\"alert alert-block alert-success\">✔️\n",
    "    \n",
    "\n",
    "__Комментарий от ревьюера №1__\n",
    "\n",
    "Верно, чаще всего задолжности у тех, у кого низкий доход\n",
    "</div>"
   ]
  },
  {
   "cell_type": "markdown",
   "id": "99ecbd1f",
   "metadata": {
    "deletable": false,
    "editable": false,
    "id": "99ecbd1f"
   },
   "source": [
    "**Задание 22. Как разные цели кредита влияют на его возврат в срок?**"
   ]
  },
  {
   "cell_type": "code",
   "execution_count": 30,
   "id": "2b687290",
   "metadata": {
    "id": "2b687290"
   },
   "outputs": [
    {
     "data": {
      "text/html": [
       "<div>\n",
       "<style scoped>\n",
       "    .dataframe tbody tr th:only-of-type {\n",
       "        vertical-align: middle;\n",
       "    }\n",
       "\n",
       "    .dataframe tbody tr th {\n",
       "        vertical-align: top;\n",
       "    }\n",
       "\n",
       "    .dataframe thead th {\n",
       "        text-align: right;\n",
       "    }\n",
       "</style>\n",
       "<table border=\"1\" class=\"dataframe\">\n",
       "  <thead>\n",
       "    <tr style=\"text-align: right;\">\n",
       "      <th></th>\n",
       "      <th>purpose_category</th>\n",
       "      <th>debt_sum</th>\n",
       "      <th>debt_count</th>\n",
       "      <th>debt_mean</th>\n",
       "    </tr>\n",
       "  </thead>\n",
       "  <tbody>\n",
       "    <tr>\n",
       "      <th>0</th>\n",
       "      <td>операции с автомобилем</td>\n",
       "      <td>400</td>\n",
       "      <td>4281</td>\n",
       "      <td>0.093436</td>\n",
       "    </tr>\n",
       "    <tr>\n",
       "      <th>1</th>\n",
       "      <td>операции с недвижимостью</td>\n",
       "      <td>780</td>\n",
       "      <td>10754</td>\n",
       "      <td>0.072531</td>\n",
       "    </tr>\n",
       "    <tr>\n",
       "      <th>2</th>\n",
       "      <td>получение образования</td>\n",
       "      <td>369</td>\n",
       "      <td>3989</td>\n",
       "      <td>0.092504</td>\n",
       "    </tr>\n",
       "    <tr>\n",
       "      <th>3</th>\n",
       "      <td>проведение свадьбы</td>\n",
       "      <td>183</td>\n",
       "      <td>2324</td>\n",
       "      <td>0.078744</td>\n",
       "    </tr>\n",
       "  </tbody>\n",
       "</table>\n",
       "</div>"
      ],
      "text/plain": [
       "           purpose_category  debt_sum  debt_count  debt_mean\n",
       "0    операции с автомобилем       400        4281   0.093436\n",
       "1  операции с недвижимостью       780       10754   0.072531\n",
       "2     получение образования       369        3989   0.092504\n",
       "3        проведение свадьбы       183        2324   0.078744"
      ]
     },
     "execution_count": 30,
     "metadata": {},
     "output_type": "execute_result"
    }
   ],
   "source": [
    "# сгруппируем исходные данные по уровню дохода.\n",
    "grouped_by_purpose = make_groups(data, 'purpose_category')\n",
    "grouped_by_purpose"
   ]
  },
  {
   "cell_type": "code",
   "execution_count": 31,
   "id": "99e9a171",
   "metadata": {},
   "outputs": [
    {
     "data": {
      "image/png": "[encoded data removed]",
      "text/plain": [
       "<Figure size 432x288 with 1 Axes>"
      ]
     },
     "metadata": {
      "needs_background": "light"
     },
     "output_type": "display_data"
    }
   ],
   "source": [
    "# построим гистограмму зависимости среднего количества задолженностей от цели кредита\n",
    "sns.barplot(y=grouped_by_purpose['purpose_category'], x=grouped_by_purpose['debt_mean']);"
   ]
  },
  {
   "cell_type": "markdown",
   "id": "b4bb2ce6",
   "metadata": {
    "deletable": false,
    "id": "b4bb2ce6"
   },
   "source": [
    "**Вывод:** \n",
    "1. Самые высокие показатели по среднему количеству задолженностей у категорий \"операции с автомобилем\" и \"получение образования\".\n",
    "2. Реже всего люди допускают образование задолженности, оформляя кредит для операций с недвижимостью."
   ]
  },
  {
   "cell_type": "markdown",
   "id": "09c3ac4c",
   "metadata": {
    "deletable": false,
    "editable": false,
    "id": "09c3ac4c"
   },
   "source": [
    "**Задание 23. Приведите возможные причины появления пропусков в исходных данных.**"
   ]
  },
  {
   "cell_type": "markdown",
   "id": "9da2ceda",
   "metadata": {
    "deletable": false,
    "id": "9da2ceda"
   },
   "source": [
    "*Ответ:*  \n",
    "Причины пропусков в исходных данных можно разделить на два типа: технологические и обусловленные так называемым \"человеческим фактором\":\n",
    "- к технологическим отнесем вероятные сбои в работе форм сбора информации и некорректную работу базы данных.\n",
    "- к обусловленным \"человеческим фактором\" можно отнести невнимательность пользователей при заполнении форм (при условии, что в полях нет проверок на корректность введенных значений), их нежелание предоставлять информацию о своем стаже и заработке. Также могут иметь место ошибки в работе специалистов, занимавшихся поддержкой базы данных и выгрузкой нужных таблиц."
   ]
  },
  {
   "cell_type": "markdown",
   "id": "e5e78e8d",
   "metadata": {},
   "source": [
    "<div class=\"alert alert-block alert-success\">✔️\n",
    "    \n",
    "\n",
    "__Комментарий от ревьюера №1__\n",
    "\n",
    "Всё верно\n",
    "</div>"
   ]
  },
  {
   "cell_type": "markdown",
   "id": "7b0487d6",
   "metadata": {
    "deletable": false,
    "editable": false,
    "id": "7b0487d6"
   },
   "source": [
    "**Задание 24. Объясните, почему заполнить пропуски медианным значением — лучшее решение для количественных переменных.**"
   ]
  },
  {
   "cell_type": "markdown",
   "id": "7ecf2b8e",
   "metadata": {
    "deletable": false,
    "id": "7ecf2b8e"
   },
   "source": [
    "*Ответ:*  \n",
    "При обработке количественных переменных лучше использовать медиану, а не среднее, потому что в случае наличия в данных аномально высоких или аномально низких значений, среднее арифметическое будет сильно сдвигаться, соответветсвенно, в большую или меньшую сторону и, следовательно, хуже описывать большинство значений.\n",
    "Медиана не подвержена влиянию подобных выбросов в данных в такой степени, как среднее арифметическое, поэтому именно ее лучше использовать для описания \"большинства\". "
   ]
  },
  {
   "cell_type": "markdown",
   "id": "1d96fdcf",
   "metadata": {},
   "source": [
    "<div class=\"alert alert-block alert-success\">✔️\n",
    "    \n",
    "\n",
    "__Комментарий от ревьюера №1__\n",
    "\n",
    "Правильно, медиана меньше склонна к выбросам\n",
    "</div>"
   ]
  },
  {
   "cell_type": "markdown",
   "id": "6db5255a",
   "metadata": {
    "deletable": false,
    "editable": false,
    "id": "6db5255a"
   },
   "source": [
    "## Общий вывод."
   ]
  },
  {
   "cell_type": "markdown",
   "id": "bad65432",
   "metadata": {
    "id": "bad65432"
   },
   "source": [
    "1. Прямой или обратной связи между количеством детей и наличием задолженности по кредиту нет. Но чаще задолженность возникает у людей с 1, 2 или 4 детьми, реже - у тех, у кого 3 или совсем нет детей. Выборка людей с 5 детьми нерепрезентативна ввиду малого количества измерений.\n",
    "2. У неженатых / незамужних людей и людей в гражданском браке задолженность возникает чаще, чем у остальных. Реже всего задолженность встречается среди людей, овдовевших и находящихся в разводе.\n",
    "3. Между уровнем дохода и наличием задолженности зависимости не наблюдается. Однако можно отметить, что наиболее исправно платежи по кредиту вносят люди с доходом 30,000-50,000. А задолженность наиболее часто возникает у людей с доходом до 30,000.\n",
    "4. Реже всех долг по кредиту возникает у людей, берущих его для операций с недвижимостью. Чаще всего долг образуется у людей, цели которых - операции с автомобилем и получение образования.\n",
    "5. Отметим, что для дальнейшего прогнозирования вероятности возникновения задолженности нужно попробовать исследовать не каждый отдельных фактор, а влияние их совокупности. Также нельзя исключать значительное влияние так называемых \"третьих переменных\" - факторов, влияние которых в исследовании не учитывалось."
   ]
  },
  {
   "cell_type": "markdown",
   "id": "f3795e64",
   "metadata": {},
   "source": [
    "<div class=\"alert alert-block alert-success\">✔️\n",
    "    \n",
    "\n",
    "__Комментарий от ревьюера №1__\n",
    "\n",
    "Оставляю проект на вопросы)    \n",
    "    \n",
    "---\n",
    "\n",
    "\n",
    "Всё чудно😊\n",
    "\n",
    "Поздравляю с успешным завершением проекта 😊👍\n",
    "\n",
    "И желаю успехов в новых работах 😊</div>"
   ]
  },
  {
   "cell_type": "markdown",
   "id": "e832e079",
   "metadata": {},
   "source": [
    "<div class=\"alert alert-info\"> <b>Комментарии студента:</b> Спасибо! Особенно рад, что получилось с первого раза)\n",
    "\n",
    "В целом, по проекту все понятно. Интересен твой комментарий по проекту: что можно было бы сделать лучше, в каком моменте и в какую сторону \"копнуть поглубже\"?  </div>"
   ]
  },
  {
   "cell_type": "markdown",
   "id": "2d5ec93c",
   "metadata": {},
   "source": [
    "<div class=\"alert alert-block alert-success\">✔️\n",
    "    \n",
    "\n",
    "__Комментарий от ревьюера №2__\n",
    "\n",
    "В данном проекте мало куда можно разогнаться. Выбросов нету, данные реальны. Но не переживай, в следующем проекте у тебя будет миллион разных возможностей \"копнуть поглубже\" и в разные стороны еще, при желании в нем можно на неделю зарыться и искать интересные факты, выбросы, боксплоты и т.п.  P.S. (в следующем проекте будут карлсоны, но, я не не скажу сколько :P Только ищи их сразу)\n",
    "</div>"
   ]
  }
 ],
 "metadata": {
  "ExecuteTimeLog": [
   {
    "duration": 563,
    "start_time": "2022-06-16T12:10:54.036Z"
   },
   {
    "duration": 26,
    "start_time": "2022-06-16T12:10:54.601Z"
   },
   {
    "duration": 30,
    "start_time": "2022-06-16T12:10:54.629Z"
   },
   {
    "duration": 13,
    "start_time": "2022-06-16T12:10:54.664Z"
   },
   {
    "duration": 97,
    "start_time": "2022-06-16T12:10:54.679Z"
   },
   {
    "duration": 3,
    "start_time": "2022-06-16T12:10:54.778Z"
   },
   {
    "duration": 27,
    "start_time": "2022-06-16T12:10:54.783Z"
   },
   {
    "duration": 38,
    "start_time": "2022-06-16T12:10:54.812Z"
   },
   {
    "duration": 46,
    "start_time": "2022-06-16T12:10:54.852Z"
   },
   {
    "duration": 40,
    "start_time": "2022-06-16T12:10:54.901Z"
   },
   {
    "duration": 59,
    "start_time": "2022-06-16T12:10:54.943Z"
   },
   {
    "duration": 13,
    "start_time": "2022-06-16T12:10:55.004Z"
   },
   {
    "duration": 16,
    "start_time": "2022-06-16T12:10:55.020Z"
   },
   {
    "duration": 45,
    "start_time": "2022-06-16T12:10:55.039Z"
   },
   {
    "duration": 19,
    "start_time": "2022-06-16T12:10:55.086Z"
   },
   {
    "duration": 16,
    "start_time": "2022-06-16T12:10:55.107Z"
   },
   {
    "duration": 13,
    "start_time": "2022-06-16T12:10:55.125Z"
   },
   {
    "duration": 33,
    "start_time": "2022-06-16T12:10:55.139Z"
   },
   {
    "duration": 23,
    "start_time": "2022-06-16T12:10:55.174Z"
   },
   {
    "duration": 17,
    "start_time": "2022-06-16T12:10:55.199Z"
   },
   {
    "duration": 35,
    "start_time": "2022-06-16T12:10:55.217Z"
   },
   {
    "duration": 15,
    "start_time": "2022-06-16T12:10:55.254Z"
   },
   {
    "duration": 19,
    "start_time": "2022-06-16T12:10:55.271Z"
   },
   {
    "duration": 26,
    "start_time": "2022-06-16T12:10:55.292Z"
   },
   {
    "duration": 15,
    "start_time": "2022-06-16T12:10:55.320Z"
   },
   {
    "duration": 22,
    "start_time": "2022-06-16T12:13:40.976Z"
   },
   {
    "duration": 73,
    "start_time": "2022-06-16T12:15:14.095Z"
   },
   {
    "duration": 11,
    "start_time": "2022-06-16T12:15:18.282Z"
   },
   {
    "duration": 559,
    "start_time": "2022-06-16T12:15:36.765Z"
   },
   {
    "duration": 7,
    "start_time": "2022-06-16T12:16:15.437Z"
   },
   {
    "duration": 10,
    "start_time": "2022-06-16T12:16:22.979Z"
   },
   {
    "duration": 150,
    "start_time": "2022-06-16T12:16:50.940Z"
   },
   {
    "duration": 13,
    "start_time": "2022-06-16T12:18:40.800Z"
   },
   {
    "duration": 10,
    "start_time": "2022-06-16T12:18:53.909Z"
   },
   {
    "duration": 29,
    "start_time": "2022-06-16T12:22:57.787Z"
   },
   {
    "duration": 10,
    "start_time": "2022-06-16T12:23:25.407Z"
   },
   {
    "duration": 12,
    "start_time": "2022-06-16T12:23:37.580Z"
   },
   {
    "duration": 39,
    "start_time": "2022-06-16T12:23:51.814Z"
   },
   {
    "duration": 13,
    "start_time": "2022-06-16T12:24:01.363Z"
   },
   {
    "duration": 14,
    "start_time": "2022-06-16T12:25:03.274Z"
   },
   {
    "duration": 12,
    "start_time": "2022-06-16T12:25:08.418Z"
   },
   {
    "duration": 11,
    "start_time": "2022-06-16T12:25:13.412Z"
   },
   {
    "duration": 15,
    "start_time": "2022-06-16T12:25:23.713Z"
   },
   {
    "duration": 24,
    "start_time": "2022-06-16T12:33:38.056Z"
   },
   {
    "duration": 13,
    "start_time": "2022-06-16T12:33:51.275Z"
   },
   {
    "duration": 15,
    "start_time": "2022-06-16T12:34:10.496Z"
   },
   {
    "duration": 11,
    "start_time": "2022-06-16T12:34:18.614Z"
   },
   {
    "duration": 13,
    "start_time": "2022-06-16T12:34:23.461Z"
   },
   {
    "duration": 9,
    "start_time": "2022-06-16T12:36:18.414Z"
   },
   {
    "duration": 140,
    "start_time": "2022-06-16T12:36:55.482Z"
   },
   {
    "duration": 486,
    "start_time": "2022-06-16T12:37:05.862Z"
   },
   {
    "duration": 26,
    "start_time": "2022-06-16T12:37:24.049Z"
   },
   {
    "duration": 147,
    "start_time": "2022-06-16T12:37:31.281Z"
   },
   {
    "duration": 9,
    "start_time": "2022-06-16T12:37:44.158Z"
   },
   {
    "duration": 18,
    "start_time": "2022-06-16T12:37:51.175Z"
   },
   {
    "duration": 9,
    "start_time": "2022-06-16T12:37:55.591Z"
   },
   {
    "duration": 236,
    "start_time": "2022-06-16T12:39:00.419Z"
   },
   {
    "duration": 155,
    "start_time": "2022-06-16T12:41:41.264Z"
   },
   {
    "duration": 22,
    "start_time": "2022-06-16T12:47:35.915Z"
   },
   {
    "duration": 19,
    "start_time": "2022-06-16T12:47:41.366Z"
   },
   {
    "duration": 20,
    "start_time": "2022-06-16T12:47:49.962Z"
   },
   {
    "duration": 14,
    "start_time": "2022-06-16T12:48:16.383Z"
   },
   {
    "duration": 9,
    "start_time": "2022-06-16T12:50:24.980Z"
   },
   {
    "duration": 175,
    "start_time": "2022-06-16T12:51:08.394Z"
   },
   {
    "duration": 666,
    "start_time": "2022-06-17T16:09:04.180Z"
   },
   {
    "duration": 24,
    "start_time": "2022-06-17T16:09:04.848Z"
   },
   {
    "duration": 18,
    "start_time": "2022-06-17T16:09:04.874Z"
   },
   {
    "duration": 9,
    "start_time": "2022-06-17T16:09:04.894Z"
   },
   {
    "duration": 38,
    "start_time": "2022-06-17T16:09:04.904Z"
   },
   {
    "duration": 3,
    "start_time": "2022-06-17T16:09:04.944Z"
   },
   {
    "duration": 16,
    "start_time": "2022-06-17T16:09:04.949Z"
   },
   {
    "duration": 4,
    "start_time": "2022-06-17T16:09:04.967Z"
   },
   {
    "duration": 10,
    "start_time": "2022-06-17T16:09:04.972Z"
   },
   {
    "duration": 5,
    "start_time": "2022-06-17T16:09:04.984Z"
   },
   {
    "duration": 58,
    "start_time": "2022-06-17T16:09:04.990Z"
   },
   {
    "duration": 10,
    "start_time": "2022-06-17T16:09:05.049Z"
   },
   {
    "duration": 12,
    "start_time": "2022-06-17T16:09:05.061Z"
   },
   {
    "duration": 21,
    "start_time": "2022-06-17T16:09:05.074Z"
   },
   {
    "duration": 16,
    "start_time": "2022-06-17T16:09:05.096Z"
   },
   {
    "duration": 23,
    "start_time": "2022-06-17T16:09:05.113Z"
   },
   {
    "duration": 3,
    "start_time": "2022-06-17T16:09:05.139Z"
   },
   {
    "duration": 16,
    "start_time": "2022-06-17T16:09:05.144Z"
   },
   {
    "duration": 9,
    "start_time": "2022-06-17T16:09:05.162Z"
   },
   {
    "duration": 5,
    "start_time": "2022-06-17T16:09:05.173Z"
   },
   {
    "duration": 14,
    "start_time": "2022-06-17T16:09:05.180Z"
   },
   {
    "duration": 33,
    "start_time": "2022-06-17T16:09:05.195Z"
   },
   {
    "duration": 8,
    "start_time": "2022-06-17T16:09:05.230Z"
   },
   {
    "duration": 510,
    "start_time": "2022-06-17T16:09:05.239Z"
   },
   {
    "duration": 3,
    "start_time": "2022-06-17T16:09:05.751Z"
   },
   {
    "duration": 17,
    "start_time": "2022-06-17T16:09:05.756Z"
   },
   {
    "duration": 5,
    "start_time": "2022-06-17T16:09:05.775Z"
   },
   {
    "duration": 19,
    "start_time": "2022-06-17T16:09:26.617Z"
   },
   {
    "duration": 5,
    "start_time": "2022-06-17T16:10:03.177Z"
   },
   {
    "duration": 27,
    "start_time": "2022-06-17T16:11:40.683Z"
   },
   {
    "duration": 11,
    "start_time": "2022-06-17T16:11:54.074Z"
   },
   {
    "duration": 13,
    "start_time": "2022-06-17T16:13:56.992Z"
   },
   {
    "duration": 9,
    "start_time": "2022-06-17T16:15:04.122Z"
   },
   {
    "duration": 137,
    "start_time": "2022-06-17T16:18:40.484Z"
   },
   {
    "duration": 206,
    "start_time": "2022-06-17T16:20:09.581Z"
   },
   {
    "duration": 47,
    "start_time": "2022-06-17T20:31:38.684Z"
   },
   {
    "duration": 752,
    "start_time": "2022-06-17T20:31:51.750Z"
   },
   {
    "duration": 22,
    "start_time": "2022-06-17T20:31:52.504Z"
   },
   {
    "duration": 20,
    "start_time": "2022-06-17T20:31:52.528Z"
   },
   {
    "duration": 20,
    "start_time": "2022-06-17T20:31:52.551Z"
   },
   {
    "duration": 36,
    "start_time": "2022-06-17T20:31:52.573Z"
   },
   {
    "duration": 17,
    "start_time": "2022-06-17T20:31:52.610Z"
   },
   {
    "duration": 29,
    "start_time": "2022-06-17T20:31:52.631Z"
   },
   {
    "duration": 9,
    "start_time": "2022-06-17T20:31:52.662Z"
   },
   {
    "duration": 13,
    "start_time": "2022-06-17T20:31:52.672Z"
   },
   {
    "duration": 8,
    "start_time": "2022-06-17T20:31:52.688Z"
   },
   {
    "duration": 58,
    "start_time": "2022-06-17T20:31:52.698Z"
   },
   {
    "duration": 15,
    "start_time": "2022-06-17T20:31:52.758Z"
   },
   {
    "duration": 6,
    "start_time": "2022-06-17T20:31:52.775Z"
   },
   {
    "duration": 22,
    "start_time": "2022-06-17T20:31:52.783Z"
   },
   {
    "duration": 46,
    "start_time": "2022-06-17T20:31:52.806Z"
   },
   {
    "duration": 17,
    "start_time": "2022-06-17T20:31:52.854Z"
   },
   {
    "duration": 6,
    "start_time": "2022-06-17T20:31:52.873Z"
   },
   {
    "duration": 19,
    "start_time": "2022-06-17T20:31:52.881Z"
   },
   {
    "duration": 38,
    "start_time": "2022-06-17T20:31:52.902Z"
   },
   {
    "duration": 39,
    "start_time": "2022-06-17T20:31:52.942Z"
   },
   {
    "duration": 20,
    "start_time": "2022-06-17T20:31:52.983Z"
   },
   {
    "duration": 21,
    "start_time": "2022-06-17T20:31:53.006Z"
   },
   {
    "duration": 19,
    "start_time": "2022-06-17T20:31:53.032Z"
   },
   {
    "duration": 605,
    "start_time": "2022-06-17T20:31:53.054Z"
   },
   {
    "duration": 16,
    "start_time": "2022-06-17T20:31:53.660Z"
   },
   {
    "duration": 10,
    "start_time": "2022-06-17T20:31:53.679Z"
   },
   {
    "duration": 217,
    "start_time": "2022-06-17T20:31:53.690Z"
   },
   {
    "duration": 3,
    "start_time": "2022-06-17T20:31:53.911Z"
   },
   {
    "duration": 26,
    "start_time": "2022-06-17T20:31:53.928Z"
   },
   {
    "duration": 271,
    "start_time": "2022-06-17T20:34:26.498Z"
   },
   {
    "duration": 198,
    "start_time": "2022-06-17T20:35:22.210Z"
   },
   {
    "duration": 692,
    "start_time": "2022-06-17T20:40:03.112Z"
   },
   {
    "duration": 126,
    "start_time": "2022-06-17T20:42:10.182Z"
   },
   {
    "duration": 21,
    "start_time": "2022-06-17T20:57:35.825Z"
   },
   {
    "duration": 13,
    "start_time": "2022-06-17T20:59:08.097Z"
   },
   {
    "duration": 207,
    "start_time": "2022-06-17T21:00:20.974Z"
   },
   {
    "duration": 13,
    "start_time": "2022-06-17T21:00:27.399Z"
   },
   {
    "duration": 9,
    "start_time": "2022-06-17T21:01:32.781Z"
   },
   {
    "duration": 105,
    "start_time": "2022-06-17T21:02:37.612Z"
   },
   {
    "duration": 21,
    "start_time": "2022-06-17T21:02:59.526Z"
   },
   {
    "duration": 29,
    "start_time": "2022-06-17T21:03:34.431Z"
   },
   {
    "duration": 19,
    "start_time": "2022-06-17T21:11:34.100Z"
   },
   {
    "duration": 15,
    "start_time": "2022-06-17T21:12:43.711Z"
   },
   {
    "duration": 10,
    "start_time": "2022-06-17T21:13:21.643Z"
   },
   {
    "duration": 189,
    "start_time": "2022-06-17T21:14:16.795Z"
   },
   {
    "duration": 536,
    "start_time": "2022-06-17T21:18:13.897Z"
   },
   {
    "duration": 29,
    "start_time": "2022-06-17T21:18:14.435Z"
   },
   {
    "duration": 25,
    "start_time": "2022-06-17T21:18:14.466Z"
   },
   {
    "duration": 34,
    "start_time": "2022-06-17T21:18:14.494Z"
   },
   {
    "duration": 42,
    "start_time": "2022-06-17T21:18:14.530Z"
   },
   {
    "duration": 4,
    "start_time": "2022-06-17T21:18:14.574Z"
   },
   {
    "duration": 19,
    "start_time": "2022-06-17T21:18:14.581Z"
   },
   {
    "duration": 28,
    "start_time": "2022-06-17T21:18:14.602Z"
   },
   {
    "duration": 15,
    "start_time": "2022-06-17T21:18:14.632Z"
   },
   {
    "duration": 5,
    "start_time": "2022-06-17T21:18:14.649Z"
   },
   {
    "duration": 35,
    "start_time": "2022-06-17T21:18:14.656Z"
   },
   {
    "duration": 9,
    "start_time": "2022-06-17T21:18:14.693Z"
   },
   {
    "duration": 7,
    "start_time": "2022-06-17T21:18:14.704Z"
   },
   {
    "duration": 18,
    "start_time": "2022-06-17T21:18:14.725Z"
   },
   {
    "duration": 16,
    "start_time": "2022-06-17T21:18:14.744Z"
   },
   {
    "duration": 10,
    "start_time": "2022-06-17T21:18:14.762Z"
   },
   {
    "duration": 7,
    "start_time": "2022-06-17T21:18:14.773Z"
   },
   {
    "duration": 18,
    "start_time": "2022-06-17T21:18:14.782Z"
   },
   {
    "duration": 29,
    "start_time": "2022-06-17T21:18:14.801Z"
   },
   {
    "duration": 5,
    "start_time": "2022-06-17T21:18:14.832Z"
   },
   {
    "duration": 14,
    "start_time": "2022-06-17T21:18:14.839Z"
   },
   {
    "duration": 13,
    "start_time": "2022-06-17T21:18:14.854Z"
   },
   {
    "duration": 10,
    "start_time": "2022-06-17T21:18:14.869Z"
   },
   {
    "duration": 366,
    "start_time": "2022-06-17T21:18:14.880Z"
   },
   {
    "duration": 14,
    "start_time": "2022-06-17T21:18:15.248Z"
   },
   {
    "duration": 14,
    "start_time": "2022-06-17T21:18:15.263Z"
   },
   {
    "duration": 649,
    "start_time": "2022-06-17T21:18:15.279Z"
   },
   {
    "duration": 14,
    "start_time": "2022-06-17T21:18:15.932Z"
   },
   {
    "duration": 8,
    "start_time": "2022-06-17T21:18:15.949Z"
   },
   {
    "duration": 127,
    "start_time": "2022-06-17T21:18:15.959Z"
   },
   {
    "duration": 14,
    "start_time": "2022-06-17T21:18:16.088Z"
   },
   {
    "duration": 9,
    "start_time": "2022-06-17T21:18:16.104Z"
   },
   {
    "duration": 127,
    "start_time": "2022-06-17T21:18:16.126Z"
   },
   {
    "duration": 1340,
    "start_time": "2022-06-18T08:35:49.942Z"
   },
   {
    "duration": 653,
    "start_time": "2022-06-18T08:36:04.567Z"
   },
   {
    "duration": 20,
    "start_time": "2022-06-18T08:36:05.222Z"
   },
   {
    "duration": 22,
    "start_time": "2022-06-18T08:36:05.244Z"
   },
   {
    "duration": 12,
    "start_time": "2022-06-18T08:36:05.269Z"
   },
   {
    "duration": 48,
    "start_time": "2022-06-18T08:36:05.283Z"
   },
   {
    "duration": 4,
    "start_time": "2022-06-18T08:36:05.332Z"
   },
   {
    "duration": 21,
    "start_time": "2022-06-18T08:36:05.338Z"
   },
   {
    "duration": 10,
    "start_time": "2022-06-18T08:36:05.360Z"
   },
   {
    "duration": 15,
    "start_time": "2022-06-18T08:36:05.371Z"
   },
   {
    "duration": 4,
    "start_time": "2022-06-18T08:36:05.389Z"
   },
   {
    "duration": 34,
    "start_time": "2022-06-18T08:36:05.394Z"
   },
   {
    "duration": 10,
    "start_time": "2022-06-18T08:36:05.430Z"
   },
   {
    "duration": 12,
    "start_time": "2022-06-18T08:36:05.441Z"
   },
   {
    "duration": 20,
    "start_time": "2022-06-18T08:36:05.454Z"
   },
   {
    "duration": 15,
    "start_time": "2022-06-18T08:36:05.476Z"
   },
   {
    "duration": 10,
    "start_time": "2022-06-18T08:36:05.492Z"
   },
   {
    "duration": 19,
    "start_time": "2022-06-18T08:36:05.504Z"
   },
   {
    "duration": 14,
    "start_time": "2022-06-18T08:36:05.524Z"
   },
   {
    "duration": 9,
    "start_time": "2022-06-18T08:36:05.540Z"
   },
   {
    "duration": 7,
    "start_time": "2022-06-18T08:36:05.550Z"
   },
   {
    "duration": 13,
    "start_time": "2022-06-18T08:36:05.559Z"
   },
   {
    "duration": 11,
    "start_time": "2022-06-18T08:36:05.573Z"
   },
   {
    "duration": 7,
    "start_time": "2022-06-18T08:36:05.585Z"
   },
   {
    "duration": 346,
    "start_time": "2022-06-18T08:36:05.594Z"
   },
   {
    "duration": 13,
    "start_time": "2022-06-18T08:36:05.942Z"
   },
   {
    "duration": 10,
    "start_time": "2022-06-18T08:36:05.957Z"
   },
   {
    "duration": 661,
    "start_time": "2022-06-18T08:36:05.969Z"
   },
   {
    "duration": 12,
    "start_time": "2022-06-18T08:36:06.633Z"
   },
   {
    "duration": 8,
    "start_time": "2022-06-18T08:36:06.647Z"
   },
   {
    "duration": 129,
    "start_time": "2022-06-18T08:36:06.656Z"
   },
   {
    "duration": 13,
    "start_time": "2022-06-18T08:36:06.787Z"
   },
   {
    "duration": 8,
    "start_time": "2022-06-18T08:36:06.802Z"
   },
   {
    "duration": 126,
    "start_time": "2022-06-18T08:36:06.823Z"
   },
   {
    "duration": 4,
    "start_time": "2022-06-18T09:26:23.993Z"
   },
   {
    "duration": 14,
    "start_time": "2022-06-18T09:26:52.424Z"
   },
   {
    "duration": 4,
    "start_time": "2022-06-18T09:35:08.853Z"
   },
   {
    "duration": 13,
    "start_time": "2022-06-18T09:36:14.300Z"
   },
   {
    "duration": 131,
    "start_time": "2022-06-18T09:36:27.637Z"
   },
   {
    "duration": 14,
    "start_time": "2022-06-18T09:37:46.343Z"
   },
   {
    "duration": 116,
    "start_time": "2022-06-18T09:37:48.594Z"
   },
   {
    "duration": 19,
    "start_time": "2022-06-18T09:38:41.566Z"
   },
   {
    "duration": 12,
    "start_time": "2022-06-18T09:39:52.165Z"
   },
   {
    "duration": 8,
    "start_time": "2022-06-18T09:39:59.385Z"
   },
   {
    "duration": 107,
    "start_time": "2022-06-18T09:40:27.875Z"
   },
   {
    "duration": 13,
    "start_time": "2022-06-18T09:41:03.683Z"
   },
   {
    "duration": 123,
    "start_time": "2022-06-18T09:41:09.909Z"
   },
   {
    "duration": 490,
    "start_time": "2022-06-18T09:41:23.737Z"
   },
   {
    "duration": 23,
    "start_time": "2022-06-18T09:41:24.229Z"
   },
   {
    "duration": 14,
    "start_time": "2022-06-18T09:41:24.254Z"
   },
   {
    "duration": 11,
    "start_time": "2022-06-18T09:41:24.270Z"
   },
   {
    "duration": 50,
    "start_time": "2022-06-18T09:41:24.282Z"
   },
   {
    "duration": 3,
    "start_time": "2022-06-18T09:41:24.333Z"
   },
   {
    "duration": 15,
    "start_time": "2022-06-18T09:41:24.338Z"
   },
   {
    "duration": 13,
    "start_time": "2022-06-18T09:41:24.355Z"
   },
   {
    "duration": 16,
    "start_time": "2022-06-18T09:41:24.370Z"
   },
   {
    "duration": 18,
    "start_time": "2022-06-18T09:41:24.389Z"
   },
   {
    "duration": 37,
    "start_time": "2022-06-18T09:41:24.409Z"
   },
   {
    "duration": 10,
    "start_time": "2022-06-18T09:41:24.447Z"
   },
   {
    "duration": 28,
    "start_time": "2022-06-18T09:41:24.459Z"
   },
   {
    "duration": 32,
    "start_time": "2022-06-18T09:41:24.488Z"
   },
   {
    "duration": 17,
    "start_time": "2022-06-18T09:41:24.521Z"
   },
   {
    "duration": 11,
    "start_time": "2022-06-18T09:41:24.540Z"
   },
   {
    "duration": 14,
    "start_time": "2022-06-18T09:41:24.552Z"
   },
   {
    "duration": 14,
    "start_time": "2022-06-18T09:41:24.567Z"
   },
   {
    "duration": 20,
    "start_time": "2022-06-18T09:41:24.583Z"
   },
   {
    "duration": 6,
    "start_time": "2022-06-18T09:41:24.605Z"
   },
   {
    "duration": 25,
    "start_time": "2022-06-18T09:41:24.612Z"
   },
   {
    "duration": 14,
    "start_time": "2022-06-18T09:41:24.639Z"
   },
   {
    "duration": 36,
    "start_time": "2022-06-18T09:41:24.654Z"
   },
   {
    "duration": 357,
    "start_time": "2022-06-18T09:41:24.691Z"
   },
   {
    "duration": 14,
    "start_time": "2022-06-18T09:41:25.049Z"
   },
   {
    "duration": 605,
    "start_time": "2022-06-18T09:41:25.064Z"
   },
   {
    "duration": 13,
    "start_time": "2022-06-18T09:41:25.671Z"
   },
   {
    "duration": 125,
    "start_time": "2022-06-18T09:41:25.687Z"
   },
   {
    "duration": 18,
    "start_time": "2022-06-18T09:41:25.814Z"
   },
   {
    "duration": 127,
    "start_time": "2022-06-18T09:41:25.833Z"
   },
   {
    "duration": 5,
    "start_time": "2022-06-18T09:49:26.762Z"
   },
   {
    "duration": 4,
    "start_time": "2022-06-18T09:51:17.702Z"
   },
   {
    "duration": 12,
    "start_time": "2022-06-18T09:51:18.503Z"
   },
   {
    "duration": 143,
    "start_time": "2022-06-18T09:52:31.147Z"
   },
   {
    "duration": 481,
    "start_time": "2022-06-18T09:52:36.186Z"
   },
   {
    "duration": 520,
    "start_time": "2022-06-18T09:52:58.732Z"
   },
   {
    "duration": 25,
    "start_time": "2022-06-18T09:52:59.254Z"
   },
   {
    "duration": 20,
    "start_time": "2022-06-18T09:52:59.280Z"
   },
   {
    "duration": 25,
    "start_time": "2022-06-18T09:52:59.302Z"
   },
   {
    "duration": 34,
    "start_time": "2022-06-18T09:52:59.328Z"
   },
   {
    "duration": 3,
    "start_time": "2022-06-18T09:52:59.364Z"
   },
   {
    "duration": 19,
    "start_time": "2022-06-18T09:52:59.368Z"
   },
   {
    "duration": 4,
    "start_time": "2022-06-18T09:52:59.388Z"
   },
   {
    "duration": 9,
    "start_time": "2022-06-18T09:52:59.394Z"
   },
   {
    "duration": 19,
    "start_time": "2022-06-18T09:52:59.406Z"
   },
   {
    "duration": 33,
    "start_time": "2022-06-18T09:52:59.427Z"
   },
   {
    "duration": 10,
    "start_time": "2022-06-18T09:52:59.462Z"
   },
   {
    "duration": 4,
    "start_time": "2022-06-18T09:52:59.473Z"
   },
   {
    "duration": 53,
    "start_time": "2022-06-18T09:52:59.479Z"
   },
   {
    "duration": 22,
    "start_time": "2022-06-18T09:52:59.534Z"
   },
   {
    "duration": 10,
    "start_time": "2022-06-18T09:52:59.558Z"
   },
   {
    "duration": 10,
    "start_time": "2022-06-18T09:52:59.570Z"
   },
   {
    "duration": 17,
    "start_time": "2022-06-18T09:52:59.581Z"
   },
   {
    "duration": 14,
    "start_time": "2022-06-18T09:52:59.600Z"
   },
   {
    "duration": 8,
    "start_time": "2022-06-18T09:52:59.616Z"
   },
   {
    "duration": 12,
    "start_time": "2022-06-18T09:52:59.626Z"
   },
   {
    "duration": 6,
    "start_time": "2022-06-18T09:52:59.640Z"
   },
   {
    "duration": 14,
    "start_time": "2022-06-18T09:52:59.647Z"
   },
   {
    "duration": 358,
    "start_time": "2022-06-18T09:52:59.662Z"
   },
   {
    "duration": 16,
    "start_time": "2022-06-18T09:53:00.023Z"
   },
   {
    "duration": 608,
    "start_time": "2022-06-18T09:53:00.041Z"
   },
   {
    "duration": 13,
    "start_time": "2022-06-18T09:53:00.651Z"
   },
   {
    "duration": 134,
    "start_time": "2022-06-18T09:53:00.667Z"
   },
   {
    "duration": 25,
    "start_time": "2022-06-18T09:53:00.802Z"
   },
   {
    "duration": 126,
    "start_time": "2022-06-18T09:53:00.829Z"
   },
   {
    "duration": 137,
    "start_time": "2022-06-18T09:54:41.988Z"
   },
   {
    "duration": 123,
    "start_time": "2022-06-18T09:54:59.561Z"
   },
   {
    "duration": 137,
    "start_time": "2022-06-18T09:55:32.114Z"
   },
   {
    "duration": 117,
    "start_time": "2022-06-18T09:55:49.513Z"
   },
   {
    "duration": 119,
    "start_time": "2022-06-18T09:56:34.343Z"
   },
   {
    "duration": 510,
    "start_time": "2022-06-18T10:03:07.539Z"
   },
   {
    "duration": 22,
    "start_time": "2022-06-18T10:03:08.051Z"
   },
   {
    "duration": 16,
    "start_time": "2022-06-18T10:03:08.075Z"
   },
   {
    "duration": 29,
    "start_time": "2022-06-18T10:03:08.094Z"
   },
   {
    "duration": 33,
    "start_time": "2022-06-18T10:03:08.125Z"
   },
   {
    "duration": 4,
    "start_time": "2022-06-18T10:03:08.160Z"
   },
   {
    "duration": 13,
    "start_time": "2022-06-18T10:03:08.166Z"
   },
   {
    "duration": 5,
    "start_time": "2022-06-18T10:03:08.181Z"
   },
   {
    "duration": 36,
    "start_time": "2022-06-18T10:03:08.187Z"
   },
   {
    "duration": 6,
    "start_time": "2022-06-18T10:03:08.227Z"
   },
   {
    "duration": 49,
    "start_time": "2022-06-18T10:03:08.235Z"
   },
   {
    "duration": 11,
    "start_time": "2022-06-18T10:03:08.285Z"
   },
   {
    "duration": 28,
    "start_time": "2022-06-18T10:03:08.298Z"
   },
   {
    "duration": 25,
    "start_time": "2022-06-18T10:03:08.328Z"
   },
   {
    "duration": 19,
    "start_time": "2022-06-18T10:03:08.355Z"
   },
   {
    "duration": 12,
    "start_time": "2022-06-18T10:03:08.375Z"
   },
   {
    "duration": 6,
    "start_time": "2022-06-18T10:03:08.389Z"
   },
   {
    "duration": 40,
    "start_time": "2022-06-18T10:03:08.397Z"
   },
   {
    "duration": 9,
    "start_time": "2022-06-18T10:03:08.440Z"
   },
   {
    "duration": 4,
    "start_time": "2022-06-18T10:03:08.451Z"
   },
   {
    "duration": 15,
    "start_time": "2022-06-18T10:03:08.457Z"
   },
   {
    "duration": 8,
    "start_time": "2022-06-18T10:03:08.474Z"
   },
   {
    "duration": 15,
    "start_time": "2022-06-18T10:03:08.484Z"
   },
   {
    "duration": 376,
    "start_time": "2022-06-18T10:03:08.500Z"
   },
   {
    "duration": 665,
    "start_time": "2022-06-18T10:03:08.878Z"
   },
   {
    "duration": 18,
    "start_time": "2022-06-18T10:03:09.545Z"
   },
   {
    "duration": 173,
    "start_time": "2022-06-18T10:03:09.565Z"
   },
   {
    "duration": 14,
    "start_time": "2022-06-18T10:03:09.742Z"
   },
   {
    "duration": 129,
    "start_time": "2022-06-18T10:03:09.757Z"
   },
   {
    "duration": 13,
    "start_time": "2022-06-18T10:03:09.888Z"
   },
   {
    "duration": 146,
    "start_time": "2022-06-18T10:03:09.903Z"
   },
   {
    "duration": 455,
    "start_time": "2022-06-18T10:13:39.758Z"
   },
   {
    "duration": 24,
    "start_time": "2022-06-18T10:13:40.214Z"
   },
   {
    "duration": 14,
    "start_time": "2022-06-18T10:13:40.239Z"
   },
   {
    "duration": 9,
    "start_time": "2022-06-18T10:13:40.255Z"
   },
   {
    "duration": 31,
    "start_time": "2022-06-18T10:13:40.265Z"
   },
   {
    "duration": 3,
    "start_time": "2022-06-18T10:13:40.298Z"
   },
   {
    "duration": 23,
    "start_time": "2022-06-18T10:13:40.302Z"
   },
   {
    "duration": 4,
    "start_time": "2022-06-18T10:13:40.335Z"
   },
   {
    "duration": 10,
    "start_time": "2022-06-18T10:13:40.341Z"
   },
   {
    "duration": 8,
    "start_time": "2022-06-18T10:13:40.353Z"
   },
   {
    "duration": 34,
    "start_time": "2022-06-18T10:13:40.362Z"
   },
   {
    "duration": 9,
    "start_time": "2022-06-18T10:13:40.397Z"
   },
   {
    "duration": 20,
    "start_time": "2022-06-18T10:13:40.407Z"
   },
   {
    "duration": 32,
    "start_time": "2022-06-18T10:13:40.428Z"
   },
   {
    "duration": 15,
    "start_time": "2022-06-18T10:13:40.461Z"
   },
   {
    "duration": 11,
    "start_time": "2022-06-18T10:13:40.477Z"
   },
   {
    "duration": 3,
    "start_time": "2022-06-18T10:13:40.489Z"
   },
   {
    "duration": 17,
    "start_time": "2022-06-18T10:13:40.493Z"
   },
   {
    "duration": 24,
    "start_time": "2022-06-18T10:13:40.511Z"
   },
   {
    "duration": 5,
    "start_time": "2022-06-18T10:13:40.536Z"
   },
   {
    "duration": 14,
    "start_time": "2022-06-18T10:13:40.543Z"
   },
   {
    "duration": 3,
    "start_time": "2022-06-18T10:13:40.559Z"
   },
   {
    "duration": 16,
    "start_time": "2022-06-18T10:13:40.564Z"
   },
   {
    "duration": 321,
    "start_time": "2022-06-18T10:13:40.582Z"
   },
   {
    "duration": 635,
    "start_time": "2022-06-18T10:13:40.904Z"
   },
   {
    "duration": 17,
    "start_time": "2022-06-18T10:13:41.541Z"
   },
   {
    "duration": 150,
    "start_time": "2022-06-18T10:13:41.560Z"
   },
   {
    "duration": 24,
    "start_time": "2022-06-18T10:13:41.713Z"
   },
   {
    "duration": 118,
    "start_time": "2022-06-18T10:13:41.739Z"
   },
   {
    "duration": 13,
    "start_time": "2022-06-18T10:13:41.859Z"
   },
   {
    "duration": 126,
    "start_time": "2022-06-18T10:13:41.874Z"
   },
   {
    "duration": 781,
    "start_time": "2022-06-18T10:46:41.395Z"
   },
   {
    "duration": 20,
    "start_time": "2022-06-18T10:46:42.177Z"
   },
   {
    "duration": 14,
    "start_time": "2022-06-18T10:46:42.199Z"
   },
   {
    "duration": 9,
    "start_time": "2022-06-18T10:46:42.215Z"
   },
   {
    "duration": 35,
    "start_time": "2022-06-18T10:46:42.225Z"
   },
   {
    "duration": 3,
    "start_time": "2022-06-18T10:46:42.262Z"
   },
   {
    "duration": 30,
    "start_time": "2022-06-18T10:46:42.266Z"
   },
   {
    "duration": 4,
    "start_time": "2022-06-18T10:46:42.297Z"
   },
   {
    "duration": 9,
    "start_time": "2022-06-18T10:46:42.302Z"
   },
   {
    "duration": 4,
    "start_time": "2022-06-18T10:46:42.313Z"
   },
   {
    "duration": 33,
    "start_time": "2022-06-18T10:46:42.318Z"
   },
   {
    "duration": 9,
    "start_time": "2022-06-18T10:46:42.352Z"
   },
   {
    "duration": 32,
    "start_time": "2022-06-18T10:46:42.362Z"
   },
   {
    "duration": 21,
    "start_time": "2022-06-18T10:46:42.396Z"
   },
   {
    "duration": 17,
    "start_time": "2022-06-18T10:46:42.418Z"
   },
   {
    "duration": 14,
    "start_time": "2022-06-18T10:46:42.437Z"
   },
   {
    "duration": 5,
    "start_time": "2022-06-18T10:46:42.452Z"
   },
   {
    "duration": 15,
    "start_time": "2022-06-18T10:46:42.459Z"
   },
   {
    "duration": 8,
    "start_time": "2022-06-18T10:46:42.495Z"
   },
   {
    "duration": 8,
    "start_time": "2022-06-18T10:46:42.505Z"
   },
   {
    "duration": 13,
    "start_time": "2022-06-18T10:46:42.515Z"
   },
   {
    "duration": 8,
    "start_time": "2022-06-18T10:46:42.529Z"
   },
   {
    "duration": 19,
    "start_time": "2022-06-18T10:46:42.538Z"
   },
   {
    "duration": 352,
    "start_time": "2022-06-18T10:46:42.558Z"
   },
   {
    "duration": 606,
    "start_time": "2022-06-18T10:46:42.912Z"
   },
   {
    "duration": 14,
    "start_time": "2022-06-18T10:46:43.520Z"
   },
   {
    "duration": 139,
    "start_time": "2022-06-18T10:46:43.535Z"
   },
   {
    "duration": 19,
    "start_time": "2022-06-18T10:46:43.677Z"
   },
   {
    "duration": 123,
    "start_time": "2022-06-18T10:46:43.697Z"
   },
   {
    "duration": 15,
    "start_time": "2022-06-18T10:46:43.821Z"
   },
   {
    "duration": 136,
    "start_time": "2022-06-18T10:46:43.837Z"
   },
   {
    "duration": 44,
    "start_time": "2022-06-18T15:40:00.865Z"
   },
   {
    "duration": 656,
    "start_time": "2022-06-18T15:40:15.315Z"
   },
   {
    "duration": 24,
    "start_time": "2022-06-18T15:40:15.972Z"
   },
   {
    "duration": 19,
    "start_time": "2022-06-18T15:40:16.001Z"
   },
   {
    "duration": 19,
    "start_time": "2022-06-18T15:40:16.022Z"
   },
   {
    "duration": 66,
    "start_time": "2022-06-18T15:40:16.043Z"
   },
   {
    "duration": 4,
    "start_time": "2022-06-18T15:40:16.111Z"
   },
   {
    "duration": 14,
    "start_time": "2022-06-18T15:40:16.117Z"
   },
   {
    "duration": 10,
    "start_time": "2022-06-18T15:40:16.133Z"
   },
   {
    "duration": 20,
    "start_time": "2022-06-18T15:40:16.147Z"
   },
   {
    "duration": 6,
    "start_time": "2022-06-18T15:40:16.169Z"
   },
   {
    "duration": 169,
    "start_time": "2022-06-18T15:40:16.177Z"
   },
   {
    "duration": 11,
    "start_time": "2022-06-18T15:40:16.348Z"
   },
   {
    "duration": 7,
    "start_time": "2022-06-18T15:40:16.361Z"
   },
   {
    "duration": 37,
    "start_time": "2022-06-18T15:40:16.370Z"
   },
   {
    "duration": 26,
    "start_time": "2022-06-18T15:40:16.409Z"
   },
   {
    "duration": 18,
    "start_time": "2022-06-18T15:40:16.437Z"
   },
   {
    "duration": 4,
    "start_time": "2022-06-18T15:40:16.465Z"
   },
   {
    "duration": 18,
    "start_time": "2022-06-18T15:40:16.471Z"
   },
   {
    "duration": 8,
    "start_time": "2022-06-18T15:40:16.492Z"
   },
   {
    "duration": 4,
    "start_time": "2022-06-18T15:40:16.504Z"
   },
   {
    "duration": 20,
    "start_time": "2022-06-18T15:40:16.510Z"
   },
   {
    "duration": 5,
    "start_time": "2022-06-18T15:40:16.532Z"
   },
   {
    "duration": 30,
    "start_time": "2022-06-18T15:40:16.564Z"
   },
   {
    "duration": 488,
    "start_time": "2022-06-18T15:40:16.596Z"
   },
   {
    "duration": 618,
    "start_time": "2022-06-18T15:40:17.086Z"
   },
   {
    "duration": 14,
    "start_time": "2022-06-18T15:40:17.706Z"
   },
   {
    "duration": 141,
    "start_time": "2022-06-18T15:40:17.723Z"
   },
   {
    "duration": 14,
    "start_time": "2022-06-18T15:40:17.866Z"
   },
   {
    "duration": 119,
    "start_time": "2022-06-18T15:40:17.882Z"
   },
   {
    "duration": 14,
    "start_time": "2022-06-18T15:40:18.002Z"
   },
   {
    "duration": 132,
    "start_time": "2022-06-18T15:40:18.017Z"
   },
   {
    "duration": 127,
    "start_time": "2022-06-18T15:45:20.455Z"
   },
   {
    "duration": 130,
    "start_time": "2022-06-18T15:45:35.770Z"
   },
   {
    "duration": 57,
    "start_time": "2022-06-20T11:54:36.192Z"
   },
   {
    "duration": 739,
    "start_time": "2022-06-20T11:56:45.814Z"
   },
   {
    "duration": 23,
    "start_time": "2022-06-20T11:56:46.555Z"
   },
   {
    "duration": 18,
    "start_time": "2022-06-20T11:56:46.580Z"
   },
   {
    "duration": 25,
    "start_time": "2022-06-20T11:56:46.601Z"
   },
   {
    "duration": 36,
    "start_time": "2022-06-20T11:56:46.628Z"
   },
   {
    "duration": 6,
    "start_time": "2022-06-20T11:56:46.666Z"
   },
   {
    "duration": 30,
    "start_time": "2022-06-20T11:56:46.673Z"
   },
   {
    "duration": 17,
    "start_time": "2022-06-20T11:56:46.705Z"
   },
   {
    "duration": 14,
    "start_time": "2022-06-20T11:56:46.724Z"
   },
   {
    "duration": 6,
    "start_time": "2022-06-20T11:56:46.742Z"
   },
   {
    "duration": 50,
    "start_time": "2022-06-20T11:56:46.750Z"
   },
   {
    "duration": 11,
    "start_time": "2022-06-20T11:56:46.802Z"
   },
   {
    "duration": 21,
    "start_time": "2022-06-20T11:56:46.814Z"
   },
   {
    "duration": 30,
    "start_time": "2022-06-20T11:56:46.836Z"
   },
   {
    "duration": 18,
    "start_time": "2022-06-20T11:56:46.868Z"
   },
   {
    "duration": 12,
    "start_time": "2022-06-20T11:56:46.887Z"
   },
   {
    "duration": 12,
    "start_time": "2022-06-20T11:56:46.901Z"
   },
   {
    "duration": 17,
    "start_time": "2022-06-20T11:56:46.914Z"
   },
   {
    "duration": 9,
    "start_time": "2022-06-20T11:56:46.933Z"
   },
   {
    "duration": 5,
    "start_time": "2022-06-20T11:56:46.943Z"
   },
   {
    "duration": 26,
    "start_time": "2022-06-20T11:56:46.950Z"
   },
   {
    "duration": 6,
    "start_time": "2022-06-20T11:56:46.978Z"
   },
   {
    "duration": 48,
    "start_time": "2022-06-20T11:56:46.986Z"
   },
   {
    "duration": 0,
    "start_time": "2022-06-20T11:56:47.036Z"
   },
   {
    "duration": 0,
    "start_time": "2022-06-20T11:56:47.038Z"
   },
   {
    "duration": 0,
    "start_time": "2022-06-20T11:56:47.040Z"
   },
   {
    "duration": 0,
    "start_time": "2022-06-20T11:56:47.041Z"
   },
   {
    "duration": 0,
    "start_time": "2022-06-20T11:56:47.042Z"
   },
   {
    "duration": 0,
    "start_time": "2022-06-20T11:56:47.044Z"
   },
   {
    "duration": 0,
    "start_time": "2022-06-20T11:56:47.045Z"
   },
   {
    "duration": 0,
    "start_time": "2022-06-20T11:56:47.047Z"
   },
   {
    "duration": 0,
    "start_time": "2022-06-20T11:56:47.048Z"
   },
   {
    "duration": 501,
    "start_time": "2022-06-20T11:57:07.778Z"
   },
   {
    "duration": 27,
    "start_time": "2022-06-20T11:57:08.282Z"
   },
   {
    "duration": 33,
    "start_time": "2022-06-20T11:57:08.311Z"
   },
   {
    "duration": 11,
    "start_time": "2022-06-20T11:57:08.347Z"
   },
   {
    "duration": 35,
    "start_time": "2022-06-20T11:57:08.359Z"
   },
   {
    "duration": 4,
    "start_time": "2022-06-20T11:57:08.396Z"
   },
   {
    "duration": 9,
    "start_time": "2022-06-20T11:57:08.426Z"
   },
   {
    "duration": 6,
    "start_time": "2022-06-20T11:57:08.437Z"
   },
   {
    "duration": 9,
    "start_time": "2022-06-20T11:57:08.445Z"
   },
   {
    "duration": 5,
    "start_time": "2022-06-20T11:57:08.457Z"
   },
   {
    "duration": 68,
    "start_time": "2022-06-20T11:57:08.464Z"
   },
   {
    "duration": 16,
    "start_time": "2022-06-20T11:57:08.534Z"
   },
   {
    "duration": 6,
    "start_time": "2022-06-20T11:57:08.552Z"
   },
   {
    "duration": 22,
    "start_time": "2022-06-20T11:57:08.560Z"
   },
   {
    "duration": 48,
    "start_time": "2022-06-20T11:57:08.584Z"
   },
   {
    "duration": 17,
    "start_time": "2022-06-20T11:57:08.634Z"
   },
   {
    "duration": 8,
    "start_time": "2022-06-20T11:57:08.654Z"
   },
   {
    "duration": 16,
    "start_time": "2022-06-20T11:57:08.664Z"
   },
   {
    "duration": 13,
    "start_time": "2022-06-20T11:57:08.682Z"
   },
   {
    "duration": 6,
    "start_time": "2022-06-20T11:57:08.696Z"
   },
   {
    "duration": 28,
    "start_time": "2022-06-20T11:57:08.704Z"
   },
   {
    "duration": 5,
    "start_time": "2022-06-20T11:57:08.735Z"
   },
   {
    "duration": 48,
    "start_time": "2022-06-20T11:57:08.742Z"
   },
   {
    "duration": 0,
    "start_time": "2022-06-20T11:57:08.793Z"
   },
   {
    "duration": 0,
    "start_time": "2022-06-20T11:57:08.795Z"
   },
   {
    "duration": 0,
    "start_time": "2022-06-20T11:57:08.796Z"
   },
   {
    "duration": 0,
    "start_time": "2022-06-20T11:57:08.798Z"
   },
   {
    "duration": 0,
    "start_time": "2022-06-20T11:57:08.800Z"
   },
   {
    "duration": 0,
    "start_time": "2022-06-20T11:57:08.801Z"
   },
   {
    "duration": 0,
    "start_time": "2022-06-20T11:57:08.802Z"
   },
   {
    "duration": 0,
    "start_time": "2022-06-20T11:57:08.804Z"
   },
   {
    "duration": 0,
    "start_time": "2022-06-20T11:57:08.805Z"
   },
   {
    "duration": 497,
    "start_time": "2022-06-20T11:57:32.725Z"
   },
   {
    "duration": 22,
    "start_time": "2022-06-20T11:57:33.224Z"
   },
   {
    "duration": 24,
    "start_time": "2022-06-20T11:57:33.247Z"
   },
   {
    "duration": 10,
    "start_time": "2022-06-20T11:57:33.274Z"
   },
   {
    "duration": 50,
    "start_time": "2022-06-20T11:57:33.285Z"
   },
   {
    "duration": 3,
    "start_time": "2022-06-20T11:57:33.337Z"
   },
   {
    "duration": 13,
    "start_time": "2022-06-20T11:57:33.343Z"
   },
   {
    "duration": 13,
    "start_time": "2022-06-20T11:57:33.357Z"
   },
   {
    "duration": 6,
    "start_time": "2022-06-20T11:57:33.372Z"
   },
   {
    "duration": 5,
    "start_time": "2022-06-20T11:57:33.382Z"
   },
   {
    "duration": 58,
    "start_time": "2022-06-20T11:57:33.388Z"
   },
   {
    "duration": 10,
    "start_time": "2022-06-20T11:57:33.448Z"
   },
   {
    "duration": 13,
    "start_time": "2022-06-20T11:57:33.459Z"
   },
   {
    "duration": 21,
    "start_time": "2022-06-20T11:57:33.474Z"
   },
   {
    "duration": 35,
    "start_time": "2022-06-20T11:57:33.497Z"
   },
   {
    "duration": 11,
    "start_time": "2022-06-20T11:57:33.534Z"
   },
   {
    "duration": 9,
    "start_time": "2022-06-20T11:57:33.547Z"
   },
   {
    "duration": 16,
    "start_time": "2022-06-20T11:57:33.558Z"
   },
   {
    "duration": 10,
    "start_time": "2022-06-20T11:57:33.575Z"
   },
   {
    "duration": 4,
    "start_time": "2022-06-20T11:57:33.586Z"
   },
   {
    "duration": 11,
    "start_time": "2022-06-20T11:57:33.592Z"
   },
   {
    "duration": 4,
    "start_time": "2022-06-20T11:57:33.625Z"
   },
   {
    "duration": 26,
    "start_time": "2022-06-20T11:57:33.632Z"
   },
   {
    "duration": 541,
    "start_time": "2022-06-20T11:57:33.661Z"
   },
   {
    "duration": 702,
    "start_time": "2022-06-20T11:57:34.204Z"
   },
   {
    "duration": 24,
    "start_time": "2022-06-20T11:57:34.908Z"
   },
   {
    "duration": 160,
    "start_time": "2022-06-20T11:57:34.934Z"
   },
   {
    "duration": 15,
    "start_time": "2022-06-20T11:57:35.097Z"
   },
   {
    "duration": 132,
    "start_time": "2022-06-20T11:57:35.125Z"
   },
   {
    "duration": 15,
    "start_time": "2022-06-20T11:57:35.259Z"
   },
   {
    "duration": 152,
    "start_time": "2022-06-20T11:57:35.276Z"
   },
   {
    "duration": 100,
    "start_time": "2022-06-20T11:58:46.089Z"
   },
   {
    "duration": 139,
    "start_time": "2022-06-20T11:59:15.762Z"
   },
   {
    "duration": 124,
    "start_time": "2022-06-20T12:00:33.893Z"
   },
   {
    "duration": 146,
    "start_time": "2022-06-20T12:00:40.531Z"
   },
   {
    "duration": 233,
    "start_time": "2022-06-20T12:01:11.157Z"
   },
   {
    "duration": 116,
    "start_time": "2022-06-20T12:01:17.256Z"
   },
   {
    "duration": 547,
    "start_time": "2022-06-20T12:02:37.213Z"
   },
   {
    "duration": 25,
    "start_time": "2022-06-20T12:02:37.763Z"
   },
   {
    "duration": 19,
    "start_time": "2022-06-20T12:02:37.789Z"
   },
   {
    "duration": 27,
    "start_time": "2022-06-20T12:02:37.811Z"
   },
   {
    "duration": 48,
    "start_time": "2022-06-20T12:02:37.840Z"
   },
   {
    "duration": 4,
    "start_time": "2022-06-20T12:02:37.890Z"
   },
   {
    "duration": 33,
    "start_time": "2022-06-20T12:02:37.896Z"
   },
   {
    "duration": 5,
    "start_time": "2022-06-20T12:02:37.931Z"
   },
   {
    "duration": 16,
    "start_time": "2022-06-20T12:02:37.938Z"
   },
   {
    "duration": 6,
    "start_time": "2022-06-20T12:02:37.958Z"
   },
   {
    "duration": 81,
    "start_time": "2022-06-20T12:02:37.966Z"
   },
   {
    "duration": 13,
    "start_time": "2022-06-20T12:02:38.050Z"
   },
   {
    "duration": 12,
    "start_time": "2022-06-20T12:02:38.066Z"
   },
   {
    "duration": 34,
    "start_time": "2022-06-20T12:02:38.080Z"
   },
   {
    "duration": 36,
    "start_time": "2022-06-20T12:02:38.116Z"
   },
   {
    "duration": 19,
    "start_time": "2022-06-20T12:02:38.155Z"
   },
   {
    "duration": 9,
    "start_time": "2022-06-20T12:02:38.177Z"
   },
   {
    "duration": 43,
    "start_time": "2022-06-20T12:02:38.189Z"
   },
   {
    "duration": 9,
    "start_time": "2022-06-20T12:02:38.234Z"
   },
   {
    "duration": 6,
    "start_time": "2022-06-20T12:02:38.246Z"
   },
   {
    "duration": 23,
    "start_time": "2022-06-20T12:02:38.253Z"
   },
   {
    "duration": 15,
    "start_time": "2022-06-20T12:02:38.278Z"
   },
   {
    "duration": 32,
    "start_time": "2022-06-20T12:02:38.296Z"
   },
   {
    "duration": 411,
    "start_time": "2022-06-20T12:02:38.329Z"
   },
   {
    "duration": 708,
    "start_time": "2022-06-20T12:02:38.742Z"
   },
   {
    "duration": 17,
    "start_time": "2022-06-20T12:02:39.452Z"
   },
   {
    "duration": 183,
    "start_time": "2022-06-20T12:02:39.471Z"
   },
   {
    "duration": 18,
    "start_time": "2022-06-20T12:02:39.659Z"
   },
   {
    "duration": 144,
    "start_time": "2022-06-20T12:02:39.678Z"
   },
   {
    "duration": 15,
    "start_time": "2022-06-20T12:02:39.825Z"
   },
   {
    "duration": 134,
    "start_time": "2022-06-20T12:02:39.842Z"
   },
   {
    "duration": 21,
    "start_time": "2022-06-20T12:05:11.620Z"
   },
   {
    "duration": 42,
    "start_time": "2022-06-20T12:10:18.669Z"
   },
   {
    "duration": 9,
    "start_time": "2022-06-20T12:10:25.710Z"
   },
   {
    "duration": 14,
    "start_time": "2022-06-20T12:18:46.802Z"
   },
   {
    "duration": 21,
    "start_time": "2022-06-20T12:18:51.733Z"
   },
   {
    "duration": 929,
    "start_time": "2022-06-20T12:19:44.951Z"
   },
   {
    "duration": 142,
    "start_time": "2022-06-20T12:20:01.084Z"
   },
   {
    "duration": 173,
    "start_time": "2022-06-20T12:20:13.786Z"
   },
   {
    "duration": 6,
    "start_time": "2022-06-20T12:22:42.133Z"
   },
   {
    "duration": 28,
    "start_time": "2022-06-20T12:24:54.422Z"
   },
   {
    "duration": 27,
    "start_time": "2022-06-20T12:25:28.345Z"
   },
   {
    "duration": 25,
    "start_time": "2022-06-20T12:25:40.984Z"
   },
   {
    "duration": 31,
    "start_time": "2022-06-20T12:25:50.950Z"
   },
   {
    "duration": 160,
    "start_time": "2022-06-20T12:25:55.222Z"
   },
   {
    "duration": 68,
    "start_time": "2022-06-20T12:26:16.888Z"
   },
   {
    "duration": 274,
    "start_time": "2022-06-20T12:26:27.940Z"
   },
   {
    "duration": 131,
    "start_time": "2022-06-20T12:26:37.938Z"
   },
   {
    "duration": 126,
    "start_time": "2022-06-20T12:27:21.988Z"
   },
   {
    "duration": 572,
    "start_time": "2022-06-20T12:33:17.006Z"
   },
   {
    "duration": 37,
    "start_time": "2022-06-20T12:33:17.580Z"
   },
   {
    "duration": 27,
    "start_time": "2022-06-20T12:33:17.626Z"
   },
   {
    "duration": 24,
    "start_time": "2022-06-20T12:33:17.656Z"
   },
   {
    "duration": 73,
    "start_time": "2022-06-20T12:33:17.683Z"
   },
   {
    "duration": 6,
    "start_time": "2022-06-20T12:33:17.758Z"
   },
   {
    "duration": 17,
    "start_time": "2022-06-20T12:33:17.766Z"
   },
   {
    "duration": 10,
    "start_time": "2022-06-20T12:33:17.784Z"
   },
   {
    "duration": 31,
    "start_time": "2022-06-20T12:33:17.795Z"
   },
   {
    "duration": 7,
    "start_time": "2022-06-20T12:33:17.829Z"
   },
   {
    "duration": 59,
    "start_time": "2022-06-20T12:33:17.837Z"
   },
   {
    "duration": 33,
    "start_time": "2022-06-20T12:33:17.899Z"
   },
   {
    "duration": 5,
    "start_time": "2022-06-20T12:33:17.934Z"
   },
   {
    "duration": 39,
    "start_time": "2022-06-20T12:33:17.941Z"
   },
   {
    "duration": 21,
    "start_time": "2022-06-20T12:33:17.982Z"
   },
   {
    "duration": 33,
    "start_time": "2022-06-20T12:33:18.006Z"
   },
   {
    "duration": 15,
    "start_time": "2022-06-20T12:33:18.041Z"
   },
   {
    "duration": 29,
    "start_time": "2022-06-20T12:33:18.058Z"
   },
   {
    "duration": 12,
    "start_time": "2022-06-20T12:33:18.090Z"
   },
   {
    "duration": 14,
    "start_time": "2022-06-20T12:33:18.105Z"
   },
   {
    "duration": 16,
    "start_time": "2022-06-20T12:33:18.121Z"
   },
   {
    "duration": 19,
    "start_time": "2022-06-20T12:33:18.140Z"
   },
   {
    "duration": 46,
    "start_time": "2022-06-20T12:33:18.161Z"
   },
   {
    "duration": 439,
    "start_time": "2022-06-20T12:33:18.210Z"
   },
   {
    "duration": 706,
    "start_time": "2022-06-20T12:33:18.652Z"
   },
   {
    "duration": 21,
    "start_time": "2022-06-20T12:33:19.360Z"
   },
   {
    "duration": 163,
    "start_time": "2022-06-20T12:33:19.384Z"
   },
   {
    "duration": 17,
    "start_time": "2022-06-20T12:33:19.550Z"
   },
   {
    "duration": 151,
    "start_time": "2022-06-20T12:33:19.570Z"
   },
   {
    "duration": 19,
    "start_time": "2022-06-20T12:33:19.726Z"
   },
   {
    "duration": 159,
    "start_time": "2022-06-20T12:33:19.747Z"
   },
   {
    "duration": 460,
    "start_time": "2022-06-20T13:10:40.119Z"
   },
   {
    "duration": 21,
    "start_time": "2022-06-20T13:10:40.580Z"
   },
   {
    "duration": 15,
    "start_time": "2022-06-20T13:10:40.602Z"
   },
   {
    "duration": 9,
    "start_time": "2022-06-20T13:10:40.619Z"
   },
   {
    "duration": 31,
    "start_time": "2022-06-20T13:10:40.629Z"
   },
   {
    "duration": 4,
    "start_time": "2022-06-20T13:10:40.662Z"
   },
   {
    "duration": 31,
    "start_time": "2022-06-20T13:10:40.668Z"
   },
   {
    "duration": 5,
    "start_time": "2022-06-20T13:10:40.700Z"
   },
   {
    "duration": 8,
    "start_time": "2022-06-20T13:10:40.707Z"
   },
   {
    "duration": 3,
    "start_time": "2022-06-20T13:10:40.720Z"
   },
   {
    "duration": 32,
    "start_time": "2022-06-20T13:10:40.725Z"
   },
   {
    "duration": 9,
    "start_time": "2022-06-20T13:10:40.759Z"
   },
   {
    "duration": 4,
    "start_time": "2022-06-20T13:10:40.794Z"
   },
   {
    "duration": 18,
    "start_time": "2022-06-20T13:10:40.800Z"
   },
   {
    "duration": 15,
    "start_time": "2022-06-20T13:10:40.819Z"
   },
   {
    "duration": 9,
    "start_time": "2022-06-20T13:10:40.836Z"
   },
   {
    "duration": 4,
    "start_time": "2022-06-20T13:10:40.847Z"
   },
   {
    "duration": 15,
    "start_time": "2022-06-20T13:10:40.853Z"
   },
   {
    "duration": 26,
    "start_time": "2022-06-20T13:10:40.869Z"
   },
   {
    "duration": 4,
    "start_time": "2022-06-20T13:10:40.897Z"
   },
   {
    "duration": 14,
    "start_time": "2022-06-20T13:10:40.902Z"
   },
   {
    "duration": 11,
    "start_time": "2022-06-20T13:10:40.918Z"
   },
   {
    "duration": 13,
    "start_time": "2022-06-20T13:10:40.931Z"
   },
   {
    "duration": 349,
    "start_time": "2022-06-20T13:10:40.946Z"
   },
   {
    "duration": 539,
    "start_time": "2022-06-20T13:10:41.297Z"
   },
   {
    "duration": 13,
    "start_time": "2022-06-20T13:10:41.837Z"
   },
   {
    "duration": 112,
    "start_time": "2022-06-20T13:10:41.851Z"
   },
   {
    "duration": 11,
    "start_time": "2022-06-20T13:10:41.965Z"
   },
   {
    "duration": 108,
    "start_time": "2022-06-20T13:10:41.977Z"
   },
   {
    "duration": 18,
    "start_time": "2022-06-20T13:10:42.086Z"
   },
   {
    "duration": 102,
    "start_time": "2022-06-20T13:10:42.105Z"
   },
   {
    "duration": 593,
    "start_time": "2022-06-21T19:59:33.451Z"
   },
   {
    "duration": 25,
    "start_time": "2022-06-21T19:59:34.046Z"
   },
   {
    "duration": 26,
    "start_time": "2022-06-21T19:59:34.074Z"
   },
   {
    "duration": 11,
    "start_time": "2022-06-21T19:59:34.103Z"
   },
   {
    "duration": 53,
    "start_time": "2022-06-21T19:59:34.115Z"
   },
   {
    "duration": 8,
    "start_time": "2022-06-21T19:59:34.176Z"
   },
   {
    "duration": 10,
    "start_time": "2022-06-21T19:59:34.186Z"
   },
   {
    "duration": 4,
    "start_time": "2022-06-21T19:59:34.198Z"
   },
   {
    "duration": 8,
    "start_time": "2022-06-21T19:59:34.204Z"
   },
   {
    "duration": 5,
    "start_time": "2022-06-21T19:59:34.216Z"
   },
   {
    "duration": 61,
    "start_time": "2022-06-21T19:59:34.222Z"
   },
   {
    "duration": 11,
    "start_time": "2022-06-21T19:59:34.287Z"
   },
   {
    "duration": 4,
    "start_time": "2022-06-21T19:59:34.300Z"
   },
   {
    "duration": 19,
    "start_time": "2022-06-21T19:59:34.306Z"
   },
   {
    "duration": 56,
    "start_time": "2022-06-21T19:59:34.326Z"
   },
   {
    "duration": 11,
    "start_time": "2022-06-21T19:59:34.386Z"
   },
   {
    "duration": 6,
    "start_time": "2022-06-21T19:59:34.399Z"
   },
   {
    "duration": 14,
    "start_time": "2022-06-21T19:59:34.406Z"
   },
   {
    "duration": 10,
    "start_time": "2022-06-21T19:59:34.422Z"
   },
   {
    "duration": 3,
    "start_time": "2022-06-21T19:59:34.434Z"
   },
   {
    "duration": 32,
    "start_time": "2022-06-21T19:59:34.438Z"
   },
   {
    "duration": 5,
    "start_time": "2022-06-21T19:59:34.473Z"
   },
   {
    "duration": 17,
    "start_time": "2022-06-21T19:59:34.480Z"
   },
   {
    "duration": 619,
    "start_time": "2022-06-21T19:59:34.499Z"
   },
   {
    "duration": 679,
    "start_time": "2022-06-21T19:59:35.120Z"
   },
   {
    "duration": 15,
    "start_time": "2022-06-21T19:59:35.801Z"
   },
   {
    "duration": 160,
    "start_time": "2022-06-21T19:59:35.818Z"
   },
   {
    "duration": 29,
    "start_time": "2022-06-21T19:59:35.984Z"
   },
   {
    "duration": 144,
    "start_time": "2022-06-21T19:59:36.016Z"
   },
   {
    "duration": 18,
    "start_time": "2022-06-21T19:59:36.168Z"
   },
   {
    "duration": 129,
    "start_time": "2022-06-21T19:59:36.192Z"
   },
   {
    "duration": 148,
    "start_time": "2022-06-21T20:00:52.098Z"
   },
   {
    "duration": 129,
    "start_time": "2022-06-21T20:01:15.306Z"
   },
   {
    "duration": 211,
    "start_time": "2022-06-21T20:02:32.136Z"
   },
   {
    "duration": 123,
    "start_time": "2022-06-21T20:03:00.218Z"
   },
   {
    "duration": 23,
    "start_time": "2022-06-21T20:04:48.486Z"
   },
   {
    "duration": 94,
    "start_time": "2022-06-21T20:17:34.152Z"
   },
   {
    "duration": 15,
    "start_time": "2022-06-21T20:17:39.036Z"
   },
   {
    "duration": 7,
    "start_time": "2022-06-21T20:18:14.280Z"
   },
   {
    "duration": 32,
    "start_time": "2022-06-21T20:18:22.742Z"
   },
   {
    "duration": 19,
    "start_time": "2022-06-21T20:18:56.874Z"
   },
   {
    "duration": 12,
    "start_time": "2022-06-21T20:20:15.696Z"
   },
   {
    "duration": 30,
    "start_time": "2022-06-21T20:20:47.586Z"
   },
   {
    "duration": 9,
    "start_time": "2022-06-21T20:21:44.476Z"
   },
   {
    "duration": 24,
    "start_time": "2022-06-21T20:21:55.589Z"
   },
   {
    "duration": 14,
    "start_time": "2022-06-21T20:22:02.851Z"
   },
   {
    "duration": 33,
    "start_time": "2022-06-21T20:22:14.033Z"
   },
   {
    "duration": 3,
    "start_time": "2022-06-21T20:22:50.048Z"
   },
   {
    "duration": 6,
    "start_time": "2022-06-21T20:23:03.189Z"
   },
   {
    "duration": 10,
    "start_time": "2022-06-21T20:23:21.591Z"
   },
   {
    "duration": 22,
    "start_time": "2022-06-21T20:23:47.713Z"
   },
   {
    "duration": 27,
    "start_time": "2022-06-21T20:24:05.919Z"
   },
   {
    "duration": 25,
    "start_time": "2022-06-21T20:25:32.999Z"
   },
   {
    "duration": 7,
    "start_time": "2022-06-21T20:25:44.805Z"
   },
   {
    "duration": 11,
    "start_time": "2022-06-21T20:26:40.549Z"
   },
   {
    "duration": 9,
    "start_time": "2022-06-21T20:26:50.588Z"
   },
   {
    "duration": 4,
    "start_time": "2022-06-21T20:27:44.601Z"
   },
   {
    "duration": 26,
    "start_time": "2022-06-21T20:27:50.588Z"
   },
   {
    "duration": 3,
    "start_time": "2022-06-21T20:27:55.816Z"
   },
   {
    "duration": 11,
    "start_time": "2022-06-21T20:28:32.987Z"
   },
   {
    "duration": 33,
    "start_time": "2022-06-21T20:28:43.547Z"
   },
   {
    "duration": 2,
    "start_time": "2022-06-21T20:28:47.380Z"
   },
   {
    "duration": 14,
    "start_time": "2022-06-21T20:28:48.483Z"
   },
   {
    "duration": 32,
    "start_time": "2022-06-21T20:29:28.955Z"
   },
   {
    "duration": 12,
    "start_time": "2022-06-21T20:29:44.745Z"
   },
   {
    "duration": 18,
    "start_time": "2022-06-21T20:30:11.723Z"
   },
   {
    "duration": 13,
    "start_time": "2022-06-21T20:30:35.700Z"
   },
   {
    "duration": 106,
    "start_time": "2022-06-21T20:30:45.737Z"
   },
   {
    "duration": 101,
    "start_time": "2022-06-21T20:31:47.202Z"
   },
   {
    "duration": 20,
    "start_time": "2022-06-21T20:31:58.692Z"
   },
   {
    "duration": 4,
    "start_time": "2022-06-21T20:32:02.914Z"
   },
   {
    "duration": 10,
    "start_time": "2022-06-21T20:32:04.768Z"
   },
   {
    "duration": 91,
    "start_time": "2022-06-21T20:32:15.466Z"
   },
   {
    "duration": 3,
    "start_time": "2022-06-21T20:32:20.297Z"
   },
   {
    "duration": 13,
    "start_time": "2022-06-21T20:32:21.029Z"
   },
   {
    "duration": 90,
    "start_time": "2022-06-21T20:32:31.676Z"
   },
   {
    "duration": 4,
    "start_time": "2022-06-21T20:32:34.598Z"
   },
   {
    "duration": 10,
    "start_time": "2022-06-21T20:32:34.837Z"
   },
   {
    "duration": 111,
    "start_time": "2022-06-21T20:32:56.641Z"
   },
   {
    "duration": 12,
    "start_time": "2022-06-21T20:34:06.206Z"
   },
   {
    "duration": 8,
    "start_time": "2022-06-21T20:34:09.956Z"
   },
   {
    "duration": 8,
    "start_time": "2022-06-21T20:34:28.097Z"
   },
   {
    "duration": 183,
    "start_time": "2022-06-21T20:34:28.696Z"
   },
   {
    "duration": 178,
    "start_time": "2022-06-21T20:34:50.338Z"
   },
   {
    "duration": 497,
    "start_time": "2022-06-21T20:35:35.444Z"
   },
   {
    "duration": 23,
    "start_time": "2022-06-21T20:35:35.943Z"
   },
   {
    "duration": 18,
    "start_time": "2022-06-21T20:35:35.968Z"
   },
   {
    "duration": 10,
    "start_time": "2022-06-21T20:35:35.988Z"
   },
   {
    "duration": 32,
    "start_time": "2022-06-21T20:35:35.999Z"
   },
   {
    "duration": 21,
    "start_time": "2022-06-21T20:35:36.033Z"
   },
   {
    "duration": 10,
    "start_time": "2022-06-21T20:35:36.055Z"
   },
   {
    "duration": 4,
    "start_time": "2022-06-21T20:35:36.066Z"
   },
   {
    "duration": 10,
    "start_time": "2022-06-21T20:35:36.071Z"
   },
   {
    "duration": 3,
    "start_time": "2022-06-21T20:35:36.085Z"
   },
   {
    "duration": 35,
    "start_time": "2022-06-21T20:35:36.090Z"
   },
   {
    "duration": 35,
    "start_time": "2022-06-21T20:35:36.126Z"
   },
   {
    "duration": 4,
    "start_time": "2022-06-21T20:35:36.162Z"
   },
   {
    "duration": 19,
    "start_time": "2022-06-21T20:35:36.167Z"
   },
   {
    "duration": 15,
    "start_time": "2022-06-21T20:35:36.188Z"
   },
   {
    "duration": 11,
    "start_time": "2022-06-21T20:35:36.204Z"
   },
   {
    "duration": 3,
    "start_time": "2022-06-21T20:35:36.217Z"
   },
   {
    "duration": 40,
    "start_time": "2022-06-21T20:35:36.221Z"
   },
   {
    "duration": 5,
    "start_time": "2022-06-21T20:35:36.262Z"
   },
   {
    "duration": 4,
    "start_time": "2022-06-21T20:35:36.268Z"
   },
   {
    "duration": 11,
    "start_time": "2022-06-21T20:35:36.273Z"
   },
   {
    "duration": 5,
    "start_time": "2022-06-21T20:35:36.286Z"
   },
   {
    "duration": 14,
    "start_time": "2022-06-21T20:35:36.293Z"
   },
   {
    "duration": 475,
    "start_time": "2022-06-21T20:35:36.309Z"
   },
   {
    "duration": 575,
    "start_time": "2022-06-21T20:35:36.785Z"
   },
   {
    "duration": 15,
    "start_time": "2022-06-21T20:35:37.362Z"
   },
   {
    "duration": 135,
    "start_time": "2022-06-21T20:35:37.379Z"
   },
   {
    "duration": 13,
    "start_time": "2022-06-21T20:35:37.517Z"
   },
   {
    "duration": 107,
    "start_time": "2022-06-21T20:35:37.531Z"
   },
   {
    "duration": 14,
    "start_time": "2022-06-21T20:35:37.652Z"
   },
   {
    "duration": 118,
    "start_time": "2022-06-21T20:35:37.667Z"
   }
  ],
  "colab": {
   "name": "dpp_template_part2.ipynb",
   "provenance": []
  },
  "kernelspec": {
   "display_name": "Python 3 (ipykernel)",
   "language": "python",
   "name": "python3"
  },
  "language_info": {
   "codemirror_mode": {
    "name": "ipython",
    "version": 3
   },
   "file_extension": ".py",
   "mimetype": "text/x-python",
   "name": "python",
   "nbconvert_exporter": "python",
   "pygments_lexer": "ipython3",
   "version": "3.9.5"
  },
  "toc": {
   "base_numbering": 1,
   "nav_menu": {},
   "number_sections": true,
   "sideBar": true,
   "skip_h1_title": true,
   "title_cell": "Table of Contents",
   "title_sidebar": "Contents",
   "toc_cell": false,
   "toc_position": {},
   "toc_section_display": true,
   "toc_window_display": false
  }
 },
 "nbformat": 4,
 "nbformat_minor": 5
}
