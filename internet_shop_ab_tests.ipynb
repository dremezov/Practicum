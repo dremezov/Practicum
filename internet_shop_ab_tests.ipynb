{
 "cells": [
  {
   "cell_type": "markdown",
   "metadata": {},
   "source": [
    "# Анализ гипотез интернет-магазина\n",
    "\n",
    "В проекте две части.\n",
    "\n",
    "В первой - проведем приоритезацию гипотез. Будем использовать фреймворки ICE и RICE. В результате: определим те гипотезы, которые стоит проверить в первую очередь, и те, что можно не проверять совсем.\n",
    "\n",
    "Во второй части проанализируем результаты A/B теста:\n",
    "- рассмотрим кулумятивные показатели выручки, среднего чека и конверсии;\n",
    "- найдем посетителей сайта с аномально высоким чеком и большим количеством заказов;\n",
    "- проверим гипотезы о равенстве конверсий и средних чеков в группах A и B."
   ]
  },
  {
   "cell_type": "markdown",
   "metadata": {},
   "source": [
    "## Приоритезация гипотез"
   ]
  },
  {
   "cell_type": "markdown",
   "metadata": {},
   "source": [
    "### Предобработка данных\n",
    "\n",
    "Загрузим необходимые библиотеки и исходные данные"
   ]
  },
  {
   "cell_type": "code",
   "execution_count": 1,
   "metadata": {},
   "outputs": [],
   "source": [
    "import numpy as np\n",
    "import pandas as pd\n",
    "import matplotlib.pyplot as plt\n",
    "import seaborn as sns\n",
    "import datetime as dt\n",
    "import scipy.stats as stats"
   ]
  },
  {
   "cell_type": "code",
   "execution_count": 2,
   "metadata": {},
   "outputs": [],
   "source": [
    "df = pd.read_csv('https://code.s3.yandex.net/datasets/hypothesis.csv')"
   ]
  },
  {
   "cell_type": "markdown",
   "metadata": {},
   "source": [
    "Посмотрим на наш датафрейм"
   ]
  },
  {
   "cell_type": "code",
   "execution_count": 3,
   "metadata": {},
   "outputs": [
    {
     "data": {
      "text/html": [
       "<div>\n",
       "<style scoped>\n",
       "    .dataframe tbody tr th:only-of-type {\n",
       "        vertical-align: middle;\n",
       "    }\n",
       "\n",
       "    .dataframe tbody tr th {\n",
       "        vertical-align: top;\n",
       "    }\n",
       "\n",
       "    .dataframe thead th {\n",
       "        text-align: right;\n",
       "    }\n",
       "</style>\n",
       "<table border=\"1\" class=\"dataframe\">\n",
       "  <thead>\n",
       "    <tr style=\"text-align: right;\">\n",
       "      <th></th>\n",
       "      <th>Hypothesis</th>\n",
       "      <th>Reach</th>\n",
       "      <th>Impact</th>\n",
       "      <th>Confidence</th>\n",
       "      <th>Efforts</th>\n",
       "    </tr>\n",
       "  </thead>\n",
       "  <tbody>\n",
       "    <tr>\n",
       "      <th>0</th>\n",
       "      <td>Добавить два новых канала привлечения трафика, что позволит привлекать на 30% больше пользователей</td>\n",
       "      <td>3</td>\n",
       "      <td>10</td>\n",
       "      <td>8</td>\n",
       "      <td>6</td>\n",
       "    </tr>\n",
       "    <tr>\n",
       "      <th>1</th>\n",
       "      <td>Запустить собственную службу доставки, что сократит срок доставки заказов</td>\n",
       "      <td>2</td>\n",
       "      <td>5</td>\n",
       "      <td>4</td>\n",
       "      <td>10</td>\n",
       "    </tr>\n",
       "    <tr>\n",
       "      <th>2</th>\n",
       "      <td>Добавить блоки рекомендаций товаров на сайт интернет магазина, чтобы повысить конверсию и средний чек заказа</td>\n",
       "      <td>8</td>\n",
       "      <td>3</td>\n",
       "      <td>7</td>\n",
       "      <td>3</td>\n",
       "    </tr>\n",
       "    <tr>\n",
       "      <th>3</th>\n",
       "      <td>Изменить структура категорий, что увеличит конверсию, т.к. пользователи быстрее найдут нужный товар</td>\n",
       "      <td>8</td>\n",
       "      <td>3</td>\n",
       "      <td>3</td>\n",
       "      <td>8</td>\n",
       "    </tr>\n",
       "    <tr>\n",
       "      <th>4</th>\n",
       "      <td>Изменить цвет фона главной страницы, чтобы увеличить вовлеченность пользователей</td>\n",
       "      <td>3</td>\n",
       "      <td>1</td>\n",
       "      <td>1</td>\n",
       "      <td>1</td>\n",
       "    </tr>\n",
       "    <tr>\n",
       "      <th>5</th>\n",
       "      <td>Добавить страницу отзывов клиентов о магазине, что позволит увеличить количество заказов</td>\n",
       "      <td>3</td>\n",
       "      <td>2</td>\n",
       "      <td>2</td>\n",
       "      <td>3</td>\n",
       "    </tr>\n",
       "    <tr>\n",
       "      <th>6</th>\n",
       "      <td>Показать на главной странице баннеры с актуальными акциями и распродажами, чтобы увеличить конверсию</td>\n",
       "      <td>5</td>\n",
       "      <td>3</td>\n",
       "      <td>8</td>\n",
       "      <td>3</td>\n",
       "    </tr>\n",
       "    <tr>\n",
       "      <th>7</th>\n",
       "      <td>Добавить форму подписки на все основные страницы, чтобы собрать базу клиентов для email-рассылок</td>\n",
       "      <td>10</td>\n",
       "      <td>7</td>\n",
       "      <td>8</td>\n",
       "      <td>5</td>\n",
       "    </tr>\n",
       "    <tr>\n",
       "      <th>8</th>\n",
       "      <td>Запустить акцию, дающую скидку на товар в день рождения</td>\n",
       "      <td>1</td>\n",
       "      <td>9</td>\n",
       "      <td>9</td>\n",
       "      <td>5</td>\n",
       "    </tr>\n",
       "  </tbody>\n",
       "</table>\n",
       "</div>"
      ],
      "text/plain": [
       "                                                                                                     Hypothesis  \\\n",
       "0  Добавить два новых канала привлечения трафика, что позволит привлекать на 30% больше пользователей             \n",
       "1  Запустить собственную службу доставки, что сократит срок доставки заказов                                      \n",
       "2  Добавить блоки рекомендаций товаров на сайт интернет магазина, чтобы повысить конверсию и средний чек заказа   \n",
       "3  Изменить структура категорий, что увеличит конверсию, т.к. пользователи быстрее найдут нужный товар            \n",
       "4  Изменить цвет фона главной страницы, чтобы увеличить вовлеченность пользователей                               \n",
       "5  Добавить страницу отзывов клиентов о магазине, что позволит увеличить количество заказов                       \n",
       "6  Показать на главной странице баннеры с актуальными акциями и распродажами, чтобы увеличить конверсию           \n",
       "7  Добавить форму подписки на все основные страницы, чтобы собрать базу клиентов для email-рассылок               \n",
       "8  Запустить акцию, дающую скидку на товар в день рождения                                                        \n",
       "\n",
       "   Reach  Impact  Confidence  Efforts  \n",
       "0  3      10      8           6        \n",
       "1  2      5       4           10       \n",
       "2  8      3       7           3        \n",
       "3  8      3       3           8        \n",
       "4  3      1       1           1        \n",
       "5  3      2       2           3        \n",
       "6  5      3       8           3        \n",
       "7  10     7       8           5        \n",
       "8  1      9       9           5        "
      ]
     },
     "execution_count": 3,
     "metadata": {},
     "output_type": "execute_result"
    }
   ],
   "source": [
    "# отображаем первую колонку полностью\n",
    "pd.set_option('display.max_colwidth', 0)\n",
    "\n",
    "df"
   ]
  },
  {
   "cell_type": "code",
   "execution_count": 4,
   "metadata": {},
   "outputs": [
    {
     "name": "stdout",
     "output_type": "stream",
     "text": [
      "<class 'pandas.core.frame.DataFrame'>\n",
      "RangeIndex: 9 entries, 0 to 8\n",
      "Data columns (total 5 columns):\n",
      " #   Column      Non-Null Count  Dtype \n",
      "---  ------      --------------  ----- \n",
      " 0   Hypothesis  9 non-null      object\n",
      " 1   Reach       9 non-null      int64 \n",
      " 2   Impact      9 non-null      int64 \n",
      " 3   Confidence  9 non-null      int64 \n",
      " 4   Efforts     9 non-null      int64 \n",
      "dtypes: int64(4), object(1)\n",
      "memory usage: 488.0+ bytes\n"
     ]
    }
   ],
   "source": [
    "df.info()"
   ]
  },
  {
   "cell_type": "code",
   "execution_count": 5,
   "metadata": {},
   "outputs": [
    {
     "data": {
      "text/html": [
       "<div>\n",
       "<style scoped>\n",
       "    .dataframe tbody tr th:only-of-type {\n",
       "        vertical-align: middle;\n",
       "    }\n",
       "\n",
       "    .dataframe tbody tr th {\n",
       "        vertical-align: top;\n",
       "    }\n",
       "\n",
       "    .dataframe thead th {\n",
       "        text-align: right;\n",
       "    }\n",
       "</style>\n",
       "<table border=\"1\" class=\"dataframe\">\n",
       "  <thead>\n",
       "    <tr style=\"text-align: right;\">\n",
       "      <th></th>\n",
       "      <th>count</th>\n",
       "      <th>mean</th>\n",
       "      <th>std</th>\n",
       "      <th>min</th>\n",
       "      <th>25%</th>\n",
       "      <th>50%</th>\n",
       "      <th>75%</th>\n",
       "      <th>max</th>\n",
       "    </tr>\n",
       "  </thead>\n",
       "  <tbody>\n",
       "    <tr>\n",
       "      <th>Reach</th>\n",
       "      <td>9.0</td>\n",
       "      <td>4.777778</td>\n",
       "      <td>3.153481</td>\n",
       "      <td>1.0</td>\n",
       "      <td>3.0</td>\n",
       "      <td>3.0</td>\n",
       "      <td>8.0</td>\n",
       "      <td>10.0</td>\n",
       "    </tr>\n",
       "    <tr>\n",
       "      <th>Impact</th>\n",
       "      <td>9.0</td>\n",
       "      <td>4.777778</td>\n",
       "      <td>3.192874</td>\n",
       "      <td>1.0</td>\n",
       "      <td>3.0</td>\n",
       "      <td>3.0</td>\n",
       "      <td>7.0</td>\n",
       "      <td>10.0</td>\n",
       "    </tr>\n",
       "    <tr>\n",
       "      <th>Confidence</th>\n",
       "      <td>9.0</td>\n",
       "      <td>5.555556</td>\n",
       "      <td>3.045944</td>\n",
       "      <td>1.0</td>\n",
       "      <td>3.0</td>\n",
       "      <td>7.0</td>\n",
       "      <td>8.0</td>\n",
       "      <td>9.0</td>\n",
       "    </tr>\n",
       "    <tr>\n",
       "      <th>Efforts</th>\n",
       "      <td>9.0</td>\n",
       "      <td>4.888889</td>\n",
       "      <td>2.803767</td>\n",
       "      <td>1.0</td>\n",
       "      <td>3.0</td>\n",
       "      <td>5.0</td>\n",
       "      <td>6.0</td>\n",
       "      <td>10.0</td>\n",
       "    </tr>\n",
       "  </tbody>\n",
       "</table>\n",
       "</div>"
      ],
      "text/plain": [
       "            count      mean       std  min  25%  50%  75%   max\n",
       "Reach       9.0    4.777778  3.153481  1.0  3.0  3.0  8.0  10.0\n",
       "Impact      9.0    4.777778  3.192874  1.0  3.0  3.0  7.0  10.0\n",
       "Confidence  9.0    5.555556  3.045944  1.0  3.0  7.0  8.0  9.0 \n",
       "Efforts     9.0    4.888889  2.803767  1.0  3.0  5.0  6.0  10.0"
      ]
     },
     "execution_count": 5,
     "metadata": {},
     "output_type": "execute_result"
    }
   ],
   "source": [
    "df.describe().T"
   ]
  },
  {
   "cell_type": "markdown",
   "metadata": {},
   "source": [
    "- Датафрейм небольшой - всего 9 строк;\n",
    "- Из названий столбцов можно было бы убрать заглавные буквы, но задачи, которые мы будем дальше решать, этого не требуют.\n",
    "- Пропусков в данных нет;\n",
    "- Значения распределены от 0 до 10, что тоже соответствует применению фреймворков ICE/RICE;\n",
    "- С типами переменных тоже все в порядке."
   ]
  },
  {
   "cell_type": "markdown",
   "metadata": {},
   "source": [
    "### Приоритетность по ICE"
   ]
  },
  {
   "cell_type": "code",
   "execution_count": 6,
   "metadata": {},
   "outputs": [],
   "source": [
    "df['ICE'] = df['Impact'] * df['Confidence'] / df['Efforts']"
   ]
  },
  {
   "cell_type": "code",
   "execution_count": 7,
   "metadata": {},
   "outputs": [
    {
     "data": {
      "text/html": [
       "<div>\n",
       "<style scoped>\n",
       "    .dataframe tbody tr th:only-of-type {\n",
       "        vertical-align: middle;\n",
       "    }\n",
       "\n",
       "    .dataframe tbody tr th {\n",
       "        vertical-align: top;\n",
       "    }\n",
       "\n",
       "    .dataframe thead th {\n",
       "        text-align: right;\n",
       "    }\n",
       "</style>\n",
       "<table border=\"1\" class=\"dataframe\">\n",
       "  <thead>\n",
       "    <tr style=\"text-align: right;\">\n",
       "      <th></th>\n",
       "      <th>Hypothesis</th>\n",
       "      <th>ICE</th>\n",
       "    </tr>\n",
       "  </thead>\n",
       "  <tbody>\n",
       "    <tr>\n",
       "      <th>8</th>\n",
       "      <td>Запустить акцию, дающую скидку на товар в день рождения</td>\n",
       "      <td>16.200000</td>\n",
       "    </tr>\n",
       "    <tr>\n",
       "      <th>0</th>\n",
       "      <td>Добавить два новых канала привлечения трафика, что позволит привлекать на 30% больше пользователей</td>\n",
       "      <td>13.333333</td>\n",
       "    </tr>\n",
       "    <tr>\n",
       "      <th>7</th>\n",
       "      <td>Добавить форму подписки на все основные страницы, чтобы собрать базу клиентов для email-рассылок</td>\n",
       "      <td>11.200000</td>\n",
       "    </tr>\n",
       "    <tr>\n",
       "      <th>6</th>\n",
       "      <td>Показать на главной странице баннеры с актуальными акциями и распродажами, чтобы увеличить конверсию</td>\n",
       "      <td>8.000000</td>\n",
       "    </tr>\n",
       "    <tr>\n",
       "      <th>2</th>\n",
       "      <td>Добавить блоки рекомендаций товаров на сайт интернет магазина, чтобы повысить конверсию и средний чек заказа</td>\n",
       "      <td>7.000000</td>\n",
       "    </tr>\n",
       "    <tr>\n",
       "      <th>1</th>\n",
       "      <td>Запустить собственную службу доставки, что сократит срок доставки заказов</td>\n",
       "      <td>2.000000</td>\n",
       "    </tr>\n",
       "    <tr>\n",
       "      <th>5</th>\n",
       "      <td>Добавить страницу отзывов клиентов о магазине, что позволит увеличить количество заказов</td>\n",
       "      <td>1.333333</td>\n",
       "    </tr>\n",
       "    <tr>\n",
       "      <th>3</th>\n",
       "      <td>Изменить структура категорий, что увеличит конверсию, т.к. пользователи быстрее найдут нужный товар</td>\n",
       "      <td>1.125000</td>\n",
       "    </tr>\n",
       "    <tr>\n",
       "      <th>4</th>\n",
       "      <td>Изменить цвет фона главной страницы, чтобы увеличить вовлеченность пользователей</td>\n",
       "      <td>1.000000</td>\n",
       "    </tr>\n",
       "  </tbody>\n",
       "</table>\n",
       "</div>"
      ],
      "text/plain": [
       "                                                                                                     Hypothesis  \\\n",
       "8  Запустить акцию, дающую скидку на товар в день рождения                                                        \n",
       "0  Добавить два новых канала привлечения трафика, что позволит привлекать на 30% больше пользователей             \n",
       "7  Добавить форму подписки на все основные страницы, чтобы собрать базу клиентов для email-рассылок               \n",
       "6  Показать на главной странице баннеры с актуальными акциями и распродажами, чтобы увеличить конверсию           \n",
       "2  Добавить блоки рекомендаций товаров на сайт интернет магазина, чтобы повысить конверсию и средний чек заказа   \n",
       "1  Запустить собственную службу доставки, что сократит срок доставки заказов                                      \n",
       "5  Добавить страницу отзывов клиентов о магазине, что позволит увеличить количество заказов                       \n",
       "3  Изменить структура категорий, что увеличит конверсию, т.к. пользователи быстрее найдут нужный товар            \n",
       "4  Изменить цвет фона главной страницы, чтобы увеличить вовлеченность пользователей                               \n",
       "\n",
       "         ICE  \n",
       "8  16.200000  \n",
       "0  13.333333  \n",
       "7  11.200000  \n",
       "6  8.000000   \n",
       "2  7.000000   \n",
       "1  2.000000   \n",
       "5  1.333333   \n",
       "3  1.125000   \n",
       "4  1.000000   "
      ]
     },
     "execution_count": 7,
     "metadata": {},
     "output_type": "execute_result"
    }
   ],
   "source": [
    "df[['Hypothesis', 'ICE']].sort_values(by='ICE', ascending=False)"
   ]
  },
  {
   "cell_type": "markdown",
   "metadata": {},
   "source": [
    "ТОП-3 приоритетные гипотезы, согласно расчету по ICE:\n",
    "1. Запустить акцию, дающую скидку на товар в день рождения;\n",
    "2. Добавить два новых канала привлечения трафика, что позволит привлекать на 30% больше пользователей;\n",
    "3. Добавить форму подписки на все основные страницы, чтобы собрать базу клиентов для email-рассылок.\n",
    "\n",
    "### Приоритетность по RICE"
   ]
  },
  {
   "cell_type": "code",
   "execution_count": 8,
   "metadata": {},
   "outputs": [
    {
     "data": {
      "text/html": [
       "<div>\n",
       "<style scoped>\n",
       "    .dataframe tbody tr th:only-of-type {\n",
       "        vertical-align: middle;\n",
       "    }\n",
       "\n",
       "    .dataframe tbody tr th {\n",
       "        vertical-align: top;\n",
       "    }\n",
       "\n",
       "    .dataframe thead th {\n",
       "        text-align: right;\n",
       "    }\n",
       "</style>\n",
       "<table border=\"1\" class=\"dataframe\">\n",
       "  <thead>\n",
       "    <tr style=\"text-align: right;\">\n",
       "      <th></th>\n",
       "      <th>Hypothesis</th>\n",
       "      <th>RICE</th>\n",
       "    </tr>\n",
       "  </thead>\n",
       "  <tbody>\n",
       "    <tr>\n",
       "      <th>7</th>\n",
       "      <td>Добавить форму подписки на все основные страницы, чтобы собрать базу клиентов для email-рассылок</td>\n",
       "      <td>112.0</td>\n",
       "    </tr>\n",
       "    <tr>\n",
       "      <th>2</th>\n",
       "      <td>Добавить блоки рекомендаций товаров на сайт интернет магазина, чтобы повысить конверсию и средний чек заказа</td>\n",
       "      <td>56.0</td>\n",
       "    </tr>\n",
       "    <tr>\n",
       "      <th>0</th>\n",
       "      <td>Добавить два новых канала привлечения трафика, что позволит привлекать на 30% больше пользователей</td>\n",
       "      <td>40.0</td>\n",
       "    </tr>\n",
       "    <tr>\n",
       "      <th>6</th>\n",
       "      <td>Показать на главной странице баннеры с актуальными акциями и распродажами, чтобы увеличить конверсию</td>\n",
       "      <td>40.0</td>\n",
       "    </tr>\n",
       "    <tr>\n",
       "      <th>8</th>\n",
       "      <td>Запустить акцию, дающую скидку на товар в день рождения</td>\n",
       "      <td>16.2</td>\n",
       "    </tr>\n",
       "    <tr>\n",
       "      <th>3</th>\n",
       "      <td>Изменить структура категорий, что увеличит конверсию, т.к. пользователи быстрее найдут нужный товар</td>\n",
       "      <td>9.0</td>\n",
       "    </tr>\n",
       "    <tr>\n",
       "      <th>1</th>\n",
       "      <td>Запустить собственную службу доставки, что сократит срок доставки заказов</td>\n",
       "      <td>4.0</td>\n",
       "    </tr>\n",
       "    <tr>\n",
       "      <th>5</th>\n",
       "      <td>Добавить страницу отзывов клиентов о магазине, что позволит увеличить количество заказов</td>\n",
       "      <td>4.0</td>\n",
       "    </tr>\n",
       "    <tr>\n",
       "      <th>4</th>\n",
       "      <td>Изменить цвет фона главной страницы, чтобы увеличить вовлеченность пользователей</td>\n",
       "      <td>3.0</td>\n",
       "    </tr>\n",
       "  </tbody>\n",
       "</table>\n",
       "</div>"
      ],
      "text/plain": [
       "                                                                                                     Hypothesis  \\\n",
       "7  Добавить форму подписки на все основные страницы, чтобы собрать базу клиентов для email-рассылок               \n",
       "2  Добавить блоки рекомендаций товаров на сайт интернет магазина, чтобы повысить конверсию и средний чек заказа   \n",
       "0  Добавить два новых канала привлечения трафика, что позволит привлекать на 30% больше пользователей             \n",
       "6  Показать на главной странице баннеры с актуальными акциями и распродажами, чтобы увеличить конверсию           \n",
       "8  Запустить акцию, дающую скидку на товар в день рождения                                                        \n",
       "3  Изменить структура категорий, что увеличит конверсию, т.к. пользователи быстрее найдут нужный товар            \n",
       "1  Запустить собственную службу доставки, что сократит срок доставки заказов                                      \n",
       "5  Добавить страницу отзывов клиентов о магазине, что позволит увеличить количество заказов                       \n",
       "4  Изменить цвет фона главной страницы, чтобы увеличить вовлеченность пользователей                               \n",
       "\n",
       "    RICE  \n",
       "7  112.0  \n",
       "2  56.0   \n",
       "0  40.0   \n",
       "6  40.0   \n",
       "8  16.2   \n",
       "3  9.0    \n",
       "1  4.0    \n",
       "5  4.0    \n",
       "4  3.0    "
      ]
     },
     "execution_count": 8,
     "metadata": {},
     "output_type": "execute_result"
    }
   ],
   "source": [
    "df['RICE'] = df['Reach'] * df['Impact'] * df['Confidence'] / df['Efforts']\n",
    "\n",
    "df[['Hypothesis', 'RICE']].sort_values(by='RICE', ascending=False)"
   ]
  },
  {
   "cell_type": "markdown",
   "metadata": {},
   "source": [
    "ТОП-3 приоритетные гипотезы, согласно расчету по RICE:\n",
    "1. Добавить форму подписки на все основные страницы, чтобы собрать базу клиентов для email-рассылок;\n",
    "2. Добавить блоки рекомендаций товаров на сайт интернет магазина, чтобы повысить конверсию и средний чек заказа;\n",
    "3. Две гипотезы оказались равными по приоритетности:\n",
    "    - Добавить два новых канала привлечения трафика, что позволит привлекать на 30% больше пользователей; \n",
    "    - Показать на главной странице баннеры с актуальными акциями и распродажами, чтобы увеличить конверсию."
   ]
  },
  {
   "cell_type": "markdown",
   "metadata": {},
   "source": [
    "### Выводы по приоритетности гипотез:\n",
    "1. Есть две гипотезы, вошедшие в ТОП-3 по приоритетности как по расчету ICE, так и по расчету RICE:\n",
    "    - Добавить два новых канала привлечения трафика, что позволит привлекать на 30% больше пользователей;\n",
    "    - Добавить форму подписки на все основные страницы, чтобы собрать базу клиентов для email-рассылок.\n",
    "   Стоит отметить, что вторая из них абсолютный лидер по RICE и всего третья по ICE. Это связано с тем, что расчет RICE учитывает охват, а он у этой гипотезы наибольший.\n",
    "2. При расчете ICE гипотеза \"Запустить акцию, дающую скидку на товар в день рождения\" достаточно ярко выраженный лидер по приоритетности. Это обусловлено высокими показателями влияния на охватываемых пользователей и увереннностью в ней при относительно низких затратах. Однако ее охват минимальный.\n",
    "3. Согласно расчетам, можно рекомендовать для проверки в первую очередь гипотезы:\n",
    "    - Добавить два новых канала привлечения трафика, что позволит привлекать на 30% больше пользователей;\n",
    "    - Добавить форму подписки на все основные страницы, чтобы собрать базу клиентов для email-рассылок.\n",
    "4. При наличии ресурсов также для проверки можно рассмотреть гипотезы:\n",
    "    - Запустить акцию, дающую скидку на товар в день рождения;\n",
    "    - Добавить блоки рекомендаций товаров на сайт интернет-магазина, чтобы повысить конверсию и средний чек заказа."
   ]
  },
  {
   "cell_type": "markdown",
   "metadata": {},
   "source": [
    "## Анализ A/B теста\n",
    "\n",
    "### Загрузка и предобработка исходных данных\n",
    "\n",
    "Загрузим данные с результатами A/B теста. \n",
    "\n",
    "Один файл с информацией о заказах. Второй - с информацией о количестве пользователей за каждую дату."
   ]
  },
  {
   "cell_type": "code",
   "execution_count": 9,
   "metadata": {},
   "outputs": [],
   "source": [
    "orders = pd.read_csv('https://code.s3.yandex.net/datasets/orders.csv')\n",
    "visitors = pd.read_csv('https://code.s3.yandex.net/datasets/visitors.csv')"
   ]
  },
  {
   "cell_type": "markdown",
   "metadata": {},
   "source": [
    "Посмотрим на первый датафрейм"
   ]
  },
  {
   "cell_type": "code",
   "execution_count": 10,
   "metadata": {},
   "outputs": [
    {
     "data": {
      "text/html": [
       "<div>\n",
       "<style scoped>\n",
       "    .dataframe tbody tr th:only-of-type {\n",
       "        vertical-align: middle;\n",
       "    }\n",
       "\n",
       "    .dataframe tbody tr th {\n",
       "        vertical-align: top;\n",
       "    }\n",
       "\n",
       "    .dataframe thead th {\n",
       "        text-align: right;\n",
       "    }\n",
       "</style>\n",
       "<table border=\"1\" class=\"dataframe\">\n",
       "  <thead>\n",
       "    <tr style=\"text-align: right;\">\n",
       "      <th></th>\n",
       "      <th>transactionId</th>\n",
       "      <th>visitorId</th>\n",
       "      <th>date</th>\n",
       "      <th>revenue</th>\n",
       "      <th>group</th>\n",
       "    </tr>\n",
       "  </thead>\n",
       "  <tbody>\n",
       "    <tr>\n",
       "      <th>0</th>\n",
       "      <td>3667963787</td>\n",
       "      <td>3312258926</td>\n",
       "      <td>2019-08-15</td>\n",
       "      <td>1650</td>\n",
       "      <td>B</td>\n",
       "    </tr>\n",
       "    <tr>\n",
       "      <th>1</th>\n",
       "      <td>2804400009</td>\n",
       "      <td>3642806036</td>\n",
       "      <td>2019-08-15</td>\n",
       "      <td>730</td>\n",
       "      <td>B</td>\n",
       "    </tr>\n",
       "    <tr>\n",
       "      <th>2</th>\n",
       "      <td>2961555356</td>\n",
       "      <td>4069496402</td>\n",
       "      <td>2019-08-15</td>\n",
       "      <td>400</td>\n",
       "      <td>A</td>\n",
       "    </tr>\n",
       "    <tr>\n",
       "      <th>3</th>\n",
       "      <td>3797467345</td>\n",
       "      <td>1196621759</td>\n",
       "      <td>2019-08-15</td>\n",
       "      <td>9759</td>\n",
       "      <td>B</td>\n",
       "    </tr>\n",
       "    <tr>\n",
       "      <th>4</th>\n",
       "      <td>2282983706</td>\n",
       "      <td>2322279887</td>\n",
       "      <td>2019-08-15</td>\n",
       "      <td>2308</td>\n",
       "      <td>B</td>\n",
       "    </tr>\n",
       "  </tbody>\n",
       "</table>\n",
       "</div>"
      ],
      "text/plain": [
       "   transactionId   visitorId        date  revenue group\n",
       "0  3667963787     3312258926  2019-08-15  1650     B   \n",
       "1  2804400009     3642806036  2019-08-15  730      B   \n",
       "2  2961555356     4069496402  2019-08-15  400      A   \n",
       "3  3797467345     1196621759  2019-08-15  9759     B   \n",
       "4  2282983706     2322279887  2019-08-15  2308     B   "
      ]
     },
     "execution_count": 10,
     "metadata": {},
     "output_type": "execute_result"
    }
   ],
   "source": [
    "orders.head()"
   ]
  },
  {
   "cell_type": "code",
   "execution_count": 11,
   "metadata": {},
   "outputs": [
    {
     "name": "stdout",
     "output_type": "stream",
     "text": [
      "<class 'pandas.core.frame.DataFrame'>\n",
      "RangeIndex: 1197 entries, 0 to 1196\n",
      "Data columns (total 5 columns):\n",
      " #   Column         Non-Null Count  Dtype \n",
      "---  ------         --------------  ----- \n",
      " 0   transactionId  1197 non-null   int64 \n",
      " 1   visitorId      1197 non-null   int64 \n",
      " 2   date           1197 non-null   object\n",
      " 3   revenue        1197 non-null   int64 \n",
      " 4   group          1197 non-null   object\n",
      "dtypes: int64(3), object(2)\n",
      "memory usage: 46.9+ KB\n"
     ]
    }
   ],
   "source": [
    "orders.info()"
   ]
  },
  {
   "cell_type": "markdown",
   "metadata": {},
   "source": [
    "- Названия столбцов можно было бы привести к змеиному регистру, но задачи, которые мы будем дальше решать, этого не требуют.\n",
    "- Пропусков в данных нет;\n",
    "- Типы переменных верные, но столбец с датой лучше принудительно приведем к нужному формату."
   ]
  },
  {
   "cell_type": "code",
   "execution_count": 12,
   "metadata": {},
   "outputs": [],
   "source": [
    "orders['date'] = orders['date'].map(lambda x: dt.datetime.strptime(x, '%Y-%m-%d'))"
   ]
  },
  {
   "cell_type": "markdown",
   "metadata": {},
   "source": [
    "Посмотрим, нет ли в исходных данных дубликатов. "
   ]
  },
  {
   "cell_type": "code",
   "execution_count": 13,
   "metadata": {},
   "outputs": [
    {
     "data": {
      "text/plain": [
       "0"
      ]
     },
     "execution_count": 13,
     "metadata": {},
     "output_type": "execute_result"
    }
   ],
   "source": [
    "orders.duplicated().sum()"
   ]
  },
  {
   "cell_type": "markdown",
   "metadata": {},
   "source": [
    "Ни одного дубликата.\n",
    "\n",
    "Теперь сделаем первичную обработку датафрейма с группами пользователей."
   ]
  },
  {
   "cell_type": "code",
   "execution_count": 14,
   "metadata": {},
   "outputs": [
    {
     "data": {
      "text/html": [
       "<div>\n",
       "<style scoped>\n",
       "    .dataframe tbody tr th:only-of-type {\n",
       "        vertical-align: middle;\n",
       "    }\n",
       "\n",
       "    .dataframe tbody tr th {\n",
       "        vertical-align: top;\n",
       "    }\n",
       "\n",
       "    .dataframe thead th {\n",
       "        text-align: right;\n",
       "    }\n",
       "</style>\n",
       "<table border=\"1\" class=\"dataframe\">\n",
       "  <thead>\n",
       "    <tr style=\"text-align: right;\">\n",
       "      <th></th>\n",
       "      <th>date</th>\n",
       "      <th>group</th>\n",
       "      <th>visitors</th>\n",
       "    </tr>\n",
       "  </thead>\n",
       "  <tbody>\n",
       "    <tr>\n",
       "      <th>0</th>\n",
       "      <td>2019-08-01</td>\n",
       "      <td>A</td>\n",
       "      <td>719</td>\n",
       "    </tr>\n",
       "    <tr>\n",
       "      <th>1</th>\n",
       "      <td>2019-08-02</td>\n",
       "      <td>A</td>\n",
       "      <td>619</td>\n",
       "    </tr>\n",
       "    <tr>\n",
       "      <th>2</th>\n",
       "      <td>2019-08-03</td>\n",
       "      <td>A</td>\n",
       "      <td>507</td>\n",
       "    </tr>\n",
       "    <tr>\n",
       "      <th>3</th>\n",
       "      <td>2019-08-04</td>\n",
       "      <td>A</td>\n",
       "      <td>717</td>\n",
       "    </tr>\n",
       "    <tr>\n",
       "      <th>4</th>\n",
       "      <td>2019-08-05</td>\n",
       "      <td>A</td>\n",
       "      <td>756</td>\n",
       "    </tr>\n",
       "  </tbody>\n",
       "</table>\n",
       "</div>"
      ],
      "text/plain": [
       "         date group  visitors\n",
       "0  2019-08-01  A     719     \n",
       "1  2019-08-02  A     619     \n",
       "2  2019-08-03  A     507     \n",
       "3  2019-08-04  A     717     \n",
       "4  2019-08-05  A     756     "
      ]
     },
     "execution_count": 14,
     "metadata": {},
     "output_type": "execute_result"
    }
   ],
   "source": [
    "visitors.head()"
   ]
  },
  {
   "cell_type": "code",
   "execution_count": 15,
   "metadata": {},
   "outputs": [
    {
     "name": "stdout",
     "output_type": "stream",
     "text": [
      "<class 'pandas.core.frame.DataFrame'>\n",
      "RangeIndex: 62 entries, 0 to 61\n",
      "Data columns (total 3 columns):\n",
      " #   Column    Non-Null Count  Dtype \n",
      "---  ------    --------------  ----- \n",
      " 0   date      62 non-null     object\n",
      " 1   group     62 non-null     object\n",
      " 2   visitors  62 non-null     int64 \n",
      "dtypes: int64(1), object(2)\n",
      "memory usage: 1.6+ KB\n"
     ]
    }
   ],
   "source": [
    "visitors.info()"
   ]
  },
  {
   "cell_type": "markdown",
   "metadata": {},
   "source": [
    "- Пропусков в данных нет;\n",
    "- Типы переменных верные, но столбец с датой здесь тоже принудительно приведем к нужному нам формату."
   ]
  },
  {
   "cell_type": "code",
   "execution_count": 16,
   "metadata": {},
   "outputs": [],
   "source": [
    "visitors['date'] = visitors['date'].map(lambda x: dt.datetime.strptime(x, '%Y-%m-%d'))"
   ]
  },
  {
   "cell_type": "markdown",
   "metadata": {},
   "source": [
    "Посмотрим, нет ли дубликатов."
   ]
  },
  {
   "cell_type": "code",
   "execution_count": 17,
   "metadata": {},
   "outputs": [
    {
     "data": {
      "text/plain": [
       "0"
      ]
     },
     "execution_count": 17,
     "metadata": {},
     "output_type": "execute_result"
    }
   ],
   "source": [
    "visitors.duplicated().sum()"
   ]
  },
  {
   "cell_type": "markdown",
   "metadata": {},
   "source": [
    "Дубликатов нет.\n",
    "\n",
    "Рассмотрим более детально пользователей: сколько их всего в каждой группе."
   ]
  },
  {
   "cell_type": "code",
   "execution_count": 18,
   "metadata": {},
   "outputs": [
    {
     "name": "stdout",
     "output_type": "stream",
     "text": [
      "Всего уникальных пользователей - 1031\n",
      "Кол-во уникальных пользователей в группе A - 503\n",
      "Кол-во уникальных пользователей в группе B - 586\n"
     ]
    }
   ],
   "source": [
    "print('Всего уникальных пользователей - {}'.format(orders['visitorId'].nunique()))\n",
    "print('Кол-во уникальных пользователей в группе A - {}'.format(orders[orders['group'] == 'A']['visitorId'].nunique()))\n",
    "print('Кол-во уникальных пользователей в группе B - {}'.format(orders[orders['group'] == 'B']['visitorId'].nunique()))"
   ]
  },
  {
   "cell_type": "markdown",
   "metadata": {},
   "source": [
    "В группе B на 83 уникальных пользователя больше, чем в группе A. Смотрится, как будто что-то не так и нужно делать выборки равных размеров. Но на наш дальнейший анализ это вряд ли повлияет, так как обе группы являются вполне репрезентативными для оценки среднего.\n",
    "\n",
    "Посмотрим, нет ли пользователей, которые попали и в группу A, и в группу B."
   ]
  },
  {
   "cell_type": "code",
   "execution_count": 19,
   "metadata": {},
   "outputs": [
    {
     "data": {
      "text/plain": [
       "58"
      ]
     },
     "execution_count": 19,
     "metadata": {},
     "output_type": "execute_result"
    }
   ],
   "source": [
    "ab_users = set(orders[orders['group'] == 'A']['visitorId'].unique()) & set(orders[orders['group'] == 'B']['visitorId'].unique())\n",
    "len(ab_users)"
   ]
  },
  {
   "cell_type": "markdown",
   "metadata": {},
   "source": [
    "Оказывается, у нас есть целых 58 пользователей, которые оказались и в той, и в другой группе. Это неправильно, так как с момента начала теста каждый пользователь должен четко определяться либо в одну, либо в другую группу, потому что мы хотим понять, как изменение в нашем магазине повлияло на среднестатистического пользователя. \n",
    "\n",
    "В реальной ситуации, думаю, можно было бы пообщаться с коллегами и выяснить, почему так случилось. А в нашем случае, придется просто удалить таких пользователей из обеих групп, чтобы они не искажали результаты нашего дальнейшего анализа.\n",
    "\n",
    "С датафреймом orders - все хорошо, отфильтруем по visitorId.\n",
    "С датафреймом visitors мы ничего сделать не сможем, так как visitorId в нем отсутствует."
   ]
  },
  {
   "cell_type": "code",
   "execution_count": 20,
   "metadata": {},
   "outputs": [],
   "source": [
    "orders = orders[-orders['visitorId'].isin(ab_users)]"
   ]
  },
  {
   "cell_type": "markdown",
   "metadata": {},
   "source": [
    "### Расчет кумулятивной выручки по группам\n",
    "\n",
    "*Чистосердечное признание: скопировал из урока код и часть комментариев. Оставляю, как есть, чтобы спустя время можно было разобраться*\n",
    "\n",
    "Создадим массив уникальных пар значений дат и групп теста"
   ]
  },
  {
   "cell_type": "code",
   "execution_count": 21,
   "metadata": {},
   "outputs": [],
   "source": [
    "datesGroups = orders[['date','group']].drop_duplicates()"
   ]
  },
  {
   "cell_type": "markdown",
   "metadata": {},
   "source": [
    "Получим строки таблицы orders, дата которых меньше или равна дате элемента из datesGroups, а группа теста равна группе из datesGroups. \n",
    "\n",
    "Затем агрегируем значения. Вычислим максимальную дату. \n",
    "\n",
    "Найдём число уникальных ID заказов и пользователей. Подсчитаем сумму средних чеков:\n",
    "\n",
    "`.agg({'date' : 'max', 'group' : 'max', 'orderId' : 'nunique', 'userId' : 'nunique', 'revenue' : 'sum'})`.\n",
    "\n",
    "Применим методы к каждой строке датафрейма: apply(axis=1) и отсортируем результаты по столбцам 'date' и 'group'"
   ]
  },
  {
   "cell_type": "code",
   "execution_count": 22,
   "metadata": {},
   "outputs": [],
   "source": [
    "ordersAggregated = datesGroups.apply(lambda x: orders[np.logical_and(orders['date'] <= x['date'], orders['group'] == x['group'])].agg({'date' : 'max', 'group' : 'max', 'transactionId' : 'nunique', 'visitorId' : 'nunique', 'revenue' : 'sum'}), axis=1).sort_values(by=['date','group'])"
   ]
  },
  {
   "cell_type": "markdown",
   "metadata": {},
   "source": [
    "Аналогично получим агрегированные кумулятивные по дням данные о посетителях интернет-магазина:"
   ]
  },
  {
   "cell_type": "code",
   "execution_count": 23,
   "metadata": {},
   "outputs": [],
   "source": [
    "visitorsAggregated = datesGroups.apply(lambda x: visitors[np.logical_and(visitors['date'] <= x['date'], visitors['group'] == x['group'])].agg({'date' : 'max', 'group' : 'max', 'visitors' : 'sum'}), axis=1).sort_values(by=['date','group'])"
   ]
  },
  {
   "cell_type": "markdown",
   "metadata": {},
   "source": [
    "Объединим обе таблицы в одну с понятными названиями столбцов:"
   ]
  },
  {
   "cell_type": "code",
   "execution_count": 24,
   "metadata": {},
   "outputs": [
    {
     "data": {
      "text/html": [
       "<div>\n",
       "<style scoped>\n",
       "    .dataframe tbody tr th:only-of-type {\n",
       "        vertical-align: middle;\n",
       "    }\n",
       "\n",
       "    .dataframe tbody tr th {\n",
       "        vertical-align: top;\n",
       "    }\n",
       "\n",
       "    .dataframe thead th {\n",
       "        text-align: right;\n",
       "    }\n",
       "</style>\n",
       "<table border=\"1\" class=\"dataframe\">\n",
       "  <thead>\n",
       "    <tr style=\"text-align: right;\">\n",
       "      <th></th>\n",
       "      <th>date</th>\n",
       "      <th>group</th>\n",
       "      <th>orders</th>\n",
       "      <th>buyers</th>\n",
       "      <th>revenue</th>\n",
       "      <th>visitors</th>\n",
       "    </tr>\n",
       "  </thead>\n",
       "  <tbody>\n",
       "    <tr>\n",
       "      <th>0</th>\n",
       "      <td>2019-08-01</td>\n",
       "      <td>A</td>\n",
       "      <td>23</td>\n",
       "      <td>19</td>\n",
       "      <td>142779</td>\n",
       "      <td>719</td>\n",
       "    </tr>\n",
       "    <tr>\n",
       "      <th>1</th>\n",
       "      <td>2019-08-01</td>\n",
       "      <td>B</td>\n",
       "      <td>17</td>\n",
       "      <td>17</td>\n",
       "      <td>59758</td>\n",
       "      <td>713</td>\n",
       "    </tr>\n",
       "    <tr>\n",
       "      <th>2</th>\n",
       "      <td>2019-08-02</td>\n",
       "      <td>A</td>\n",
       "      <td>42</td>\n",
       "      <td>36</td>\n",
       "      <td>234381</td>\n",
       "      <td>1338</td>\n",
       "    </tr>\n",
       "    <tr>\n",
       "      <th>3</th>\n",
       "      <td>2019-08-02</td>\n",
       "      <td>B</td>\n",
       "      <td>40</td>\n",
       "      <td>39</td>\n",
       "      <td>221801</td>\n",
       "      <td>1294</td>\n",
       "    </tr>\n",
       "    <tr>\n",
       "      <th>4</th>\n",
       "      <td>2019-08-03</td>\n",
       "      <td>A</td>\n",
       "      <td>66</td>\n",
       "      <td>60</td>\n",
       "      <td>346854</td>\n",
       "      <td>1845</td>\n",
       "    </tr>\n",
       "  </tbody>\n",
       "</table>\n",
       "</div>"
      ],
      "text/plain": [
       "        date group  orders  buyers  revenue  visitors\n",
       "0 2019-08-01  A     23      19      142779   719     \n",
       "1 2019-08-01  B     17      17      59758    713     \n",
       "2 2019-08-02  A     42      36      234381   1338    \n",
       "3 2019-08-02  B     40      39      221801   1294    \n",
       "4 2019-08-03  A     66      60      346854   1845    "
      ]
     },
     "execution_count": 24,
     "metadata": {},
     "output_type": "execute_result"
    }
   ],
   "source": [
    "cumulativeData = ordersAggregated.merge(visitorsAggregated, left_on=['date', 'group'], right_on=['date', 'group'])\n",
    "cumulativeData.columns = ['date', 'group', 'orders', 'buyers', 'revenue', 'visitors']\n",
    "\n",
    "cumulativeData.head(5)"
   ]
  },
  {
   "cell_type": "markdown",
   "metadata": {},
   "source": [
    "Построим графики кумулятивной выручки по дням и группам A/B-тестирования"
   ]
  },
  {
   "cell_type": "code",
   "execution_count": 25,
   "metadata": {},
   "outputs": [
    {
     "data": {
      "image/png": "[encoded data removed]",
      "text/plain": [
       "<Figure size 1080x576 with 1 Axes>"
      ]
     },
     "metadata": {},
     "output_type": "display_data"
    }
   ],
   "source": [
    "# установка размеров графика\n",
    "sns.set(rc={'figure.figsize':(15,8)})\n",
    "\n",
    "# датафрейм с кумулятивным количеством заказов и кумулятивной выручкой по дням в группе А\n",
    "cumulativeRevenueA = cumulativeData[cumulativeData['group']=='A'][['date','revenue', 'orders']]\n",
    "\n",
    "# датафрейм с кумулятивным количеством заказов и кумулятивной выручкой по дням в группе B\n",
    "cumulativeRevenueB = cumulativeData[cumulativeData['group']=='B'][['date','revenue', 'orders']]\n",
    "\n",
    "# Строим график выручки группы А\n",
    "plt.plot(cumulativeRevenueA['date'], cumulativeRevenueA['revenue'], label='A')\n",
    "\n",
    "# Строим график выручки группы B\n",
    "plt.plot(cumulativeRevenueB['date'], cumulativeRevenueB['revenue'], label='B')\n",
    "\n",
    "plt.legend()\n",
    "plt.title('Кумулятивная выручка')\n",
    "plt.xlabel('Дата')\n",
    "plt.ylabel('Выручка')\n",
    "plt.show()"
   ]
  },
  {
   "cell_type": "markdown",
   "metadata": {},
   "source": [
    "***Вывод по кумулятивной выручке***\n",
    "\n",
    "Напротяжении всего теста наблюдается равномерный рост выручки в обеих группах. Однако в группе B после 17 августа случился резкий рост. Возможно, несколько пользователей совершили особенно крупные покупки, а может быть, это и вовсе был один пользователь с огромным чеком. "
   ]
  },
  {
   "cell_type": "markdown",
   "metadata": {},
   "source": [
    "### Расчет кумулятивного среднего чека\n",
    "\n",
    "Построим графики кумулятивного среднего чека группам A/B-тестирования"
   ]
  },
  {
   "cell_type": "code",
   "execution_count": 26,
   "metadata": {},
   "outputs": [
    {
     "data": {
      "image/png": "[encoded data removed]",
      "text/plain": [
       "<Figure size 1080x576 with 1 Axes>"
      ]
     },
     "metadata": {},
     "output_type": "display_data"
    }
   ],
   "source": [
    "plt.plot(cumulativeRevenueA['date'], cumulativeRevenueA['revenue']/cumulativeRevenueA['orders'], label='A')\n",
    "plt.plot(cumulativeRevenueB['date'], cumulativeRevenueB['revenue']/cumulativeRevenueB['orders'], label='B')\n",
    "\n",
    "plt.legend()\n",
    "plt.title('Кумулятивный средний чек')\n",
    "plt.xlabel('Дата')\n",
    "plt.ylabel('Размер чека')\n",
    "plt.show()"
   ]
  },
  {
   "cell_type": "markdown",
   "metadata": {},
   "source": [
    "***Выводы по кумулятивному среднему чеку:***\n",
    "\n",
    "- В группе A заметен ощутимый спад размера среднего чека с 1 по 5 августа. 9 августа средний чек вернулся к своим начальным значениям. 13 августа был небольшой рост с дальнейшим возвращением к начальным показателям, после чего средний чек в группе A держался стабильно.\n",
    "- В группе B средний чек постоянно менялся, но в целом можно сказать, что с начала теста и до 17 августа демонстрировал рост. 18 августа, как мы предпоалагаем, случилась какая-то большая покупка (или несколько покупок), в результате чего средний чек резко подскочил вверх. После чего средний чек  в группе B уменьшался, возвращаясь к своим истистинным значениям (без учета аномально больших покупок)."
   ]
  },
  {
   "cell_type": "markdown",
   "metadata": {},
   "source": [
    "### Относительное различие среднего чека между группами\n",
    "\n",
    "Построим график относительного различия для среднего чека. Добавим горизонтальную ось методом axhline() (от англ. horizontal line across the axis*, «горизонтальная линия поперек оси»)"
   ]
  },
  {
   "cell_type": "code",
   "execution_count": 27,
   "metadata": {},
   "outputs": [
    {
     "data": {
      "image/png": "[encoded data removed]",
      "text/plain": [
       "<Figure size 1080x576 with 1 Axes>"
      ]
     },
     "metadata": {},
     "output_type": "display_data"
    }
   ],
   "source": [
    "# собираем данные в одном датафрейме\n",
    "mergedCumulativeRevenue = cumulativeRevenueA.merge(cumulativeRevenueB, left_on='date', right_on='date', how='left', suffixes=['A', 'B'])\n",
    "\n",
    "# cтроим отношение средних чеков\n",
    "plt.plot(mergedCumulativeRevenue['date'], (mergedCumulativeRevenue['revenueB']/mergedCumulativeRevenue['ordersB'])/(mergedCumulativeRevenue['revenueA']/mergedCumulativeRevenue['ordersA'])-1)\n",
    "\n",
    "# добавляем ось X\n",
    "plt.axhline(y=0, color='black', linestyle='--')\n",
    "plt.title('Средний чек в группе B относительно среднего чека в группе A')\n",
    "plt.xlabel('Дата')\n",
    "plt.show()"
   ]
  },
  {
   "cell_type": "markdown",
   "metadata": {},
   "source": [
    "***Выводы по относительному различию среднего чека:***\n",
    "\n",
    "По графику видно, что почти во все дни проведения теста средний чек в группе B был выше. Однако есть дни довольно резких изменений.\n",
    "\n",
    "1. 1 августа - первый день теста.\n",
    "2. 8 августа - как раз когда средний чек в группе А показал небольшой краткострочный рост с возвращением к начальным значениям.\n",
    "3. 18 августа - когда была совершена аномально большая покупка в группе B."
   ]
  },
  {
   "cell_type": "markdown",
   "metadata": {},
   "source": [
    "### Кумулятивная конверсия\n",
    "\n",
    "Аналогично проанализируем график кумулятивной конверсии. Зададим масштаб осей методом plt.axis(). Передадим ему минимальное и максимальное значения оси x - [0, 0.05]"
   ]
  },
  {
   "cell_type": "code",
   "execution_count": 28,
   "metadata": {},
   "outputs": [
    {
     "data": {
      "image/png": "[encoded data removed]",
      "text/plain": [
       "<Figure size 1080x576 with 1 Axes>"
      ]
     },
     "metadata": {},
     "output_type": "display_data"
    }
   ],
   "source": [
    "# считаем кумулятивную конверсию\n",
    "cumulativeData['conversion'] = cumulativeData['orders']/cumulativeData['visitors']\n",
    "\n",
    "# отделяем данные по группе A\n",
    "cumulativeDataA = cumulativeData[cumulativeData['group']=='A']\n",
    "\n",
    "# отделяем данные по группе B\n",
    "cumulativeDataB = cumulativeData[cumulativeData['group']=='B']\n",
    "\n",
    "# строим графики\n",
    "plt.plot(cumulativeDataA['date'], cumulativeDataA['conversion'], label='A')\n",
    "plt.plot(cumulativeDataB['date'], cumulativeDataB['conversion'], label='B')\n",
    "plt.legend()\n",
    "plt.title('Кумулятивная конверсия')\n",
    "plt.xlabel('Дата')\n",
    "plt.ylabel('Конверсия')\n",
    "\n",
    "# задаем масштаб оси x\n",
    "plt.ylim([0, 0.05])\n",
    "plt.show()"
   ]
  },
  {
   "cell_type": "markdown",
   "metadata": {},
   "source": [
    "***Выводы по конверсиям в группах:***\n",
    "\n",
    "Первые пять дней теста конверсии групп колебались. \n",
    "\n",
    "После 5 августа и до 9 августа конверсия группы A уменьшалась, а в группе B - наоборот росла. После 9 августа конверсии в группах держались стабильно."
   ]
  },
  {
   "cell_type": "markdown",
   "metadata": {},
   "source": [
    "### Конверсия в группе B относительно группы A\n",
    "\n",
    "Построим график относительного изменения кумулятивной конверсии группы B к группе A:"
   ]
  },
  {
   "cell_type": "code",
   "execution_count": 29,
   "metadata": {},
   "outputs": [
    {
     "data": {
      "image/png": "[encoded data removed]",
      "text/plain": [
       "<Figure size 1080x576 with 1 Axes>"
      ]
     },
     "metadata": {},
     "output_type": "display_data"
    }
   ],
   "source": [
    "mergedCumulativeConversions = cumulativeDataA[['date','conversion']].merge(cumulativeDataB[['date','conversion']], left_on='date', right_on='date', how='left', suffixes=['A', 'B'])\n",
    "\n",
    "plt.plot(mergedCumulativeConversions['date'], mergedCumulativeConversions['conversionB']/mergedCumulativeConversions['conversionA']-1, label=\"Относительный прирост конверсии группы B относительно группы A\")\n",
    "\n",
    "plt.axhline(y=0, color='black', linestyle='--')\n",
    "plt.axhline(y=0.15, color='grey', linestyle='--')\n",
    "plt.title('Относительный прирост конверсии группы B относительно группы A')\n",
    "plt.xlabel('Дата')\n",
    "plt.ylim([-0.5, 0.5])\n",
    "plt.show()"
   ]
  },
  {
   "cell_type": "markdown",
   "metadata": {},
   "source": [
    "***Выводы по относительной конверсии:***\n",
    "\n",
    "Можно сказать, что первые 5 дней теста группа B проигрывала группе A по конверсии. Однако после 5 августа ситуация изменилась - конверсия группы B стала стабильно выше. Скорее всего, значения конверсий в группах после 9 августа стабилизировались - конверсия в группе B в среднем была стабильно выше конверсии в группе A на 15%."
   ]
  },
  {
   "cell_type": "markdown",
   "metadata": {},
   "source": [
    "### Точечный график количества заказов по пользователям \n",
    "\n",
    "Построим  точечный график количества заказов по пользователям."
   ]
  },
  {
   "cell_type": "code",
   "execution_count": 30,
   "metadata": {},
   "outputs": [
    {
     "data": {
      "image/png": "[encoded data removed]",
      "text/plain": [
       "<Figure size 1080x576 with 1 Axes>"
      ]
     },
     "metadata": {},
     "output_type": "display_data"
    }
   ],
   "source": [
    "ordersByUsers = (\n",
    "    orders.groupby('visitorId', as_index=False)\n",
    "    .agg({'transactionId': 'nunique'})\n",
    ")\n",
    "\n",
    "ordersByUsers.columns = ['userId', 'orders']\n",
    "\n",
    "x_values = pd.Series(range(0,len(ordersByUsers)))\n",
    "plt.scatter(x_values, ordersByUsers['orders']) \n",
    "plt.title('Разброс количества заказов')\n",
    "plt.xlabel('Порядковый номер пользователя')\n",
    "plt.ylabel('Количество заказов')\n",
    "plt.show()"
   ]
  },
  {
   "cell_type": "markdown",
   "metadata": {},
   "source": [
    "Пользователи, ожидаемо, совершали 1-2 заказа. Есть несколько выбивающиеся пользователи, совершивших 3 заказа. Посмотрим на 95-й и 99-й процентили."
   ]
  },
  {
   "cell_type": "code",
   "execution_count": 31,
   "metadata": {},
   "outputs": [
    {
     "name": "stdout",
     "output_type": "stream",
     "text": [
      "[1. 2.]\n"
     ]
    }
   ],
   "source": [
    "print(np.percentile(ordersByUsers['orders'], [95, 99]))"
   ]
  },
  {
   "cell_type": "markdown",
   "metadata": {},
   "source": [
    "***Вывод:***\n",
    "\n",
    "Всего 5% пользователей совершили больше 1 заказа, и всего 1% - больше 2. Чуть позже пожертвуем этим одним процентом, отфильтровав аномально высокие значения.  "
   ]
  },
  {
   "cell_type": "markdown",
   "metadata": {},
   "source": [
    "### Точечный график стоимости заказов\n",
    "\n",
    "Теперь построим точечный график стоимостей заказов."
   ]
  },
  {
   "cell_type": "code",
   "execution_count": 32,
   "metadata": {
    "scrolled": false
   },
   "outputs": [
    {
     "data": {
      "image/png": "[encoded data removed]",
      "text/plain": [
       "<Figure size 1080x576 with 1 Axes>"
      ]
     },
     "metadata": {},
     "output_type": "display_data"
    }
   ],
   "source": [
    "x_values = pd.Series(range(0,len(orders['revenue'])))\n",
    "plt.scatter(x_values, orders['revenue'])\n",
    "plt.title('Разброс стоимости заказов')\n",
    "plt.xlabel('Порядковый номер пользователя')\n",
    "plt.ylabel('Стоимость заказа')\n",
    "plt.show()"
   ]
  },
  {
   "cell_type": "markdown",
   "metadata": {},
   "source": [
    "Рассмотрим более подробно суммы заказов большинства покупателей, исключив \"аномалии\"."
   ]
  },
  {
   "cell_type": "code",
   "execution_count": 33,
   "metadata": {},
   "outputs": [
    {
     "data": {
      "image/png": "[encoded data removed]",
      "text/plain": [
       "<Figure size 1080x576 with 1 Axes>"
      ]
     },
     "metadata": {},
     "output_type": "display_data"
    }
   ],
   "source": [
    "x_values = pd.Series(range(0,len(orders['revenue'])))\n",
    "plt.scatter(x_values, orders['revenue'])\n",
    "plt.title('Разброс стоимости заказов')\n",
    "plt.xlabel('Порядковый номер пользователя')\n",
    "plt.ylabel('Стоимость заказа')\n",
    "plt.ylim([0,200000])\n",
    "plt.show()"
   ]
  },
  {
   "cell_type": "markdown",
   "metadata": {},
   "source": [
    "***Выводы:***\n",
    "\n",
    "Есть два сильно выбивающихся заказа. Один - отличается от остальных в разы: больше 1.2 млн. Еще один - на 200 тысяч - отличается от остальных не сильно, но все же выделяется. \n",
    "\n",
    "Исключив их, видим, что абсолютное большинство заказов было до 50 тысяч.  \n",
    "\n",
    "Посмотрим на 95-й и 99-й процентили стоимости заказов."
   ]
  },
  {
   "cell_type": "code",
   "execution_count": 34,
   "metadata": {},
   "outputs": [
    {
     "name": "stdout",
     "output_type": "stream",
     "text": [
      "[26785. 53904.]\n"
     ]
    }
   ],
   "source": [
    "print(np.percentile(orders['revenue'], [95, 99]))"
   ]
  },
  {
   "cell_type": "markdown",
   "metadata": {},
   "source": [
    "Всего 1% заказов больше 53904. Поэтому чуть позже для корректного анализа теста уберем этот 1% из наших данных."
   ]
  },
  {
   "cell_type": "markdown",
   "metadata": {},
   "source": [
    "### Проверка гипотезы о разнице конверсий по сырым данным"
   ]
  },
  {
   "cell_type": "markdown",
   "metadata": {},
   "source": [
    "**Нулевая гипотеза:** различий в конверсиях между группами нет. \n",
    "\n",
    "**Альтернативная гипотеза**: различия в конверсиях между группами есть.\n",
    "\n",
    "**Уровень значимости α** примем равным 0,05.\n",
    "\n",
    "В нашем случае конверсия - это отношение количества заказов к количеству пользователей в группе. Поэтому чтобы оценить разницу в конверсиях между группами A и B, мы будем сравнивать среднее количество заказов на одного пользователя в этих группах. \n",
    "\n",
    "Создадим переменные ordersByUsersA и ordersByUsersB со столбцами userId и orders. В них для пользователей, которые заказывали хотя бы 1 раз, укажем число совершённых заказов."
   ]
  },
  {
   "cell_type": "code",
   "execution_count": 35,
   "metadata": {},
   "outputs": [],
   "source": [
    "ordersByUsersA = (\n",
    "    orders[orders['group'] == 'A']\n",
    "    .groupby('visitorId', as_index=False)\n",
    "    .agg({'transactionId': pd.Series.nunique})\n",
    ")\n",
    "ordersByUsersA.columns = ['userId', 'orders']\n",
    "\n",
    "ordersByUsersB = (\n",
    "    orders[orders['group'] == 'B']\n",
    "    .groupby('visitorId', as_index=False)\n",
    "    .agg({'transactionId': pd.Series.nunique})\n",
    ")\n",
    "ordersByUsersB.columns = ['userId', 'orders']"
   ]
  },
  {
   "cell_type": "markdown",
   "metadata": {},
   "source": [
    "Объявим переменные sampleA и sampleB, в которых пользователям из разных групп будет соответствовать количество заказов. Тем, кто ничего не заказал, будут соответствовать нули. Это нужно, чтобы подготовить выборки к проверке критерием Манна-Уитни.\n",
    "\n",
    "Эти переменные должны состоять из двух частей:\n",
    "1. Список с количеством заказов для каждого из пользователей.\n",
    "2. Нули для пользователей, которые ничего не заказывали."
   ]
  },
  {
   "cell_type": "code",
   "execution_count": 36,
   "metadata": {},
   "outputs": [],
   "source": [
    "sampleA = pd.concat([ordersByUsersA['orders'],pd.Series(0, index=np.arange(visitors['visitors'].sum() - len(ordersByUsersA['orders'])), name='orders')],axis=0)\n",
    "\n",
    "sampleB = pd.concat([ordersByUsersB['orders'],pd.Series(0, index=np.arange(visitors['visitors'].sum() - len(ordersByUsersB['orders'])), name='orders')],axis=0)"
   ]
  },
  {
   "cell_type": "markdown",
   "metadata": {},
   "source": [
    "С помощью критерия Манна-Уитни проверим гипотезу о равенстве средних значений в получившихся выборках.\n",
    "\n",
    "Также посчитаем прирост конверсии в группе B относительно группы A."
   ]
  },
  {
   "cell_type": "code",
   "execution_count": 37,
   "metadata": {},
   "outputs": [
    {
     "name": "stdout",
     "output_type": "stream",
     "text": [
      "p-value = 0.007\n",
      "Прирост конверсии в группе B относительно группы A: 0.171\n"
     ]
    }
   ],
   "source": [
    "print('p-value = {0:.3f}'.format(stats.mannwhitneyu(sampleA, sampleB)[1]))\n",
    "\n",
    "print(\"Прирост конверсии в группе B относительно группы A: {0:.3f}\".format(sampleB.mean() / sampleA.mean() - 1))"
   ]
  },
  {
   "cell_type": "markdown",
   "metadata": {},
   "source": [
    "В среднем, конверсия во группе B по сырым данным на 17% выше, чем в группе A. Причем согласно критерию Манна-Уитни, эту разницу при уровне значимости α=0.05 можно считать статистически значимой. \n",
    "\n",
    "***Вывод:*** по сырым данным отвергаем нулевую гипотезу о том, что разницы в конверсиях между группами нет."
   ]
  },
  {
   "cell_type": "markdown",
   "metadata": {},
   "source": [
    "### Проверка гипотезы о разнице в средних чеках\n",
    "\n",
    "Теперь проверим статистическую значимость различий в среднем чеке. \n",
    "\n",
    "**Нулевая гипотеза:** различий в среднем чеке между группами нет. \n",
    "\n",
    "**Альтернативная гипотеза:** различия в среднем чеке между группами есть."
   ]
  },
  {
   "cell_type": "code",
   "execution_count": 38,
   "metadata": {},
   "outputs": [
    {
     "name": "stdout",
     "output_type": "stream",
     "text": [
      "p-value = 0.829\n",
      "Прирост среднего чека в группе B относительно группы A: 0.287\n"
     ]
    }
   ],
   "source": [
    "print('p-value = {0:.3f}'.format(stats.mannwhitneyu(orders[orders['group']=='A']['revenue'], orders[orders['group']=='B']['revenue'])[1]))\n",
    "\n",
    "print('Прирост среднего чека в группе B относительно группы A: {0:.3f}'.format(orders[orders['group']=='B']['revenue'].mean()/orders[orders['group']=='A']['revenue'].mean()-1))"
   ]
  },
  {
   "cell_type": "markdown",
   "metadata": {},
   "source": [
    "Несмотря на то, что средний чек у группе B почти на 29% превышает средний чек в группе A, p-value значительно выше принятого нами уровня значимости. Следовательно, разница в средних чеках не является значимой и могла быть получена случайно. \n",
    "\n",
    "***Вывод:*** \n",
    "\n",
    "По сырым данным отвергнуть нулевую гипотезу о равенстве средних чеков в группах A и B мы не можем. "
   ]
  },
  {
   "cell_type": "markdown",
   "metadata": {},
   "source": [
    "### Проверка гипотезы о разнице в конверсиях по \"очищенным\" данным \n",
    "\n",
    "Теперь отфильтруем наши данные: уберем из них пользователей, которые совершили больше 2 заказов, и тех, чей чек превышает 53904."
   ]
  },
  {
   "cell_type": "code",
   "execution_count": 39,
   "metadata": {},
   "outputs": [
    {
     "name": "stdout",
     "output_type": "stream",
     "text": [
      "1099    148427295\n",
      "33      249864742\n",
      "58      611059232\n",
      "949     887908475\n",
      "744     888512513\n",
      "dtype: int64\n",
      "16\n"
     ]
    }
   ],
   "source": [
    "ordersByUsersA = (\n",
    "    orders[orders['group'] == 'A']\n",
    "    .groupby('visitorId', as_index=False)\n",
    "    .agg({'transactionId': pd.Series.nunique})\n",
    ")\n",
    "ordersByUsersA.columns = ['userId', 'orders']\n",
    "\n",
    "ordersByUsersB = (\n",
    "    orders[orders['group'] == 'B']\n",
    "    .groupby('visitorId', as_index=False)\n",
    "    .agg({'transactionId': pd.Series.nunique})\n",
    ")\n",
    "ordersByUsersB.columns = ['userId', 'orders']\n",
    "\n",
    "usersWithManyOrders = pd.concat(\n",
    "    [\n",
    "        ordersByUsersA[ordersByUsersA['orders'] > 2]['userId'],\n",
    "        ordersByUsersB[ordersByUsersB['orders'] > 2]['userId'],\n",
    "    ],\n",
    "    axis=0,\n",
    ")\n",
    "\n",
    "usersWithExpensiveOrders = orders[orders['revenue'] > 53904]['visitorId']\n",
    "\n",
    "abnormalUsers = (\n",
    "    pd.concat([usersWithManyOrders, usersWithExpensiveOrders], axis=0)\n",
    "    .drop_duplicates()\n",
    "    .sort_values()\n",
    ")\n",
    "\n",
    "print(abnormalUsers.head(5))\n",
    "print(abnormalUsers.shape[0]) "
   ]
  },
  {
   "cell_type": "markdown",
   "metadata": {},
   "source": [
    "Всего 16 пользователей совершили аномально дорогие покупки и/или аномально много заказов.\n",
    "\n",
    "Посмотрим изменяться ли наши выводы о конверсии, если убрать таких пользователей из нашей выборки."
   ]
  },
  {
   "cell_type": "code",
   "execution_count": 40,
   "metadata": {},
   "outputs": [
    {
     "name": "stdout",
     "output_type": "stream",
     "text": [
      "p-value = 0.005\n",
      "Прирост конверсии в группе B относительно группы A: 0.201\n"
     ]
    }
   ],
   "source": [
    "sampleAFiltered = pd.concat(\n",
    "    [\n",
    "        ordersByUsersA[\n",
    "            np.logical_not(ordersByUsersA['userId'].isin(abnormalUsers))\n",
    "        ]['orders'],\n",
    "        pd.Series(\n",
    "            0,\n",
    "            index=np.arange(\n",
    "                visitors['visitors'].sum() - len(ordersByUsersA['orders'])\n",
    "            ),\n",
    "            name='orders',\n",
    "        ),\n",
    "    ],\n",
    "    axis=0,\n",
    ")\n",
    "\n",
    "sampleBFiltered = pd.concat(\n",
    "    [\n",
    "        ordersByUsersB[\n",
    "            np.logical_not(ordersByUsersB['userId'].isin(abnormalUsers))\n",
    "        ]['orders'],\n",
    "        pd.Series(\n",
    "            0,\n",
    "            index=np.arange(\n",
    "                visitors['visitors'].sum() - len(ordersByUsersB['orders'])\n",
    "            ),\n",
    "            name='orders',\n",
    "        ),\n",
    "    ],\n",
    "    axis=0,\n",
    ")\n",
    "\n",
    "print('p-value = {0:.3f}'.format(stats.mannwhitneyu(sampleAFiltered, sampleBFiltered)[1]))\n",
    "\n",
    "print(\"Прирост конверсии в группе B относительно группы A: {0:.3f}\".format(sampleBFiltered.mean() / sampleAFiltered.mean() - 1))"
   ]
  },
  {
   "cell_type": "markdown",
   "metadata": {},
   "source": [
    "Если не учитывать пользователей с аномально большим количеством заказов и/или аномально высокими чеками, то конверсия в группе B выше конверсии в группе A на 20%. И эту разницу можно считать статистически значимой при принятом нами уровне значимости α=0.05. \n",
    "\n",
    "***Вывод:*** \n",
    "\n",
    "По очищенным данным мы тоже отвергаем нулевую гипотезу о том, что разницы в конверсиях между группами нет. \n",
    "\n",
    "Надо подчеркнуть, что если бы мы выбрали **более строгий уровень значимости α=0.01**, то нулевая гипотеза была бы также отвергнута и полученная разница в конверсиях в 20% считалась бы статистически значимой. "
   ]
  },
  {
   "cell_type": "markdown",
   "metadata": {},
   "source": [
    "### Проверка гипотезы о разнице в средних чеков по \"очищенным\" данным \n",
    "\n",
    "Теперь посмотрим, изменятся ли выводы о среднем чеке после фильтрации данных."
   ]
  },
  {
   "cell_type": "code",
   "execution_count": 41,
   "metadata": {},
   "outputs": [
    {
     "name": "stdout",
     "output_type": "stream",
     "text": [
      "p-value = 0.788\n",
      "Прирост среднего чека в группе B относительно группы A: -0.032\n"
     ]
    }
   ],
   "source": [
    "print(\n",
    "    'p-value = {0:.3f}'.format(\n",
    "        stats.mannwhitneyu(\n",
    "            orders[\n",
    "                np.logical_and(\n",
    "                    orders['group'] == 'A',\n",
    "                    np.logical_not(orders['visitorId'].isin(abnormalUsers)),\n",
    "                )\n",
    "            ]['revenue'],\n",
    "            orders[\n",
    "                np.logical_and(\n",
    "                    orders['group'] == 'B',\n",
    "                    np.logical_not(orders['visitorId'].isin(abnormalUsers)),\n",
    "                )\n",
    "            ]['revenue'],\n",
    "        )[1]\n",
    "    )\n",
    ")\n",
    "\n",
    "print(\n",
    "    'Прирост среднего чека в группе B относительно группы A: {0:.3f}'.format(\n",
    "        orders[\n",
    "            np.logical_and(\n",
    "                orders['group'] == 'B',\n",
    "                np.logical_not(orders['visitorId'].isin(abnormalUsers)),\n",
    "            )\n",
    "        ]['revenue'].mean()\n",
    "        / orders[\n",
    "            np.logical_and(\n",
    "                orders['group'] == 'A',\n",
    "                np.logical_not(orders['visitorId'].isin(abnormalUsers)),\n",
    "            )\n",
    "        ]['revenue'].mean()\n",
    "        - 1\n",
    "    )\n",
    ")"
   ]
  },
  {
   "cell_type": "markdown",
   "metadata": {},
   "source": [
    "Если судить по очищенным данных, то средний чек в группе B стал даже на 3.2% ниже, чем в группе A. Однако эту разницу при таком большом значении p-value нельзя считать статистически значимой. Следовательно, эта разница могла быть получена случайно.\n",
    "\n",
    "Теперь очевидно, что при отсутствии фильтрации данных на средний чек в группе B огромное влияние оказывал заказ на 1.2 млн.\n",
    "\n",
    "***Вывод:*** \n",
    "\n",
    "По очищенным данным принимаем нулевую гипотезу об отсутствии разницы средних чеков между группами."
   ]
  },
  {
   "cell_type": "markdown",
   "metadata": {},
   "source": [
    "## Общие выводы"
   ]
  },
  {
   "cell_type": "markdown",
   "metadata": {},
   "source": [
    "- Есть статистически значимое различие конверсий между группами. Причем по сырым данным конверсия в группе B больше, чем в группе A, почти на 17%, а по очищенным - на 20%;\n",
    "- Относительный прирост конверсии в группе B к конверсии в группе A в последние дни теста стабильно зафиксировался на уровне 15%;\n",
    "- По сырым данным средний чек в группе B на 29% выше, чем в группе A. По очищенным данным такой разницы уже не наблюдается - средний чек в группе B даже на 3.2% ниже, чем в группе A. Это обусловлено попаданием в группу B \"аномального\" заказа на 1.2 млн при том, что чек у 99% заказов менее 53 тысяч;\n",
    "- Ни по сырым, ни по очищенным данным вывода о статистически значимой разнице в среднем чеке между группами A и B мы сделать не можем, так как полученные по критерию Манна-Уитни значения p-value значительно превышают принятый уровень значимости;\n",
    "- Тест можно остановить со следующими выводами: \n",
    "    - конверсия в группе B выше конверсии в группе A на 20%;\n",
    "    - статистически значимой разницы в среднем чеке между группами нет;\n",
    "- Победа за группой B: средний чек не изменился, но конверсия в покупателей увеличилась - а это, как минимум, должно положительно сказаться на выручке на магазина."
   ]
  }
 ],
 "metadata": {
  "ExecuteTimeLog": [
   {
    "duration": 1430,
    "start_time": "2022-09-23T09:16:35.694Z"
   },
   {
    "duration": 61,
    "start_time": "2022-09-23T09:17:06.467Z"
   },
   {
    "duration": 13,
    "start_time": "2022-09-23T09:17:45.426Z"
   },
   {
    "duration": 8,
    "start_time": "2022-09-23T09:17:59.469Z"
   },
   {
    "duration": 5,
    "start_time": "2022-09-23T09:24:48.128Z"
   },
   {
    "duration": 6,
    "start_time": "2022-09-23T09:27:17.234Z"
   },
   {
    "duration": 11,
    "start_time": "2022-09-23T09:27:24.515Z"
   },
   {
    "duration": 13,
    "start_time": "2022-09-23T09:27:55.313Z"
   },
   {
    "duration": 25,
    "start_time": "2022-09-23T09:28:14.219Z"
   },
   {
    "duration": 7,
    "start_time": "2022-09-23T09:32:14.888Z"
   },
   {
    "duration": 10,
    "start_time": "2022-09-23T09:32:36.497Z"
   },
   {
    "duration": 10,
    "start_time": "2022-09-23T09:33:14.494Z"
   },
   {
    "duration": 11,
    "start_time": "2022-09-23T09:37:53.987Z"
   },
   {
    "duration": 100,
    "start_time": "2022-09-23T09:38:02.034Z"
   },
   {
    "duration": 15,
    "start_time": "2022-09-23T09:38:06.668Z"
   },
   {
    "duration": 192,
    "start_time": "2022-09-23T10:25:13.839Z"
   },
   {
    "duration": 8,
    "start_time": "2022-09-23T10:26:02.589Z"
   },
   {
    "duration": 11,
    "start_time": "2022-09-23T10:26:33.125Z"
   },
   {
    "duration": 45,
    "start_time": "2022-09-23T10:27:05.683Z"
   },
   {
    "duration": 3,
    "start_time": "2022-09-23T10:35:02.746Z"
   },
   {
    "duration": 9,
    "start_time": "2022-09-23T10:35:32.323Z"
   },
   {
    "duration": 12,
    "start_time": "2022-09-23T10:35:39.109Z"
   },
   {
    "duration": 4,
    "start_time": "2022-09-23T10:35:55.841Z"
   },
   {
    "duration": 4,
    "start_time": "2022-09-23T10:36:00.845Z"
   },
   {
    "duration": 5,
    "start_time": "2022-09-23T10:36:05.396Z"
   },
   {
    "duration": 4,
    "start_time": "2022-09-23T10:36:09.832Z"
   },
   {
    "duration": 7,
    "start_time": "2022-09-23T10:40:10.644Z"
   },
   {
    "duration": 7,
    "start_time": "2022-09-23T10:40:14.852Z"
   },
   {
    "duration": 57,
    "start_time": "2022-09-23T10:41:30.441Z"
   },
   {
    "duration": 7,
    "start_time": "2022-09-23T10:41:53.915Z"
   },
   {
    "duration": 11,
    "start_time": "2022-09-23T10:42:07.098Z"
   },
   {
    "duration": 79,
    "start_time": "2022-09-23T10:43:12.343Z"
   },
   {
    "duration": 4,
    "start_time": "2022-09-23T10:43:37.940Z"
   },
   {
    "duration": 5,
    "start_time": "2022-09-23T10:44:39.153Z"
   },
   {
    "duration": 7,
    "start_time": "2022-09-23T10:55:03.359Z"
   },
   {
    "duration": 12,
    "start_time": "2022-09-23T10:56:13.385Z"
   },
   {
    "duration": 25,
    "start_time": "2022-09-23T10:57:01.919Z"
   },
   {
    "duration": 117,
    "start_time": "2022-09-23T10:59:34.319Z"
   },
   {
    "duration": 120,
    "start_time": "2022-09-23T11:01:45.073Z"
   },
   {
    "duration": 141,
    "start_time": "2022-09-23T11:02:13.448Z"
   },
   {
    "duration": 143,
    "start_time": "2022-09-23T11:02:32.683Z"
   },
   {
    "duration": 120,
    "start_time": "2022-09-23T11:02:48.862Z"
   },
   {
    "duration": 127,
    "start_time": "2022-09-23T11:02:55.458Z"
   },
   {
    "duration": 153,
    "start_time": "2022-09-23T11:04:20.739Z"
   },
   {
    "duration": 162,
    "start_time": "2022-09-23T11:04:31.317Z"
   },
   {
    "duration": 155,
    "start_time": "2022-09-23T11:09:08.958Z"
   },
   {
    "duration": 120,
    "start_time": "2022-09-23T11:09:12.686Z"
   },
   {
    "duration": 13,
    "start_time": "2022-09-23T11:11:05.589Z"
   },
   {
    "duration": 245,
    "start_time": "2022-09-23T11:12:07.162Z"
   },
   {
    "duration": 71,
    "start_time": "2022-09-23T11:12:47.950Z"
   },
   {
    "duration": 149,
    "start_time": "2022-09-23T11:12:51.764Z"
   },
   {
    "duration": 306,
    "start_time": "2022-09-23T11:14:11.570Z"
   },
   {
    "duration": 298,
    "start_time": "2022-09-23T11:21:08.821Z"
   },
   {
    "duration": 500,
    "start_time": "2022-09-23T11:30:45.252Z"
   },
   {
    "duration": 362,
    "start_time": "2022-09-23T11:48:11.326Z"
   },
   {
    "duration": 401,
    "start_time": "2022-09-23T11:48:34.921Z"
   },
   {
    "duration": 328,
    "start_time": "2022-09-23T11:48:58.370Z"
   },
   {
    "duration": 315,
    "start_time": "2022-09-23T11:49:14.084Z"
   },
   {
    "duration": 5,
    "start_time": "2022-09-23T11:49:47.265Z"
   },
   {
    "duration": 311,
    "start_time": "2022-09-23T11:50:04.681Z"
   },
   {
    "duration": 308,
    "start_time": "2022-09-23T11:50:51.829Z"
   },
   {
    "duration": 269,
    "start_time": "2022-09-23T11:50:58.240Z"
   },
   {
    "duration": 275,
    "start_time": "2022-09-23T11:51:04.327Z"
   },
   {
    "duration": 271,
    "start_time": "2022-09-23T11:51:45.622Z"
   },
   {
    "duration": 429,
    "start_time": "2022-09-23T11:56:35.586Z"
   },
   {
    "duration": 434,
    "start_time": "2022-09-23T11:56:52.232Z"
   },
   {
    "duration": 416,
    "start_time": "2022-09-23T11:57:02.362Z"
   },
   {
    "duration": 446,
    "start_time": "2022-09-23T11:57:15.274Z"
   },
   {
    "duration": 484,
    "start_time": "2022-09-23T11:57:26.851Z"
   },
   {
    "duration": 390,
    "start_time": "2022-09-23T11:57:56.489Z"
   },
   {
    "duration": 399,
    "start_time": "2022-09-23T11:58:03.360Z"
   },
   {
    "duration": 1354,
    "start_time": "2022-09-26T07:40:31.402Z"
   },
   {
    "duration": 62,
    "start_time": "2022-09-26T07:40:32.758Z"
   },
   {
    "duration": 13,
    "start_time": "2022-09-26T07:40:32.822Z"
   },
   {
    "duration": 35,
    "start_time": "2022-09-26T07:40:32.837Z"
   },
   {
    "duration": 36,
    "start_time": "2022-09-26T07:40:32.874Z"
   },
   {
    "duration": 12,
    "start_time": "2022-09-26T07:40:32.912Z"
   },
   {
    "duration": 6,
    "start_time": "2022-09-26T07:40:32.925Z"
   },
   {
    "duration": 19,
    "start_time": "2022-09-26T07:40:32.932Z"
   },
   {
    "duration": 18,
    "start_time": "2022-09-26T07:40:32.953Z"
   },
   {
    "duration": 142,
    "start_time": "2022-09-26T07:40:32.974Z"
   },
   {
    "duration": 8,
    "start_time": "2022-09-26T07:40:33.117Z"
   },
   {
    "duration": 20,
    "start_time": "2022-09-26T07:40:33.127Z"
   },
   {
    "duration": 22,
    "start_time": "2022-09-26T07:40:33.149Z"
   },
   {
    "duration": 10,
    "start_time": "2022-09-26T07:40:33.173Z"
   },
   {
    "duration": 9,
    "start_time": "2022-09-26T07:40:33.184Z"
   },
   {
    "duration": 17,
    "start_time": "2022-09-26T07:40:33.194Z"
   },
   {
    "duration": 6,
    "start_time": "2022-09-26T07:40:33.212Z"
   },
   {
    "duration": 9,
    "start_time": "2022-09-26T07:40:33.219Z"
   },
   {
    "duration": 9,
    "start_time": "2022-09-26T07:40:33.229Z"
   },
   {
    "duration": 181,
    "start_time": "2022-09-26T07:40:33.239Z"
   },
   {
    "duration": 118,
    "start_time": "2022-09-26T07:40:33.421Z"
   },
   {
    "duration": 12,
    "start_time": "2022-09-26T07:40:33.541Z"
   },
   {
    "duration": 387,
    "start_time": "2022-09-26T07:40:33.554Z"
   },
   {
    "duration": 283,
    "start_time": "2022-09-26T07:40:33.943Z"
   },
   {
    "duration": 403,
    "start_time": "2022-09-26T07:40:34.228Z"
   },
   {
    "duration": 281,
    "start_time": "2022-09-26T07:40:34.633Z"
   },
   {
    "duration": 406,
    "start_time": "2022-09-26T07:40:34.916Z"
   },
   {
    "duration": 176,
    "start_time": "2022-09-26T07:46:03.188Z"
   },
   {
    "duration": 235,
    "start_time": "2022-09-26T08:54:12.512Z"
   },
   {
    "duration": 254,
    "start_time": "2022-09-26T08:54:24.399Z"
   },
   {
    "duration": 193,
    "start_time": "2022-09-26T08:54:44.686Z"
   },
   {
    "duration": 1438,
    "start_time": "2022-09-26T11:42:53.026Z"
   },
   {
    "duration": 62,
    "start_time": "2022-09-26T11:42:54.466Z"
   },
   {
    "duration": 12,
    "start_time": "2022-09-26T11:42:54.529Z"
   },
   {
    "duration": 27,
    "start_time": "2022-09-26T11:42:54.543Z"
   },
   {
    "duration": 35,
    "start_time": "2022-09-26T11:42:54.571Z"
   },
   {
    "duration": 13,
    "start_time": "2022-09-26T11:42:54.608Z"
   },
   {
    "duration": 18,
    "start_time": "2022-09-26T11:42:54.623Z"
   },
   {
    "duration": 18,
    "start_time": "2022-09-26T11:42:54.643Z"
   },
   {
    "duration": 14,
    "start_time": "2022-09-26T11:42:54.664Z"
   },
   {
    "duration": 158,
    "start_time": "2022-09-26T11:42:54.681Z"
   },
   {
    "duration": 9,
    "start_time": "2022-09-26T11:42:54.841Z"
   },
   {
    "duration": 29,
    "start_time": "2022-09-26T11:42:54.852Z"
   },
   {
    "duration": 24,
    "start_time": "2022-09-26T11:42:54.883Z"
   },
   {
    "duration": 22,
    "start_time": "2022-09-26T11:42:54.909Z"
   },
   {
    "duration": 25,
    "start_time": "2022-09-26T11:42:54.933Z"
   },
   {
    "duration": 27,
    "start_time": "2022-09-26T11:42:54.960Z"
   },
   {
    "duration": 33,
    "start_time": "2022-09-26T11:42:54.989Z"
   },
   {
    "duration": 17,
    "start_time": "2022-09-26T11:42:55.024Z"
   },
   {
    "duration": 29,
    "start_time": "2022-09-26T11:42:55.042Z"
   },
   {
    "duration": 177,
    "start_time": "2022-09-26T11:42:55.072Z"
   },
   {
    "duration": 134,
    "start_time": "2022-09-26T11:42:55.250Z"
   },
   {
    "duration": 14,
    "start_time": "2022-09-26T11:42:55.385Z"
   },
   {
    "duration": 388,
    "start_time": "2022-09-26T11:42:55.400Z"
   },
   {
    "duration": 315,
    "start_time": "2022-09-26T11:42:55.790Z"
   },
   {
    "duration": 473,
    "start_time": "2022-09-26T11:42:56.107Z"
   },
   {
    "duration": 294,
    "start_time": "2022-09-26T11:42:56.581Z"
   },
   {
    "duration": 405,
    "start_time": "2022-09-26T11:42:56.877Z"
   },
   {
    "duration": 215,
    "start_time": "2022-09-26T11:42:57.285Z"
   },
   {
    "duration": 5,
    "start_time": "2022-09-26T11:45:44.679Z"
   },
   {
    "duration": 4,
    "start_time": "2022-09-26T11:47:31.478Z"
   },
   {
    "duration": 205,
    "start_time": "2022-09-26T11:52:43.222Z"
   },
   {
    "duration": 271,
    "start_time": "2022-09-26T11:55:21.769Z"
   },
   {
    "duration": 103,
    "start_time": "2022-09-26T11:57:31.543Z"
   },
   {
    "duration": 172,
    "start_time": "2022-09-26T11:59:13.601Z"
   },
   {
    "duration": 3,
    "start_time": "2022-09-26T11:59:54.736Z"
   },
   {
    "duration": 5,
    "start_time": "2022-09-26T12:03:03.830Z"
   },
   {
    "duration": 14,
    "start_time": "2022-09-26T12:11:21.346Z"
   },
   {
    "duration": 13,
    "start_time": "2022-09-26T12:11:40.030Z"
   },
   {
    "duration": 13,
    "start_time": "2022-09-26T12:20:05.222Z"
   },
   {
    "duration": 10,
    "start_time": "2022-09-26T12:20:26.034Z"
   },
   {
    "duration": 9,
    "start_time": "2022-09-26T12:20:38.443Z"
   },
   {
    "duration": 9,
    "start_time": "2022-09-26T12:21:44.919Z"
   },
   {
    "duration": 9,
    "start_time": "2022-09-26T12:26:33.424Z"
   },
   {
    "duration": 10,
    "start_time": "2022-09-26T12:32:54.251Z"
   },
   {
    "duration": 3,
    "start_time": "2022-09-26T12:33:20.182Z"
   },
   {
    "duration": 8,
    "start_time": "2022-09-26T12:33:25.537Z"
   },
   {
    "duration": 5,
    "start_time": "2022-09-26T12:34:00.779Z"
   },
   {
    "duration": 4,
    "start_time": "2022-09-26T12:34:08.086Z"
   },
   {
    "duration": 4,
    "start_time": "2022-09-26T12:34:11.662Z"
   },
   {
    "duration": 8,
    "start_time": "2022-09-26T12:35:23.127Z"
   },
   {
    "duration": 8,
    "start_time": "2022-09-26T12:35:27.988Z"
   },
   {
    "duration": 12,
    "start_time": "2022-09-26T12:37:55.692Z"
   },
   {
    "duration": 7,
    "start_time": "2022-09-26T12:38:39.922Z"
   },
   {
    "duration": 6,
    "start_time": "2022-09-26T12:38:50.679Z"
   },
   {
    "duration": 7,
    "start_time": "2022-09-26T12:39:04.985Z"
   },
   {
    "duration": 6,
    "start_time": "2022-09-26T12:39:12.599Z"
   },
   {
    "duration": 7,
    "start_time": "2022-09-26T12:39:23.495Z"
   },
   {
    "duration": 6,
    "start_time": "2022-09-26T12:43:23.706Z"
   },
   {
    "duration": 7,
    "start_time": "2022-09-26T12:43:35.965Z"
   },
   {
    "duration": 11,
    "start_time": "2022-09-26T12:49:32.161Z"
   },
   {
    "duration": 9,
    "start_time": "2022-09-26T12:49:55.195Z"
   },
   {
    "duration": 14,
    "start_time": "2022-09-26T12:57:34.760Z"
   },
   {
    "duration": 10,
    "start_time": "2022-09-26T12:58:21.617Z"
   },
   {
    "duration": 17,
    "start_time": "2022-09-26T12:59:01.768Z"
   },
   {
    "duration": 153,
    "start_time": "2022-09-26T12:59:57.724Z"
   },
   {
    "duration": 151,
    "start_time": "2022-09-26T13:00:09.013Z"
   },
   {
    "duration": 2097,
    "start_time": "2022-09-26T13:01:29.098Z"
   },
   {
    "duration": 141,
    "start_time": "2022-09-26T13:02:11.187Z"
   },
   {
    "duration": 158,
    "start_time": "2022-09-26T13:03:00.757Z"
   },
   {
    "duration": 135,
    "start_time": "2022-09-26T13:03:53.718Z"
   },
   {
    "duration": 139,
    "start_time": "2022-09-26T13:04:03.815Z"
   },
   {
    "duration": 148,
    "start_time": "2022-09-26T13:04:37.840Z"
   },
   {
    "duration": 141,
    "start_time": "2022-09-26T13:05:42.742Z"
   },
   {
    "duration": 142,
    "start_time": "2022-09-26T13:05:59.524Z"
   },
   {
    "duration": 1484,
    "start_time": "2022-09-27T12:20:47.132Z"
   },
   {
    "duration": 63,
    "start_time": "2022-09-27T12:20:48.618Z"
   },
   {
    "duration": 15,
    "start_time": "2022-09-27T12:20:48.683Z"
   },
   {
    "duration": 14,
    "start_time": "2022-09-27T12:20:48.700Z"
   },
   {
    "duration": 32,
    "start_time": "2022-09-27T12:20:48.716Z"
   },
   {
    "duration": 9,
    "start_time": "2022-09-27T12:20:48.750Z"
   },
   {
    "duration": 6,
    "start_time": "2022-09-27T12:20:48.761Z"
   },
   {
    "duration": 11,
    "start_time": "2022-09-27T12:20:48.768Z"
   },
   {
    "duration": 13,
    "start_time": "2022-09-27T12:20:48.781Z"
   },
   {
    "duration": 131,
    "start_time": "2022-09-27T12:20:48.797Z"
   },
   {
    "duration": 9,
    "start_time": "2022-09-27T12:20:48.930Z"
   },
   {
    "duration": 14,
    "start_time": "2022-09-27T12:20:48.942Z"
   },
   {
    "duration": 15,
    "start_time": "2022-09-27T12:20:48.959Z"
   },
   {
    "duration": 11,
    "start_time": "2022-09-27T12:20:48.976Z"
   },
   {
    "duration": 14,
    "start_time": "2022-09-27T12:20:48.989Z"
   },
   {
    "duration": 35,
    "start_time": "2022-09-27T12:20:49.005Z"
   },
   {
    "duration": 16,
    "start_time": "2022-09-27T12:20:49.042Z"
   },
   {
    "duration": 12,
    "start_time": "2022-09-27T12:20:49.060Z"
   },
   {
    "duration": 8,
    "start_time": "2022-09-27T12:20:49.074Z"
   },
   {
    "duration": 180,
    "start_time": "2022-09-27T12:20:49.084Z"
   },
   {
    "duration": 143,
    "start_time": "2022-09-27T12:20:49.265Z"
   },
   {
    "duration": 14,
    "start_time": "2022-09-27T12:20:49.410Z"
   },
   {
    "duration": 435,
    "start_time": "2022-09-27T12:20:49.438Z"
   },
   {
    "duration": 344,
    "start_time": "2022-09-27T12:20:49.875Z"
   },
   {
    "duration": 467,
    "start_time": "2022-09-27T12:20:50.221Z"
   },
   {
    "duration": 322,
    "start_time": "2022-09-27T12:20:50.690Z"
   },
   {
    "duration": 440,
    "start_time": "2022-09-27T12:20:51.013Z"
   },
   {
    "duration": 200,
    "start_time": "2022-09-27T12:20:51.457Z"
   },
   {
    "duration": 6,
    "start_time": "2022-09-27T12:20:51.659Z"
   },
   {
    "duration": 258,
    "start_time": "2022-09-27T12:20:51.667Z"
   },
   {
    "duration": 13,
    "start_time": "2022-09-27T12:20:51.927Z"
   },
   {
    "duration": 138,
    "start_time": "2022-09-27T12:26:10.511Z"
   },
   {
    "duration": 109,
    "start_time": "2022-09-27T12:28:37.807Z"
   },
   {
    "duration": 193,
    "start_time": "2022-09-27T12:32:44.282Z"
   },
   {
    "duration": 229,
    "start_time": "2022-09-27T12:35:06.916Z"
   },
   {
    "duration": 195,
    "start_time": "2022-09-27T12:36:37.392Z"
   },
   {
    "duration": 163,
    "start_time": "2022-09-27T12:36:49.017Z"
   },
   {
    "duration": 7,
    "start_time": "2022-09-27T12:36:50.962Z"
   },
   {
    "duration": 25,
    "start_time": "2022-09-27T12:38:42.250Z"
   },
   {
    "duration": 13,
    "start_time": "2022-09-27T12:45:08.332Z"
   },
   {
    "duration": 41,
    "start_time": "2022-09-27T12:46:27.384Z"
   },
   {
    "duration": 31,
    "start_time": "2022-09-27T12:47:06.172Z"
   },
   {
    "duration": 25,
    "start_time": "2022-09-27T12:47:17.684Z"
   },
   {
    "duration": 14,
    "start_time": "2022-09-27T12:47:45.495Z"
   },
   {
    "duration": 25,
    "start_time": "2022-09-27T12:47:59.503Z"
   },
   {
    "duration": 13,
    "start_time": "2022-09-27T12:48:07.673Z"
   },
   {
    "duration": 192,
    "start_time": "2022-09-27T12:49:35.830Z"
   },
   {
    "duration": 10,
    "start_time": "2022-09-27T12:50:33.717Z"
   },
   {
    "duration": 30,
    "start_time": "2022-09-27T12:52:56.584Z"
   },
   {
    "duration": 16,
    "start_time": "2022-09-27T13:00:03.327Z"
   },
   {
    "duration": 15,
    "start_time": "2022-09-27T13:00:52.203Z"
   },
   {
    "duration": 1276,
    "start_time": "2022-09-27T14:21:24.533Z"
   },
   {
    "duration": 28,
    "start_time": "2022-09-27T14:21:25.811Z"
   },
   {
    "duration": 13,
    "start_time": "2022-09-27T14:21:25.841Z"
   },
   {
    "duration": 43,
    "start_time": "2022-09-27T14:21:25.856Z"
   },
   {
    "duration": 50,
    "start_time": "2022-09-27T14:21:25.902Z"
   },
   {
    "duration": 37,
    "start_time": "2022-09-27T14:21:25.954Z"
   },
   {
    "duration": 32,
    "start_time": "2022-09-27T14:21:25.993Z"
   },
   {
    "duration": 35,
    "start_time": "2022-09-27T14:21:26.027Z"
   },
   {
    "duration": 27,
    "start_time": "2022-09-27T14:21:26.064Z"
   },
   {
    "duration": 80,
    "start_time": "2022-09-27T14:21:26.093Z"
   },
   {
    "duration": 8,
    "start_time": "2022-09-27T14:21:26.176Z"
   },
   {
    "duration": 24,
    "start_time": "2022-09-27T14:21:26.185Z"
   },
   {
    "duration": 34,
    "start_time": "2022-09-27T14:21:26.211Z"
   },
   {
    "duration": 90,
    "start_time": "2022-09-27T14:21:26.248Z"
   },
   {
    "duration": 18,
    "start_time": "2022-09-27T14:21:26.340Z"
   },
   {
    "duration": 23,
    "start_time": "2022-09-27T14:21:26.360Z"
   },
   {
    "duration": 14,
    "start_time": "2022-09-27T14:21:26.385Z"
   },
   {
    "duration": 34,
    "start_time": "2022-09-27T14:21:26.400Z"
   },
   {
    "duration": 25,
    "start_time": "2022-09-27T14:21:26.436Z"
   },
   {
    "duration": 188,
    "start_time": "2022-09-27T14:21:26.463Z"
   },
   {
    "duration": 140,
    "start_time": "2022-09-27T14:21:26.653Z"
   },
   {
    "duration": 20,
    "start_time": "2022-09-27T14:21:26.795Z"
   },
   {
    "duration": 490,
    "start_time": "2022-09-27T14:21:26.817Z"
   },
   {
    "duration": 399,
    "start_time": "2022-09-27T14:21:27.310Z"
   },
   {
    "duration": 449,
    "start_time": "2022-09-27T14:21:27.711Z"
   },
   {
    "duration": 323,
    "start_time": "2022-09-27T14:21:28.162Z"
   },
   {
    "duration": 454,
    "start_time": "2022-09-27T14:21:28.487Z"
   },
   {
    "duration": 188,
    "start_time": "2022-09-27T14:21:28.943Z"
   },
   {
    "duration": 7,
    "start_time": "2022-09-27T14:21:29.133Z"
   },
   {
    "duration": 216,
    "start_time": "2022-09-27T14:21:29.141Z"
   },
   {
    "duration": 4,
    "start_time": "2022-09-27T14:21:29.359Z"
   },
   {
    "duration": 327,
    "start_time": "2022-09-27T14:21:29.365Z"
   },
   {
    "duration": 145,
    "start_time": "2022-09-27T14:21:29.694Z"
   },
   {
    "duration": 6,
    "start_time": "2022-09-27T14:21:29.841Z"
   },
   {
    "duration": 51,
    "start_time": "2022-09-27T14:21:29.849Z"
   },
   {
    "duration": 12,
    "start_time": "2022-09-27T14:21:29.902Z"
   },
   {
    "duration": 176,
    "start_time": "2022-09-27T14:21:29.916Z"
   },
   {
    "duration": 63,
    "start_time": "2022-09-27T14:21:30.095Z"
   },
   {
    "duration": 14,
    "start_time": "2022-09-27T14:21:30.160Z"
   },
   {
    "duration": 1164,
    "start_time": "2022-09-27T14:22:39.078Z"
   },
   {
    "duration": 28,
    "start_time": "2022-09-27T14:22:40.244Z"
   },
   {
    "duration": 11,
    "start_time": "2022-09-27T14:22:40.273Z"
   },
   {
    "duration": 11,
    "start_time": "2022-09-27T14:22:40.286Z"
   },
   {
    "duration": 32,
    "start_time": "2022-09-27T14:22:40.299Z"
   },
   {
    "duration": 4,
    "start_time": "2022-09-27T14:22:40.333Z"
   },
   {
    "duration": 27,
    "start_time": "2022-09-27T14:22:40.339Z"
   },
   {
    "duration": 10,
    "start_time": "2022-09-27T14:22:40.368Z"
   },
   {
    "duration": 14,
    "start_time": "2022-09-27T14:22:40.380Z"
   },
   {
    "duration": 55,
    "start_time": "2022-09-27T14:22:40.397Z"
   },
   {
    "duration": 8,
    "start_time": "2022-09-27T14:22:40.454Z"
   },
   {
    "duration": 15,
    "start_time": "2022-09-27T14:22:40.464Z"
   },
   {
    "duration": 14,
    "start_time": "2022-09-27T14:22:40.481Z"
   },
   {
    "duration": 13,
    "start_time": "2022-09-27T14:22:40.497Z"
   },
   {
    "duration": 9,
    "start_time": "2022-09-27T14:22:40.512Z"
   },
   {
    "duration": 23,
    "start_time": "2022-09-27T14:22:40.523Z"
   },
   {
    "duration": 5,
    "start_time": "2022-09-27T14:22:40.548Z"
   },
   {
    "duration": 8,
    "start_time": "2022-09-27T14:22:40.555Z"
   },
   {
    "duration": 7,
    "start_time": "2022-09-27T14:22:40.565Z"
   },
   {
    "duration": 200,
    "start_time": "2022-09-27T14:22:40.574Z"
   },
   {
    "duration": 146,
    "start_time": "2022-09-27T14:22:40.776Z"
   },
   {
    "duration": 24,
    "start_time": "2022-09-27T14:22:40.923Z"
   },
   {
    "duration": 401,
    "start_time": "2022-09-27T14:22:40.948Z"
   },
   {
    "duration": 317,
    "start_time": "2022-09-27T14:22:41.351Z"
   },
   {
    "duration": 393,
    "start_time": "2022-09-27T14:22:41.670Z"
   },
   {
    "duration": 312,
    "start_time": "2022-09-27T14:22:42.065Z"
   },
   {
    "duration": 397,
    "start_time": "2022-09-27T14:22:42.378Z"
   },
   {
    "duration": 195,
    "start_time": "2022-09-27T14:22:42.778Z"
   },
   {
    "duration": 6,
    "start_time": "2022-09-27T14:22:42.974Z"
   },
   {
    "duration": 203,
    "start_time": "2022-09-27T14:22:42.982Z"
   },
   {
    "duration": 4,
    "start_time": "2022-09-27T14:22:43.187Z"
   },
   {
    "duration": 320,
    "start_time": "2022-09-27T14:22:43.193Z"
   },
   {
    "duration": 176,
    "start_time": "2022-09-27T14:22:43.515Z"
   },
   {
    "duration": 7,
    "start_time": "2022-09-27T14:22:43.692Z"
   },
   {
    "duration": 25,
    "start_time": "2022-09-27T14:22:43.700Z"
   },
   {
    "duration": 13,
    "start_time": "2022-09-27T14:22:43.738Z"
   },
   {
    "duration": 163,
    "start_time": "2022-09-27T14:22:43.752Z"
   },
   {
    "duration": 55,
    "start_time": "2022-09-27T14:22:43.917Z"
   },
   {
    "duration": 18,
    "start_time": "2022-09-27T14:22:43.973Z"
   },
   {
    "duration": 309,
    "start_time": "2022-09-27T14:28:47.747Z"
   },
   {
    "duration": 314,
    "start_time": "2022-09-27T14:29:26.031Z"
   },
   {
    "duration": 327,
    "start_time": "2022-09-27T14:31:15.423Z"
   },
   {
    "duration": 343,
    "start_time": "2022-09-27T14:31:23.854Z"
   },
   {
    "duration": 325,
    "start_time": "2022-09-27T14:32:18.208Z"
   },
   {
    "duration": 327,
    "start_time": "2022-09-27T14:32:29.847Z"
   },
   {
    "duration": 421,
    "start_time": "2022-09-27T14:34:06.293Z"
   },
   {
    "duration": 356,
    "start_time": "2022-09-27T14:34:17.915Z"
   },
   {
    "duration": 595,
    "start_time": "2022-09-27T14:34:47.164Z"
   },
   {
    "duration": 346,
    "start_time": "2022-09-27T14:35:11.606Z"
   },
   {
    "duration": 497,
    "start_time": "2022-09-27T14:36:17.684Z"
   },
   {
    "duration": 243,
    "start_time": "2022-09-27T14:38:04.942Z"
   },
   {
    "duration": 276,
    "start_time": "2022-09-27T14:40:07.262Z"
   },
   {
    "duration": 233,
    "start_time": "2022-09-27T14:40:59.327Z"
   },
   {
    "duration": 1269,
    "start_time": "2022-09-27T14:53:17.911Z"
   },
   {
    "duration": 30,
    "start_time": "2022-09-27T14:53:19.182Z"
   },
   {
    "duration": 11,
    "start_time": "2022-09-27T14:53:19.214Z"
   },
   {
    "duration": 11,
    "start_time": "2022-09-27T14:53:19.228Z"
   },
   {
    "duration": 26,
    "start_time": "2022-09-27T14:53:19.241Z"
   },
   {
    "duration": 8,
    "start_time": "2022-09-27T14:53:19.268Z"
   },
   {
    "duration": 13,
    "start_time": "2022-09-27T14:53:19.278Z"
   },
   {
    "duration": 11,
    "start_time": "2022-09-27T14:53:19.292Z"
   },
   {
    "duration": 37,
    "start_time": "2022-09-27T14:53:19.305Z"
   },
   {
    "duration": 55,
    "start_time": "2022-09-27T14:53:19.344Z"
   },
   {
    "duration": 7,
    "start_time": "2022-09-27T14:53:19.401Z"
   },
   {
    "duration": 18,
    "start_time": "2022-09-27T14:53:19.410Z"
   },
   {
    "duration": 23,
    "start_time": "2022-09-27T14:53:19.430Z"
   },
   {
    "duration": 25,
    "start_time": "2022-09-27T14:53:19.454Z"
   },
   {
    "duration": 30,
    "start_time": "2022-09-27T14:53:19.481Z"
   },
   {
    "duration": 16,
    "start_time": "2022-09-27T14:53:19.513Z"
   },
   {
    "duration": 10,
    "start_time": "2022-09-27T14:53:19.531Z"
   },
   {
    "duration": 9,
    "start_time": "2022-09-27T14:53:19.544Z"
   },
   {
    "duration": 7,
    "start_time": "2022-09-27T14:53:19.556Z"
   },
   {
    "duration": 197,
    "start_time": "2022-09-27T14:53:19.565Z"
   },
   {
    "duration": 168,
    "start_time": "2022-09-27T14:53:19.763Z"
   },
   {
    "duration": 19,
    "start_time": "2022-09-27T14:53:19.934Z"
   },
   {
    "duration": 433,
    "start_time": "2022-09-27T14:53:19.955Z"
   },
   {
    "duration": 323,
    "start_time": "2022-09-27T14:53:20.390Z"
   },
   {
    "duration": 439,
    "start_time": "2022-09-27T14:53:20.715Z"
   },
   {
    "duration": 331,
    "start_time": "2022-09-27T14:53:21.156Z"
   },
   {
    "duration": 418,
    "start_time": "2022-09-27T14:53:21.489Z"
   },
   {
    "duration": 202,
    "start_time": "2022-09-27T14:53:21.910Z"
   },
   {
    "duration": 4,
    "start_time": "2022-09-27T14:53:22.114Z"
   },
   {
    "duration": 239,
    "start_time": "2022-09-27T14:53:22.120Z"
   },
   {
    "duration": 5,
    "start_time": "2022-09-27T14:53:22.361Z"
   },
   {
    "duration": 340,
    "start_time": "2022-09-27T14:53:22.368Z"
   },
   {
    "duration": 162,
    "start_time": "2022-09-27T14:53:22.710Z"
   },
   {
    "duration": 7,
    "start_time": "2022-09-27T14:53:22.874Z"
   },
   {
    "duration": 42,
    "start_time": "2022-09-27T14:53:22.883Z"
   },
   {
    "duration": 22,
    "start_time": "2022-09-27T14:53:22.927Z"
   },
   {
    "duration": 174,
    "start_time": "2022-09-27T14:53:22.952Z"
   },
   {
    "duration": 39,
    "start_time": "2022-09-27T14:53:23.128Z"
   },
   {
    "duration": 15,
    "start_time": "2022-09-27T14:53:23.169Z"
   },
   {
    "duration": 1426,
    "start_time": "2022-09-28T13:37:53.741Z"
   },
   {
    "duration": 61,
    "start_time": "2022-09-28T13:37:55.169Z"
   },
   {
    "duration": 14,
    "start_time": "2022-09-28T13:37:55.232Z"
   },
   {
    "duration": 12,
    "start_time": "2022-09-28T13:37:55.248Z"
   },
   {
    "duration": 28,
    "start_time": "2022-09-28T13:37:55.262Z"
   },
   {
    "duration": 4,
    "start_time": "2022-09-28T13:37:55.292Z"
   },
   {
    "duration": 8,
    "start_time": "2022-09-28T13:37:55.298Z"
   },
   {
    "duration": 34,
    "start_time": "2022-09-28T13:37:55.308Z"
   },
   {
    "duration": 14,
    "start_time": "2022-09-28T13:37:55.344Z"
   },
   {
    "duration": 134,
    "start_time": "2022-09-28T13:37:55.361Z"
   },
   {
    "duration": 8,
    "start_time": "2022-09-28T13:37:55.497Z"
   },
   {
    "duration": 17,
    "start_time": "2022-09-28T13:37:55.507Z"
   },
   {
    "duration": 15,
    "start_time": "2022-09-28T13:37:55.526Z"
   },
   {
    "duration": 9,
    "start_time": "2022-09-28T13:37:55.543Z"
   },
   {
    "duration": 8,
    "start_time": "2022-09-28T13:37:55.554Z"
   },
   {
    "duration": 13,
    "start_time": "2022-09-28T13:37:55.563Z"
   },
   {
    "duration": 8,
    "start_time": "2022-09-28T13:37:55.578Z"
   },
   {
    "duration": 11,
    "start_time": "2022-09-28T13:37:55.587Z"
   },
   {
    "duration": 11,
    "start_time": "2022-09-28T13:37:55.600Z"
   },
   {
    "duration": 193,
    "start_time": "2022-09-28T13:37:55.613Z"
   },
   {
    "duration": 142,
    "start_time": "2022-09-28T13:37:55.807Z"
   },
   {
    "duration": 15,
    "start_time": "2022-09-28T13:37:55.951Z"
   },
   {
    "duration": 437,
    "start_time": "2022-09-28T13:37:55.968Z"
   },
   {
    "duration": 323,
    "start_time": "2022-09-28T13:37:56.406Z"
   },
   {
    "duration": 460,
    "start_time": "2022-09-28T13:37:56.737Z"
   },
   {
    "duration": 367,
    "start_time": "2022-09-28T13:37:57.199Z"
   },
   {
    "duration": 398,
    "start_time": "2022-09-28T13:37:57.567Z"
   },
   {
    "duration": 207,
    "start_time": "2022-09-28T13:37:57.970Z"
   },
   {
    "duration": 4,
    "start_time": "2022-09-28T13:37:58.180Z"
   },
   {
    "duration": 251,
    "start_time": "2022-09-28T13:37:58.186Z"
   },
   {
    "duration": 4,
    "start_time": "2022-09-28T13:37:58.439Z"
   },
   {
    "duration": 343,
    "start_time": "2022-09-28T13:37:58.445Z"
   },
   {
    "duration": 135,
    "start_time": "2022-09-28T13:37:58.790Z"
   },
   {
    "duration": 15,
    "start_time": "2022-09-28T13:37:58.927Z"
   },
   {
    "duration": 31,
    "start_time": "2022-09-28T13:37:58.943Z"
   },
   {
    "duration": 16,
    "start_time": "2022-09-28T13:37:58.975Z"
   },
   {
    "duration": 149,
    "start_time": "2022-09-28T13:37:58.993Z"
   },
   {
    "duration": 28,
    "start_time": "2022-09-28T13:37:59.143Z"
   },
   {
    "duration": 14,
    "start_time": "2022-09-28T13:37:59.173Z"
   },
   {
    "duration": 54,
    "start_time": "2022-09-28T15:37:30.000Z"
   },
   {
    "duration": 1479,
    "start_time": "2022-09-28T15:37:38.429Z"
   },
   {
    "duration": 74,
    "start_time": "2022-09-28T15:37:39.910Z"
   },
   {
    "duration": 12,
    "start_time": "2022-09-28T15:37:41.473Z"
   },
   {
    "duration": 34,
    "start_time": "2022-09-28T15:37:52.015Z"
   },
   {
    "duration": 1279,
    "start_time": "2022-09-28T15:38:45.949Z"
   },
   {
    "duration": 28,
    "start_time": "2022-09-28T15:38:47.231Z"
   },
   {
    "duration": 12,
    "start_time": "2022-09-28T15:38:47.260Z"
   },
   {
    "duration": 11,
    "start_time": "2022-09-28T15:38:47.274Z"
   },
   {
    "duration": 32,
    "start_time": "2022-09-28T15:38:47.286Z"
   },
   {
    "duration": 11,
    "start_time": "2022-09-28T15:38:47.319Z"
   },
   {
    "duration": 24,
    "start_time": "2022-09-28T15:38:47.333Z"
   },
   {
    "duration": 10,
    "start_time": "2022-09-28T15:38:50.842Z"
   },
   {
    "duration": 3,
    "start_time": "2022-09-28T15:42:18.088Z"
   },
   {
    "duration": 28,
    "start_time": "2022-09-28T15:42:18.094Z"
   },
   {
    "duration": 10,
    "start_time": "2022-09-28T15:42:18.126Z"
   },
   {
    "duration": 18,
    "start_time": "2022-09-28T15:42:18.137Z"
   },
   {
    "duration": 22,
    "start_time": "2022-09-28T15:42:18.156Z"
   },
   {
    "duration": 6,
    "start_time": "2022-09-28T15:42:18.180Z"
   },
   {
    "duration": 11,
    "start_time": "2022-09-28T15:42:18.187Z"
   },
   {
    "duration": 25,
    "start_time": "2022-09-28T15:42:18.199Z"
   },
   {
    "duration": 163,
    "start_time": "2022-09-28T15:42:23.319Z"
   },
   {
    "duration": 7,
    "start_time": "2022-09-28T15:42:24.848Z"
   },
   {
    "duration": 10,
    "start_time": "2022-09-28T15:42:24.956Z"
   },
   {
    "duration": 15,
    "start_time": "2022-09-28T15:42:46.237Z"
   },
   {
    "duration": 12,
    "start_time": "2022-09-28T15:42:49.053Z"
   },
   {
    "duration": 12,
    "start_time": "2022-09-28T15:42:52.820Z"
   },
   {
    "duration": 11,
    "start_time": "2022-09-28T15:42:54.013Z"
   },
   {
    "duration": 4,
    "start_time": "2022-09-28T15:43:00.565Z"
   },
   {
    "duration": 5,
    "start_time": "2022-09-28T15:43:01.968Z"
   },
   {
    "duration": 8,
    "start_time": "2022-09-28T15:45:29.677Z"
   },
   {
    "duration": 9,
    "start_time": "2022-09-28T15:45:34.632Z"
   },
   {
    "duration": 105,
    "start_time": "2022-09-28T15:46:20.522Z"
   },
   {
    "duration": 4,
    "start_time": "2022-09-28T15:46:27.585Z"
   },
   {
    "duration": 16,
    "start_time": "2022-09-28T15:46:37.693Z"
   },
   {
    "duration": 7,
    "start_time": "2022-09-28T15:46:49.829Z"
   },
   {
    "duration": 10,
    "start_time": "2022-09-28T15:47:50.580Z"
   },
   {
    "duration": 75,
    "start_time": "2022-09-28T15:48:05.099Z"
   },
   {
    "duration": 4,
    "start_time": "2022-09-28T15:48:10.909Z"
   },
   {
    "duration": 10,
    "start_time": "2022-09-28T15:48:30.035Z"
   },
   {
    "duration": 6,
    "start_time": "2022-09-28T15:49:19.085Z"
   },
   {
    "duration": 7,
    "start_time": "2022-09-28T16:03:18.891Z"
   },
   {
    "duration": 8,
    "start_time": "2022-09-28T16:04:05.760Z"
   },
   {
    "duration": 10,
    "start_time": "2022-09-28T16:04:25.160Z"
   },
   {
    "duration": 7,
    "start_time": "2022-09-28T16:04:28.125Z"
   },
   {
    "duration": 13,
    "start_time": "2022-09-28T16:05:20.457Z"
   },
   {
    "duration": 10,
    "start_time": "2022-09-28T16:05:26.037Z"
   },
   {
    "duration": 11,
    "start_time": "2022-09-28T16:05:31.546Z"
   },
   {
    "duration": 8,
    "start_time": "2022-09-28T16:05:47.537Z"
   },
   {
    "duration": 6,
    "start_time": "2022-09-28T16:06:07.036Z"
   },
   {
    "duration": 10,
    "start_time": "2022-09-28T16:06:46.264Z"
   },
   {
    "duration": 5,
    "start_time": "2022-09-28T16:08:52.884Z"
   },
   {
    "duration": 7,
    "start_time": "2022-09-28T16:08:59.847Z"
   },
   {
    "duration": 12,
    "start_time": "2022-09-28T16:18:49.539Z"
   },
   {
    "duration": 6,
    "start_time": "2022-09-28T16:19:08.940Z"
   },
   {
    "duration": 3,
    "start_time": "2022-09-28T16:19:32.898Z"
   },
   {
    "duration": 7,
    "start_time": "2022-09-28T16:20:02.858Z"
   },
   {
    "duration": 5,
    "start_time": "2022-09-28T16:25:13.255Z"
   },
   {
    "duration": 157,
    "start_time": "2022-09-28T16:25:15.842Z"
   },
   {
    "duration": 127,
    "start_time": "2022-09-28T16:25:18.372Z"
   },
   {
    "duration": 13,
    "start_time": "2022-09-28T16:25:19.848Z"
   },
   {
    "duration": 341,
    "start_time": "2022-09-28T16:25:23.422Z"
   },
   {
    "duration": 270,
    "start_time": "2022-09-28T16:25:29.723Z"
   },
   {
    "duration": 315,
    "start_time": "2022-09-28T16:25:34.677Z"
   },
   {
    "duration": 311,
    "start_time": "2022-09-28T16:25:38.455Z"
   },
   {
    "duration": 369,
    "start_time": "2022-09-28T16:25:48.408Z"
   },
   {
    "duration": 345,
    "start_time": "2022-09-28T16:26:01.851Z"
   },
   {
    "duration": 194,
    "start_time": "2022-09-28T16:26:14.299Z"
   },
   {
    "duration": 341,
    "start_time": "2022-09-28T16:39:16.060Z"
   },
   {
    "duration": 1267,
    "start_time": "2022-09-28T19:31:22.730Z"
   },
   {
    "duration": 69,
    "start_time": "2022-09-28T19:31:23.999Z"
   },
   {
    "duration": 12,
    "start_time": "2022-09-28T19:31:24.070Z"
   },
   {
    "duration": 18,
    "start_time": "2022-09-28T19:31:24.084Z"
   },
   {
    "duration": 28,
    "start_time": "2022-09-28T19:31:24.103Z"
   },
   {
    "duration": 4,
    "start_time": "2022-09-28T19:31:24.132Z"
   },
   {
    "duration": 9,
    "start_time": "2022-09-28T19:31:24.138Z"
   },
   {
    "duration": 16,
    "start_time": "2022-09-28T19:31:24.149Z"
   },
   {
    "duration": 139,
    "start_time": "2022-09-28T19:31:24.166Z"
   },
   {
    "duration": 8,
    "start_time": "2022-09-28T19:31:24.308Z"
   },
   {
    "duration": 12,
    "start_time": "2022-09-28T19:31:24.318Z"
   },
   {
    "duration": 13,
    "start_time": "2022-09-28T19:31:24.331Z"
   },
   {
    "duration": 7,
    "start_time": "2022-09-28T19:31:24.345Z"
   },
   {
    "duration": 7,
    "start_time": "2022-09-28T19:31:24.353Z"
   },
   {
    "duration": 10,
    "start_time": "2022-09-28T19:31:24.362Z"
   },
   {
    "duration": 22,
    "start_time": "2022-09-28T19:31:24.373Z"
   },
   {
    "duration": 5,
    "start_time": "2022-09-28T19:31:24.397Z"
   },
   {
    "duration": 11,
    "start_time": "2022-09-28T19:31:24.403Z"
   },
   {
    "duration": 12,
    "start_time": "2022-09-28T19:31:24.415Z"
   },
   {
    "duration": 4,
    "start_time": "2022-09-28T19:31:24.428Z"
   },
   {
    "duration": 13,
    "start_time": "2022-09-28T19:31:24.434Z"
   },
   {
    "duration": 160,
    "start_time": "2022-09-28T19:31:24.449Z"
   },
   {
    "duration": 136,
    "start_time": "2022-09-28T19:31:24.611Z"
   },
   {
    "duration": 11,
    "start_time": "2022-09-28T19:31:24.749Z"
   },
   {
    "duration": 386,
    "start_time": "2022-09-28T19:31:24.762Z"
   },
   {
    "duration": 322,
    "start_time": "2022-09-28T19:31:25.150Z"
   },
   {
    "duration": 468,
    "start_time": "2022-09-28T19:31:25.474Z"
   },
   {
    "duration": 315,
    "start_time": "2022-09-28T19:31:25.946Z"
   },
   {
    "duration": 471,
    "start_time": "2022-09-28T19:31:26.263Z"
   },
   {
    "duration": 224,
    "start_time": "2022-09-28T19:31:26.736Z"
   },
   {
    "duration": 5,
    "start_time": "2022-09-28T19:31:26.962Z"
   },
   {
    "duration": 232,
    "start_time": "2022-09-28T19:31:26.969Z"
   },
   {
    "duration": 308,
    "start_time": "2022-09-28T19:33:53.634Z"
   },
   {
    "duration": 5,
    "start_time": "2022-09-28T19:36:58.593Z"
   },
   {
    "duration": 230,
    "start_time": "2022-09-28T19:38:02.633Z"
   },
   {
    "duration": 127,
    "start_time": "2022-09-28T19:43:04.441Z"
   },
   {
    "duration": 7,
    "start_time": "2022-09-28T19:43:46.036Z"
   },
   {
    "duration": 24,
    "start_time": "2022-09-28T19:45:08.030Z"
   },
   {
    "duration": 21,
    "start_time": "2022-09-28T19:45:28.672Z"
   },
   {
    "duration": 23,
    "start_time": "2022-09-28T19:46:19.664Z"
   },
   {
    "duration": 11,
    "start_time": "2022-09-28T19:48:40.197Z"
   },
   {
    "duration": 149,
    "start_time": "2022-09-28T19:51:19.660Z"
   },
   {
    "duration": 32,
    "start_time": "2022-09-28T19:55:11.598Z"
   },
   {
    "duration": 10,
    "start_time": "2022-09-28T19:55:44.598Z"
   },
   {
    "duration": 27,
    "start_time": "2022-09-28T19:56:09.243Z"
   },
   {
    "duration": 15,
    "start_time": "2022-09-28T19:59:20.631Z"
   },
   {
    "duration": 19,
    "start_time": "2022-09-28T19:59:26.517Z"
   },
   {
    "duration": 12,
    "start_time": "2022-09-28T20:04:58.033Z"
   },
   {
    "duration": 5,
    "start_time": "2022-09-28T20:06:11.547Z"
   },
   {
    "duration": 44,
    "start_time": "2022-09-28T20:06:19.811Z"
   },
   {
    "duration": 9,
    "start_time": "2022-09-28T20:06:49.430Z"
   },
   {
    "duration": 137,
    "start_time": "2022-09-28T20:07:06.924Z"
   },
   {
    "duration": 26,
    "start_time": "2022-09-28T20:07:26.930Z"
   },
   {
    "duration": 14,
    "start_time": "2022-09-28T20:07:59.998Z"
   },
   {
    "duration": 1125,
    "start_time": "2022-09-28T20:13:07.214Z"
   },
   {
    "duration": 28,
    "start_time": "2022-09-28T20:13:08.341Z"
   },
   {
    "duration": 12,
    "start_time": "2022-09-28T20:13:08.371Z"
   },
   {
    "duration": 12,
    "start_time": "2022-09-28T20:13:08.384Z"
   },
   {
    "duration": 25,
    "start_time": "2022-09-28T20:13:08.398Z"
   },
   {
    "duration": 5,
    "start_time": "2022-09-28T20:13:08.425Z"
   },
   {
    "duration": 11,
    "start_time": "2022-09-28T20:13:08.431Z"
   },
   {
    "duration": 18,
    "start_time": "2022-09-28T20:13:08.443Z"
   },
   {
    "duration": 53,
    "start_time": "2022-09-28T20:13:08.462Z"
   },
   {
    "duration": 8,
    "start_time": "2022-09-28T20:13:08.516Z"
   },
   {
    "duration": 12,
    "start_time": "2022-09-28T20:13:08.526Z"
   },
   {
    "duration": 15,
    "start_time": "2022-09-28T20:13:08.540Z"
   },
   {
    "duration": 10,
    "start_time": "2022-09-28T20:13:08.556Z"
   },
   {
    "duration": 8,
    "start_time": "2022-09-28T20:13:08.569Z"
   },
   {
    "duration": 23,
    "start_time": "2022-09-28T20:13:08.578Z"
   },
   {
    "duration": 6,
    "start_time": "2022-09-28T20:13:08.603Z"
   },
   {
    "duration": 12,
    "start_time": "2022-09-28T20:13:08.610Z"
   },
   {
    "duration": 10,
    "start_time": "2022-09-28T20:13:08.623Z"
   },
   {
    "duration": 7,
    "start_time": "2022-09-28T20:13:08.635Z"
   },
   {
    "duration": 4,
    "start_time": "2022-09-28T20:13:08.644Z"
   },
   {
    "duration": 7,
    "start_time": "2022-09-28T20:13:08.650Z"
   },
   {
    "duration": 198,
    "start_time": "2022-09-28T20:13:08.659Z"
   },
   {
    "duration": 141,
    "start_time": "2022-09-28T20:13:08.858Z"
   },
   {
    "duration": 12,
    "start_time": "2022-09-28T20:13:09.000Z"
   },
   {
    "duration": 388,
    "start_time": "2022-09-28T20:13:09.014Z"
   },
   {
    "duration": 295,
    "start_time": "2022-09-28T20:13:09.404Z"
   },
   {
    "duration": 392,
    "start_time": "2022-09-28T20:13:09.701Z"
   },
   {
    "duration": 286,
    "start_time": "2022-09-28T20:13:10.094Z"
   },
   {
    "duration": 402,
    "start_time": "2022-09-28T20:13:10.381Z"
   },
   {
    "duration": 213,
    "start_time": "2022-09-28T20:13:10.784Z"
   },
   {
    "duration": 4,
    "start_time": "2022-09-28T20:13:10.999Z"
   },
   {
    "duration": 219,
    "start_time": "2022-09-28T20:13:11.005Z"
   },
   {
    "duration": 286,
    "start_time": "2022-09-28T20:13:11.226Z"
   },
   {
    "duration": 4,
    "start_time": "2022-09-28T20:13:11.514Z"
   },
   {
    "duration": 141,
    "start_time": "2022-09-28T20:13:11.519Z"
   },
   {
    "duration": 6,
    "start_time": "2022-09-28T20:13:11.662Z"
   },
   {
    "duration": 47,
    "start_time": "2022-09-28T20:13:11.670Z"
   },
   {
    "duration": 12,
    "start_time": "2022-09-28T20:13:11.719Z"
   },
   {
    "duration": 140,
    "start_time": "2022-09-28T20:13:11.733Z"
   },
   {
    "duration": 104,
    "start_time": "2022-09-28T20:13:11.875Z"
   },
   {
    "duration": 0,
    "start_time": "2022-09-28T20:13:11.981Z"
   },
   {
    "duration": 44,
    "start_time": "2022-09-28T20:14:48.132Z"
   },
   {
    "duration": 15,
    "start_time": "2022-09-28T20:15:56.912Z"
   },
   {
    "duration": 1113,
    "start_time": "2022-09-28T20:16:43.870Z"
   },
   {
    "duration": 28,
    "start_time": "2022-09-28T20:16:44.985Z"
   },
   {
    "duration": 14,
    "start_time": "2022-09-28T20:16:45.015Z"
   },
   {
    "duration": 20,
    "start_time": "2022-09-28T20:16:45.031Z"
   },
   {
    "duration": 30,
    "start_time": "2022-09-28T20:16:45.053Z"
   },
   {
    "duration": 12,
    "start_time": "2022-09-28T20:16:45.085Z"
   },
   {
    "duration": 15,
    "start_time": "2022-09-28T20:16:45.098Z"
   },
   {
    "duration": 25,
    "start_time": "2022-09-28T20:16:45.115Z"
   },
   {
    "duration": 64,
    "start_time": "2022-09-28T20:16:45.142Z"
   },
   {
    "duration": 8,
    "start_time": "2022-09-28T20:16:45.208Z"
   },
   {
    "duration": 14,
    "start_time": "2022-09-28T20:16:45.217Z"
   },
   {
    "duration": 16,
    "start_time": "2022-09-28T20:16:45.233Z"
   },
   {
    "duration": 9,
    "start_time": "2022-09-28T20:16:45.250Z"
   },
   {
    "duration": 8,
    "start_time": "2022-09-28T20:16:45.261Z"
   },
   {
    "duration": 24,
    "start_time": "2022-09-28T20:16:45.271Z"
   },
   {
    "duration": 5,
    "start_time": "2022-09-28T20:16:45.298Z"
   },
   {
    "duration": 10,
    "start_time": "2022-09-28T20:16:45.305Z"
   },
   {
    "duration": 10,
    "start_time": "2022-09-28T20:16:45.316Z"
   },
   {
    "duration": 7,
    "start_time": "2022-09-28T20:16:45.328Z"
   },
   {
    "duration": 6,
    "start_time": "2022-09-28T20:16:45.336Z"
   },
   {
    "duration": 8,
    "start_time": "2022-09-28T20:16:45.343Z"
   },
   {
    "duration": 180,
    "start_time": "2022-09-28T20:16:45.353Z"
   },
   {
    "duration": 127,
    "start_time": "2022-09-28T20:16:45.535Z"
   },
   {
    "duration": 12,
    "start_time": "2022-09-28T20:16:45.663Z"
   },
   {
    "duration": 393,
    "start_time": "2022-09-28T20:16:45.677Z"
   },
   {
    "duration": 296,
    "start_time": "2022-09-28T20:16:46.071Z"
   },
   {
    "duration": 492,
    "start_time": "2022-09-28T20:16:46.369Z"
   },
   {
    "duration": 308,
    "start_time": "2022-09-28T20:16:46.865Z"
   },
   {
    "duration": 397,
    "start_time": "2022-09-28T20:16:47.175Z"
   },
   {
    "duration": 197,
    "start_time": "2022-09-28T20:16:47.574Z"
   },
   {
    "duration": 4,
    "start_time": "2022-09-28T20:16:47.772Z"
   },
   {
    "duration": 217,
    "start_time": "2022-09-28T20:16:47.778Z"
   },
   {
    "duration": 307,
    "start_time": "2022-09-28T20:16:47.997Z"
   },
   {
    "duration": 4,
    "start_time": "2022-09-28T20:16:48.306Z"
   },
   {
    "duration": 148,
    "start_time": "2022-09-28T20:16:48.312Z"
   },
   {
    "duration": 7,
    "start_time": "2022-09-28T20:16:48.463Z"
   },
   {
    "duration": 42,
    "start_time": "2022-09-28T20:16:48.472Z"
   },
   {
    "duration": 12,
    "start_time": "2022-09-28T20:16:48.515Z"
   },
   {
    "duration": 166,
    "start_time": "2022-09-28T20:16:48.530Z"
   },
   {
    "duration": 45,
    "start_time": "2022-09-28T20:16:48.697Z"
   },
   {
    "duration": 13,
    "start_time": "2022-09-28T20:16:48.744Z"
   },
   {
    "duration": 1208,
    "start_time": "2022-09-29T17:16:25.137Z"
   },
   {
    "duration": 64,
    "start_time": "2022-09-29T17:16:26.347Z"
   },
   {
    "duration": 19,
    "start_time": "2022-09-29T17:16:26.413Z"
   },
   {
    "duration": 17,
    "start_time": "2022-09-29T17:16:26.434Z"
   },
   {
    "duration": 31,
    "start_time": "2022-09-29T17:16:26.454Z"
   },
   {
    "duration": 9,
    "start_time": "2022-09-29T17:16:26.487Z"
   },
   {
    "duration": 14,
    "start_time": "2022-09-29T17:16:26.497Z"
   },
   {
    "duration": 26,
    "start_time": "2022-09-29T17:16:26.512Z"
   },
   {
    "duration": 146,
    "start_time": "2022-09-29T17:16:26.540Z"
   },
   {
    "duration": 9,
    "start_time": "2022-09-29T17:16:26.688Z"
   },
   {
    "duration": 15,
    "start_time": "2022-09-29T17:16:26.698Z"
   },
   {
    "duration": 22,
    "start_time": "2022-09-29T17:16:26.715Z"
   },
   {
    "duration": 10,
    "start_time": "2022-09-29T17:16:26.739Z"
   },
   {
    "duration": 8,
    "start_time": "2022-09-29T17:16:26.753Z"
   },
   {
    "duration": 14,
    "start_time": "2022-09-29T17:16:26.763Z"
   },
   {
    "duration": 4,
    "start_time": "2022-09-29T17:16:26.780Z"
   },
   {
    "duration": 8,
    "start_time": "2022-09-29T17:16:26.786Z"
   },
   {
    "duration": 29,
    "start_time": "2022-09-29T17:16:26.796Z"
   },
   {
    "duration": 21,
    "start_time": "2022-09-29T17:16:26.829Z"
   },
   {
    "duration": 22,
    "start_time": "2022-09-29T17:16:26.851Z"
   },
   {
    "duration": 13,
    "start_time": "2022-09-29T17:16:26.874Z"
   },
   {
    "duration": 190,
    "start_time": "2022-09-29T17:16:26.889Z"
   },
   {
    "duration": 155,
    "start_time": "2022-09-29T17:16:27.081Z"
   },
   {
    "duration": 15,
    "start_time": "2022-09-29T17:16:27.239Z"
   },
   {
    "duration": 431,
    "start_time": "2022-09-29T17:16:27.256Z"
   },
   {
    "duration": 360,
    "start_time": "2022-09-29T17:16:27.689Z"
   },
   {
    "duration": 418,
    "start_time": "2022-09-29T17:16:28.052Z"
   },
   {
    "duration": 330,
    "start_time": "2022-09-29T17:16:28.472Z"
   },
   {
    "duration": 485,
    "start_time": "2022-09-29T17:16:28.804Z"
   },
   {
    "duration": 246,
    "start_time": "2022-09-29T17:16:29.291Z"
   },
   {
    "duration": 5,
    "start_time": "2022-09-29T17:16:29.539Z"
   },
   {
    "duration": 226,
    "start_time": "2022-09-29T17:16:29.546Z"
   },
   {
    "duration": 314,
    "start_time": "2022-09-29T17:16:29.775Z"
   },
   {
    "duration": 5,
    "start_time": "2022-09-29T17:16:30.091Z"
   },
   {
    "duration": 163,
    "start_time": "2022-09-29T17:16:30.098Z"
   },
   {
    "duration": 7,
    "start_time": "2022-09-29T17:16:30.262Z"
   },
   {
    "duration": 79,
    "start_time": "2022-09-29T17:16:30.271Z"
   },
   {
    "duration": 22,
    "start_time": "2022-09-29T17:16:30.352Z"
   },
   {
    "duration": 162,
    "start_time": "2022-09-29T17:16:30.376Z"
   },
   {
    "duration": 45,
    "start_time": "2022-09-29T17:16:30.541Z"
   },
   {
    "duration": 40,
    "start_time": "2022-09-29T17:16:30.589Z"
   }
  ],
  "kernelspec": {
   "display_name": "Python 3 (ipykernel)",
   "language": "python",
   "name": "python3"
  },
  "language_info": {
   "codemirror_mode": {
    "name": "ipython",
    "version": 3
   },
   "file_extension": ".py",
   "mimetype": "text/x-python",
   "name": "python",
   "nbconvert_exporter": "python",
   "pygments_lexer": "ipython3",
   "version": "3.9.7"
  },
  "toc": {
   "base_numbering": 1,
   "nav_menu": {},
   "number_sections": true,
   "sideBar": true,
   "skip_h1_title": true,
   "title_cell": "Table of Contents",
   "title_sidebar": "Contents",
   "toc_cell": false,
   "toc_position": {},
   "toc_section_display": true,
   "toc_window_display": false
  }
 },
 "nbformat": 4,
 "nbformat_minor": 2
}
