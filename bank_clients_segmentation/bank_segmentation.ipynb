{
 "cells": [
  {
   "cell_type": "markdown",
   "id": "a1023996",
   "metadata": {},
   "source": [
    "# Сегментация пользователей банка\n",
    "\n",
    "***Основная цель:*** Определение значений параметров, характерных для группы пользователей, переставших пользоваться услугами банка. \n",
    "\n",
    "***Для кого и зачем:*** Для менеджеров, принимающих решения о развитии продуктов банка и стремящихся повысить долю лояльных клиентов.\n",
    "\n",
    "***Что сделаем:***\n",
    "- сделаем [общий обзор](#info_id) данных;\n",
    "- исследуем наличие зависимости между [количеством продуктов и оттоком](#products_id);\n",
    "- посмотрим, есть ли зависимость между [кредитным рейтингом и оттоком](#score_id);\n",
    "- посмотрим, какие доли оттока демонстрируют [разные города](#city_id);\n",
    "- узнаем, влияет ли [возрастная группа на отток](#age_id);\n",
    "- проанализируем наличие взаимосвязи между [количеством объектов и оттоком](#objects_id);\n",
    "- оценим, как влияет [баланс на счете клиента на отток](#balance_id);\n",
    "- определим влияние [уровня зарплаты на отток](#salary_id);\n",
    "- рассмотрим [доли оттока у клиентов, имеющих кредитную карту и не имеющих такой](#credit_card_id);\n",
    "- проведем [сегментацию клиентов](#segmentation_id) по количеству используемых ими продуктов;\n",
    "- в завершении [проверим несколько статистических гипотез](#stat_tests_id) и сформулируем [выводы](#summary_id).\n",
    "\n",
    "***Презентация по проекту:*** <a href=\"https://disk.yandex.ru/i/txLSWbRl8yRcug\">посмотреть.</a>\n",
    "    \n",
    "***Дашборд в Tableau Public:*** <a href=\"https://public.tableau.com/app/profile/danil6496/viz/Bank_16693167366810/Dashboard1?publish=yes\">посмотреть</a>."
   ]
  },
  {
   "cell_type": "markdown",
   "id": "80dc167c",
   "metadata": {},
   "source": [
    "## Знакомство с данными\n",
    "\n",
    "Импортируем необходимые библиотеки."
   ]
  },
  {
   "cell_type": "code",
   "execution_count": 1,
   "id": "00619202",
   "metadata": {},
   "outputs": [],
   "source": [
    "import pandas as pd\n",
    "import matplotlib.pyplot as plt\n",
    "import seaborn as sns\n",
    "from scipy import stats as st\n",
    "import math as mth\n",
    "\n",
    "sns.set(rc={'figure.figsize':(11.7,8.27)})"
   ]
  },
  {
   "cell_type": "markdown",
   "id": "d4451a44",
   "metadata": {},
   "source": [
    "Загрузим исходные данные и посмотрим первые 5 строк."
   ]
  },
  {
   "cell_type": "code",
   "execution_count": 2,
   "id": "7d535dd0",
   "metadata": {},
   "outputs": [
    {
     "data": {
      "text/html": [
       "<div>\n",
       "<style scoped>\n",
       "    .dataframe tbody tr th:only-of-type {\n",
       "        vertical-align: middle;\n",
       "    }\n",
       "\n",
       "    .dataframe tbody tr th {\n",
       "        vertical-align: top;\n",
       "    }\n",
       "\n",
       "    .dataframe thead th {\n",
       "        text-align: right;\n",
       "    }\n",
       "</style>\n",
       "<table border=\"1\" class=\"dataframe\">\n",
       "  <thead>\n",
       "    <tr style=\"text-align: right;\">\n",
       "      <th></th>\n",
       "      <th>userid</th>\n",
       "      <th>score</th>\n",
       "      <th>City</th>\n",
       "      <th>Gender</th>\n",
       "      <th>Age</th>\n",
       "      <th>Objects</th>\n",
       "      <th>Balance</th>\n",
       "      <th>Products</th>\n",
       "      <th>CreditCard</th>\n",
       "      <th>Loyalty</th>\n",
       "      <th>estimated_salary</th>\n",
       "      <th>Churn</th>\n",
       "    </tr>\n",
       "  </thead>\n",
       "  <tbody>\n",
       "    <tr>\n",
       "      <th>0</th>\n",
       "      <td>15677338</td>\n",
       "      <td>619</td>\n",
       "      <td>Ярославль</td>\n",
       "      <td>Ж</td>\n",
       "      <td>42</td>\n",
       "      <td>2</td>\n",
       "      <td>NaN</td>\n",
       "      <td>1</td>\n",
       "      <td>1</td>\n",
       "      <td>1</td>\n",
       "      <td>101348.88</td>\n",
       "      <td>1</td>\n",
       "    </tr>\n",
       "    <tr>\n",
       "      <th>1</th>\n",
       "      <td>15690047</td>\n",
       "      <td>608</td>\n",
       "      <td>Рыбинск</td>\n",
       "      <td>Ж</td>\n",
       "      <td>41</td>\n",
       "      <td>1</td>\n",
       "      <td>83807.86</td>\n",
       "      <td>1</td>\n",
       "      <td>0</td>\n",
       "      <td>1</td>\n",
       "      <td>112542.58</td>\n",
       "      <td>0</td>\n",
       "    </tr>\n",
       "    <tr>\n",
       "      <th>2</th>\n",
       "      <td>15662040</td>\n",
       "      <td>502</td>\n",
       "      <td>Ярославль</td>\n",
       "      <td>Ж</td>\n",
       "      <td>42</td>\n",
       "      <td>8</td>\n",
       "      <td>159660.80</td>\n",
       "      <td>3</td>\n",
       "      <td>1</td>\n",
       "      <td>0</td>\n",
       "      <td>113931.57</td>\n",
       "      <td>1</td>\n",
       "    </tr>\n",
       "    <tr>\n",
       "      <th>3</th>\n",
       "      <td>15744090</td>\n",
       "      <td>699</td>\n",
       "      <td>Ярославль</td>\n",
       "      <td>Ж</td>\n",
       "      <td>39</td>\n",
       "      <td>1</td>\n",
       "      <td>NaN</td>\n",
       "      <td>2</td>\n",
       "      <td>0</td>\n",
       "      <td>0</td>\n",
       "      <td>93826.63</td>\n",
       "      <td>0</td>\n",
       "    </tr>\n",
       "    <tr>\n",
       "      <th>4</th>\n",
       "      <td>15780624</td>\n",
       "      <td>850</td>\n",
       "      <td>Рыбинск</td>\n",
       "      <td>Ж</td>\n",
       "      <td>43</td>\n",
       "      <td>2</td>\n",
       "      <td>125510.82</td>\n",
       "      <td>1</td>\n",
       "      <td>1</td>\n",
       "      <td>1</td>\n",
       "      <td>79084.10</td>\n",
       "      <td>0</td>\n",
       "    </tr>\n",
       "  </tbody>\n",
       "</table>\n",
       "</div>"
      ],
      "text/plain": [
       "     userid  score       City Gender  Age  Objects    Balance  Products  \\\n",
       "0  15677338    619  Ярославль      Ж   42        2        NaN         1   \n",
       "1  15690047    608    Рыбинск      Ж   41        1   83807.86         1   \n",
       "2  15662040    502  Ярославль      Ж   42        8  159660.80         3   \n",
       "3  15744090    699  Ярославль      Ж   39        1        NaN         2   \n",
       "4  15780624    850    Рыбинск      Ж   43        2  125510.82         1   \n",
       "\n",
       "   CreditCard  Loyalty  estimated_salary  Churn  \n",
       "0           1        1         101348.88      1  \n",
       "1           0        1         112542.58      0  \n",
       "2           1        0         113931.57      1  \n",
       "3           0        0          93826.63      0  \n",
       "4           1        1          79084.10      0  "
      ]
     },
     "execution_count": 2,
     "metadata": {},
     "output_type": "execute_result"
    }
   ],
   "source": [
    "df = pd.read_csv(r'https://code.s3.yandex.net/datasets/bank_dataset.csv')\n",
    "df.head()"
   ]
  },
  {
   "cell_type": "markdown",
   "id": "c8960198",
   "metadata": {},
   "source": [
    "<a id='info_id'></a>\n",
    "\n",
    "Посмотрим общую информацию о данных."
   ]
  },
  {
   "cell_type": "code",
   "execution_count": 3,
   "id": "2c56f11b",
   "metadata": {},
   "outputs": [
    {
     "name": "stdout",
     "output_type": "stream",
     "text": [
      "<class 'pandas.core.frame.DataFrame'>\n",
      "RangeIndex: 10000 entries, 0 to 9999\n",
      "Data columns (total 12 columns):\n",
      " #   Column            Non-Null Count  Dtype  \n",
      "---  ------            --------------  -----  \n",
      " 0   userid            10000 non-null  int64  \n",
      " 1   score             10000 non-null  int64  \n",
      " 2   City              10000 non-null  object \n",
      " 3   Gender            10000 non-null  object \n",
      " 4   Age               10000 non-null  int64  \n",
      " 5   Objects           10000 non-null  int64  \n",
      " 6   Balance           6383 non-null   float64\n",
      " 7   Products          10000 non-null  int64  \n",
      " 8   CreditCard        10000 non-null  int64  \n",
      " 9   Loyalty           10000 non-null  int64  \n",
      " 10  estimated_salary  10000 non-null  float64\n",
      " 11  Churn             10000 non-null  int64  \n",
      "dtypes: float64(2), int64(8), object(2)\n",
      "memory usage: 937.6+ KB\n"
     ]
    }
   ],
   "source": [
    "df.info()"
   ]
  },
  {
   "cell_type": "markdown",
   "id": "8a622f27",
   "metadata": {},
   "source": [
    "- Всего в нашей выборке 10 тысяч записей;\n",
    "- Пропуски есть только в колонке `Balance`. Пропущено около 1/3 значений;\n",
    "- Типы данных логично соответствуют информации в колонках. Можно понять тип только в столбцах `CreditCard`, `Loyalty` и `Churn` с int на bool;\n",
    "- Названия столбцов для удобства необходимо привести в \"змеиному\" регистру.\n",
    "\n",
    "Теперь посмотрим на разброс численных признаков."
   ]
  },
  {
   "cell_type": "code",
   "execution_count": 4,
   "id": "4051de1b",
   "metadata": {},
   "outputs": [
    {
     "data": {
      "text/html": [
       "<div>\n",
       "<style scoped>\n",
       "    .dataframe tbody tr th:only-of-type {\n",
       "        vertical-align: middle;\n",
       "    }\n",
       "\n",
       "    .dataframe tbody tr th {\n",
       "        vertical-align: top;\n",
       "    }\n",
       "\n",
       "    .dataframe thead th {\n",
       "        text-align: right;\n",
       "    }\n",
       "</style>\n",
       "<table border=\"1\" class=\"dataframe\">\n",
       "  <thead>\n",
       "    <tr style=\"text-align: right;\">\n",
       "      <th></th>\n",
       "      <th>count</th>\n",
       "      <th>mean</th>\n",
       "      <th>std</th>\n",
       "      <th>min</th>\n",
       "      <th>25%</th>\n",
       "      <th>50%</th>\n",
       "      <th>75%</th>\n",
       "      <th>max</th>\n",
       "    </tr>\n",
       "  </thead>\n",
       "  <tbody>\n",
       "    <tr>\n",
       "      <th>userid</th>\n",
       "      <td>10,000.00</td>\n",
       "      <td>15,733,676.57</td>\n",
       "      <td>71,936.19</td>\n",
       "      <td>15,608,437.00</td>\n",
       "      <td>15,671,264.25</td>\n",
       "      <td>15,733,474.00</td>\n",
       "      <td>15,795,969.75</td>\n",
       "      <td>15,858,426.00</td>\n",
       "    </tr>\n",
       "    <tr>\n",
       "      <th>score</th>\n",
       "      <td>10,000.00</td>\n",
       "      <td>650.53</td>\n",
       "      <td>96.65</td>\n",
       "      <td>350.00</td>\n",
       "      <td>584.00</td>\n",
       "      <td>652.00</td>\n",
       "      <td>718.00</td>\n",
       "      <td>850.00</td>\n",
       "    </tr>\n",
       "    <tr>\n",
       "      <th>Age</th>\n",
       "      <td>10,000.00</td>\n",
       "      <td>38.92</td>\n",
       "      <td>10.49</td>\n",
       "      <td>18.00</td>\n",
       "      <td>32.00</td>\n",
       "      <td>37.00</td>\n",
       "      <td>44.00</td>\n",
       "      <td>92.00</td>\n",
       "    </tr>\n",
       "    <tr>\n",
       "      <th>Objects</th>\n",
       "      <td>10,000.00</td>\n",
       "      <td>5.01</td>\n",
       "      <td>2.89</td>\n",
       "      <td>0.00</td>\n",
       "      <td>3.00</td>\n",
       "      <td>5.00</td>\n",
       "      <td>7.00</td>\n",
       "      <td>10.00</td>\n",
       "    </tr>\n",
       "    <tr>\n",
       "      <th>Balance</th>\n",
       "      <td>6,383.00</td>\n",
       "      <td>119,827.49</td>\n",
       "      <td>30,095.06</td>\n",
       "      <td>3,768.69</td>\n",
       "      <td>100,181.98</td>\n",
       "      <td>119,839.69</td>\n",
       "      <td>139,512.29</td>\n",
       "      <td>250,898.09</td>\n",
       "    </tr>\n",
       "    <tr>\n",
       "      <th>Products</th>\n",
       "      <td>10,000.00</td>\n",
       "      <td>1.53</td>\n",
       "      <td>0.58</td>\n",
       "      <td>1.00</td>\n",
       "      <td>1.00</td>\n",
       "      <td>1.00</td>\n",
       "      <td>2.00</td>\n",
       "      <td>4.00</td>\n",
       "    </tr>\n",
       "    <tr>\n",
       "      <th>CreditCard</th>\n",
       "      <td>10,000.00</td>\n",
       "      <td>0.71</td>\n",
       "      <td>0.46</td>\n",
       "      <td>0.00</td>\n",
       "      <td>0.00</td>\n",
       "      <td>1.00</td>\n",
       "      <td>1.00</td>\n",
       "      <td>1.00</td>\n",
       "    </tr>\n",
       "    <tr>\n",
       "      <th>Loyalty</th>\n",
       "      <td>10,000.00</td>\n",
       "      <td>0.52</td>\n",
       "      <td>0.50</td>\n",
       "      <td>0.00</td>\n",
       "      <td>0.00</td>\n",
       "      <td>1.00</td>\n",
       "      <td>1.00</td>\n",
       "      <td>1.00</td>\n",
       "    </tr>\n",
       "    <tr>\n",
       "      <th>estimated_salary</th>\n",
       "      <td>10,000.00</td>\n",
       "      <td>100,090.24</td>\n",
       "      <td>57,510.49</td>\n",
       "      <td>11.58</td>\n",
       "      <td>51,002.11</td>\n",
       "      <td>100,193.91</td>\n",
       "      <td>149,388.25</td>\n",
       "      <td>199,992.48</td>\n",
       "    </tr>\n",
       "    <tr>\n",
       "      <th>Churn</th>\n",
       "      <td>10,000.00</td>\n",
       "      <td>0.20</td>\n",
       "      <td>0.40</td>\n",
       "      <td>0.00</td>\n",
       "      <td>0.00</td>\n",
       "      <td>0.00</td>\n",
       "      <td>0.00</td>\n",
       "      <td>1.00</td>\n",
       "    </tr>\n",
       "  </tbody>\n",
       "</table>\n",
       "</div>"
      ],
      "text/plain": [
       "                                count                 mean  \\\n",
       "userid                      10,000.00        15,733,676.57   \n",
       "score                       10,000.00               650.53   \n",
       "Age                         10,000.00                38.92   \n",
       "Objects                     10,000.00                 5.01   \n",
       "Balance                      6,383.00           119,827.49   \n",
       "Products                    10,000.00                 1.53   \n",
       "CreditCard                  10,000.00                 0.71   \n",
       "Loyalty                     10,000.00                 0.52   \n",
       "estimated_salary            10,000.00           100,090.24   \n",
       "Churn                       10,000.00                 0.20   \n",
       "\n",
       "                                  std                  min  \\\n",
       "userid                      71,936.19        15,608,437.00   \n",
       "score                           96.65               350.00   \n",
       "Age                             10.49                18.00   \n",
       "Objects                          2.89                 0.00   \n",
       "Balance                     30,095.06             3,768.69   \n",
       "Products                         0.58                 1.00   \n",
       "CreditCard                       0.46                 0.00   \n",
       "Loyalty                          0.50                 0.00   \n",
       "estimated_salary            57,510.49                11.58   \n",
       "Churn                            0.40                 0.00   \n",
       "\n",
       "                                  25%                  50%  \\\n",
       "userid                  15,671,264.25        15,733,474.00   \n",
       "score                          584.00               652.00   \n",
       "Age                             32.00                37.00   \n",
       "Objects                          3.00                 5.00   \n",
       "Balance                    100,181.98           119,839.69   \n",
       "Products                         1.00                 1.00   \n",
       "CreditCard                       0.00                 1.00   \n",
       "Loyalty                          0.00                 1.00   \n",
       "estimated_salary            51,002.11           100,193.91   \n",
       "Churn                            0.00                 0.00   \n",
       "\n",
       "                                  75%                  max  \n",
       "userid                  15,795,969.75        15,858,426.00  \n",
       "score                          718.00               850.00  \n",
       "Age                             44.00                92.00  \n",
       "Objects                          7.00                10.00  \n",
       "Balance                    139,512.29           250,898.09  \n",
       "Products                         2.00                 4.00  \n",
       "CreditCard                       1.00                 1.00  \n",
       "Loyalty                          1.00                 1.00  \n",
       "estimated_salary           149,388.25           199,992.48  \n",
       "Churn                            0.00                 1.00  "
      ]
     },
     "execution_count": 4,
     "metadata": {},
     "output_type": "execute_result"
    }
   ],
   "source": [
    "# отключим scientific notation\n",
    "pd.options.display.float_format = '{:20,.2f}'.format\n",
    "\n",
    "df.describe().T"
   ]
  },
  {
   "cell_type": "markdown",
   "id": "e078062a",
   "metadata": {},
   "source": [
    "- Разброс кредитного рейтинга: от 350 до 850. Половина пользователей - с рейтингом выше 652;\n",
    "- Разброс возраста: от 18 до 92. Половина пользователей - старше 37;\n",
    "- Разброс количества объектов: от 0 до 10. Половина пользователей имеет больше 5 объектов;\n",
    "- Разброс баланса: от 3,8 тысяч до 250,9 тысяч. Половина пользователей, у которых указан баланс, - с балансом больше 119,8 тысяч;\n",
    "- Разброс количества продуктов: от 1 до 4. Половина пользователей пользуется только 1 продуктом;\n",
    "- Разброс зарплат: от 11 до 119992. Половина пользователей имеет зарплату больше 100 тысяч. Стоит обратить внимание на неестественно маленькие показатели в столбце зарплат."
   ]
  },
  {
   "cell_type": "markdown",
   "id": "a5f328a0",
   "metadata": {},
   "source": [
    "## Предобработка данных\n",
    "\n",
    "Приведем названия столбцов к \"змеиному\" регистру."
   ]
  },
  {
   "cell_type": "code",
   "execution_count": 5,
   "id": "c0563cff",
   "metadata": {},
   "outputs": [],
   "source": [
    "df.columns = [i.lower() for i in df.columns]\n",
    "df = df.rename(columns={'userid': 'user_id',\n",
    "                        'creditcard': 'credit_card'}) "
   ]
  },
  {
   "cell_type": "markdown",
   "id": "ae8b29d1",
   "metadata": {},
   "source": [
    "Поменяем тип в столбцах `credit_card`, `loyalty` и `churn` с int на bool."
   ]
  },
  {
   "cell_type": "code",
   "execution_count": 6,
   "id": "83fd0130",
   "metadata": {},
   "outputs": [],
   "source": [
    "df[['credit_card', 'loyalty', 'churn']] = df[['credit_card', 'loyalty', 'churn']].astype(bool)"
   ]
  },
  {
   "cell_type": "markdown",
   "id": "bcc4a139",
   "metadata": {},
   "source": [
    "Посмотрим на количество пропусков в столбце `balance`."
   ]
  },
  {
   "cell_type": "code",
   "execution_count": 7,
   "id": "39af6286",
   "metadata": {},
   "outputs": [
    {
     "data": {
      "text/plain": [
       "3617"
      ]
     },
     "execution_count": 7,
     "metadata": {},
     "output_type": "execute_result"
    }
   ],
   "source": [
    "df['balance'].isna().sum()"
   ]
  },
  {
   "cell_type": "markdown",
   "id": "ca8dcd09",
   "metadata": {},
   "source": [
    "- Около трети значений в этом столбце пропущено;\n",
    "- Менять пропуски на нули не будем, так как это может исказить данные. Возможно, клиент пользуется кредитной картой, но у него нет дебетовой, поэтому не баланс нулевой, а счета нет совсем.\n",
    "\n",
    "Посмотрим нет ли в наших данных дубликатов."
   ]
  },
  {
   "cell_type": "code",
   "execution_count": 8,
   "id": "870ba95c",
   "metadata": {},
   "outputs": [
    {
     "data": {
      "text/plain": [
       "0"
      ]
     },
     "execution_count": 8,
     "metadata": {},
     "output_type": "execute_result"
    }
   ],
   "source": [
    "df.duplicated().sum()"
   ]
  },
  {
   "cell_type": "markdown",
   "id": "24dc3be5",
   "metadata": {},
   "source": [
    "- Явных дубликатов нет. \n",
    "\n",
    "Проверим еще, нет ли пользователей, которые в наших данных повторяются."
   ]
  },
  {
   "cell_type": "code",
   "execution_count": 9,
   "id": "8781b969",
   "metadata": {},
   "outputs": [
    {
     "data": {
      "text/plain": [
       "10000"
      ]
     },
     "execution_count": 9,
     "metadata": {},
     "output_type": "execute_result"
    }
   ],
   "source": [
    "df['user_id'].nunique()"
   ]
  },
  {
   "cell_type": "markdown",
   "id": "d5fcb7cf",
   "metadata": {},
   "source": [
    "- Повторяющихся пользователей тоже нет."
   ]
  },
  {
   "cell_type": "markdown",
   "id": "f405ec1f",
   "metadata": {},
   "source": [
    "## Исследовательский анализ данных\n",
    "\n",
    "Построим на распределения каждого признака."
   ]
  },
  {
   "cell_type": "code",
   "execution_count": 10,
   "id": "810b3275",
   "metadata": {},
   "outputs": [
    {
     "data": {
      "image/png": "[encoded data removed]",
      "text/plain": [
       "<Figure size 842.4x595.44 with 9 Axes>"
      ]
     },
     "metadata": {},
     "output_type": "display_data"
    }
   ],
   "source": [
    "df.hist(bins=20);"
   ]
  },
  {
   "cell_type": "markdown",
   "id": "e79d63f5",
   "metadata": {},
   "source": [
    "С пощощью \"ящиков с усами\" посмотрим на наличие выбросов."
   ]
  },
  {
   "cell_type": "code",
   "execution_count": 11,
   "id": "8bbdebb5",
   "metadata": {
    "scrolled": false
   },
   "outputs": [
    {
     "data": {
      "image/png": "[encoded data removed]",
      "text/plain": [
       "<Figure size 842.4x595.44 with 1 Axes>"
      ]
     },
     "metadata": {},
     "output_type": "display_data"
    },
    {
     "data": {
      "image/png": "[encoded data removed]",
      "text/plain": [
       "<Figure size 842.4x595.44 with 1 Axes>"
      ]
     },
     "metadata": {},
     "output_type": "display_data"
    },
    {
     "data": {
      "image/png": "[encoded data removed]",
      "text/plain": [
       "<Figure size 842.4x595.44 with 1 Axes>"
      ]
     },
     "metadata": {},
     "output_type": "display_data"
    },
    {
     "data": {
      "image/png": "[encoded data removed]",
      "text/plain": [
       "<Figure size 842.4x595.44 with 1 Axes>"
      ]
     },
     "metadata": {},
     "output_type": "display_data"
    },
    {
     "data": {
      "image/png": "[encoded data removed]",
      "text/plain": [
       "<Figure size 842.4x595.44 with 1 Axes>"
      ]
     },
     "metadata": {},
     "output_type": "display_data"
    }
   ],
   "source": [
    "for col in ['score', 'age', 'objects', 'balance', 'estimated_salary']:\n",
    "    sns.boxplot(x=df[col], orient='h')\n",
    "    plt.show()"
   ]
  },
  {
   "cell_type": "markdown",
   "id": "f5e3ce94",
   "metadata": {},
   "source": [
    "- У нас есть несколько выбивающихся значений низкого кредитного рейтинга;\n",
    "- Редко возраст клиентов превышает 60 лет.\n",
    "\n",
    "Посмотрим на точные цифры разбивки пользователей по количеству продуктов:"
   ]
  },
  {
   "cell_type": "code",
   "execution_count": 12,
   "id": "52e27a44",
   "metadata": {},
   "outputs": [
    {
     "data": {
      "text/plain": [
       "1    5084\n",
       "2    4590\n",
       "3     266\n",
       "4      60\n",
       "Name: products, dtype: int64"
      ]
     },
     "execution_count": 12,
     "metadata": {},
     "output_type": "execute_result"
    }
   ],
   "source": [
    "df['products'].value_counts()"
   ]
  },
  {
   "cell_type": "markdown",
   "id": "c95e30e6",
   "metadata": {},
   "source": [
    "Посмотрим на 5-процентный перцентиль по зарплате:"
   ]
  },
  {
   "cell_type": "code",
   "execution_count": 13,
   "id": "7c700bc3",
   "metadata": {},
   "outputs": [
    {
     "data": {
      "text/plain": [
       "9851.818500000001"
      ]
     },
     "execution_count": 13,
     "metadata": {},
     "output_type": "execute_result"
    }
   ],
   "source": [
    "df.estimated_salary.quantile(0.05)"
   ]
  },
  {
   "cell_type": "markdown",
   "id": "73cd6c48",
   "metadata": {},
   "source": [
    "Посмотрим на распределение пользователей по признакам наличия кредитной карточки, активности и оттока:"
   ]
  },
  {
   "cell_type": "code",
   "execution_count": 14,
   "id": "dabc8fbc",
   "metadata": {},
   "outputs": [
    {
     "name": "stdout",
     "output_type": "stream",
     "text": [
      "credit_card\n",
      "True                    0.71\n",
      "False                   0.29\n",
      "Name: credit_card, dtype: float64\n",
      "\n",
      "loyalty\n",
      "True                    0.52\n",
      "False                   0.48\n",
      "Name: loyalty, dtype: float64\n",
      "\n",
      "churn\n",
      "False                   0.80\n",
      "True                    0.20\n",
      "Name: churn, dtype: float64\n",
      "\n"
     ]
    }
   ],
   "source": [
    "for col in ['credit_card', 'loyalty', 'churn']:\n",
    "    print(col)\n",
    "    print(df[col].value_counts(normalize=True), end='\\n\\n')"
   ]
  },
  {
   "cell_type": "markdown",
   "id": "450610b8",
   "metadata": {},
   "source": [
    "***Выводы:***\n",
    "\n",
    "- Распределение кредитного рейтинга похоже на нормальное со смещением вправо: у нас довольно много больших рейтингов и почти нет маленьких;\n",
    "- Распределение возраста тоже похоже на нормальное, но со смещением влево: у нас довольно много молодых пользователей и почти нет тех, кому за 60;\n",
    "- Примерно равное количество пользователей владеет 1-9 объектами - около 1000 пользователей в каждой группе. Примерно в два раза меньше пользователей в группах совсем без объектов или с 10 объектами;\n",
    "- Распределение баланса похоже на нормальное со средним в районе 120 тысяч;\n",
    "- Основная масса клиентов банка пользуется 1 или 2 продуктами (5084 и 4590 клиентов, соответственно). 266 клиентов из нашей выборки пользуются тремя продукта, и всего 60 - четырьмя продуктами. Целесообразно здесь будет разбить пользователей на 2 группы: \"использующие 1 продукт\" и \"использующие 2 и более продуктов\";\n",
    "- Распределение зарплат можно назвать равномерным. Причем \"нижние\" 5% имеет зарплату меньше 9,8 тысяч, а \"верхние\" 5% - больше 190 тысяч. Небольшие значения в этом столбце могут быть связаны с тем, что не все из нашей выборки являются зарплатными клиентами банка и многие из них не захотели добровольно предоставлять данные о своей зарплате;\n",
    "- Кредитная карточка есть у 71% клиентов;\n",
    "- Активных и неактивных пользователей примерно равное количество в нашей выборке (52% и 48%, соответственно);\n",
    "- Ушедших клиентов - 20%."
   ]
  },
  {
   "cell_type": "markdown",
   "id": "ec998f76",
   "metadata": {},
   "source": [
    "<a id='products_id'></a>\n",
    "\n",
    "## Исследование наличия зависимости между количеством используемых продуктов и оттоком\n",
    "\n",
    "Создадим дополнительный столбец с двумя категориями: \"1 продукт\" и \"2 и более продуктов\". "
   ]
  },
  {
   "cell_type": "code",
   "execution_count": 15,
   "id": "97c83b82",
   "metadata": {},
   "outputs": [],
   "source": [
    "df['category_by_product'] = df['products'].apply(lambda x: '1 продукт' if x == 1 else '2 и более продуктов')"
   ]
  },
  {
   "cell_type": "markdown",
   "id": "c77b21ed",
   "metadata": {},
   "source": [
    "Теперь посмотрим долю \"отточников\" в каждой категории. "
   ]
  },
  {
   "cell_type": "code",
   "execution_count": 16,
   "id": "68860659",
   "metadata": {},
   "outputs": [
    {
     "data": {
      "text/html": [
       "<div>\n",
       "<style scoped>\n",
       "    .dataframe tbody tr th:only-of-type {\n",
       "        vertical-align: middle;\n",
       "    }\n",
       "\n",
       "    .dataframe tbody tr th {\n",
       "        vertical-align: top;\n",
       "    }\n",
       "\n",
       "    .dataframe thead th {\n",
       "        text-align: right;\n",
       "    }\n",
       "</style>\n",
       "<table border=\"1\" class=\"dataframe\">\n",
       "  <thead>\n",
       "    <tr style=\"text-align: right;\">\n",
       "      <th></th>\n",
       "      <th>Количество используемых продуктов</th>\n",
       "      <th>Доля ушедших</th>\n",
       "      <th>Количество клиентов в группе</th>\n",
       "    </tr>\n",
       "  </thead>\n",
       "  <tbody>\n",
       "    <tr>\n",
       "      <th>0</th>\n",
       "      <td>1 продукт</td>\n",
       "      <td>0.28</td>\n",
       "      <td>5084</td>\n",
       "    </tr>\n",
       "    <tr>\n",
       "      <th>1</th>\n",
       "      <td>2 и более продуктов</td>\n",
       "      <td>0.13</td>\n",
       "      <td>4916</td>\n",
       "    </tr>\n",
       "  </tbody>\n",
       "</table>\n",
       "</div>"
      ],
      "text/plain": [
       "  Количество используемых продуктов         Доля ушедших  \\\n",
       "0                         1 продукт                 0.28   \n",
       "1               2 и более продуктов                 0.13   \n",
       "\n",
       "   Количество клиентов в группе  \n",
       "0                          5084  \n",
       "1                          4916  "
      ]
     },
     "execution_count": 16,
     "metadata": {},
     "output_type": "execute_result"
    }
   ],
   "source": [
    "# создадим функцию для формирования сводной таблицы с общим количеством клиентов и долей ушедших в заданных группах\n",
    "\n",
    "def churn_in_category(data, category, category_name='Название категории'):\n",
    "    t = data.groupby(category).agg({'churn': ['mean', 'count']}).reset_index()\n",
    "    t.columns = t.columns.droplevel(0)\n",
    "    t = t.rename(columns={'': category_name,\n",
    "                      'mean': 'Доля ушедших',\n",
    "                      'count': 'Количество клиентов в группе'})\n",
    "    return t\n",
    "\n",
    "t = churn_in_category(df, 'category_by_product', category_name='Количество используемых продуктов')\n",
    "t"
   ]
  },
  {
   "cell_type": "code",
   "execution_count": 17,
   "id": "cd451e3e",
   "metadata": {},
   "outputs": [
    {
     "data": {
      "image/png": "[encoded data removed]",
      "text/plain": [
       "<Figure size 842.4x595.44 with 1 Axes>"
      ]
     },
     "metadata": {},
     "output_type": "display_data"
    }
   ],
   "source": [
    "# создадим функцию для оформления столбчатой диаграммы\n",
    "\n",
    "def create_barlot(df, category, ylim=1):\n",
    "    ax = sns.barplot(data=df, x=category, y='Доля ушедших')\n",
    "    plt.title('Доля ушедших клиентов и {}'.format(category.lower()))\n",
    "    plt.xlabel(category)\n",
    "    plt.ylabel('Доля ушедших клиентов в группе')\n",
    "    ax.set_ylim([0, ylim])\n",
    "    plt.show()\n",
    "    \n",
    "create_barlot(t, 'Количество используемых продуктов', 0.5)"
   ]
  },
  {
   "cell_type": "markdown",
   "id": "7604ada6",
   "metadata": {},
   "source": [
    "***Вывод:***\n",
    "- Появилась гипотеза: доля ушедших в группе клиентов, которые пользовались только одним продуктом, больше, чем в группе, где клиенты пользовались двумя и более продуктами.\n",
    "\n",
    "Посмотрим распределение долей оттока "
   ]
  },
  {
   "cell_type": "code",
   "execution_count": 18,
   "id": "64196df4",
   "metadata": {},
   "outputs": [
    {
     "data": {
      "text/html": [
       "<div>\n",
       "<style scoped>\n",
       "    .dataframe tbody tr th:only-of-type {\n",
       "        vertical-align: middle;\n",
       "    }\n",
       "\n",
       "    .dataframe tbody tr th {\n",
       "        vertical-align: top;\n",
       "    }\n",
       "\n",
       "    .dataframe thead th {\n",
       "        text-align: right;\n",
       "    }\n",
       "</style>\n",
       "<table border=\"1\" class=\"dataframe\">\n",
       "  <thead>\n",
       "    <tr style=\"text-align: right;\">\n",
       "      <th></th>\n",
       "      <th>Количество используемых продуктов</th>\n",
       "      <th>Доля ушедших</th>\n",
       "      <th>Количество клиентов в группе</th>\n",
       "    </tr>\n",
       "  </thead>\n",
       "  <tbody>\n",
       "    <tr>\n",
       "      <th>0</th>\n",
       "      <td>1</td>\n",
       "      <td>0.28</td>\n",
       "      <td>5084</td>\n",
       "    </tr>\n",
       "    <tr>\n",
       "      <th>1</th>\n",
       "      <td>2</td>\n",
       "      <td>0.08</td>\n",
       "      <td>4590</td>\n",
       "    </tr>\n",
       "    <tr>\n",
       "      <th>2</th>\n",
       "      <td>3</td>\n",
       "      <td>0.83</td>\n",
       "      <td>266</td>\n",
       "    </tr>\n",
       "    <tr>\n",
       "      <th>3</th>\n",
       "      <td>4</td>\n",
       "      <td>1.00</td>\n",
       "      <td>60</td>\n",
       "    </tr>\n",
       "  </tbody>\n",
       "</table>\n",
       "</div>"
      ],
      "text/plain": [
       "   Количество используемых продуктов         Доля ушедших  \\\n",
       "0                                  1                 0.28   \n",
       "1                                  2                 0.08   \n",
       "2                                  3                 0.83   \n",
       "3                                  4                 1.00   \n",
       "\n",
       "   Количество клиентов в группе  \n",
       "0                          5084  \n",
       "1                          4590  \n",
       "2                           266  \n",
       "3                            60  "
      ]
     },
     "execution_count": 18,
     "metadata": {},
     "output_type": "execute_result"
    }
   ],
   "source": [
    "t = churn_in_category(df, 'products', category_name='Количество используемых продуктов')\n",
    "t"
   ]
  },
  {
   "cell_type": "code",
   "execution_count": 19,
   "id": "dc3529b9",
   "metadata": {
    "scrolled": false
   },
   "outputs": [
    {
     "data": {
      "image/png": "[encoded data removed]",
      "text/plain": [
       "<Figure size 842.4x595.44 with 1 Axes>"
      ]
     },
     "metadata": {},
     "output_type": "display_data"
    }
   ],
   "source": [
    "create_barlot(t, 'Количество используемых продуктов', 1.1)"
   ]
  },
  {
   "cell_type": "markdown",
   "id": "8bfbc159",
   "metadata": {},
   "source": [
    "- Так как в группе с 4 объектами количество клиентов слишком маленькое, нельзя считать ее репрезентативной и воспринимать 100% оттока, как достоверную информацию;\n",
    "- Выборка клиентов с 3 объектами тоже не очень многочисленна. Но можно предположить, что у клиентов с 3 объектами доля оттока в несколько раз выше, чем у клиентов с одним объектом. Проверим эту гипотезу позже;\n",
    "- Наименьшая доля оттока у клиентов с двумя объектами."
   ]
  },
  {
   "cell_type": "markdown",
   "id": "88e8df70",
   "metadata": {},
   "source": [
    "<a id='score_id'></a>\n",
    "\n",
    "## Исследование наличия зависимости между кредитным рейтингом и оттоком\n",
    "\n",
    "Построим график разброса двух переменных: кредитного рейтинга и оттока."
   ]
  },
  {
   "cell_type": "code",
   "execution_count": 20,
   "id": "8394561a",
   "metadata": {},
   "outputs": [
    {
     "data": {
      "image/png": "[encoded data removed]",
      "text/plain": [
       "<Figure size 842.4x595.44 with 1 Axes>"
      ]
     },
     "metadata": {},
     "output_type": "display_data"
    }
   ],
   "source": [
    "sns.boxplot(data=df, x=\"churn\", y=\"score\", order=[True, False])\n",
    "plt.title('Отток от кредитного рейтинга')\n",
    "plt.xlabel('Отток')\n",
    "plt.ylabel('Кредитный рейтинг')\n",
    "plt.xticks((0,1), ['Ушли', 'Остались'])\n",
    "plt.show()"
   ]
  },
  {
   "cell_type": "markdown",
   "id": "52e500bc",
   "metadata": {},
   "source": [
    "- Большинство клиентов имеют кредитный рейтинг от 500 до 800;\n",
    "- Все клиенты с рейтингом ниже 400 ушели. Однако клиентов с таким низким рейтингов в целом не так много.\n",
    "\n",
    "Попробуем назначить рейтингам следующие категории:\n",
    "- низкий рейтинг - до 500;\n",
    "- средний рейтинг - от 500 до 750;\n",
    "- высокий рейтинг - от 750.\n",
    "\n",
    "И посмотрим, меняется ли в зависимости от категории доля отточников."
   ]
  },
  {
   "cell_type": "code",
   "execution_count": 21,
   "id": "3dd047b2",
   "metadata": {},
   "outputs": [],
   "source": [
    "# создадим функцию для определения категории по рейтингу\n",
    "def score_category(x):\n",
    "    if x >= 750:\n",
    "        return 'Высокий рейтинг'\n",
    "    elif x >= 500:\n",
    "        return 'Средний рейтинг'\n",
    "    else:\n",
    "        return 'Низкий рейтинг'\n",
    "\n",
    "# создадим столбец с категорией по рейтингу\n",
    "df['category_by_score'] = df['score'].apply(score_category)"
   ]
  },
  {
   "cell_type": "code",
   "execution_count": 22,
   "id": "d5e415fb",
   "metadata": {},
   "outputs": [
    {
     "data": {
      "text/html": [
       "<div>\n",
       "<style scoped>\n",
       "    .dataframe tbody tr th:only-of-type {\n",
       "        vertical-align: middle;\n",
       "    }\n",
       "\n",
       "    .dataframe tbody tr th {\n",
       "        vertical-align: top;\n",
       "    }\n",
       "\n",
       "    .dataframe thead th {\n",
       "        text-align: right;\n",
       "    }\n",
       "</style>\n",
       "<table border=\"1\" class=\"dataframe\">\n",
       "  <thead>\n",
       "    <tr style=\"text-align: right;\">\n",
       "      <th></th>\n",
       "      <th>Категория рейтинга</th>\n",
       "      <th>Доля ушедших</th>\n",
       "      <th>Количество клиентов в группе</th>\n",
       "    </tr>\n",
       "  </thead>\n",
       "  <tbody>\n",
       "    <tr>\n",
       "      <th>0</th>\n",
       "      <td>Высокий рейтинг</td>\n",
       "      <td>0.20</td>\n",
       "      <td>1623</td>\n",
       "    </tr>\n",
       "    <tr>\n",
       "      <th>1</th>\n",
       "      <td>Низкий рейтинг</td>\n",
       "      <td>0.24</td>\n",
       "      <td>632</td>\n",
       "    </tr>\n",
       "    <tr>\n",
       "      <th>2</th>\n",
       "      <td>Средний рейтинг</td>\n",
       "      <td>0.20</td>\n",
       "      <td>7745</td>\n",
       "    </tr>\n",
       "  </tbody>\n",
       "</table>\n",
       "</div>"
      ],
      "text/plain": [
       "  Категория рейтинга         Доля ушедших  Количество клиентов в группе\n",
       "0    Высокий рейтинг                 0.20                          1623\n",
       "1     Низкий рейтинг                 0.24                           632\n",
       "2    Средний рейтинг                 0.20                          7745"
      ]
     },
     "execution_count": 22,
     "metadata": {},
     "output_type": "execute_result"
    }
   ],
   "source": [
    "t = churn_in_category(df, 'category_by_score', category_name='Категория рейтинга')\n",
    "t"
   ]
  },
  {
   "cell_type": "code",
   "execution_count": 23,
   "id": "8ea2ab77",
   "metadata": {},
   "outputs": [
    {
     "data": {
      "image/png": "[encoded data removed]",
      "text/plain": [
       "<Figure size 842.4x595.44 with 1 Axes>"
      ]
     },
     "metadata": {},
     "output_type": "display_data"
    }
   ],
   "source": [
    "create_barlot(t.sort_values(by='Доля ушедших'), 'Категория рейтинга', 0.5)"
   ]
  },
  {
   "cell_type": "markdown",
   "id": "d6bd5343",
   "metadata": {},
   "source": [
    "***Выводы:***\n",
    "- Клиенты распределены по категориям кредитного рейтинга неравномерно: меньше всех клиентов с низким рейтингом, наибольшее количество в группе со средним рейтингом;\n",
    "- Однако даже самую малочисленную группу клиентов с низким рейтингом можно считать репрезентативной (632 клиента в группе);\n",
    "- Значительной разницы в долях ушедших клиентов между группами, сформированными по кредитному рейтингу, не наблюдается."
   ]
  },
  {
   "cell_type": "markdown",
   "id": "5518490d",
   "metadata": {},
   "source": [
    "<a id='city_id'></a>\n",
    "\n",
    "## Исследование наличия зависимости между населенным пунктом и оттоком\n",
    "\n",
    "Посмотрим на доли ушедших в каждом городе."
   ]
  },
  {
   "cell_type": "code",
   "execution_count": 24,
   "id": "5bb166f6",
   "metadata": {},
   "outputs": [
    {
     "data": {
      "text/html": [
       "<div>\n",
       "<style scoped>\n",
       "    .dataframe tbody tr th:only-of-type {\n",
       "        vertical-align: middle;\n",
       "    }\n",
       "\n",
       "    .dataframe tbody tr th {\n",
       "        vertical-align: top;\n",
       "    }\n",
       "\n",
       "    .dataframe thead th {\n",
       "        text-align: right;\n",
       "    }\n",
       "</style>\n",
       "<table border=\"1\" class=\"dataframe\">\n",
       "  <thead>\n",
       "    <tr style=\"text-align: right;\">\n",
       "      <th></th>\n",
       "      <th>Город</th>\n",
       "      <th>Доля ушедших</th>\n",
       "      <th>Количество клиентов в группе</th>\n",
       "    </tr>\n",
       "  </thead>\n",
       "  <tbody>\n",
       "    <tr>\n",
       "      <th>0</th>\n",
       "      <td>Ростов Великий</td>\n",
       "      <td>0.32</td>\n",
       "      <td>2509</td>\n",
       "    </tr>\n",
       "    <tr>\n",
       "      <th>1</th>\n",
       "      <td>Рыбинск</td>\n",
       "      <td>0.17</td>\n",
       "      <td>2477</td>\n",
       "    </tr>\n",
       "    <tr>\n",
       "      <th>2</th>\n",
       "      <td>Ярославль</td>\n",
       "      <td>0.16</td>\n",
       "      <td>5014</td>\n",
       "    </tr>\n",
       "  </tbody>\n",
       "</table>\n",
       "</div>"
      ],
      "text/plain": [
       "            Город         Доля ушедших  Количество клиентов в группе\n",
       "0  Ростов Великий                 0.32                          2509\n",
       "1         Рыбинск                 0.17                          2477\n",
       "2       Ярославль                 0.16                          5014"
      ]
     },
     "execution_count": 24,
     "metadata": {},
     "output_type": "execute_result"
    }
   ],
   "source": [
    "t = churn_in_category(df, 'city', category_name='Город')\n",
    "t"
   ]
  },
  {
   "cell_type": "code",
   "execution_count": 25,
   "id": "2e7763e3",
   "metadata": {},
   "outputs": [
    {
     "data": {
      "image/png": "[encoded data removed]",
      "text/plain": [
       "<Figure size 842.4x595.44 with 1 Axes>"
      ]
     },
     "metadata": {},
     "output_type": "display_data"
    }
   ],
   "source": [
    "create_barlot(t, 'Город', 0.5)"
   ]
  },
  {
   "cell_type": "markdown",
   "id": "044b62d7",
   "metadata": {},
   "source": [
    "***Выводы:***\n",
    "- Количество клиентов в Рыбинске и в Ростове Великом примерно равное;\n",
    "- В Ярославле клиентов примерно в 2 раза больше, чем в других двух городах;\n",
    "- Доля оттока в Ярославле и Рыбинске 16-17%, а в Ростове Великом - в 2 раза больше. На это нужно обратить внимание."
   ]
  },
  {
   "cell_type": "markdown",
   "id": "0f581079",
   "metadata": {},
   "source": [
    "<a id='age_id'></a>\n",
    "\n",
    "## Исследование наличия зависимости между возрастом и оттоком\n",
    "\n",
    "Сформируем группы по возрасту:\n",
    "- до 29 лет;\n",
    "- от 30 до 39 лет;\n",
    "- от 40 до 49 лет;\n",
    "- от 50 до 59 лет;\n",
    "- от 60 лет."
   ]
  },
  {
   "cell_type": "code",
   "execution_count": 26,
   "id": "63efe786",
   "metadata": {},
   "outputs": [],
   "source": [
    "# создадим функцию для определения категории по возрасту\n",
    "def age_category(x):\n",
    "    if x >= 60:\n",
    "        return '60+ лет'\n",
    "    elif x >= 50:\n",
    "        return '50-59 лет'\n",
    "    elif x >= 40:\n",
    "        return '40-49 лет'\n",
    "    elif x >= 30:\n",
    "        return '30-39 лет'\n",
    "    else:\n",
    "        return '18-29 лет'\n",
    "\n",
    "# создадим столбец с категорией по возрасту\n",
    "df['category_by_age'] = df['age'].apply(age_category)"
   ]
  },
  {
   "cell_type": "code",
   "execution_count": 27,
   "id": "4506bf21",
   "metadata": {},
   "outputs": [
    {
     "data": {
      "text/html": [
       "<div>\n",
       "<style scoped>\n",
       "    .dataframe tbody tr th:only-of-type {\n",
       "        vertical-align: middle;\n",
       "    }\n",
       "\n",
       "    .dataframe tbody tr th {\n",
       "        vertical-align: top;\n",
       "    }\n",
       "\n",
       "    .dataframe thead th {\n",
       "        text-align: right;\n",
       "    }\n",
       "</style>\n",
       "<table border=\"1\" class=\"dataframe\">\n",
       "  <thead>\n",
       "    <tr style=\"text-align: right;\">\n",
       "      <th></th>\n",
       "      <th>Возраст</th>\n",
       "      <th>Доля ушедших</th>\n",
       "      <th>Количество клиентов в группе</th>\n",
       "    </tr>\n",
       "  </thead>\n",
       "  <tbody>\n",
       "    <tr>\n",
       "      <th>0</th>\n",
       "      <td>18-29 лет</td>\n",
       "      <td>0.08</td>\n",
       "      <td>1641</td>\n",
       "    </tr>\n",
       "    <tr>\n",
       "      <th>1</th>\n",
       "      <td>30-39 лет</td>\n",
       "      <td>0.11</td>\n",
       "      <td>4346</td>\n",
       "    </tr>\n",
       "    <tr>\n",
       "      <th>4</th>\n",
       "      <td>60+ лет</td>\n",
       "      <td>0.28</td>\n",
       "      <td>526</td>\n",
       "    </tr>\n",
       "    <tr>\n",
       "      <th>2</th>\n",
       "      <td>40-49 лет</td>\n",
       "      <td>0.31</td>\n",
       "      <td>2618</td>\n",
       "    </tr>\n",
       "    <tr>\n",
       "      <th>3</th>\n",
       "      <td>50-59 лет</td>\n",
       "      <td>0.56</td>\n",
       "      <td>869</td>\n",
       "    </tr>\n",
       "  </tbody>\n",
       "</table>\n",
       "</div>"
      ],
      "text/plain": [
       "     Возраст         Доля ушедших  Количество клиентов в группе\n",
       "0  18-29 лет                 0.08                          1641\n",
       "1  30-39 лет                 0.11                          4346\n",
       "4    60+ лет                 0.28                           526\n",
       "2  40-49 лет                 0.31                          2618\n",
       "3  50-59 лет                 0.56                           869"
      ]
     },
     "execution_count": 27,
     "metadata": {},
     "output_type": "execute_result"
    }
   ],
   "source": [
    "t = churn_in_category(df, 'category_by_age', category_name='Возраст')\n",
    "t = t.sort_values(by='Доля ушедших')\n",
    "t"
   ]
  },
  {
   "cell_type": "code",
   "execution_count": 28,
   "id": "68c1a504",
   "metadata": {},
   "outputs": [
    {
     "data": {
      "image/png": "[encoded data removed]",
      "text/plain": [
       "<Figure size 842.4x595.44 with 1 Axes>"
      ]
     },
     "metadata": {},
     "output_type": "display_data"
    }
   ],
   "source": [
    "create_barlot(t, 'Возраст', 0.8)"
   ]
  },
  {
   "cell_type": "markdown",
   "id": "7bff30d8",
   "metadata": {},
   "source": [
    "***Выводы:***\n",
    "- Самая многочисленная группа - 30-39 лет;\n",
    "- Самая малочисленная группа - 60+ лет;\n",
    "- В целом, можно предположить, что с возрастом риск оттока возрастает;\n",
    "- Максимальная доля ушедших клиентов в группе 50-59 лет - наибольший риск оттока; \n",
    "- Клиенты в возрасте 60+ имеют средний риск оттока - на уровне клиентов 40-49 лет."
   ]
  },
  {
   "cell_type": "markdown",
   "id": "f08795c7",
   "metadata": {},
   "source": [
    "<a id='objects_id'></a>\n",
    "\n",
    "## Исследование наличия зависимости между количеством объектов и оттоком\n",
    "\n",
    "Количество объектов по пользователям распределено почти равномерно между значениями 1-9 объектов. Выпадают только группы совсем без объектов и с 10 объектами.\n",
    "\n",
    "Посмотрим долю оттока в каждой группе."
   ]
  },
  {
   "cell_type": "code",
   "execution_count": 29,
   "id": "546df344",
   "metadata": {},
   "outputs": [
    {
     "data": {
      "text/html": [
       "<div>\n",
       "<style scoped>\n",
       "    .dataframe tbody tr th:only-of-type {\n",
       "        vertical-align: middle;\n",
       "    }\n",
       "\n",
       "    .dataframe tbody tr th {\n",
       "        vertical-align: top;\n",
       "    }\n",
       "\n",
       "    .dataframe thead th {\n",
       "        text-align: right;\n",
       "    }\n",
       "</style>\n",
       "<table border=\"1\" class=\"dataframe\">\n",
       "  <thead>\n",
       "    <tr style=\"text-align: right;\">\n",
       "      <th></th>\n",
       "      <th>Количество объектов</th>\n",
       "      <th>Доля ушедших</th>\n",
       "      <th>Количество клиентов в группе</th>\n",
       "    </tr>\n",
       "  </thead>\n",
       "  <tbody>\n",
       "    <tr>\n",
       "      <th>0</th>\n",
       "      <td>0</td>\n",
       "      <td>0.23</td>\n",
       "      <td>413</td>\n",
       "    </tr>\n",
       "    <tr>\n",
       "      <th>1</th>\n",
       "      <td>1</td>\n",
       "      <td>0.22</td>\n",
       "      <td>1035</td>\n",
       "    </tr>\n",
       "    <tr>\n",
       "      <th>2</th>\n",
       "      <td>2</td>\n",
       "      <td>0.19</td>\n",
       "      <td>1048</td>\n",
       "    </tr>\n",
       "    <tr>\n",
       "      <th>3</th>\n",
       "      <td>3</td>\n",
       "      <td>0.21</td>\n",
       "      <td>1009</td>\n",
       "    </tr>\n",
       "    <tr>\n",
       "      <th>4</th>\n",
       "      <td>4</td>\n",
       "      <td>0.21</td>\n",
       "      <td>989</td>\n",
       "    </tr>\n",
       "    <tr>\n",
       "      <th>5</th>\n",
       "      <td>5</td>\n",
       "      <td>0.21</td>\n",
       "      <td>1012</td>\n",
       "    </tr>\n",
       "    <tr>\n",
       "      <th>6</th>\n",
       "      <td>6</td>\n",
       "      <td>0.20</td>\n",
       "      <td>967</td>\n",
       "    </tr>\n",
       "    <tr>\n",
       "      <th>7</th>\n",
       "      <td>7</td>\n",
       "      <td>0.17</td>\n",
       "      <td>1028</td>\n",
       "    </tr>\n",
       "    <tr>\n",
       "      <th>8</th>\n",
       "      <td>8</td>\n",
       "      <td>0.19</td>\n",
       "      <td>1025</td>\n",
       "    </tr>\n",
       "    <tr>\n",
       "      <th>9</th>\n",
       "      <td>9</td>\n",
       "      <td>0.22</td>\n",
       "      <td>984</td>\n",
       "    </tr>\n",
       "    <tr>\n",
       "      <th>10</th>\n",
       "      <td>10</td>\n",
       "      <td>0.21</td>\n",
       "      <td>490</td>\n",
       "    </tr>\n",
       "  </tbody>\n",
       "</table>\n",
       "</div>"
      ],
      "text/plain": [
       "    Количество объектов         Доля ушедших  Количество клиентов в группе\n",
       "0                     0                 0.23                           413\n",
       "1                     1                 0.22                          1035\n",
       "2                     2                 0.19                          1048\n",
       "3                     3                 0.21                          1009\n",
       "4                     4                 0.21                           989\n",
       "5                     5                 0.21                          1012\n",
       "6                     6                 0.20                           967\n",
       "7                     7                 0.17                          1028\n",
       "8                     8                 0.19                          1025\n",
       "9                     9                 0.22                           984\n",
       "10                   10                 0.21                           490"
      ]
     },
     "execution_count": 29,
     "metadata": {},
     "output_type": "execute_result"
    }
   ],
   "source": [
    "t = churn_in_category(df, 'objects', category_name='Количество объектов')\n",
    "t"
   ]
  },
  {
   "cell_type": "code",
   "execution_count": 30,
   "id": "81a32040",
   "metadata": {},
   "outputs": [
    {
     "data": {
      "image/png": "[encoded data removed]",
      "text/plain": [
       "<Figure size 842.4x595.44 with 1 Axes>"
      ]
     },
     "metadata": {},
     "output_type": "display_data"
    }
   ],
   "source": [
    "create_barlot(t, 'Количество объектов', 0.5)"
   ]
  },
  {
   "cell_type": "markdown",
   "id": "6c3f43b9",
   "metadata": {},
   "source": [
    "***Выводы:***\n",
    "- Несмотря на то, что группы с 0 и с 10 объектами, самые малочисленные, они все же остаются репрезентативными (413 и 490 записей, соответственно);\n",
    "- Значительной разницы в доле оттока между группами с разным количеством объектов нет - в среднем отток в каждой группе можно считать равным 20%."
   ]
  },
  {
   "cell_type": "markdown",
   "id": "3cdcd705",
   "metadata": {},
   "source": [
    "<a id='salary_id'></a>\n",
    "\n",
    "## Исследование наличия зависимости между зарплатой и оттоком\n",
    "\n",
    "Зарплата пользователей распределена примерно равномерно. Поэтому попробуем разделить их по зарплате на 4 группы по квартилям. "
   ]
  },
  {
   "cell_type": "code",
   "execution_count": 31,
   "id": "44c7bce4",
   "metadata": {},
   "outputs": [],
   "source": [
    "df['category_by_salary'] = pd.qcut(df['estimated_salary'], 4)"
   ]
  },
  {
   "cell_type": "code",
   "execution_count": 32,
   "id": "1e252541",
   "metadata": {},
   "outputs": [
    {
     "data": {
      "text/html": [
       "<div>\n",
       "<style scoped>\n",
       "    .dataframe tbody tr th:only-of-type {\n",
       "        vertical-align: middle;\n",
       "    }\n",
       "\n",
       "    .dataframe tbody tr th {\n",
       "        vertical-align: top;\n",
       "    }\n",
       "\n",
       "    .dataframe thead th {\n",
       "        text-align: right;\n",
       "    }\n",
       "</style>\n",
       "<table border=\"1\" class=\"dataframe\">\n",
       "  <thead>\n",
       "    <tr style=\"text-align: right;\">\n",
       "      <th></th>\n",
       "      <th>Уровень зарплаты</th>\n",
       "      <th>Доля ушедших</th>\n",
       "      <th>Количество клиентов в группе</th>\n",
       "    </tr>\n",
       "  </thead>\n",
       "  <tbody>\n",
       "    <tr>\n",
       "      <th>0</th>\n",
       "      <td>(11.579, 51002.11]</td>\n",
       "      <td>0.20</td>\n",
       "      <td>2500</td>\n",
       "    </tr>\n",
       "    <tr>\n",
       "      <th>1</th>\n",
       "      <td>(51002.11, 100193.915]</td>\n",
       "      <td>0.20</td>\n",
       "      <td>2500</td>\n",
       "    </tr>\n",
       "    <tr>\n",
       "      <th>2</th>\n",
       "      <td>(100193.915, 149388.248]</td>\n",
       "      <td>0.20</td>\n",
       "      <td>2500</td>\n",
       "    </tr>\n",
       "    <tr>\n",
       "      <th>3</th>\n",
       "      <td>(149388.248, 199992.48]</td>\n",
       "      <td>0.22</td>\n",
       "      <td>2500</td>\n",
       "    </tr>\n",
       "  </tbody>\n",
       "</table>\n",
       "</div>"
      ],
      "text/plain": [
       "           Уровень зарплаты         Доля ушедших  Количество клиентов в группе\n",
       "0        (11.579, 51002.11]                 0.20                          2500\n",
       "1    (51002.11, 100193.915]                 0.20                          2500\n",
       "2  (100193.915, 149388.248]                 0.20                          2500\n",
       "3   (149388.248, 199992.48]                 0.22                          2500"
      ]
     },
     "execution_count": 32,
     "metadata": {},
     "output_type": "execute_result"
    }
   ],
   "source": [
    "t = churn_in_category(df, 'category_by_salary', category_name='Уровень зарплаты')\n",
    "t"
   ]
  },
  {
   "cell_type": "code",
   "execution_count": 33,
   "id": "b9cf6bd4",
   "metadata": {},
   "outputs": [
    {
     "data": {
      "image/png": "[encoded data removed]",
      "text/plain": [
       "<Figure size 842.4x595.44 with 1 Axes>"
      ]
     },
     "metadata": {},
     "output_type": "display_data"
    }
   ],
   "source": [
    "create_barlot(t, 'Уровень зарплаты', 0.5)"
   ]
  },
  {
   "cell_type": "markdown",
   "id": "47f75648",
   "metadata": {},
   "source": [
    "***Выводы:***\n",
    "- Отток во всех группах, кроме группы с самыми высокими зарплатами, равен 20%;\n",
    "- В группе с самыми высокими зарплатами отток чуть выше - 22%."
   ]
  },
  {
   "cell_type": "markdown",
   "id": "f3362747",
   "metadata": {},
   "source": [
    "<a id='balance_id'></a>\n",
    "\n",
    "## Исследование наличия зависимости между балансом на счёте и оттоком\n",
    "\n",
    "Баланс был не указан примерно у трети всех пользователей. Тех пользователей, у которых он указан, попробуем разделить на 4 группы по квартилям. "
   ]
  },
  {
   "cell_type": "code",
   "execution_count": 34,
   "id": "4583d4b6",
   "metadata": {},
   "outputs": [],
   "source": [
    "df['category_by_balance'] = pd.qcut(df['balance'], 4)"
   ]
  },
  {
   "cell_type": "code",
   "execution_count": 35,
   "id": "bdc6f5d5",
   "metadata": {},
   "outputs": [
    {
     "data": {
      "text/html": [
       "<div>\n",
       "<style scoped>\n",
       "    .dataframe tbody tr th:only-of-type {\n",
       "        vertical-align: middle;\n",
       "    }\n",
       "\n",
       "    .dataframe tbody tr th {\n",
       "        vertical-align: top;\n",
       "    }\n",
       "\n",
       "    .dataframe thead th {\n",
       "        text-align: right;\n",
       "    }\n",
       "</style>\n",
       "<table border=\"1\" class=\"dataframe\">\n",
       "  <thead>\n",
       "    <tr style=\"text-align: right;\">\n",
       "      <th></th>\n",
       "      <th>Баланс на счете</th>\n",
       "      <th>Доля ушедших</th>\n",
       "      <th>Количество клиентов в группе</th>\n",
       "    </tr>\n",
       "  </thead>\n",
       "  <tbody>\n",
       "    <tr>\n",
       "      <th>0</th>\n",
       "      <td>(3768.689, 100181.975]</td>\n",
       "      <td>0.21</td>\n",
       "      <td>1596</td>\n",
       "    </tr>\n",
       "    <tr>\n",
       "      <th>1</th>\n",
       "      <td>(100181.975, 119839.69]</td>\n",
       "      <td>0.27</td>\n",
       "      <td>1596</td>\n",
       "    </tr>\n",
       "    <tr>\n",
       "      <th>2</th>\n",
       "      <td>(119839.69, 139512.29]</td>\n",
       "      <td>0.25</td>\n",
       "      <td>1595</td>\n",
       "    </tr>\n",
       "    <tr>\n",
       "      <th>3</th>\n",
       "      <td>(139512.29, 250898.09]</td>\n",
       "      <td>0.23</td>\n",
       "      <td>1596</td>\n",
       "    </tr>\n",
       "  </tbody>\n",
       "</table>\n",
       "</div>"
      ],
      "text/plain": [
       "           Баланс на счете         Доля ушедших  Количество клиентов в группе\n",
       "0   (3768.689, 100181.975]                 0.21                          1596\n",
       "1  (100181.975, 119839.69]                 0.27                          1596\n",
       "2   (119839.69, 139512.29]                 0.25                          1595\n",
       "3   (139512.29, 250898.09]                 0.23                          1596"
      ]
     },
     "execution_count": 35,
     "metadata": {},
     "output_type": "execute_result"
    }
   ],
   "source": [
    "t = churn_in_category(df, 'category_by_balance', 'Баланс на счете')\n",
    "t"
   ]
  },
  {
   "cell_type": "code",
   "execution_count": 36,
   "id": "a7e7930e",
   "metadata": {},
   "outputs": [
    {
     "data": {
      "image/png": "[encoded data removed]",
      "text/plain": [
       "<Figure size 842.4x595.44 with 1 Axes>"
      ]
     },
     "metadata": {},
     "output_type": "display_data"
    }
   ],
   "source": [
    "create_barlot(t, 'Баланс на счете', 0.5)"
   ]
  },
  {
   "cell_type": "markdown",
   "id": "aa3d1b75",
   "metadata": {},
   "source": [
    "***Выводы:***\n",
    "- Прямой или обратной зависимости оттока от уровня баланса на счете не наблюдается;\n",
    "- Наибольшая доля оттока наблюдается в группе клиентов с балансом от 101,2 тысяч до 119,8 тысяч - 27%;\n",
    "- Наименьший отток в группе с наименьшим балансом: от 3,8 тысяч до 101,2 тысяч - 21%;\n",
    "- В целом, можно предположить, что пользователи с наибольшими и наименьшими балансами на счетах уходят реже, чем пользователи, имеющие средний уровень баланса."
   ]
  },
  {
   "cell_type": "markdown",
   "id": "08b57db9",
   "metadata": {},
   "source": [
    "<a id='credit_card_id'></a>\n",
    "\n",
    "## Исследование зависимости между наличием кредитной карты и оттоком\n",
    "\n",
    "Сравним доли оттока в двух группах: у пользователей с кредитной картой и без нее. "
   ]
  },
  {
   "cell_type": "code",
   "execution_count": 37,
   "id": "282b01be",
   "metadata": {},
   "outputs": [],
   "source": [
    "t = churn_in_category(df, 'credit_card', 'Наличие кредитной карты')\n",
    "t['Наличие кредитной карты'] = t['Наличие кредитной карты'].apply(lambda x: 'Есть карта' if x == True else 'Нет карты')"
   ]
  },
  {
   "cell_type": "code",
   "execution_count": 38,
   "id": "e7b99340",
   "metadata": {},
   "outputs": [
    {
     "data": {
      "image/png": "[encoded data removed]",
      "text/plain": [
       "<Figure size 842.4x595.44 with 1 Axes>"
      ]
     },
     "metadata": {},
     "output_type": "display_data"
    }
   ],
   "source": [
    "create_barlot(t, 'Наличие кредитной карты', 0.5)"
   ]
  },
  {
   "cell_type": "markdown",
   "id": "392aa84a",
   "metadata": {},
   "source": [
    "***Выводы:***\n",
    "- Количество пользователей с кредитной картой более, чем в 2 раза, превышает количество пользователей без нее. Тем не менее, исходя из количества пользователей в каждой группе, обе можем считать репрезентативными;\n",
    "- Наличие кредитной карты не влияет на отток - доля ушедших клиентов в обеих группах примерно одинаковая. \n",
    "\n",
    "### Параметры, характерные для клиента сегмента оттока:\n",
    "- Количество продуктов, которыми пользуется клиент, оказывает сильное влияние на отток:\n",
    "\t- когда клиент пользуется только одним продуктом риск его потерять выше, чем когда он пользуется двумя и более;\n",
    "\t- наибольшая доля оттока у пользователей с 3 продуктами. Но эту гипотезу мы еще проверим.\n",
    "- Если у клиента кредитный рейтинг ниже 400, велика вероятность, что он окажется в оттоке;\n",
    "- Доля \"отточников\" в Ростове Великом в 2 раза выше, чем в Ярославле и в Рыбинске. Менеджменту, вероятно, стоит обратить на это внимание;\n",
    "- После 40 лет риск оттока возрастает в 2 раза. Наибольший риск оттока у возрастной группы 50-59 лет;\n",
    "- Количество объектов, наличие кредитной карты и зарплата не оказывают существенного влияния на отток;\n",
    "- Пользователь с максимальным или минимальным балансом на счете менее подвержен риску ухода, чем клиент со средним балансом."
   ]
  },
  {
   "cell_type": "markdown",
   "id": "4ad83a8b",
   "metadata": {},
   "source": [
    "<a id='segmentation_id'></a>\n",
    "\n",
    "## Сегментация пользователей по количеству продуктов\n",
    "\n",
    "Отдельно остановимся на сегментации клиентов по количеству используемых ими продуктов.\n",
    "\n",
    "Основная масса клиентов, информация о которых представлена в наших данных, пользуется одним, двумя или тремя продуктами.\n",
    "\n",
    "Четырьмя продуктами пользуются только 60 клиентов, что репрезентативным считать нельзя.\n",
    "\n",
    "Тремя продуктами пользуется 266 клиентов из 10000, что тоже сложно назвать репрезентативным.\n",
    "\n",
    "Поэтому сконцентрируемся на двух сегментах: клиенты, пользующиеся одним продуктом, и клиенты, пользующиеся двумя продуктами."
   ]
  },
  {
   "cell_type": "code",
   "execution_count": 39,
   "id": "a3409ff3",
   "metadata": {},
   "outputs": [],
   "source": [
    "df_segments = df[-df['products'].isin([3,4])].copy()"
   ]
  },
  {
   "cell_type": "markdown",
   "id": "185a1485",
   "metadata": {},
   "source": [
    "### Кредитный рейтинг внутри сегментов\n",
    "\n",
    "Посмотрим, как клиенты распределяются по обозначенным нами категориям кредитного рейтинга внутри сегментов.  "
   ]
  },
  {
   "cell_type": "code",
   "execution_count": 40,
   "id": "c26e386f",
   "metadata": {},
   "outputs": [
    {
     "data": {
      "image/png": "[encoded data removed]",
      "text/plain": [
       "<Figure size 842.4x595.44 with 1 Axes>"
      ]
     },
     "metadata": {},
     "output_type": "display_data"
    }
   ],
   "source": [
    "def create_hist(data, category, category_name='Название категории'):\n",
    "    ax = sns.histplot(data=data, x=\"products\", hue=category, multiple=\"dodge\")\n",
    "    plt.title('{} и количество продуктов'.format(category_name))\n",
    "    plt.xlabel('Количество продуктов')\n",
    "    plt.ylabel(category_name)\n",
    "    plt.xticks((1,2), ['1 продукт', '2 продукта'])\n",
    "    plt.show()\n",
    "\n",
    "create_hist(df_segments, 'category_by_score', 'Кредитный рейтинг') "
   ]
  },
  {
   "cell_type": "markdown",
   "id": "8f471797",
   "metadata": {},
   "source": [
    "- Заметной разницы между сегментами не наблюдается;\n",
    "- Наибольшее количество клиентов в обоих сегментах имеет средний кредитный рейтинг;\n",
    "- Наименьшее количество клиентов - низкий рейтинг."
   ]
  },
  {
   "cell_type": "markdown",
   "id": "9a04c56d",
   "metadata": {},
   "source": [
    "### Возраст внутри сегментов\n",
    "\n",
    "Посмотрим, как клиенты распределяются по полу внутри сегментов.  "
   ]
  },
  {
   "cell_type": "code",
   "execution_count": 41,
   "id": "be1527af",
   "metadata": {},
   "outputs": [
    {
     "data": {
      "image/png": "[encoded data removed]",
      "text/plain": [
       "<Figure size 842.4x595.44 with 1 Axes>"
      ]
     },
     "metadata": {},
     "output_type": "display_data"
    }
   ],
   "source": [
    "sns.boxplot(data=df_segments, x=\"products\", y=\"age\")\n",
    "plt.title('Возраст и количество продуктов')\n",
    "plt.xlabel('Количество продуктов')\n",
    "plt.ylabel('Возраст')\n",
    "plt.xticks((0,1), ['1 продукт', '2 продукта'])\n",
    "plt.show()"
   ]
  },
  {
   "cell_type": "markdown",
   "id": "5da17640",
   "metadata": {},
   "source": [
    "- Средний возраст клиентов, пользовавшихся одним продуктом, на 3-5 лет выше, чем у клиентов, пользовавшихся двумя продуктами."
   ]
  },
  {
   "cell_type": "markdown",
   "id": "cfbeef7c",
   "metadata": {},
   "source": [
    "### Города внутри сегментов\n",
    "\n",
    "Посмотрим, как клиенты распределяются по городам внутри сегментов.  "
   ]
  },
  {
   "cell_type": "code",
   "execution_count": 42,
   "id": "0347a008",
   "metadata": {},
   "outputs": [
    {
     "data": {
      "image/png": "[encoded data removed]",
      "text/plain": [
       "<Figure size 842.4x595.44 with 1 Axes>"
      ]
     },
     "metadata": {},
     "output_type": "display_data"
    }
   ],
   "source": [
    "create_hist(df_segments, 'city', 'Город') "
   ]
  },
  {
   "cell_type": "markdown",
   "id": "e429bee4",
   "metadata": {},
   "source": [
    "- Наибольшее количество клиентов в обоих сегментах - из Ярославля;\n",
    "- Количество клиентов примерно равно распределено между Рыбинском и Ростовом Великим в обоих сегментах;\n",
    "- Однако можно отметить, что в Ростове клиентов использующих один продукт немного больше, чем использующих два продукта."
   ]
  },
  {
   "cell_type": "markdown",
   "id": "c94548e0",
   "metadata": {},
   "source": [
    "### Распределение по полу внутри сегментов\n",
    "\n",
    "Посмотрим, как клиенты распределяются по полу внутри сегментов.  "
   ]
  },
  {
   "cell_type": "code",
   "execution_count": 43,
   "id": "8c6f9494",
   "metadata": {},
   "outputs": [
    {
     "data": {
      "image/png": "[encoded data removed]",
      "text/plain": [
       "<Figure size 842.4x595.44 with 1 Axes>"
      ]
     },
     "metadata": {},
     "output_type": "display_data"
    }
   ],
   "source": [
    "create_hist(df_segments, 'gender', 'Пол') "
   ]
  },
  {
   "cell_type": "markdown",
   "id": "32214a95",
   "metadata": {},
   "source": [
    "- В обоих сегментах отношение количества мужчин к женщинам можно считать одинаковым."
   ]
  },
  {
   "cell_type": "markdown",
   "id": "e3cc5b52",
   "metadata": {},
   "source": [
    "### Уровень баланса внутри сегментов\n",
    "\n",
    "Посмотрим, как клиенты распределяются по уровню баланса внутри сегментов.  "
   ]
  },
  {
   "cell_type": "code",
   "execution_count": 44,
   "id": "8edaeabb",
   "metadata": {},
   "outputs": [
    {
     "data": {
      "image/png": "[encoded data removed]",
      "text/plain": [
       "<Figure size 842.4x595.44 with 1 Axes>"
      ]
     },
     "metadata": {},
     "output_type": "display_data"
    }
   ],
   "source": [
    "create_hist(df_segments, 'category_by_balance', 'Уровень баланса') "
   ]
  },
  {
   "cell_type": "markdown",
   "id": "01a8e097",
   "metadata": {},
   "source": [
    "- В сегменте одного продукта преобладают клиенты со средним (от 100,2 до 119,8 тысяч) и выше среднего балансами (от 119,8 до 139,5 тысяч), а в сегменте двух продуктов - с низкими (от 3,8 до 100,2 тысяч) и высокими балансами (от 139,5 тысяч)."
   ]
  },
  {
   "cell_type": "markdown",
   "id": "d74163bb",
   "metadata": {},
   "source": [
    "### Уровень доходов внутри сегментов\n",
    "\n",
    "Посмотрим, как клиенты распределяются по уровню зарплат внутри сегментов.  "
   ]
  },
  {
   "cell_type": "code",
   "execution_count": 45,
   "id": "0eebd0c2",
   "metadata": {},
   "outputs": [
    {
     "data": {
      "image/png": "[encoded data removed]",
      "text/plain": [
       "<Figure size 842.4x595.44 with 1 Axes>"
      ]
     },
     "metadata": {},
     "output_type": "display_data"
    }
   ],
   "source": [
    "create_hist(df_segments, 'category_by_salary', 'Уровень зарплаты') "
   ]
  },
  {
   "cell_type": "markdown",
   "id": "0cbdbfa2",
   "metadata": {},
   "source": [
    "- В сегменте одного продукта преобладают клиенты со низким (от 11,6) и средним уровнем дохода (от 51 до 100,2 тысяч), а в сегменте двух продуктов - с низким (от 11,6 тысяч) и высоким уровнем дохода (от 149,3 тысяч)."
   ]
  },
  {
   "cell_type": "markdown",
   "id": "c24f7407",
   "metadata": {},
   "source": [
    "### Количество объектов внутри сегментов\n",
    "\n",
    "Посмотрим, как клиенты распределяются по количеству объектов внутри сегментов.  "
   ]
  },
  {
   "cell_type": "code",
   "execution_count": 46,
   "id": "082126d8",
   "metadata": {},
   "outputs": [
    {
     "data": {
      "image/png": "[encoded data removed]",
      "text/plain": [
       "<Figure size 842.4x595.44 with 1 Axes>"
      ]
     },
     "metadata": {},
     "output_type": "display_data"
    }
   ],
   "source": [
    "sns.boxplot(data=df_segments, x=\"products\", y=\"objects\")\n",
    "plt.title('Количество объектов и количество продуктов')\n",
    "plt.xlabel('Количество продуктов')\n",
    "plt.ylabel('Количество объектов')\n",
    "plt.xticks((0,1), ['1 продукт', '2 продукта'])\n",
    "plt.show()"
   ]
  },
  {
   "cell_type": "markdown",
   "id": "b7a9ce22",
   "metadata": {},
   "source": [
    "- В среднем количество объектов у клиентов в обоих сегментах равно 5."
   ]
  },
  {
   "cell_type": "markdown",
   "id": "91909715",
   "metadata": {},
   "source": [
    "### Количество клиентов с кредитной картой внутри сегментов\n",
    "\n",
    "Посмотрим, как клиенты распределяются по наличию кредитной карты внутри сегментов.  "
   ]
  },
  {
   "cell_type": "code",
   "execution_count": 47,
   "id": "52c6113a",
   "metadata": {},
   "outputs": [
    {
     "data": {
      "image/png": "[encoded data removed]",
      "text/plain": [
       "<Figure size 842.4x595.44 with 1 Axes>"
      ]
     },
     "metadata": {},
     "output_type": "display_data"
    }
   ],
   "source": [
    "create_hist(df_segments, 'credit_card', 'Количество пользователей') "
   ]
  },
  {
   "cell_type": "markdown",
   "id": "0f941ec2",
   "metadata": {},
   "source": [
    "- Между наличием кредитной карты и количеством используемых продуктов взаимосвязи не наблюдается."
   ]
  },
  {
   "cell_type": "markdown",
   "id": "639f47b0",
   "metadata": {},
   "source": [
    "### Количество активных клиентов внутри сегментов\n",
    "\n",
    "Посмотрим, как активные клиенты внутри сегментов."
   ]
  },
  {
   "cell_type": "code",
   "execution_count": 48,
   "id": "fa26e3cc",
   "metadata": {},
   "outputs": [
    {
     "data": {
      "image/png": "[encoded data removed]",
      "text/plain": [
       "<Figure size 842.4x595.44 with 1 Axes>"
      ]
     },
     "metadata": {},
     "output_type": "display_data"
    }
   ],
   "source": [
    "create_hist(df_segments, 'loyalty', 'Количество пользователей') "
   ]
  },
  {
   "cell_type": "markdown",
   "id": "c5462fe9",
   "metadata": {},
   "source": [
    "- В сегменте с одним продуктом доли активных и неактивных клиентов примерно равные, а в сегменте с двумя продуктами количество активных клиентов больше."
   ]
  },
  {
   "cell_type": "markdown",
   "id": "eb60c5bb",
   "metadata": {},
   "source": [
    "### Доли ушедших клиентов внутри сегментов\n",
    "\n",
    "Посмотрим, как распределяются ушедшие и оставшиеся клиенты внутри сегментов.  "
   ]
  },
  {
   "cell_type": "code",
   "execution_count": 49,
   "id": "9daf1d01",
   "metadata": {},
   "outputs": [
    {
     "data": {
      "image/png": "[encoded data removed]",
      "text/plain": [
       "<Figure size 842.4x595.44 with 1 Axes>"
      ]
     },
     "metadata": {},
     "output_type": "display_data"
    }
   ],
   "source": [
    "create_hist(df_segments, 'churn', 'Количество пользователей') "
   ]
  },
  {
   "cell_type": "markdown",
   "id": "c263616a",
   "metadata": {},
   "source": [
    "- Доля ушедших клиентов в сегменте с одним продуктом в разы превышает долю аналогичных клиентов в сегменте с двумя продуктами."
   ]
  },
  {
   "cell_type": "markdown",
   "id": "d9c9828f",
   "metadata": {},
   "source": [
    "***Итоги сегментации пользователей по количеству используемых продуктов:***\n",
    "1. Пользователи, использующие один продукт:\n",
    "    - Средний возраст на 3-5 лет выше, чем у клиентов, пользовавшихся двумя продуктами;\n",
    "    - Преобладают клиенты со средним (от 100,2 до 119,8 тысяч) и выше среднего балансами (от 119,8 до 139,5 тысяч); \n",
    "    - Преобладают клиенты со низким (от 11,6) и средним уровнем дохода (от 51 до 100,2 тысяч);\n",
    "    - Доли активных и неактивных клиентов примерно равные;\n",
    "    - Доля ушедших клиентов в разы превышает долю ушедших в сегменте с двумя продуктами.\n",
    "\n",
    "\n",
    "2. Пользователи, использующие два продукта:\n",
    "    - Средний возраст на 3-5 лет ниже, чем у клиентов, пользовавшихся одним продуктом;\n",
    "    - Преобладают клиенты с низкими (от 3,8 до 100,2 тысяч) и высокими балансами (от 139,5 тысяч);\n",
    "    - Преобладают клиенты с низким (от 11,6 тысяч) и высоким уровнем дохода (от 149,3 тысяч);\n",
    "    - Количество активных пользователей больше неактивных;\n",
    "    - Доля ушедших клиентов в разы ниже доли ушедших клиентов в сегменте с одним продуктом.\n",
    "\n",
    "\n",
    "3. Общее:\n",
    "    - Наибольшее количество клиентов в обоих сегментах имеет средний кредитный рейтинг;\n",
    "    - Наибольшее количество клиентов в обоих сегментах - из Ярославля;\n",
    "    - В обоих сегментах мужчин больше, чем женщин;\n",
    "    - В среднем количество объектов у клиентов в обоих сегментах равно 5;\n",
    "    - Между наличием кредитной карты и количеством используемых продуктов взаимосвязи не наблюдается."
   ]
  },
  {
   "cell_type": "markdown",
   "id": "6d511458",
   "metadata": {},
   "source": [
    "## Потенциальные способы сегментации пользователей"
   ]
  },
  {
   "cell_type": "markdown",
   "id": "7aba88ba",
   "metadata": {},
   "source": [
    "Посмотрим на попарные графики зависимости параметров, представленных в нашем датасете. \n",
    "\n",
    "Для дальнейшей проверки корреляции бинарно закодируем категориальные перемеменные: `city` и `gender`. "
   ]
  },
  {
   "cell_type": "code",
   "execution_count": 50,
   "id": "257df48b",
   "metadata": {},
   "outputs": [],
   "source": [
    "# создадим функцию для бинарного кодирования\n",
    "def encode(data, column):\n",
    "    for col in data[column].unique():\n",
    "        data[col] = (data[column] == col).astype(int)\n",
    "    return data\n",
    "\n",
    "df = encode(df, 'city')\n",
    "df = encode(df, 'gender')"
   ]
  },
  {
   "cell_type": "markdown",
   "id": "249f4d75",
   "metadata": {},
   "source": [
    "- Выделения явных групп и зависимостей не наблюдается. \n",
    "\n",
    "На всякий случай проверим еще корреляцию. Но скорее всего, при таких графиках получим коэффициенты близкие к нулю."
   ]
  },
  {
   "cell_type": "code",
   "execution_count": 51,
   "id": "836a837b",
   "metadata": {},
   "outputs": [
    {
     "data": {
      "image/png": "[encoded data removed]",
      "text/plain": [
       "<Figure size 842.4x595.44 with 2 Axes>"
      ]
     },
     "metadata": {},
     "output_type": "display_data"
    }
   ],
   "source": [
    "sns.heatmap(df.corr(), annot=True, fmt=\".1f\")\n",
    "plt.xticks(rotation=45)\n",
    "plt.show()"
   ]
  },
  {
   "cell_type": "markdown",
   "id": "07b8c893",
   "metadata": {},
   "source": [
    "\n",
    "- Ожидаемо, попарные коэффициент корреляции предоставленных нам параметров оказались близки к нулю - линейных зависимостей нет.\n",
    "- Большие отрицательные коффициенты между закодированными категорийными данными тоже вполне естестевенны - если клиент из Ярославля, он не может быть из Рыбинска и т.д. при условии, что с данными все в порядке. А у нас именно так. \n",
    "\n",
    "Поэтому, основываясь на исследовательском анализе наших данных, для **сегментации клиентов банка** можно использовать следующие группы:\n",
    "- по кредитному рейтингу: \"низкий\" (до 500), \"средний\" (500-750) и \"высокий\" (больше 750). Но на прогнозирование оттока эта сегментация, скорее всего, не повлияет;\n",
    "- по возрасту: \"до 40 лет\", \"40-50 лет\" и \"50+ лет\";\n",
    "- по городу: \"Ярославль\", \"Ростов Великий\" и \"Рыбинск\". Если клиент из Ростова, то риск его ухода, по данным на момент анализа, максимальный среди трёх городов;\n",
    "- по количеству используемых продуктов: \"использует один продукт\" или \"использует два и более продуктов\". С увеличением количества используемых продуктов с одного до двух, вероятность ухода снижается. Однако надо исправить ситуацию с лояльностью клиентов, использующих три продукта;\n",
    "-  по наличию кредитной карты: \"есть\" или \"нет\". Предположительно, этот параметр не влияет на отток;\n",
    "-  по уровню баланса: \"низкий\" (до 100 тысяч), \"средний\" (от 100 до 120 тысяч), \"выше среднего\" (от 120 до 140 тысяч) и \"максимальный\" (от 140 тысяч). Причём клиенты со средним балансом, как мы предполагаем, имеют большую вероятность ухода по сравнению с пользователями с низкими и максимальными  уровнями баланса;\n",
    "- по уровню зарплат: \"низкий\" (до 51 тысячи), \"средний\" (от 51 до 100 тысяч), \"выше среднего\" (от 100 до 149 тысяч) и \"максимальный\" (больше 149 тысяч). Однако этот параметр не оказывает влияния на отток;\n",
    "-  по количеству объектов: не наблюдается рациональных  причин объединять клиентов в группы по каким-либо диапазонам. Поэтому для каждого количества объектов может быть определена отдельная группа. В любом случае, как мы установили, этот параметр не оказывает влияния на отток."
   ]
  },
  {
   "cell_type": "markdown",
   "id": "823e1e9d",
   "metadata": {},
   "source": [
    "<a id='stat_tests_id'></a>\n",
    "\n",
    "## Проверка гипотез\n",
    "\n",
    "### Гипотеза о равенстве среднего дохода клиентов, пользующихся одним продуктом и двумя продуктами\n",
    "\n",
    "**Нулевая гипотеза:** Средний доход клиентов, пользующихся одним продуктом, и средний доход клиентов, пользующихся двумя продуктами, равны.\n",
    "\n",
    "**Альтернативная гипотеза:** Средний доход клиентов, пользующихся одним продуктом, и средний доход клиентов, пользующихся двумя продуктами, не равны.\n",
    "\n",
    "**Уровень значимости** α=0,05.\n",
    "\n",
    "Подготовим две выборки зарплат: для клиентов с одним продуктом и для клиентов с двумя продуктами."
   ]
  },
  {
   "cell_type": "code",
   "execution_count": 52,
   "id": "345f9440",
   "metadata": {},
   "outputs": [],
   "source": [
    "one_product = df[df['products']==1]['estimated_salary']\n",
    "two_products = df[df['products']==2]['estimated_salary']"
   ]
  },
  {
   "cell_type": "code",
   "execution_count": 53,
   "id": "8f10c743",
   "metadata": {},
   "outputs": [
    {
     "data": {
      "image/png": "[encoded data removed]",
      "text/plain": [
       "<Figure size 842.4x595.44 with 1 Axes>"
      ]
     },
     "metadata": {},
     "output_type": "display_data"
    }
   ],
   "source": [
    "one_product.hist()\n",
    "plt.title('Распределение зарплат у клиентов, пользующихся только одним продуктом')\n",
    "plt.xlabel('Зарплата')\n",
    "plt.show()"
   ]
  },
  {
   "cell_type": "code",
   "execution_count": 54,
   "id": "1c063a33",
   "metadata": {},
   "outputs": [
    {
     "data": {
      "image/png": "[encoded data removed]",
      "text/plain": [
       "<Figure size 842.4x595.44 with 1 Axes>"
      ]
     },
     "metadata": {},
     "output_type": "display_data"
    }
   ],
   "source": [
    "two_products.hist()\n",
    "plt.title('Распределение зарплат у клиентов, пользующихся двумя и более продуктами')\n",
    "plt.xlabel('Зарплата')\n",
    "plt.show()"
   ]
  },
  {
   "cell_type": "markdown",
   "id": "e0fd1d13",
   "metadata": {},
   "source": [
    "Выборки зарплат наших клиентов распределены, скорее, равномерно, чем нормально. \n",
    "\n",
    "Однако для применения статистических тестов, основанных на нормальном распределении, нам необходимо, чтобы не сама выборка была распределена нормально, а выборочное среднее было распределено нормально вокруг среднего генеральной совокупности. \n",
    "\n",
    "Согласно центральной предельной теореме, при достаточно большом количестве наблюдений в выборке выборочное среднее распределяется нормально вне зависимости от распределения генеральной совокупности.\n",
    "\n",
    "Следовательно, в нашем случае статистические тесты применимы."
   ]
  },
  {
   "cell_type": "code",
   "execution_count": 55,
   "id": "81e21a6d",
   "metadata": {},
   "outputs": [
    {
     "name": "stdout",
     "output_type": "stream",
     "text": [
      "p-value = 0.4106493940071987\n",
      "Средняя зарплата клиентов, пользующихся одним продуктом: 99487.25685090493\n",
      "Средняя зарплата клиентов, пользующихся двумя продуктами: 100452.01282135084\n"
     ]
    }
   ],
   "source": [
    "results = st.ttest_ind(one_product, two_products, equal_var=False)\n",
    "\n",
    "print('p-value = {}'.format(results.pvalue))\n",
    "\n",
    "print('Средняя зарплата клиентов, пользующихся одним продуктом: {}'.format(one_product.mean()))\n",
    "print('Средняя зарплата клиентов, пользующихся двумя продуктами: {}'.format(two_products.mean()))"
   ]
  },
  {
   "cell_type": "markdown",
   "id": "180f9670",
   "metadata": {},
   "source": [
    "***Выводы:***\n",
    "- Средняя зарплата клиентов, пользующихся двумя продуктами, больше, чем у клиентов, пользующихся одним продуктом, почти на 1000;\n",
    "- Полученное p-value значительно превышает заданный нами уровень значимости α, что не позволяет отвергнуть нулевую гипотезу о равенстве средних зарплат;\n",
    "- Наблюдаемая разница в зарплатах не является статистически значимой."
   ]
  },
  {
   "cell_type": "markdown",
   "id": "09bfc9a7",
   "metadata": {},
   "source": [
    "### Гипотеза о равенстве средних балансов на счетах у двух групп пользователей: с кредитной картой и без неё\n",
    "\n",
    "**Нулевая гипотеза:** Средний баланс клиентов с кредитной картой равен среднему балансу клиентов без кредитной карты.\n",
    "\n",
    "**Альтернативная гипотеза:** Средний баланс клиентов с кредитной картой не равен среднему балансу клиентов без кредитной карты.\n",
    "\n",
    "**Уровень значимости** α=0,05.\n",
    "\n",
    "Подготовим две выборки балансов: для клиентов с кредитной картой и без нее. \n",
    "\n",
    "Помним, что в столбце баланса у нас было довольно много пропусков, которые необходимо удалить из наших выборок перед тестом."
   ]
  },
  {
   "cell_type": "code",
   "execution_count": 56,
   "id": "fffea5f9",
   "metadata": {},
   "outputs": [],
   "source": [
    "have_card = df[df['credit_card']==True]['balance'].dropna()\n",
    "no_card = df[df['credit_card']==False]['balance'].dropna()"
   ]
  },
  {
   "cell_type": "code",
   "execution_count": 57,
   "id": "54a302ab",
   "metadata": {},
   "outputs": [
    {
     "data": {
      "image/png": "[encoded data removed]",
      "text/plain": [
       "<Figure size 842.4x595.44 with 1 Axes>"
      ]
     },
     "metadata": {},
     "output_type": "display_data"
    }
   ],
   "source": [
    "have_card.hist()\n",
    "plt.title('Распределение балансов у клиентов с кредитной картой')\n",
    "plt.xlabel('Баланс')\n",
    "plt.show()"
   ]
  },
  {
   "cell_type": "code",
   "execution_count": 58,
   "id": "847ef22c",
   "metadata": {},
   "outputs": [
    {
     "data": {
      "image/png": "[encoded data removed]",
      "text/plain": [
       "<Figure size 842.4x595.44 with 1 Axes>"
      ]
     },
     "metadata": {},
     "output_type": "display_data"
    }
   ],
   "source": [
    "no_card.hist()\n",
    "plt.title('Распределение балансов у клиентов без кредитой карты')\n",
    "plt.xlabel('Баланс')\n",
    "plt.show()"
   ]
  },
  {
   "cell_type": "markdown",
   "id": "a7640006",
   "metadata": {},
   "source": [
    "Рассчитаем статистический тест."
   ]
  },
  {
   "cell_type": "code",
   "execution_count": 59,
   "id": "0b941580",
   "metadata": {},
   "outputs": [
    {
     "name": "stdout",
     "output_type": "stream",
     "text": [
      "p-value = 0.5913488228962429\n",
      "Средний баланс клиентов, имеющих кредитную карту: 119960.15539771461\n",
      "Средний баланс клиентов, не имеющих кредитной карты: 119519.12465625013\n"
     ]
    }
   ],
   "source": [
    "results = st.ttest_ind(have_card, no_card, equal_var=True)\n",
    "\n",
    "print('p-value = {}'.format(results.pvalue))\n",
    "\n",
    "print('Средний баланс клиентов, имеющих кредитную карту: {}'.format(have_card.mean()))\n",
    "print('Средний баланс клиентов, не имеющих кредитной карты: {}'.format(no_card.mean()))"
   ]
  },
  {
   "cell_type": "markdown",
   "id": "b727fd4f",
   "metadata": {},
   "source": [
    "***Выводы:***\n",
    "- Средние балансы клиентов приблизительно равны;\n",
    "- Полученное p-value значительно превышает заданный нами уровень значимости α, что не позволяет отвергнуть нулевую гипотезу о равенстве средних балансов."
   ]
  },
  {
   "cell_type": "markdown",
   "id": "1d005d16",
   "metadata": {},
   "source": [
    "<a id='tut1_id'></a>\n",
    "\n",
    "### Гипотеза о равенстве долей ушедших клиентов, пользовавшихся только одним продуктом, и клиентов, пользовавшихся двумя и более продуктами\n",
    "\n",
    "**Нулевая гипотеза:** Доля ушедших клиентов, пользовавшихся одним продуктом, и доля клиентов, пользовавшихся двумя и более продуктами, равны.\n",
    "\n",
    "**Альтернативная гипотеза:** Доля ушедших клиентов, пользовавшихся одним продуктом, и доля клиентов, пользовавшихся двумя и более продуктами, не равны.\n",
    "\n",
    "**Уровень значимости** α=0,05."
   ]
  },
  {
   "cell_type": "code",
   "execution_count": 60,
   "id": "b53c66eb",
   "metadata": {},
   "outputs": [
    {
     "data": {
      "text/html": [
       "<div>\n",
       "<style scoped>\n",
       "    .dataframe tbody tr th:only-of-type {\n",
       "        vertical-align: middle;\n",
       "    }\n",
       "\n",
       "    .dataframe tbody tr th {\n",
       "        vertical-align: top;\n",
       "    }\n",
       "\n",
       "    .dataframe thead th {\n",
       "        text-align: right;\n",
       "    }\n",
       "</style>\n",
       "<table border=\"1\" class=\"dataframe\">\n",
       "  <thead>\n",
       "    <tr style=\"text-align: right;\">\n",
       "      <th></th>\n",
       "      <th>Количество используемых продуктов</th>\n",
       "      <th>Доля ушедших</th>\n",
       "      <th>Количество клиентов в группе</th>\n",
       "    </tr>\n",
       "  </thead>\n",
       "  <tbody>\n",
       "    <tr>\n",
       "      <th>0</th>\n",
       "      <td>1 продукт</td>\n",
       "      <td>0.28</td>\n",
       "      <td>5084</td>\n",
       "    </tr>\n",
       "    <tr>\n",
       "      <th>1</th>\n",
       "      <td>2 и более продуктов</td>\n",
       "      <td>0.13</td>\n",
       "      <td>4916</td>\n",
       "    </tr>\n",
       "  </tbody>\n",
       "</table>\n",
       "</div>"
      ],
      "text/plain": [
       "  Количество используемых продуктов         Доля ушедших  \\\n",
       "0                         1 продукт                 0.28   \n",
       "1               2 и более продуктов                 0.13   \n",
       "\n",
       "   Количество клиентов в группе  \n",
       "0                          5084  \n",
       "1                          4916  "
      ]
     },
     "execution_count": 60,
     "metadata": {},
     "output_type": "execute_result"
    }
   ],
   "source": [
    "t = churn_in_category(df, 'category_by_product', category_name='Количество используемых продуктов')\n",
    "t"
   ]
  },
  {
   "cell_type": "code",
   "execution_count": 61,
   "id": "90819203",
   "metadata": {},
   "outputs": [
    {
     "name": "stdout",
     "output_type": "stream",
     "text": [
      "p-value = 0.0\n"
     ]
    }
   ],
   "source": [
    "# доля ушедших в первой группе:\n",
    "p1 = t.loc[0, 'Доля ушедших']\n",
    "\n",
    "# количество ушедших в первой группе:\n",
    "left1 = p1 * t.loc[0, 'Количество клиентов в группе']\n",
    "\n",
    "# доля ушедших во второй группе:\n",
    "p2 = t.loc[1, 'Доля ушедших']\n",
    "\n",
    "# количество ушедших во второй группе:\n",
    "left2 = p2 * t.loc[1, 'Количество клиентов в группе']\n",
    "\n",
    "# доля ушедших в комбинированном датасете:\n",
    "p_combined = (left1 + left2) / (t.loc[0, 'Количество клиентов в группе'] + t.loc[1, 'Количество клиентов в группе'])\n",
    "\n",
    "# разница пропорций в датасетах\n",
    "difference = p1 - p2 \n",
    "\n",
    "# считаем статистику в ст.отклонениях стандартного нормального распределения\n",
    "z_value = difference / mth.sqrt(p_combined * (1 - p_combined) * (1/t.loc[0, 'Количество клиентов в группе'] + 1/t.loc[1, 'Количество клиентов в группе']))\n",
    "\n",
    "# задаем стандартное нормальное распределение (среднее 0, ст.отклонение 1)\n",
    "distr = st.norm(0, 1) \n",
    "\n",
    "p_value = (1 - distr.cdf(abs(z_value))) * 2\n",
    "\n",
    "print('p-value =', p_value)"
   ]
  },
  {
   "cell_type": "markdown",
   "id": "e207b7f8",
   "metadata": {},
   "source": [
    "***Выводы:***\n",
    "- Полученное p-value позволяет отвергнуть нулевую гипотезу;\n",
    "- Разница между долями оттока клиентов, пользовавшихся одним продуктом, и клиентов, пользовавшимися двумя и более продуктами, является статистически значимой.  "
   ]
  },
  {
   "cell_type": "markdown",
   "id": "e6359c1e",
   "metadata": {},
   "source": [
    "<a id='tut2_id'></a>\n",
    "\n",
    "### Гипотеза о равенстве долей ушедших клиентов, пользовавшихся только одним продуктом, и клиентов, пользовавшихся тремя продуктами\n",
    "\n",
    "**Нулевая гипотеза:** Доля ушедших клиентов, пользовавшихся одним продуктом, и доля клиентов, пользовавшихся тремя продуктами, равны.\n",
    "\n",
    "**Альтернативная гипотеза:** Доля ушедших клиентов, пользовавшихся одним продуктом, и доля клиентов, пользовавшихся тремя продуктами, не равны.\n",
    "\n",
    "**Уровень значимости** α=0,05."
   ]
  },
  {
   "cell_type": "code",
   "execution_count": 62,
   "id": "e812d06e",
   "metadata": {},
   "outputs": [
    {
     "data": {
      "text/html": [
       "<div>\n",
       "<style scoped>\n",
       "    .dataframe tbody tr th:only-of-type {\n",
       "        vertical-align: middle;\n",
       "    }\n",
       "\n",
       "    .dataframe tbody tr th {\n",
       "        vertical-align: top;\n",
       "    }\n",
       "\n",
       "    .dataframe thead th {\n",
       "        text-align: right;\n",
       "    }\n",
       "</style>\n",
       "<table border=\"1\" class=\"dataframe\">\n",
       "  <thead>\n",
       "    <tr style=\"text-align: right;\">\n",
       "      <th></th>\n",
       "      <th>Количество используемых продуктов</th>\n",
       "      <th>Доля ушедших</th>\n",
       "      <th>Количество клиентов в группе</th>\n",
       "    </tr>\n",
       "  </thead>\n",
       "  <tbody>\n",
       "    <tr>\n",
       "      <th>0</th>\n",
       "      <td>1</td>\n",
       "      <td>0.28</td>\n",
       "      <td>5084</td>\n",
       "    </tr>\n",
       "    <tr>\n",
       "      <th>1</th>\n",
       "      <td>2</td>\n",
       "      <td>0.08</td>\n",
       "      <td>4590</td>\n",
       "    </tr>\n",
       "    <tr>\n",
       "      <th>2</th>\n",
       "      <td>3</td>\n",
       "      <td>0.83</td>\n",
       "      <td>266</td>\n",
       "    </tr>\n",
       "    <tr>\n",
       "      <th>3</th>\n",
       "      <td>4</td>\n",
       "      <td>1.00</td>\n",
       "      <td>60</td>\n",
       "    </tr>\n",
       "  </tbody>\n",
       "</table>\n",
       "</div>"
      ],
      "text/plain": [
       "   Количество используемых продуктов         Доля ушедших  \\\n",
       "0                                  1                 0.28   \n",
       "1                                  2                 0.08   \n",
       "2                                  3                 0.83   \n",
       "3                                  4                 1.00   \n",
       "\n",
       "   Количество клиентов в группе  \n",
       "0                          5084  \n",
       "1                          4590  \n",
       "2                           266  \n",
       "3                            60  "
      ]
     },
     "execution_count": 62,
     "metadata": {},
     "output_type": "execute_result"
    }
   ],
   "source": [
    "t = churn_in_category(df, 'products', category_name='Количество используемых продуктов')\n",
    "t"
   ]
  },
  {
   "cell_type": "code",
   "execution_count": 63,
   "id": "502c11e6",
   "metadata": {},
   "outputs": [
    {
     "name": "stdout",
     "output_type": "stream",
     "text": [
      "p-value = 0.0\n"
     ]
    }
   ],
   "source": [
    "# доля ушедших в первой группе:\n",
    "p1 = t.loc[0, 'Доля ушедших']\n",
    "\n",
    "# количество ушедших в первой группе:\n",
    "left1 = p1 * t.loc[0, 'Количество клиентов в группе']\n",
    "\n",
    "# доля ушедших во второй группе:\n",
    "p2 = t.loc[2, 'Доля ушедших']\n",
    "\n",
    "# количество ушедших во второй группе:\n",
    "left2 = p2 * t.loc[2, 'Количество клиентов в группе']\n",
    "\n",
    "# доля ушедших в комбинированном датасете:\n",
    "p_combined = (left1 + left2) / (t.loc[0, 'Количество клиентов в группе'] + t.loc[2, 'Количество клиентов в группе'])\n",
    "\n",
    "# разница пропорций в датасетах\n",
    "difference = p1 - p2 \n",
    "\n",
    "# считаем статистику в ст.отклонениях стандартного нормального распределения\n",
    "z_value = difference / mth.sqrt(p_combined * (1 - p_combined) * (1/t.loc[0, 'Количество клиентов в группе'] + 1/t.loc[2, 'Количество клиентов в группе']))\n",
    "\n",
    "# задаем стандартное нормальное распределение (среднее 0, ст.отклонение 1)\n",
    "distr = st.norm(0, 1) \n",
    "\n",
    "p_value = (1 - distr.cdf(abs(z_value))) * 2\n",
    "\n",
    "print('p-value =', p_value)"
   ]
  },
  {
   "cell_type": "markdown",
   "id": "09893cf3",
   "metadata": {},
   "source": [
    "***Выводы:***\n",
    "- Полученное p-value позволяет отвергнуть нулевую гипотезу;\n",
    "- Разница между долями оттока клиентов, пользовавшихся одним продуктом, и клиентов, пользовавшимися тремя продуктами, является статистически значимой. Следовательно, сегментом с наибольшей долей оттока можно считать клиентов с тремя продуктами."
   ]
  },
  {
   "cell_type": "markdown",
   "id": "a46a4fba",
   "metadata": {},
   "source": [
    "<a id='summary_id'></a>\n",
    "\n",
    "## Выводы по проекту\n",
    "\n",
    "\n",
    "***Общие сведения о клиентах:***\n",
    "- Разброс кредитного рейтинга: от 350 до 850. Половина пользователей - с рейтингом выше 652;\n",
    "- Возраст: от 18 до 92. Половина пользователей - старше 37;\n",
    "- Пользователи распределены равномерно по количеству объектов от 1 до 9. Значительно меньше пользователей в группах без объектов и с 10 объектами;\n",
    "- Разброс баланса на счете: от 3,8 тысяч до 250,9 тысяч. Половина пользователей, у которых указан баланс, - с балансом больше 119,8 тысяч;\n",
    "- Половина пользователей пользуется только 1 продуктом;\n",
    "- Половина пользователей имеет зарплату больше 100 тысяч.\n",
    "- Кредитная карточка есть у 71% клиентов;\n",
    "- Активных и неактивных пользователей примерно равное количество в нашей выборке (52% и 48%, соответственно);\n",
    "- Ушедших клиентов - 20%;\n",
    "- Количество клиентов в Рыбинске и в Ростове Великом примерно равное;\n",
    "- В Ярославле клиентов примерно в 2 раза больше, чем в других двух городах.\n",
    "\n",
    "***Итоги сегментации пользователей по количеству используемых продуктов:***\n",
    "1. Пользователи, использующие один продукт:\n",
    "    - Средний возраст на 3-5 лет выше, чем у клиентов, пользовавшихся двумя продуктами;\n",
    "    - Преобладают клиенты со средним (от 100,2 до 119,8 тысяч) и выше среднего балансами (от 119,8 до 139,5 тысяч); \n",
    "    - Преобладают клиенты со низким (от 11,6) и средним уровнем дохода (от 51 до 100,2 тысяч);\n",
    "    - Доли активных и неактивных клиентов примерно равные;\n",
    "    - Доля ушедших клиентов в разы превышает долю ушедших в сегменте с двумя продуктами.\n",
    "\n",
    "\n",
    "2. Пользователи, использующие два продукта:\n",
    "    - Средний возраст на 3-5 лет ниже, чем у клиентов, пользовавшихся одним продуктом;\n",
    "    - Преобладают клиенты с низкими (от 3,8 до 100,2 тысяч) и высокими балансами (от 139,5 тысяч);\n",
    "    - Преобладают клиенты с низким (от 11,6 тысяч) и высоким уровнем дохода (от 149,3 тысяч);\n",
    "    - Количество активных пользователей больше неактивных;\n",
    "    - Доля ушедших клиентов в разы ниже доли ушедших клиентов в сегменте с одним продуктом.\n",
    "\n",
    "\n",
    "3. Общее:\n",
    "    - Наибольшее количество клиентов в обоих сегментах имеет средний кредитный рейтинг;\n",
    "    - Наибольшее количество клиентов в обоих сегментах - из Ярославля;\n",
    "    - В обоих сегментах мужчин больше, чем женщин;\n",
    "    - В среднем количество объектов у клиентов в обоих сегментах равно 5;\n",
    "    - Между наличием кредитной карты и количеством используемых продуктов взаимосвязи не наблюдается.\n",
    "    \n",
    "***Анализ оттока:***\n",
    "- Значительной разницы в долях ушедших клиентов между группами, сформированными по кредитному рейтингу, не наблюдается;\n",
    "- Доля оттока в Ярославле и Рыбинске 16-17%, а в Ростове Великом - 32%;\n",
    "- На основе наших данных можно предположить, что с возрастом риск оттока возрастает. Максимальная доля ушедших клиентов в группе 50-59 лет;\n",
    "- Значительной разницы в доле оттока между группами клиентов с разным количеством объектов нет - в среднем отток в каждой группе можно считать равным 20%;\n",
    "- Почти при любом уровне зарплаты доля оттока - 20%. В группе с самыми высокими зарплатами отток чуть выше - 22%;\n",
    "- Прямой или обратной зависимости оттока от уровня баланса на счете не наблюдается. Но в целом, наши данные говорят, что пользователи с наибольшими и наименьшими балансами на счетах уходят реже, чем пользователи, имеющие средний уровень баланса;\n",
    "- Наличие кредитной карты не влияет на долю оттока;\n",
    "- Доля оттока клиентов, пользовавшихся одним продуктом, в два раза больше доли оттока клиентов, пользовавшимися двумя и более продуктами. И эти разницы являются статистически значимыми.\n",
    "\n",
    "***Портрет клиента сегмента оттока:***\n",
    "- Количество продуктов, которыми пользуется клиент, оказывает сильное влияние на отток:\n",
    "\t- когда клиент пользуется только одним продуктом риск его потерять выше, чем когда он пользуется двумя и более;\n",
    "\t- наибольшая доля оттока у пользователей с 3 продуктами;\n",
    "- Если у клиента кредитный рейтинг ниже 400, велика вероятность, что он окажется в оттоке;\n",
    "- Доля \"отточников\" в Ростове Великом в 2 раза выше, чем в Ярославле и в Рыбинске;\n",
    "- После 40 лет риск оттока возрастает в 2 раза. Наибольший риск оттока у возрастной группы 50-59 лет;\n",
    "- Количество объектов, наличие кредитной карты и зарплата не оказывают существенного влияния на отток;\n",
    "- Пользователь с максимальным или минимальным балансом на счете менее подвержен риску ухода, чем клиент со средним балансом.\n",
    "\n",
    "***Проверка гипотез:***\n",
    "- Разница в средних зарплатах клиентов, пользующихся одним продуктом, и клиентов, пользующихся двумя продуктами, не является статистически значимой;\n",
    "- Отвергнуть гипотезу о равенстве средних балансов клиентов, имеющих кредитную карту, и клиентов, не имеющих кредитной карты, не удалось.\n",
    "\n",
    "***Общие рекомендации:***\n",
    "- Обратить внимание на Ростов Великий. Доля оттока там в два раза выше, чем в других городах - что-то идет не так;\n",
    "- Поработать с лояльностью клиентов после 40 лет, особенно с возрастной группой 50-59 лет;\n",
    "- Постараться, чтобы клиенты пользовались больше, чем один продуктом;\n",
    "- Попробовать установить причины высокого оттока среди пользователей с тремя продуктами. Возможно, в наших данных этот сегмент представлен слишком скромно, и потому стоит рассмотреть больше таких клиентов и еще раз проверить гипотезу;\n",
    "- Постараться найти инструменты, способные повысить лояльность клиентов со \"средними\" балансами;\n",
    "- Клиенты с кредитным рейтингом ниже 400, очевидно, не очень надежны - скорее всего, они уйдут."
   ]
  }
 ],
 "metadata": {
  "ExecuteTimeLog": [
   {
    "duration": 1364,
    "start_time": "2022-11-24T19:09:44.356Z"
   },
   {
    "duration": 134,
    "start_time": "2022-11-24T19:09:45.722Z"
   },
   {
    "duration": 0,
    "start_time": "2022-11-24T19:09:45.861Z"
   },
   {
    "duration": 0,
    "start_time": "2022-11-24T19:09:45.862Z"
   },
   {
    "duration": 0,
    "start_time": "2022-11-24T19:09:45.864Z"
   },
   {
    "duration": 0,
    "start_time": "2022-11-24T19:09:45.865Z"
   },
   {
    "duration": 0,
    "start_time": "2022-11-24T19:09:45.866Z"
   },
   {
    "duration": 0,
    "start_time": "2022-11-24T19:09:45.868Z"
   },
   {
    "duration": 0,
    "start_time": "2022-11-24T19:09:45.869Z"
   },
   {
    "duration": 0,
    "start_time": "2022-11-24T19:09:45.870Z"
   },
   {
    "duration": 0,
    "start_time": "2022-11-24T19:09:45.871Z"
   },
   {
    "duration": 0,
    "start_time": "2022-11-24T19:09:45.873Z"
   },
   {
    "duration": 0,
    "start_time": "2022-11-24T19:09:45.874Z"
   },
   {
    "duration": 0,
    "start_time": "2022-11-24T19:09:45.874Z"
   },
   {
    "duration": 0,
    "start_time": "2022-11-24T19:09:45.902Z"
   },
   {
    "duration": 0,
    "start_time": "2022-11-24T19:09:45.906Z"
   },
   {
    "duration": 0,
    "start_time": "2022-11-24T19:09:45.907Z"
   },
   {
    "duration": 0,
    "start_time": "2022-11-24T19:09:45.908Z"
   },
   {
    "duration": 0,
    "start_time": "2022-11-24T19:09:45.909Z"
   },
   {
    "duration": 0,
    "start_time": "2022-11-24T19:09:45.911Z"
   },
   {
    "duration": 0,
    "start_time": "2022-11-24T19:09:45.913Z"
   },
   {
    "duration": 0,
    "start_time": "2022-11-24T19:09:45.914Z"
   },
   {
    "duration": 0,
    "start_time": "2022-11-24T19:09:45.916Z"
   },
   {
    "duration": 0,
    "start_time": "2022-11-24T19:09:45.917Z"
   },
   {
    "duration": 0,
    "start_time": "2022-11-24T19:09:45.918Z"
   },
   {
    "duration": 0,
    "start_time": "2022-11-24T19:09:45.919Z"
   },
   {
    "duration": 0,
    "start_time": "2022-11-24T19:09:45.920Z"
   },
   {
    "duration": 0,
    "start_time": "2022-11-24T19:09:45.921Z"
   },
   {
    "duration": 0,
    "start_time": "2022-11-24T19:09:45.923Z"
   },
   {
    "duration": 1,
    "start_time": "2022-11-24T19:09:45.924Z"
   },
   {
    "duration": 0,
    "start_time": "2022-11-24T19:09:45.926Z"
   },
   {
    "duration": 0,
    "start_time": "2022-11-24T19:09:45.927Z"
   },
   {
    "duration": 0,
    "start_time": "2022-11-24T19:09:45.928Z"
   },
   {
    "duration": 0,
    "start_time": "2022-11-24T19:09:45.930Z"
   },
   {
    "duration": 0,
    "start_time": "2022-11-24T19:09:45.931Z"
   },
   {
    "duration": 0,
    "start_time": "2022-11-24T19:09:45.932Z"
   },
   {
    "duration": 0,
    "start_time": "2022-11-24T19:09:45.934Z"
   },
   {
    "duration": 0,
    "start_time": "2022-11-24T19:09:45.936Z"
   },
   {
    "duration": 0,
    "start_time": "2022-11-24T19:09:45.938Z"
   },
   {
    "duration": 0,
    "start_time": "2022-11-24T19:09:45.940Z"
   },
   {
    "duration": 0,
    "start_time": "2022-11-24T19:09:45.941Z"
   },
   {
    "duration": 0,
    "start_time": "2022-11-24T19:09:45.942Z"
   },
   {
    "duration": 0,
    "start_time": "2022-11-24T19:09:45.943Z"
   },
   {
    "duration": 0,
    "start_time": "2022-11-24T19:09:45.944Z"
   },
   {
    "duration": 0,
    "start_time": "2022-11-24T19:09:45.944Z"
   },
   {
    "duration": 1257,
    "start_time": "2022-11-24T19:28:14.473Z"
   },
   {
    "duration": 155,
    "start_time": "2022-11-24T19:28:17.168Z"
   },
   {
    "duration": 1161,
    "start_time": "2022-11-24T19:29:06.596Z"
   },
   {
    "duration": 78,
    "start_time": "2022-11-24T19:29:07.759Z"
   },
   {
    "duration": 12,
    "start_time": "2022-11-24T19:29:07.838Z"
   },
   {
    "duration": 35,
    "start_time": "2022-11-24T19:29:07.852Z"
   },
   {
    "duration": 4,
    "start_time": "2022-11-24T19:29:07.888Z"
   },
   {
    "duration": 8,
    "start_time": "2022-11-24T19:29:07.893Z"
   },
   {
    "duration": 21,
    "start_time": "2022-11-24T19:29:07.903Z"
   },
   {
    "duration": 10,
    "start_time": "2022-11-24T19:29:07.925Z"
   },
   {
    "duration": 4,
    "start_time": "2022-11-24T19:29:07.936Z"
   },
   {
    "duration": 882,
    "start_time": "2022-11-24T19:29:07.942Z"
   },
   {
    "duration": 5,
    "start_time": "2022-11-24T19:29:08.825Z"
   },
   {
    "duration": 21,
    "start_time": "2022-11-24T19:29:08.832Z"
   },
   {
    "duration": 39,
    "start_time": "2022-11-24T19:29:08.855Z"
   },
   {
    "duration": 14,
    "start_time": "2022-11-24T19:29:08.896Z"
   },
   {
    "duration": 38,
    "start_time": "2022-11-24T19:29:08.912Z"
   },
   {
    "duration": 161,
    "start_time": "2022-11-24T19:29:08.952Z"
   },
   {
    "duration": 193,
    "start_time": "2022-11-24T19:29:09.115Z"
   },
   {
    "duration": 6,
    "start_time": "2022-11-24T19:29:09.309Z"
   },
   {
    "duration": 18,
    "start_time": "2022-11-24T19:29:09.317Z"
   },
   {
    "duration": 152,
    "start_time": "2022-11-24T19:29:09.337Z"
   },
   {
    "duration": 12,
    "start_time": "2022-11-24T19:29:09.491Z"
   },
   {
    "duration": 235,
    "start_time": "2022-11-24T19:29:09.504Z"
   },
   {
    "duration": 6,
    "start_time": "2022-11-24T19:29:09.740Z"
   },
   {
    "duration": 14,
    "start_time": "2022-11-24T19:29:09.748Z"
   },
   {
    "duration": 176,
    "start_time": "2022-11-24T19:29:09.763Z"
   },
   {
    "duration": 13,
    "start_time": "2022-11-24T19:29:09.940Z"
   },
   {
    "duration": 214,
    "start_time": "2022-11-24T19:29:09.955Z"
   },
   {
    "duration": 7,
    "start_time": "2022-11-24T19:29:10.172Z"
   },
   {
    "duration": 13,
    "start_time": "2022-11-24T19:29:10.181Z"
   },
   {
    "duration": 171,
    "start_time": "2022-11-24T19:29:10.196Z"
   },
   {
    "duration": 7,
    "start_time": "2022-11-24T19:29:10.369Z"
   },
   {
    "duration": 14,
    "start_time": "2022-11-24T19:29:10.377Z"
   },
   {
    "duration": 169,
    "start_time": "2022-11-24T19:29:10.392Z"
   },
   {
    "duration": 8,
    "start_time": "2022-11-24T19:29:10.563Z"
   },
   {
    "duration": 141,
    "start_time": "2022-11-24T19:29:10.573Z"
   },
   {
    "duration": 10,
    "start_time": "2022-11-24T19:29:10.716Z"
   },
   {
    "duration": 197,
    "start_time": "2022-11-24T19:29:10.728Z"
   },
   {
    "duration": 205,
    "start_time": "2022-11-24T19:29:10.926Z"
   },
   {
    "duration": 6,
    "start_time": "2022-11-24T19:29:11.132Z"
   },
   {
    "duration": 7,
    "start_time": "2022-11-24T19:29:11.139Z"
   },
   {
    "duration": 185,
    "start_time": "2022-11-24T19:29:11.147Z"
   },
   {
    "duration": 182,
    "start_time": "2022-11-24T19:29:11.334Z"
   },
   {
    "duration": 6,
    "start_time": "2022-11-24T19:29:11.518Z"
   },
   {
    "duration": 13,
    "start_time": "2022-11-24T19:29:11.526Z"
   },
   {
    "duration": 7,
    "start_time": "2022-11-24T19:29:11.540Z"
   },
   {
    "duration": 1086,
    "start_time": "2022-11-25T08:10:58.497Z"
   },
   {
    "duration": 151,
    "start_time": "2022-11-25T08:10:59.585Z"
   },
   {
    "duration": 12,
    "start_time": "2022-11-25T08:10:59.737Z"
   },
   {
    "duration": 30,
    "start_time": "2022-11-25T08:10:59.752Z"
   },
   {
    "duration": 14,
    "start_time": "2022-11-25T08:10:59.784Z"
   },
   {
    "duration": 5,
    "start_time": "2022-11-25T08:10:59.800Z"
   },
   {
    "duration": 6,
    "start_time": "2022-11-25T08:10:59.806Z"
   },
   {
    "duration": 13,
    "start_time": "2022-11-25T08:10:59.814Z"
   },
   {
    "duration": 6,
    "start_time": "2022-11-25T08:10:59.828Z"
   },
   {
    "duration": 939,
    "start_time": "2022-11-25T08:10:59.837Z"
   },
   {
    "duration": 6,
    "start_time": "2022-11-25T08:11:00.778Z"
   },
   {
    "duration": 11,
    "start_time": "2022-11-25T08:11:00.797Z"
   },
   {
    "duration": 32,
    "start_time": "2022-11-25T08:11:00.809Z"
   },
   {
    "duration": 22,
    "start_time": "2022-11-25T08:11:00.842Z"
   },
   {
    "duration": 28,
    "start_time": "2022-11-25T08:11:00.866Z"
   },
   {
    "duration": 172,
    "start_time": "2022-11-25T08:11:00.895Z"
   },
   {
    "duration": 191,
    "start_time": "2022-11-25T08:11:01.069Z"
   },
   {
    "duration": 7,
    "start_time": "2022-11-25T08:11:01.261Z"
   },
   {
    "duration": 70,
    "start_time": "2022-11-25T08:11:01.269Z"
   },
   {
    "duration": 183,
    "start_time": "2022-11-25T08:11:01.341Z"
   },
   {
    "duration": 12,
    "start_time": "2022-11-25T08:11:01.526Z"
   },
   {
    "duration": 231,
    "start_time": "2022-11-25T08:11:01.540Z"
   },
   {
    "duration": 7,
    "start_time": "2022-11-25T08:11:01.772Z"
   },
   {
    "duration": 62,
    "start_time": "2022-11-25T08:11:01.780Z"
   },
   {
    "duration": 182,
    "start_time": "2022-11-25T08:11:01.843Z"
   },
   {
    "duration": 11,
    "start_time": "2022-11-25T08:11:02.026Z"
   },
   {
    "duration": 208,
    "start_time": "2022-11-25T08:11:02.038Z"
   },
   {
    "duration": 7,
    "start_time": "2022-11-25T08:11:02.249Z"
   },
   {
    "duration": 13,
    "start_time": "2022-11-25T08:11:02.257Z"
   },
   {
    "duration": 176,
    "start_time": "2022-11-25T08:11:02.272Z"
   },
   {
    "duration": 7,
    "start_time": "2022-11-25T08:11:02.449Z"
   },
   {
    "duration": 25,
    "start_time": "2022-11-25T08:11:02.457Z"
   },
   {
    "duration": 160,
    "start_time": "2022-11-25T08:11:02.484Z"
   },
   {
    "duration": 8,
    "start_time": "2022-11-25T08:11:02.645Z"
   },
   {
    "duration": 146,
    "start_time": "2022-11-25T08:11:02.655Z"
   },
   {
    "duration": 7,
    "start_time": "2022-11-25T08:11:02.803Z"
   },
   {
    "duration": 197,
    "start_time": "2022-11-25T08:11:02.811Z"
   },
   {
    "duration": 200,
    "start_time": "2022-11-25T08:11:03.010Z"
   },
   {
    "duration": 5,
    "start_time": "2022-11-25T08:11:03.212Z"
   },
   {
    "duration": 8,
    "start_time": "2022-11-25T08:11:03.219Z"
   },
   {
    "duration": 173,
    "start_time": "2022-11-25T08:11:03.229Z"
   },
   {
    "duration": 169,
    "start_time": "2022-11-25T08:11:03.404Z"
   },
   {
    "duration": 7,
    "start_time": "2022-11-25T08:11:03.575Z"
   },
   {
    "duration": 11,
    "start_time": "2022-11-25T08:11:03.597Z"
   },
   {
    "duration": 7,
    "start_time": "2022-11-25T08:11:03.610Z"
   },
   {
    "duration": 1119,
    "start_time": "2022-11-25T08:49:33.705Z"
   },
   {
    "duration": 89,
    "start_time": "2022-11-25T08:49:34.826Z"
   },
   {
    "duration": 11,
    "start_time": "2022-11-25T08:49:34.916Z"
   },
   {
    "duration": 30,
    "start_time": "2022-11-25T08:49:34.929Z"
   },
   {
    "duration": 4,
    "start_time": "2022-11-25T08:49:34.961Z"
   },
   {
    "duration": 8,
    "start_time": "2022-11-25T08:49:34.966Z"
   },
   {
    "duration": 7,
    "start_time": "2022-11-25T08:49:34.975Z"
   },
   {
    "duration": 22,
    "start_time": "2022-11-25T08:49:34.983Z"
   },
   {
    "duration": 4,
    "start_time": "2022-11-25T08:49:35.007Z"
   },
   {
    "duration": 816,
    "start_time": "2022-11-25T08:49:35.013Z"
   },
   {
    "duration": 5,
    "start_time": "2022-11-25T08:49:35.831Z"
   },
   {
    "duration": 13,
    "start_time": "2022-11-25T08:49:35.837Z"
   },
   {
    "duration": 12,
    "start_time": "2022-11-25T08:49:35.851Z"
   },
   {
    "duration": 4,
    "start_time": "2022-11-25T08:49:35.865Z"
   },
   {
    "duration": 29,
    "start_time": "2022-11-25T08:49:35.871Z"
   },
   {
    "duration": 151,
    "start_time": "2022-11-25T08:49:35.901Z"
   },
   {
    "duration": 203,
    "start_time": "2022-11-25T08:49:36.054Z"
   },
   {
    "duration": 5,
    "start_time": "2022-11-25T08:49:36.259Z"
   },
   {
    "duration": 13,
    "start_time": "2022-11-25T08:49:36.267Z"
   },
   {
    "duration": 154,
    "start_time": "2022-11-25T08:49:36.281Z"
   },
   {
    "duration": 12,
    "start_time": "2022-11-25T08:49:36.436Z"
   },
   {
    "duration": 220,
    "start_time": "2022-11-25T08:49:36.449Z"
   },
   {
    "duration": 6,
    "start_time": "2022-11-25T08:49:36.671Z"
   },
   {
    "duration": 22,
    "start_time": "2022-11-25T08:49:36.678Z"
   },
   {
    "duration": 166,
    "start_time": "2022-11-25T08:49:36.702Z"
   },
   {
    "duration": 13,
    "start_time": "2022-11-25T08:49:36.869Z"
   },
   {
    "duration": 216,
    "start_time": "2022-11-25T08:49:36.883Z"
   },
   {
    "duration": 6,
    "start_time": "2022-11-25T08:49:37.102Z"
   },
   {
    "duration": 14,
    "start_time": "2022-11-25T08:49:37.109Z"
   },
   {
    "duration": 157,
    "start_time": "2022-11-25T08:49:37.124Z"
   },
   {
    "duration": 6,
    "start_time": "2022-11-25T08:49:37.283Z"
   },
   {
    "duration": 12,
    "start_time": "2022-11-25T08:49:37.298Z"
   },
   {
    "duration": 157,
    "start_time": "2022-11-25T08:49:37.311Z"
   },
   {
    "duration": 7,
    "start_time": "2022-11-25T08:49:37.470Z"
   },
   {
    "duration": 138,
    "start_time": "2022-11-25T08:49:37.479Z"
   },
   {
    "duration": 6,
    "start_time": "2022-11-25T08:49:37.618Z"
   },
   {
    "duration": 182,
    "start_time": "2022-11-25T08:49:37.626Z"
   },
   {
    "duration": 182,
    "start_time": "2022-11-25T08:49:37.810Z"
   },
   {
    "duration": 5,
    "start_time": "2022-11-25T08:49:37.997Z"
   },
   {
    "duration": 10,
    "start_time": "2022-11-25T08:49:38.003Z"
   },
   {
    "duration": 172,
    "start_time": "2022-11-25T08:49:38.015Z"
   },
   {
    "duration": 179,
    "start_time": "2022-11-25T08:49:38.188Z"
   },
   {
    "duration": 5,
    "start_time": "2022-11-25T08:49:38.369Z"
   },
   {
    "duration": 25,
    "start_time": "2022-11-25T08:49:38.375Z"
   },
   {
    "duration": 7,
    "start_time": "2022-11-25T08:49:38.401Z"
   },
   {
    "duration": 1415,
    "start_time": "2022-11-25T13:08:21.179Z"
   },
   {
    "duration": 138,
    "start_time": "2022-11-25T13:08:22.597Z"
   },
   {
    "duration": 21,
    "start_time": "2022-11-25T13:08:22.737Z"
   },
   {
    "duration": 69,
    "start_time": "2022-11-25T13:08:22.761Z"
   },
   {
    "duration": 5,
    "start_time": "2022-11-25T13:08:22.832Z"
   },
   {
    "duration": 41,
    "start_time": "2022-11-25T13:08:22.839Z"
   },
   {
    "duration": 37,
    "start_time": "2022-11-25T13:08:22.882Z"
   },
   {
    "duration": 45,
    "start_time": "2022-11-25T13:08:22.921Z"
   },
   {
    "duration": 25,
    "start_time": "2022-11-25T13:08:22.968Z"
   },
   {
    "duration": 1029,
    "start_time": "2022-11-25T13:08:22.996Z"
   },
   {
    "duration": 4,
    "start_time": "2022-11-25T13:09:10.714Z"
   },
   {
    "duration": 107,
    "start_time": "2022-11-25T13:11:32.009Z"
   },
   {
    "duration": 22,
    "start_time": "2022-11-25T13:11:37.032Z"
   },
   {
    "duration": 175,
    "start_time": "2022-11-25T13:12:02.637Z"
   },
   {
    "duration": 18,
    "start_time": "2022-11-25T13:13:18.885Z"
   },
   {
    "duration": 223,
    "start_time": "2022-11-25T13:13:33.783Z"
   },
   {
    "duration": 1020,
    "start_time": "2022-11-25T13:14:37.148Z"
   },
   {
    "duration": 749,
    "start_time": "2022-11-25T13:23:37.217Z"
   },
   {
    "duration": 1202,
    "start_time": "2022-11-25T17:50:10.292Z"
   },
   {
    "duration": 228,
    "start_time": "2022-11-25T17:50:11.495Z"
   },
   {
    "duration": 11,
    "start_time": "2022-11-25T17:50:11.724Z"
   },
   {
    "duration": 32,
    "start_time": "2022-11-25T17:50:11.737Z"
   },
   {
    "duration": 5,
    "start_time": "2022-11-25T17:50:26.350Z"
   },
   {
    "duration": 5,
    "start_time": "2022-11-25T17:50:27.209Z"
   },
   {
    "duration": 4,
    "start_time": "2022-11-25T17:50:28.057Z"
   },
   {
    "duration": 10,
    "start_time": "2022-11-25T17:50:30.304Z"
   },
   {
    "duration": 4,
    "start_time": "2022-11-25T17:50:31.301Z"
   },
   {
    "duration": 852,
    "start_time": "2022-11-25T17:50:37.538Z"
   },
   {
    "duration": 847,
    "start_time": "2022-11-25T17:50:42.088Z"
   },
   {
    "duration": 5,
    "start_time": "2022-11-25T17:53:36.799Z"
   },
   {
    "duration": 5,
    "start_time": "2022-11-25T17:53:37.786Z"
   },
   {
    "duration": 9,
    "start_time": "2022-11-25T17:53:38.810Z"
   },
   {
    "duration": 5,
    "start_time": "2022-11-25T17:53:45.456Z"
   },
   {
    "duration": 14,
    "start_time": "2022-11-25T17:53:48.027Z"
   },
   {
    "duration": 127,
    "start_time": "2022-11-25T17:53:54.990Z"
   },
   {
    "duration": 11,
    "start_time": "2022-11-25T17:58:23.768Z"
   },
   {
    "duration": 138,
    "start_time": "2022-11-25T17:58:44.771Z"
   },
   {
    "duration": 140,
    "start_time": "2022-11-25T17:59:15.806Z"
   },
   {
    "duration": 148,
    "start_time": "2022-11-25T18:00:00.239Z"
   },
   {
    "duration": 114,
    "start_time": "2022-11-25T18:11:07.204Z"
   },
   {
    "duration": 105,
    "start_time": "2022-11-25T18:11:34.133Z"
   },
   {
    "duration": 138,
    "start_time": "2022-11-25T18:11:44.370Z"
   },
   {
    "duration": 247,
    "start_time": "2022-11-25T18:13:30.651Z"
   },
   {
    "duration": 139,
    "start_time": "2022-11-25T18:13:39.206Z"
   },
   {
    "duration": 140,
    "start_time": "2022-11-25T18:13:46.928Z"
   },
   {
    "duration": 245,
    "start_time": "2022-11-25T18:14:00.393Z"
   },
   {
    "duration": 131,
    "start_time": "2022-11-25T18:14:11.324Z"
   },
   {
    "duration": 138,
    "start_time": "2022-11-25T18:14:33.871Z"
   },
   {
    "duration": 142,
    "start_time": "2022-11-25T18:14:44.165Z"
   },
   {
    "duration": 6,
    "start_time": "2022-11-25T18:16:57.632Z"
   },
   {
    "duration": 12,
    "start_time": "2022-11-25T18:16:58.151Z"
   },
   {
    "duration": 133,
    "start_time": "2022-11-25T18:16:59.473Z"
   },
   {
    "duration": 12,
    "start_time": "2022-11-25T18:17:17.451Z"
   },
   {
    "duration": 136,
    "start_time": "2022-11-25T18:17:19.116Z"
   },
   {
    "duration": 7,
    "start_time": "2022-11-25T18:17:28.856Z"
   },
   {
    "duration": 13,
    "start_time": "2022-11-25T18:17:29.468Z"
   },
   {
    "duration": 167,
    "start_time": "2022-11-25T18:17:30.087Z"
   },
   {
    "duration": 12,
    "start_time": "2022-11-25T18:17:37.203Z"
   },
   {
    "duration": 196,
    "start_time": "2022-11-25T18:17:37.623Z"
   },
   {
    "duration": 6,
    "start_time": "2022-11-25T18:17:43.346Z"
   },
   {
    "duration": 15,
    "start_time": "2022-11-25T18:17:43.894Z"
   },
   {
    "duration": 147,
    "start_time": "2022-11-25T18:17:45.970Z"
   },
   {
    "duration": 6,
    "start_time": "2022-11-25T18:17:53.367Z"
   },
   {
    "duration": 13,
    "start_time": "2022-11-25T18:17:53.677Z"
   },
   {
    "duration": 139,
    "start_time": "2022-11-25T18:17:54.965Z"
   },
   {
    "duration": 10,
    "start_time": "2022-11-25T18:17:59.320Z"
   },
   {
    "duration": 125,
    "start_time": "2022-11-25T18:17:59.815Z"
   },
   {
    "duration": 7,
    "start_time": "2022-11-25T18:56:09.410Z"
   },
   {
    "duration": 295,
    "start_time": "2022-11-25T18:56:09.940Z"
   },
   {
    "duration": 226,
    "start_time": "2022-11-25T18:56:18.233Z"
   },
   {
    "duration": 6,
    "start_time": "2022-11-25T18:56:21.780Z"
   },
   {
    "duration": 7,
    "start_time": "2022-11-25T18:56:36.592Z"
   },
   {
    "duration": 170,
    "start_time": "2022-11-25T18:56:37.672Z"
   },
   {
    "duration": 156,
    "start_time": "2022-11-25T18:56:42.591Z"
   },
   {
    "duration": 5,
    "start_time": "2022-11-25T18:56:45.306Z"
   },
   {
    "duration": 12,
    "start_time": "2022-11-25T18:56:56.640Z"
   },
   {
    "duration": 6,
    "start_time": "2022-11-25T18:56:58.051Z"
   },
   {
    "duration": 11,
    "start_time": "2022-11-25T18:59:39.185Z"
   },
   {
    "duration": 6,
    "start_time": "2022-11-25T19:00:21.804Z"
   },
   {
    "duration": 27,
    "start_time": "2022-11-25T19:15:30.876Z"
   },
   {
    "duration": 758,
    "start_time": "2022-11-25T19:15:38.492Z"
   },
   {
    "duration": 1100,
    "start_time": "2022-11-25T19:33:58.988Z"
   },
   {
    "duration": 176,
    "start_time": "2022-11-25T19:34:00.090Z"
   },
   {
    "duration": 13,
    "start_time": "2022-11-25T19:34:00.267Z"
   },
   {
    "duration": 44,
    "start_time": "2022-11-25T19:34:00.282Z"
   },
   {
    "duration": 4,
    "start_time": "2022-11-25T19:34:00.328Z"
   },
   {
    "duration": 31,
    "start_time": "2022-11-25T19:34:00.333Z"
   },
   {
    "duration": 28,
    "start_time": "2022-11-25T19:34:00.366Z"
   },
   {
    "duration": 15,
    "start_time": "2022-11-25T19:34:00.395Z"
   },
   {
    "duration": 6,
    "start_time": "2022-11-25T19:34:00.411Z"
   },
   {
    "duration": 958,
    "start_time": "2022-11-25T19:34:00.420Z"
   },
   {
    "duration": 738,
    "start_time": "2022-11-25T19:34:01.379Z"
   },
   {
    "duration": 6,
    "start_time": "2022-11-25T19:34:02.119Z"
   },
   {
    "duration": 9,
    "start_time": "2022-11-25T19:34:02.126Z"
   },
   {
    "duration": 11,
    "start_time": "2022-11-25T19:34:02.137Z"
   },
   {
    "duration": 5,
    "start_time": "2022-11-25T19:34:02.150Z"
   },
   {
    "duration": 22,
    "start_time": "2022-11-25T19:34:02.156Z"
   },
   {
    "duration": 172,
    "start_time": "2022-11-25T19:34:02.180Z"
   },
   {
    "duration": 12,
    "start_time": "2022-11-25T19:34:02.354Z"
   },
   {
    "duration": 158,
    "start_time": "2022-11-25T19:34:02.367Z"
   },
   {
    "duration": 145,
    "start_time": "2022-11-25T19:34:02.526Z"
   },
   {
    "duration": 6,
    "start_time": "2022-11-25T19:34:02.673Z"
   },
   {
    "duration": 23,
    "start_time": "2022-11-25T19:34:02.681Z"
   },
   {
    "duration": 139,
    "start_time": "2022-11-25T19:34:02.706Z"
   },
   {
    "duration": 11,
    "start_time": "2022-11-25T19:34:02.847Z"
   },
   {
    "duration": 183,
    "start_time": "2022-11-25T19:34:02.860Z"
   },
   {
    "duration": 8,
    "start_time": "2022-11-25T19:34:03.045Z"
   },
   {
    "duration": 22,
    "start_time": "2022-11-25T19:34:03.055Z"
   },
   {
    "duration": 192,
    "start_time": "2022-11-25T19:34:03.080Z"
   },
   {
    "duration": 12,
    "start_time": "2022-11-25T19:34:03.274Z"
   },
   {
    "duration": 209,
    "start_time": "2022-11-25T19:34:03.287Z"
   },
   {
    "duration": 17,
    "start_time": "2022-11-25T19:34:03.497Z"
   },
   {
    "duration": 13,
    "start_time": "2022-11-25T19:34:03.516Z"
   },
   {
    "duration": 160,
    "start_time": "2022-11-25T19:34:03.530Z"
   },
   {
    "duration": 6,
    "start_time": "2022-11-25T19:34:03.692Z"
   },
   {
    "duration": 23,
    "start_time": "2022-11-25T19:34:03.699Z"
   },
   {
    "duration": 149,
    "start_time": "2022-11-25T19:34:03.723Z"
   },
   {
    "duration": 10,
    "start_time": "2022-11-25T19:34:03.874Z"
   },
   {
    "duration": 218,
    "start_time": "2022-11-25T19:34:03.885Z"
   },
   {
    "duration": 12,
    "start_time": "2022-11-25T19:34:04.105Z"
   },
   {
    "duration": 189,
    "start_time": "2022-11-25T19:34:04.118Z"
   },
   {
    "duration": 194,
    "start_time": "2022-11-25T19:34:04.308Z"
   },
   {
    "duration": 11,
    "start_time": "2022-11-25T19:34:04.503Z"
   },
   {
    "duration": 7,
    "start_time": "2022-11-25T19:34:04.515Z"
   },
   {
    "duration": 210,
    "start_time": "2022-11-25T19:34:04.523Z"
   },
   {
    "duration": 171,
    "start_time": "2022-11-25T19:34:04.734Z"
   },
   {
    "duration": 10,
    "start_time": "2022-11-25T19:34:04.907Z"
   },
   {
    "duration": 19,
    "start_time": "2022-11-25T19:34:04.919Z"
   },
   {
    "duration": 9,
    "start_time": "2022-11-25T19:34:04.940Z"
   },
   {
    "duration": 26,
    "start_time": "2022-11-25T19:34:04.950Z"
   },
   {
    "duration": 8,
    "start_time": "2022-11-25T19:34:04.977Z"
   },
   {
    "duration": 1325,
    "start_time": "2022-11-26T08:26:18.132Z"
   },
   {
    "duration": 139,
    "start_time": "2022-11-26T08:26:19.459Z"
   },
   {
    "duration": 14,
    "start_time": "2022-11-26T08:26:19.602Z"
   },
   {
    "duration": 37,
    "start_time": "2022-11-26T08:26:19.617Z"
   },
   {
    "duration": 4,
    "start_time": "2022-11-26T08:26:19.656Z"
   },
   {
    "duration": 8,
    "start_time": "2022-11-26T08:26:19.662Z"
   },
   {
    "duration": 7,
    "start_time": "2022-11-26T08:26:19.671Z"
   },
   {
    "duration": 11,
    "start_time": "2022-11-26T08:26:19.680Z"
   },
   {
    "duration": 32,
    "start_time": "2022-11-26T08:26:19.694Z"
   },
   {
    "duration": 980,
    "start_time": "2022-11-26T08:26:19.727Z"
   },
   {
    "duration": 821,
    "start_time": "2022-11-26T08:26:20.709Z"
   },
   {
    "duration": 6,
    "start_time": "2022-11-26T08:26:21.532Z"
   },
   {
    "duration": 9,
    "start_time": "2022-11-26T08:26:21.540Z"
   },
   {
    "duration": 12,
    "start_time": "2022-11-26T08:26:21.550Z"
   },
   {
    "duration": 6,
    "start_time": "2022-11-26T08:26:21.564Z"
   },
   {
    "duration": 21,
    "start_time": "2022-11-26T08:26:21.571Z"
   },
   {
    "duration": 162,
    "start_time": "2022-11-26T08:26:21.622Z"
   },
   {
    "duration": 12,
    "start_time": "2022-11-26T08:26:21.785Z"
   },
   {
    "duration": 179,
    "start_time": "2022-11-26T08:26:21.799Z"
   },
   {
    "duration": 154,
    "start_time": "2022-11-26T08:26:21.980Z"
   },
   {
    "duration": 6,
    "start_time": "2022-11-26T08:26:22.136Z"
   },
   {
    "duration": 16,
    "start_time": "2022-11-26T08:26:22.143Z"
   },
   {
    "duration": 178,
    "start_time": "2022-11-26T08:26:22.160Z"
   },
   {
    "duration": 13,
    "start_time": "2022-11-26T08:26:22.339Z"
   },
   {
    "duration": 173,
    "start_time": "2022-11-26T08:26:22.353Z"
   },
   {
    "duration": 8,
    "start_time": "2022-11-26T08:26:22.528Z"
   },
   {
    "duration": 43,
    "start_time": "2022-11-26T08:26:22.540Z"
   },
   {
    "duration": 218,
    "start_time": "2022-11-26T08:26:22.585Z"
   },
   {
    "duration": 21,
    "start_time": "2022-11-26T08:26:22.805Z"
   },
   {
    "duration": 271,
    "start_time": "2022-11-26T08:26:22.828Z"
   },
   {
    "duration": 8,
    "start_time": "2022-11-26T08:26:23.100Z"
   },
   {
    "duration": 25,
    "start_time": "2022-11-26T08:26:23.110Z"
   },
   {
    "duration": 174,
    "start_time": "2022-11-26T08:26:23.137Z"
   },
   {
    "duration": 14,
    "start_time": "2022-11-26T08:26:23.313Z"
   },
   {
    "duration": 18,
    "start_time": "2022-11-26T08:26:23.329Z"
   },
   {
    "duration": 188,
    "start_time": "2022-11-26T08:26:23.349Z"
   },
   {
    "duration": 13,
    "start_time": "2022-11-26T08:26:23.539Z"
   },
   {
    "duration": 244,
    "start_time": "2022-11-26T08:26:23.554Z"
   },
   {
    "duration": 8,
    "start_time": "2022-11-26T08:26:23.799Z"
   },
   {
    "duration": 211,
    "start_time": "2022-11-26T08:26:23.821Z"
   },
   {
    "duration": 286,
    "start_time": "2022-11-26T08:26:24.036Z"
   },
   {
    "duration": 8,
    "start_time": "2022-11-26T08:26:24.324Z"
   },
   {
    "duration": 13,
    "start_time": "2022-11-26T08:26:24.334Z"
   },
   {
    "duration": 255,
    "start_time": "2022-11-26T08:26:24.350Z"
   },
   {
    "duration": 184,
    "start_time": "2022-11-26T08:26:24.607Z"
   },
   {
    "duration": 6,
    "start_time": "2022-11-26T08:26:24.792Z"
   },
   {
    "duration": 33,
    "start_time": "2022-11-26T08:26:24.799Z"
   },
   {
    "duration": 7,
    "start_time": "2022-11-26T08:26:24.834Z"
   },
   {
    "duration": 18,
    "start_time": "2022-11-26T08:26:24.842Z"
   },
   {
    "duration": 7,
    "start_time": "2022-11-26T08:26:24.862Z"
   },
   {
    "duration": 1320,
    "start_time": "2022-11-27T16:58:08.419Z"
   },
   {
    "duration": 124,
    "start_time": "2022-11-27T16:58:09.741Z"
   },
   {
    "duration": 13,
    "start_time": "2022-11-27T16:58:09.867Z"
   },
   {
    "duration": 36,
    "start_time": "2022-11-27T16:58:09.882Z"
   },
   {
    "duration": 5,
    "start_time": "2022-11-27T16:58:09.919Z"
   },
   {
    "duration": 7,
    "start_time": "2022-11-27T16:58:09.925Z"
   },
   {
    "duration": 5,
    "start_time": "2022-11-27T16:58:09.933Z"
   },
   {
    "duration": 12,
    "start_time": "2022-11-27T16:58:09.940Z"
   },
   {
    "duration": 6,
    "start_time": "2022-11-27T16:58:09.954Z"
   },
   {
    "duration": 972,
    "start_time": "2022-11-27T16:58:09.963Z"
   },
   {
    "duration": 822,
    "start_time": "2022-11-27T16:58:10.937Z"
   },
   {
    "duration": 7,
    "start_time": "2022-11-27T16:58:11.761Z"
   },
   {
    "duration": 8,
    "start_time": "2022-11-27T16:58:11.770Z"
   },
   {
    "duration": 12,
    "start_time": "2022-11-27T16:58:11.780Z"
   },
   {
    "duration": 29,
    "start_time": "2022-11-27T16:58:11.793Z"
   },
   {
    "duration": 20,
    "start_time": "2022-11-27T16:58:11.824Z"
   },
   {
    "duration": 167,
    "start_time": "2022-11-27T16:58:11.847Z"
   },
   {
    "duration": 15,
    "start_time": "2022-11-27T16:58:12.016Z"
   },
   {
    "duration": 170,
    "start_time": "2022-11-27T16:58:12.033Z"
   },
   {
    "duration": 147,
    "start_time": "2022-11-27T16:58:12.204Z"
   },
   {
    "duration": 6,
    "start_time": "2022-11-27T16:58:12.352Z"
   },
   {
    "duration": 18,
    "start_time": "2022-11-27T16:58:12.360Z"
   },
   {
    "duration": 167,
    "start_time": "2022-11-27T16:58:12.379Z"
   },
   {
    "duration": 13,
    "start_time": "2022-11-27T16:58:12.547Z"
   },
   {
    "duration": 161,
    "start_time": "2022-11-27T16:58:12.562Z"
   },
   {
    "duration": 7,
    "start_time": "2022-11-27T16:58:12.725Z"
   },
   {
    "duration": 20,
    "start_time": "2022-11-27T16:58:12.734Z"
   },
   {
    "duration": 202,
    "start_time": "2022-11-27T16:58:12.757Z"
   },
   {
    "duration": 12,
    "start_time": "2022-11-27T16:58:12.960Z"
   },
   {
    "duration": 231,
    "start_time": "2022-11-27T16:58:12.974Z"
   },
   {
    "duration": 15,
    "start_time": "2022-11-27T16:58:13.207Z"
   },
   {
    "duration": 15,
    "start_time": "2022-11-27T16:58:13.223Z"
   },
   {
    "duration": 191,
    "start_time": "2022-11-27T16:58:13.240Z"
   },
   {
    "duration": 7,
    "start_time": "2022-11-27T16:58:13.434Z"
   },
   {
    "duration": 17,
    "start_time": "2022-11-27T16:58:13.443Z"
   },
   {
    "duration": 176,
    "start_time": "2022-11-27T16:58:13.462Z"
   },
   {
    "duration": 10,
    "start_time": "2022-11-27T16:58:13.640Z"
   },
   {
    "duration": 266,
    "start_time": "2022-11-27T16:58:13.652Z"
   },
   {
    "duration": 105,
    "start_time": "2022-11-27T17:00:14.760Z"
   },
   {
    "duration": 5,
    "start_time": "2022-11-27T17:00:18.834Z"
   },
   {
    "duration": 18,
    "start_time": "2022-11-27T17:02:29.006Z"
   },
   {
    "duration": 12272,
    "start_time": "2022-11-27T17:03:04.840Z"
   },
   {
    "duration": 34032,
    "start_time": "2022-11-27T17:03:53.385Z"
   },
   {
    "duration": 14,
    "start_time": "2022-11-27T17:08:18.843Z"
   },
   {
    "duration": 815,
    "start_time": "2022-11-27T17:10:27.694Z"
   },
   {
    "duration": 820,
    "start_time": "2022-11-27T17:10:35.255Z"
   },
   {
    "duration": 34149,
    "start_time": "2022-11-27T17:10:40.806Z"
   },
   {
    "duration": 36123,
    "start_time": "2022-11-27T17:21:32.227Z"
   },
   {
    "duration": 35127,
    "start_time": "2022-11-27T17:22:27.451Z"
   },
   {
    "duration": 35810,
    "start_time": "2022-11-27T17:23:39.284Z"
   },
   {
    "duration": 893,
    "start_time": "2022-11-27T17:24:15.096Z"
   },
   {
    "duration": 876,
    "start_time": "2022-11-27T17:24:50.491Z"
   },
   {
    "duration": 894,
    "start_time": "2022-11-27T17:24:59.789Z"
   },
   {
    "duration": 229,
    "start_time": "2022-11-27T17:25:20.544Z"
   },
   {
    "duration": 877,
    "start_time": "2022-11-27T17:25:25.026Z"
   },
   {
    "duration": 35615,
    "start_time": "2022-11-27T17:25:32.050Z"
   },
   {
    "duration": 1236,
    "start_time": "2022-11-28T09:06:21.123Z"
   },
   {
    "duration": 108,
    "start_time": "2022-11-28T09:06:22.361Z"
   },
   {
    "duration": 13,
    "start_time": "2022-11-28T09:06:22.471Z"
   },
   {
    "duration": 43,
    "start_time": "2022-11-28T09:06:22.486Z"
   },
   {
    "duration": 8,
    "start_time": "2022-11-28T09:06:22.538Z"
   },
   {
    "duration": 33,
    "start_time": "2022-11-28T09:06:22.548Z"
   },
   {
    "duration": 24,
    "start_time": "2022-11-28T09:06:22.582Z"
   },
   {
    "duration": 32,
    "start_time": "2022-11-28T09:06:22.608Z"
   },
   {
    "duration": 25,
    "start_time": "2022-11-28T09:06:22.642Z"
   },
   {
    "duration": 967,
    "start_time": "2022-11-28T09:06:22.670Z"
   },
   {
    "duration": 852,
    "start_time": "2022-11-28T09:06:23.639Z"
   },
   {
    "duration": 5,
    "start_time": "2022-11-28T09:06:24.493Z"
   },
   {
    "duration": 39,
    "start_time": "2022-11-28T09:06:24.500Z"
   },
   {
    "duration": 47,
    "start_time": "2022-11-28T09:06:24.541Z"
   },
   {
    "duration": 18,
    "start_time": "2022-11-28T09:06:24.589Z"
   },
   {
    "duration": 29,
    "start_time": "2022-11-28T09:06:24.609Z"
   },
   {
    "duration": 164,
    "start_time": "2022-11-28T09:06:24.641Z"
   },
   {
    "duration": 13,
    "start_time": "2022-11-28T09:06:24.808Z"
   },
   {
    "duration": 168,
    "start_time": "2022-11-28T09:06:24.822Z"
   },
   {
    "duration": 170,
    "start_time": "2022-11-28T09:06:24.992Z"
   },
   {
    "duration": 7,
    "start_time": "2022-11-28T09:06:25.164Z"
   },
   {
    "duration": 51,
    "start_time": "2022-11-28T09:06:25.173Z"
   },
   {
    "duration": 165,
    "start_time": "2022-11-28T09:06:25.226Z"
   },
   {
    "duration": 14,
    "start_time": "2022-11-28T09:06:25.394Z"
   },
   {
    "duration": 167,
    "start_time": "2022-11-28T09:06:25.410Z"
   },
   {
    "duration": 7,
    "start_time": "2022-11-28T09:06:25.580Z"
   },
   {
    "duration": 42,
    "start_time": "2022-11-28T09:06:25.589Z"
   },
   {
    "duration": 192,
    "start_time": "2022-11-28T09:06:25.636Z"
   },
   {
    "duration": 18,
    "start_time": "2022-11-28T09:06:25.838Z"
   },
   {
    "duration": 229,
    "start_time": "2022-11-28T09:06:25.858Z"
   },
   {
    "duration": 7,
    "start_time": "2022-11-28T09:06:26.088Z"
   },
   {
    "duration": 26,
    "start_time": "2022-11-28T09:06:26.097Z"
   },
   {
    "duration": 171,
    "start_time": "2022-11-28T09:06:26.125Z"
   },
   {
    "duration": 7,
    "start_time": "2022-11-28T09:06:26.298Z"
   },
   {
    "duration": 43,
    "start_time": "2022-11-28T09:06:26.306Z"
   },
   {
    "duration": 171,
    "start_time": "2022-11-28T09:06:26.351Z"
   },
   {
    "duration": 17,
    "start_time": "2022-11-28T09:06:26.524Z"
   },
   {
    "duration": 237,
    "start_time": "2022-11-28T09:06:26.543Z"
   },
   {
    "duration": 35881,
    "start_time": "2022-11-28T09:06:26.782Z"
   },
   {
    "duration": 921,
    "start_time": "2022-11-28T09:07:02.666Z"
   },
   {
    "duration": 13,
    "start_time": "2022-11-28T09:07:03.589Z"
   },
   {
    "duration": 268,
    "start_time": "2022-11-28T09:07:03.605Z"
   },
   {
    "duration": 262,
    "start_time": "2022-11-28T09:07:03.875Z"
   },
   {
    "duration": 10,
    "start_time": "2022-11-28T09:07:04.140Z"
   },
   {
    "duration": 9,
    "start_time": "2022-11-28T09:07:04.156Z"
   },
   {
    "duration": 267,
    "start_time": "2022-11-28T09:07:04.168Z"
   },
   {
    "duration": 294,
    "start_time": "2022-11-28T09:07:04.437Z"
   },
   {
    "duration": 9,
    "start_time": "2022-11-28T09:07:04.733Z"
   },
   {
    "duration": 27,
    "start_time": "2022-11-28T09:07:04.744Z"
   },
   {
    "duration": 10,
    "start_time": "2022-11-28T09:07:04.773Z"
   },
   {
    "duration": 21,
    "start_time": "2022-11-28T09:07:04.785Z"
   },
   {
    "duration": 35,
    "start_time": "2022-11-28T09:07:04.809Z"
   },
   {
    "duration": 1441,
    "start_time": "2022-11-28T14:13:56.898Z"
   },
   {
    "duration": 113,
    "start_time": "2022-11-28T14:13:58.341Z"
   },
   {
    "duration": 13,
    "start_time": "2022-11-28T14:13:58.456Z"
   },
   {
    "duration": 36,
    "start_time": "2022-11-28T14:13:58.471Z"
   },
   {
    "duration": 17,
    "start_time": "2022-11-28T14:13:58.508Z"
   },
   {
    "duration": 11,
    "start_time": "2022-11-28T14:13:58.526Z"
   },
   {
    "duration": 7,
    "start_time": "2022-11-28T14:13:58.539Z"
   },
   {
    "duration": 12,
    "start_time": "2022-11-28T14:13:58.547Z"
   },
   {
    "duration": 5,
    "start_time": "2022-11-28T14:13:58.561Z"
   },
   {
    "duration": 900,
    "start_time": "2022-11-28T14:13:58.568Z"
   },
   {
    "duration": 808,
    "start_time": "2022-11-28T14:13:59.469Z"
   },
   {
    "duration": 6,
    "start_time": "2022-11-28T14:14:00.280Z"
   },
   {
    "duration": 32,
    "start_time": "2022-11-28T14:14:00.287Z"
   },
   {
    "duration": 35,
    "start_time": "2022-11-28T14:14:00.321Z"
   },
   {
    "duration": 20,
    "start_time": "2022-11-28T14:14:00.358Z"
   },
   {
    "duration": 41,
    "start_time": "2022-11-28T14:14:00.379Z"
   },
   {
    "duration": 167,
    "start_time": "2022-11-28T14:14:00.422Z"
   },
   {
    "duration": 13,
    "start_time": "2022-11-28T14:14:00.590Z"
   },
   {
    "duration": 176,
    "start_time": "2022-11-28T14:14:00.605Z"
   },
   {
    "duration": 163,
    "start_time": "2022-11-28T14:14:00.783Z"
   },
   {
    "duration": 7,
    "start_time": "2022-11-28T14:14:00.948Z"
   },
   {
    "duration": 29,
    "start_time": "2022-11-28T14:14:00.957Z"
   },
   {
    "duration": 174,
    "start_time": "2022-11-28T14:14:00.988Z"
   },
   {
    "duration": 13,
    "start_time": "2022-11-28T14:14:01.164Z"
   },
   {
    "duration": 161,
    "start_time": "2022-11-28T14:14:01.178Z"
   },
   {
    "duration": 8,
    "start_time": "2022-11-28T14:14:01.341Z"
   },
   {
    "duration": 55,
    "start_time": "2022-11-28T14:14:01.351Z"
   },
   {
    "duration": 198,
    "start_time": "2022-11-28T14:14:01.411Z"
   },
   {
    "duration": 16,
    "start_time": "2022-11-28T14:14:01.611Z"
   },
   {
    "duration": 244,
    "start_time": "2022-11-28T14:14:01.629Z"
   },
   {
    "duration": 7,
    "start_time": "2022-11-28T14:14:01.875Z"
   },
   {
    "duration": 20,
    "start_time": "2022-11-28T14:14:01.884Z"
   },
   {
    "duration": 171,
    "start_time": "2022-11-28T14:14:01.906Z"
   },
   {
    "duration": 8,
    "start_time": "2022-11-28T14:14:02.079Z"
   },
   {
    "duration": 33,
    "start_time": "2022-11-28T14:14:02.089Z"
   },
   {
    "duration": 166,
    "start_time": "2022-11-28T14:14:02.124Z"
   },
   {
    "duration": 9,
    "start_time": "2022-11-28T14:14:02.292Z"
   },
   {
    "duration": 241,
    "start_time": "2022-11-28T14:14:02.303Z"
   },
   {
    "duration": 820,
    "start_time": "2022-11-28T14:14:36.393Z"
   },
   {
    "duration": 33825,
    "start_time": "2022-11-28T14:14:37.224Z"
   },
   {
    "duration": 120,
    "start_time": "2022-11-28T14:15:11.051Z"
   },
   {
    "duration": 4,
    "start_time": "2022-11-28T14:15:20.096Z"
   },
   {
    "duration": 9,
    "start_time": "2022-11-28T14:24:49.146Z"
   },
   {
    "duration": 55392,
    "start_time": "2022-11-28T14:32:12.367Z"
   },
   {
    "duration": 1088,
    "start_time": "2022-11-28T14:34:03.887Z"
   },
   {
    "duration": 6,
    "start_time": "2022-11-28T14:45:54.966Z"
   },
   {
    "duration": 32,
    "start_time": "2022-11-28T14:49:02.766Z"
   },
   {
    "duration": 5,
    "start_time": "2022-11-28T14:49:08.223Z"
   },
   {
    "duration": 335,
    "start_time": "2022-11-28T14:53:26.630Z"
   },
   {
    "duration": 341,
    "start_time": "2022-11-28T14:53:53.671Z"
   },
   {
    "duration": 349,
    "start_time": "2022-11-28T14:54:27.619Z"
   },
   {
    "duration": 335,
    "start_time": "2022-11-28T14:56:46.172Z"
   },
   {
    "duration": 20,
    "start_time": "2022-11-28T15:01:49.873Z"
   },
   {
    "duration": 7,
    "start_time": "2022-11-28T15:02:47.431Z"
   },
   {
    "duration": 7,
    "start_time": "2022-11-28T15:03:43.473Z"
   },
   {
    "duration": 27,
    "start_time": "2022-11-28T15:03:52.430Z"
   },
   {
    "duration": 35,
    "start_time": "2022-11-28T15:04:01.761Z"
   },
   {
    "duration": 7,
    "start_time": "2022-11-28T15:04:09.388Z"
   },
   {
    "duration": 18,
    "start_time": "2022-11-28T15:04:10.783Z"
   },
   {
    "duration": 18,
    "start_time": "2022-11-28T15:04:34.753Z"
   },
   {
    "duration": 18,
    "start_time": "2022-11-28T15:04:44.741Z"
   },
   {
    "duration": 10,
    "start_time": "2022-11-28T15:04:59.504Z"
   },
   {
    "duration": 341,
    "start_time": "2022-11-28T15:05:14.165Z"
   },
   {
    "duration": 725,
    "start_time": "2022-11-28T15:06:21.744Z"
   },
   {
    "duration": 419,
    "start_time": "2022-11-28T15:07:57.344Z"
   },
   {
    "duration": 406,
    "start_time": "2022-11-28T15:13:29.543Z"
   },
   {
    "duration": 371,
    "start_time": "2022-11-28T15:14:10.806Z"
   },
   {
    "duration": 399,
    "start_time": "2022-11-28T15:14:32.854Z"
   },
   {
    "duration": 494,
    "start_time": "2022-11-28T15:14:42.765Z"
   },
   {
    "duration": 8,
    "start_time": "2022-11-28T16:04:37.286Z"
   },
   {
    "duration": 4,
    "start_time": "2022-11-28T16:06:38.358Z"
   },
   {
    "duration": 161,
    "start_time": "2022-11-28T16:06:38.376Z"
   },
   {
    "duration": 18,
    "start_time": "2022-11-28T16:06:38.539Z"
   },
   {
    "duration": 37,
    "start_time": "2022-11-28T16:06:38.558Z"
   },
   {
    "duration": 30,
    "start_time": "2022-11-28T16:06:38.597Z"
   },
   {
    "duration": 17,
    "start_time": "2022-11-28T16:06:38.630Z"
   },
   {
    "duration": 7,
    "start_time": "2022-11-28T16:06:38.649Z"
   },
   {
    "duration": 18,
    "start_time": "2022-11-28T16:06:38.658Z"
   },
   {
    "duration": 6,
    "start_time": "2022-11-28T16:06:38.678Z"
   },
   {
    "duration": 1138,
    "start_time": "2022-11-28T16:06:38.685Z"
   },
   {
    "duration": 832,
    "start_time": "2022-11-28T16:06:39.825Z"
   },
   {
    "duration": 5,
    "start_time": "2022-11-28T16:06:40.659Z"
   },
   {
    "duration": 18,
    "start_time": "2022-11-28T16:06:40.666Z"
   },
   {
    "duration": 15,
    "start_time": "2022-11-28T16:06:40.686Z"
   },
   {
    "duration": 30,
    "start_time": "2022-11-28T16:06:40.705Z"
   },
   {
    "duration": 157,
    "start_time": "2022-11-28T16:06:40.737Z"
   },
   {
    "duration": 178,
    "start_time": "2022-11-28T16:06:40.895Z"
   },
   {
    "duration": 13,
    "start_time": "2022-11-28T16:06:41.074Z"
   },
   {
    "duration": 176,
    "start_time": "2022-11-28T16:06:41.089Z"
   },
   {
    "duration": 187,
    "start_time": "2022-11-28T16:06:41.267Z"
   },
   {
    "duration": 8,
    "start_time": "2022-11-28T16:06:41.456Z"
   },
   {
    "duration": 17,
    "start_time": "2022-11-28T16:06:41.467Z"
   },
   {
    "duration": 222,
    "start_time": "2022-11-28T16:06:41.486Z"
   },
   {
    "duration": 21,
    "start_time": "2022-11-28T16:06:41.710Z"
   },
   {
    "duration": 186,
    "start_time": "2022-11-28T16:06:41.734Z"
   },
   {
    "duration": 15,
    "start_time": "2022-11-28T16:06:41.924Z"
   },
   {
    "duration": 28,
    "start_time": "2022-11-28T16:06:41.942Z"
   },
   {
    "duration": 225,
    "start_time": "2022-11-28T16:06:41.972Z"
   },
   {
    "duration": 22,
    "start_time": "2022-11-28T16:06:42.200Z"
   },
   {
    "duration": 266,
    "start_time": "2022-11-28T16:06:42.224Z"
   },
   {
    "duration": 8,
    "start_time": "2022-11-28T16:06:42.492Z"
   },
   {
    "duration": 40,
    "start_time": "2022-11-28T16:06:42.502Z"
   },
   {
    "duration": 206,
    "start_time": "2022-11-28T16:06:42.545Z"
   },
   {
    "duration": 8,
    "start_time": "2022-11-28T16:06:42.753Z"
   },
   {
    "duration": 16,
    "start_time": "2022-11-28T16:06:42.763Z"
   },
   {
    "duration": 214,
    "start_time": "2022-11-28T16:06:42.781Z"
   },
   {
    "duration": 9,
    "start_time": "2022-11-28T16:06:42.997Z"
   },
   {
    "duration": 179,
    "start_time": "2022-11-28T16:06:43.008Z"
   },
   {
    "duration": 8,
    "start_time": "2022-11-28T16:06:51.299Z"
   },
   {
    "duration": 565,
    "start_time": "2022-11-28T16:09:41.307Z"
   },
   {
    "duration": 11,
    "start_time": "2022-11-28T16:10:09.626Z"
   },
   {
    "duration": 9,
    "start_time": "2022-11-28T16:10:17.646Z"
   },
   {
    "duration": 7,
    "start_time": "2022-11-28T16:10:31.599Z"
   },
   {
    "duration": 397,
    "start_time": "2022-11-28T16:10:33.068Z"
   },
   {
    "duration": 348,
    "start_time": "2022-11-28T16:10:51.098Z"
   },
   {
    "duration": 349,
    "start_time": "2022-11-28T16:13:16.775Z"
   },
   {
    "duration": 456,
    "start_time": "2022-11-28T16:13:23.810Z"
   },
   {
    "duration": 361,
    "start_time": "2022-11-28T16:13:31.241Z"
   },
   {
    "duration": 589,
    "start_time": "2022-11-28T16:14:05.481Z"
   },
   {
    "duration": 363,
    "start_time": "2022-11-28T16:14:13.132Z"
   },
   {
    "duration": 210,
    "start_time": "2022-11-28T16:15:34.077Z"
   },
   {
    "duration": 157,
    "start_time": "2022-11-28T16:16:09.674Z"
   },
   {
    "duration": 343,
    "start_time": "2022-11-28T16:16:17.790Z"
   },
   {
    "duration": 294,
    "start_time": "2022-11-28T16:16:29.198Z"
   },
   {
    "duration": 3726,
    "start_time": "2022-11-28T16:23:01.164Z"
   },
   {
    "duration": 303,
    "start_time": "2022-11-28T16:23:37.175Z"
   },
   {
    "duration": 320,
    "start_time": "2022-11-28T16:26:20.017Z"
   },
   {
    "duration": 319,
    "start_time": "2022-11-28T16:26:53.786Z"
   },
   {
    "duration": 239,
    "start_time": "2022-11-28T16:30:45.008Z"
   },
   {
    "duration": 27,
    "start_time": "2022-11-28T16:34:30.394Z"
   },
   {
    "duration": 335,
    "start_time": "2022-11-28T16:34:36.072Z"
   },
   {
    "duration": 683,
    "start_time": "2022-11-28T16:36:50.485Z"
   },
   {
    "duration": 311,
    "start_time": "2022-11-28T16:37:10.311Z"
   },
   {
    "duration": 288,
    "start_time": "2022-11-28T16:37:15.011Z"
   },
   {
    "duration": 321,
    "start_time": "2022-11-28T16:37:28.339Z"
   },
   {
    "duration": 355,
    "start_time": "2022-11-28T16:37:53.642Z"
   },
   {
    "duration": 19,
    "start_time": "2022-11-28T16:43:47.169Z"
   },
   {
    "duration": 28,
    "start_time": "2022-11-28T16:43:54.240Z"
   },
   {
    "duration": 376,
    "start_time": "2022-11-28T16:44:21.523Z"
   },
   {
    "duration": 163,
    "start_time": "2022-11-28T16:48:35.912Z"
   },
   {
    "duration": 249,
    "start_time": "2022-11-28T16:48:48.575Z"
   },
   {
    "duration": 155,
    "start_time": "2022-11-28T16:48:58.858Z"
   },
   {
    "duration": 150,
    "start_time": "2022-11-28T16:49:34.862Z"
   },
   {
    "duration": 243,
    "start_time": "2022-11-28T16:51:33.130Z"
   },
   {
    "duration": 262,
    "start_time": "2022-11-28T16:56:20.586Z"
   },
   {
    "duration": 249,
    "start_time": "2022-11-28T16:56:42.111Z"
   },
   {
    "duration": 270,
    "start_time": "2022-11-28T16:56:57.617Z"
   },
   {
    "duration": 251,
    "start_time": "2022-11-28T17:05:38.704Z"
   },
   {
    "duration": 257,
    "start_time": "2022-11-28T17:06:16.160Z"
   },
   {
    "duration": 5,
    "start_time": "2022-11-28T17:30:25.046Z"
   },
   {
    "duration": 73,
    "start_time": "2022-11-28T17:30:25.053Z"
   },
   {
    "duration": 12,
    "start_time": "2022-11-28T17:30:25.129Z"
   },
   {
    "duration": 35,
    "start_time": "2022-11-28T17:30:25.143Z"
   },
   {
    "duration": 4,
    "start_time": "2022-11-28T17:30:25.180Z"
   },
   {
    "duration": 38,
    "start_time": "2022-11-28T17:30:25.186Z"
   },
   {
    "duration": 5,
    "start_time": "2022-11-28T17:30:25.226Z"
   },
   {
    "duration": 15,
    "start_time": "2022-11-28T17:30:25.233Z"
   },
   {
    "duration": 5,
    "start_time": "2022-11-28T17:30:25.249Z"
   },
   {
    "duration": 1066,
    "start_time": "2022-11-28T17:30:25.256Z"
   },
   {
    "duration": 699,
    "start_time": "2022-11-28T17:30:26.324Z"
   },
   {
    "duration": 5,
    "start_time": "2022-11-28T17:30:27.025Z"
   },
   {
    "duration": 8,
    "start_time": "2022-11-28T17:30:27.031Z"
   },
   {
    "duration": 10,
    "start_time": "2022-11-28T17:30:27.040Z"
   },
   {
    "duration": 5,
    "start_time": "2022-11-28T17:30:27.052Z"
   },
   {
    "duration": 18,
    "start_time": "2022-11-28T17:30:27.058Z"
   },
   {
    "duration": 170,
    "start_time": "2022-11-28T17:30:27.078Z"
   },
   {
    "duration": 11,
    "start_time": "2022-11-28T17:30:27.250Z"
   },
   {
    "duration": 166,
    "start_time": "2022-11-28T17:30:27.263Z"
   },
   {
    "duration": 140,
    "start_time": "2022-11-28T17:30:27.431Z"
   },
   {
    "duration": 7,
    "start_time": "2022-11-28T17:30:27.573Z"
   },
   {
    "duration": 15,
    "start_time": "2022-11-28T17:30:27.582Z"
   },
   {
    "duration": 265,
    "start_time": "2022-11-28T17:30:27.598Z"
   },
   {
    "duration": 14,
    "start_time": "2022-11-28T17:30:27.864Z"
   },
   {
    "duration": 152,
    "start_time": "2022-11-28T17:30:27.879Z"
   },
   {
    "duration": 6,
    "start_time": "2022-11-28T17:30:28.033Z"
   },
   {
    "duration": 18,
    "start_time": "2022-11-28T17:30:28.041Z"
   },
   {
    "duration": 177,
    "start_time": "2022-11-28T17:30:28.060Z"
   },
   {
    "duration": 13,
    "start_time": "2022-11-28T17:30:28.240Z"
   },
   {
    "duration": 211,
    "start_time": "2022-11-28T17:30:28.255Z"
   },
   {
    "duration": 7,
    "start_time": "2022-11-28T17:30:28.468Z"
   },
   {
    "duration": 15,
    "start_time": "2022-11-28T17:30:28.476Z"
   },
   {
    "duration": 176,
    "start_time": "2022-11-28T17:30:28.493Z"
   },
   {
    "duration": 7,
    "start_time": "2022-11-28T17:30:28.671Z"
   },
   {
    "duration": 14,
    "start_time": "2022-11-28T17:30:28.680Z"
   },
   {
    "duration": 175,
    "start_time": "2022-11-28T17:30:28.695Z"
   },
   {
    "duration": 9,
    "start_time": "2022-11-28T17:30:28.871Z"
   },
   {
    "duration": 149,
    "start_time": "2022-11-28T17:30:28.882Z"
   },
   {
    "duration": 8,
    "start_time": "2022-11-28T17:30:29.032Z"
   },
   {
    "duration": 305,
    "start_time": "2022-11-28T17:30:29.042Z"
   },
   {
    "duration": 158,
    "start_time": "2022-11-28T17:30:29.349Z"
   },
   {
    "duration": 284,
    "start_time": "2022-11-28T17:30:29.509Z"
   },
   {
    "duration": 337,
    "start_time": "2022-11-28T17:30:29.795Z"
   },
   {
    "duration": 323,
    "start_time": "2022-11-28T17:30:30.135Z"
   },
   {
    "duration": 340,
    "start_time": "2022-11-28T17:30:30.460Z"
   },
   {
    "duration": 157,
    "start_time": "2022-11-28T17:30:30.802Z"
   },
   {
    "duration": 239,
    "start_time": "2022-11-28T17:30:30.960Z"
   },
   {
    "duration": 243,
    "start_time": "2022-11-28T17:30:31.200Z"
   },
   {
    "duration": 277,
    "start_time": "2022-11-28T17:30:31.444Z"
   },
   {
    "duration": 31,
    "start_time": "2022-11-28T17:35:10.296Z"
   },
   {
    "duration": 38,
    "start_time": "2022-11-28T17:35:46.849Z"
   },
   {
    "duration": 4,
    "start_time": "2022-11-28T17:36:35.234Z"
   },
   {
    "duration": 92,
    "start_time": "2022-11-28T17:36:35.241Z"
   },
   {
    "duration": 15,
    "start_time": "2022-11-28T17:36:35.336Z"
   },
   {
    "duration": 55,
    "start_time": "2022-11-28T17:36:35.353Z"
   },
   {
    "duration": 4,
    "start_time": "2022-11-28T17:36:35.422Z"
   },
   {
    "duration": 47,
    "start_time": "2022-11-28T17:36:35.428Z"
   },
   {
    "duration": 38,
    "start_time": "2022-11-28T17:36:35.477Z"
   },
   {
    "duration": 32,
    "start_time": "2022-11-28T17:36:35.518Z"
   },
   {
    "duration": 29,
    "start_time": "2022-11-28T17:36:35.552Z"
   },
   {
    "duration": 1084,
    "start_time": "2022-11-28T17:36:35.584Z"
   },
   {
    "duration": 728,
    "start_time": "2022-11-28T17:36:36.671Z"
   },
   {
    "duration": 7,
    "start_time": "2022-11-28T17:36:37.401Z"
   },
   {
    "duration": 19,
    "start_time": "2022-11-28T17:36:37.410Z"
   },
   {
    "duration": 27,
    "start_time": "2022-11-28T17:36:37.431Z"
   },
   {
    "duration": 7,
    "start_time": "2022-11-28T17:36:37.460Z"
   },
   {
    "duration": 40,
    "start_time": "2022-11-28T17:36:37.469Z"
   },
   {
    "duration": 151,
    "start_time": "2022-11-28T17:36:37.511Z"
   },
   {
    "duration": 12,
    "start_time": "2022-11-28T17:36:37.665Z"
   },
   {
    "duration": 182,
    "start_time": "2022-11-28T17:36:37.679Z"
   },
   {
    "duration": 151,
    "start_time": "2022-11-28T17:36:37.862Z"
   },
   {
    "duration": 11,
    "start_time": "2022-11-28T17:36:38.015Z"
   },
   {
    "duration": 17,
    "start_time": "2022-11-28T17:36:38.027Z"
   },
   {
    "duration": 269,
    "start_time": "2022-11-28T17:36:38.046Z"
   },
   {
    "duration": 13,
    "start_time": "2022-11-28T17:36:38.322Z"
   },
   {
    "duration": 162,
    "start_time": "2022-11-28T17:36:38.337Z"
   },
   {
    "duration": 7,
    "start_time": "2022-11-28T17:36:38.500Z"
   },
   {
    "duration": 28,
    "start_time": "2022-11-28T17:36:38.509Z"
   },
   {
    "duration": 195,
    "start_time": "2022-11-28T17:36:38.539Z"
   },
   {
    "duration": 13,
    "start_time": "2022-11-28T17:36:38.738Z"
   },
   {
    "duration": 224,
    "start_time": "2022-11-28T17:36:38.752Z"
   },
   {
    "duration": 8,
    "start_time": "2022-11-28T17:36:38.977Z"
   },
   {
    "duration": 17,
    "start_time": "2022-11-28T17:36:38.987Z"
   },
   {
    "duration": 180,
    "start_time": "2022-11-28T17:36:39.023Z"
   },
   {
    "duration": 7,
    "start_time": "2022-11-28T17:36:39.205Z"
   },
   {
    "duration": 23,
    "start_time": "2022-11-28T17:36:39.213Z"
   },
   {
    "duration": 175,
    "start_time": "2022-11-28T17:36:39.237Z"
   },
   {
    "duration": 10,
    "start_time": "2022-11-28T17:36:39.421Z"
   },
   {
    "duration": 208,
    "start_time": "2022-11-28T17:36:39.433Z"
   },
   {
    "duration": 7,
    "start_time": "2022-11-28T17:36:39.643Z"
   },
   {
    "duration": 333,
    "start_time": "2022-11-28T17:36:39.652Z"
   },
   {
    "duration": 166,
    "start_time": "2022-11-28T17:36:39.987Z"
   },
   {
    "duration": 291,
    "start_time": "2022-11-28T17:36:40.155Z"
   },
   {
    "duration": 335,
    "start_time": "2022-11-28T17:36:40.448Z"
   },
   {
    "duration": 315,
    "start_time": "2022-11-28T17:36:40.785Z"
   },
   {
    "duration": 367,
    "start_time": "2022-11-28T17:36:41.102Z"
   },
   {
    "duration": 169,
    "start_time": "2022-11-28T17:36:41.471Z"
   },
   {
    "duration": 258,
    "start_time": "2022-11-28T17:36:41.642Z"
   },
   {
    "duration": 241,
    "start_time": "2022-11-28T17:36:41.902Z"
   },
   {
    "duration": 254,
    "start_time": "2022-11-28T17:36:42.145Z"
   },
   {
    "duration": 38,
    "start_time": "2022-11-28T17:36:48.580Z"
   },
   {
    "duration": 36,
    "start_time": "2022-11-28T17:37:24.521Z"
   },
   {
    "duration": 10,
    "start_time": "2022-11-28T17:38:13.089Z"
   },
   {
    "duration": 1072,
    "start_time": "2022-11-28T17:38:18.107Z"
   },
   {
    "duration": 1741,
    "start_time": "2022-11-28T17:38:40.186Z"
   },
   {
    "duration": 1529,
    "start_time": "2022-11-28T17:40:27.651Z"
   },
   {
    "duration": 1538,
    "start_time": "2022-11-28T17:40:40.208Z"
   },
   {
    "duration": 1617,
    "start_time": "2022-11-28T17:40:50.070Z"
   },
   {
    "duration": 495,
    "start_time": "2022-11-28T17:41:26.081Z"
   },
   {
    "duration": 1444,
    "start_time": "2022-11-28T17:41:30.238Z"
   },
   {
    "duration": 1534,
    "start_time": "2022-11-28T17:41:39.797Z"
   },
   {
    "duration": 516,
    "start_time": "2022-11-28T17:41:47.008Z"
   },
   {
    "duration": 1696,
    "start_time": "2022-11-28T17:41:51.404Z"
   },
   {
    "duration": 1763,
    "start_time": "2022-11-28T17:42:02.782Z"
   },
   {
    "duration": 1489,
    "start_time": "2022-11-28T17:42:57.182Z"
   },
   {
    "duration": 1133,
    "start_time": "2022-11-28T18:11:51.479Z"
   },
   {
    "duration": 68,
    "start_time": "2022-11-28T18:11:52.613Z"
   },
   {
    "duration": 12,
    "start_time": "2022-11-28T18:11:52.683Z"
   },
   {
    "duration": 37,
    "start_time": "2022-11-28T18:11:52.697Z"
   },
   {
    "duration": 5,
    "start_time": "2022-11-28T18:11:52.736Z"
   },
   {
    "duration": 10,
    "start_time": "2022-11-28T18:11:52.742Z"
   },
   {
    "duration": 6,
    "start_time": "2022-11-28T18:11:52.753Z"
   },
   {
    "duration": 11,
    "start_time": "2022-11-28T18:11:52.761Z"
   },
   {
    "duration": 4,
    "start_time": "2022-11-28T18:11:52.774Z"
   },
   {
    "duration": 900,
    "start_time": "2022-11-28T18:11:52.779Z"
   },
   {
    "duration": 865,
    "start_time": "2022-11-28T18:11:53.680Z"
   },
   {
    "duration": 7,
    "start_time": "2022-11-28T18:11:54.546Z"
   },
   {
    "duration": 10,
    "start_time": "2022-11-28T18:11:54.554Z"
   },
   {
    "duration": 10,
    "start_time": "2022-11-28T18:11:54.567Z"
   },
   {
    "duration": 6,
    "start_time": "2022-11-28T18:11:54.579Z"
   },
   {
    "duration": 41,
    "start_time": "2022-11-28T18:11:54.587Z"
   },
   {
    "duration": 152,
    "start_time": "2022-11-28T18:11:54.630Z"
   },
   {
    "duration": 12,
    "start_time": "2022-11-28T18:11:54.784Z"
   },
   {
    "duration": 167,
    "start_time": "2022-11-28T18:11:54.798Z"
   },
   {
    "duration": 149,
    "start_time": "2022-11-28T18:11:54.967Z"
   },
   {
    "duration": 7,
    "start_time": "2022-11-28T18:11:55.121Z"
   },
   {
    "duration": 26,
    "start_time": "2022-11-28T18:11:55.129Z"
   },
   {
    "duration": 142,
    "start_time": "2022-11-28T18:11:55.156Z"
   },
   {
    "duration": 12,
    "start_time": "2022-11-28T18:11:55.299Z"
   },
   {
    "duration": 147,
    "start_time": "2022-11-28T18:11:55.322Z"
   },
   {
    "duration": 7,
    "start_time": "2022-11-28T18:11:55.470Z"
   },
   {
    "duration": 15,
    "start_time": "2022-11-28T18:11:55.478Z"
   },
   {
    "duration": 186,
    "start_time": "2022-11-28T18:11:55.494Z"
   },
   {
    "duration": 13,
    "start_time": "2022-11-28T18:11:55.681Z"
   },
   {
    "duration": 232,
    "start_time": "2022-11-28T18:11:55.696Z"
   },
   {
    "duration": 7,
    "start_time": "2022-11-28T18:11:55.930Z"
   },
   {
    "duration": 14,
    "start_time": "2022-11-28T18:11:55.939Z"
   },
   {
    "duration": 194,
    "start_time": "2022-11-28T18:11:55.955Z"
   },
   {
    "duration": 7,
    "start_time": "2022-11-28T18:11:56.151Z"
   },
   {
    "duration": 16,
    "start_time": "2022-11-28T18:11:56.160Z"
   },
   {
    "duration": 181,
    "start_time": "2022-11-28T18:11:56.177Z"
   },
   {
    "duration": 9,
    "start_time": "2022-11-28T18:11:56.360Z"
   },
   {
    "duration": 238,
    "start_time": "2022-11-28T18:11:56.371Z"
   },
   {
    "duration": 15,
    "start_time": "2022-11-28T18:11:56.610Z"
   },
   {
    "duration": 300,
    "start_time": "2022-11-28T18:11:56.627Z"
   },
   {
    "duration": 178,
    "start_time": "2022-11-28T18:11:56.931Z"
   },
   {
    "duration": 292,
    "start_time": "2022-11-28T18:11:57.110Z"
   },
   {
    "duration": 241,
    "start_time": "2022-11-28T18:11:57.403Z"
   },
   {
    "duration": 324,
    "start_time": "2022-11-28T18:11:57.646Z"
   },
   {
    "duration": 342,
    "start_time": "2022-11-28T18:11:57.972Z"
   },
   {
    "duration": 160,
    "start_time": "2022-11-28T18:11:58.321Z"
   },
   {
    "duration": 337,
    "start_time": "2022-11-28T18:11:58.482Z"
   },
   {
    "duration": 250,
    "start_time": "2022-11-28T18:11:58.821Z"
   },
   {
    "duration": 261,
    "start_time": "2022-11-28T18:11:59.072Z"
   },
   {
    "duration": 11,
    "start_time": "2022-11-28T18:11:59.335Z"
   },
   {
    "duration": 1473,
    "start_time": "2022-11-28T18:11:59.347Z"
   },
   {
    "duration": 9,
    "start_time": "2022-11-28T18:12:00.821Z"
   },
   {
    "duration": 210,
    "start_time": "2022-11-28T18:12:00.831Z"
   },
   {
    "duration": 213,
    "start_time": "2022-11-28T18:12:01.043Z"
   },
   {
    "duration": 6,
    "start_time": "2022-11-28T18:12:01.258Z"
   },
   {
    "duration": 38,
    "start_time": "2022-11-28T18:12:01.266Z"
   },
   {
    "duration": 195,
    "start_time": "2022-11-28T18:12:01.306Z"
   },
   {
    "duration": 197,
    "start_time": "2022-11-28T18:12:01.504Z"
   },
   {
    "duration": 6,
    "start_time": "2022-11-28T18:12:01.703Z"
   },
   {
    "duration": 36,
    "start_time": "2022-11-28T18:12:01.710Z"
   },
   {
    "duration": 16,
    "start_time": "2022-11-28T18:12:01.748Z"
   },
   {
    "duration": 83,
    "start_time": "2022-11-28T18:12:01.765Z"
   },
   {
    "duration": 14,
    "start_time": "2022-11-28T18:12:01.850Z"
   },
   {
    "duration": 1165,
    "start_time": "2022-11-29T07:49:30.105Z"
   },
   {
    "duration": 156,
    "start_time": "2022-11-29T07:49:31.272Z"
   },
   {
    "duration": 12,
    "start_time": "2022-11-29T07:49:31.430Z"
   },
   {
    "duration": 32,
    "start_time": "2022-11-29T07:49:31.445Z"
   },
   {
    "duration": 5,
    "start_time": "2022-11-29T07:49:31.479Z"
   },
   {
    "duration": 9,
    "start_time": "2022-11-29T07:49:31.485Z"
   },
   {
    "duration": 7,
    "start_time": "2022-11-29T07:49:31.496Z"
   },
   {
    "duration": 11,
    "start_time": "2022-11-29T07:49:31.505Z"
   },
   {
    "duration": 4,
    "start_time": "2022-11-29T07:49:31.517Z"
   },
   {
    "duration": 874,
    "start_time": "2022-11-29T07:49:31.524Z"
   },
   {
    "duration": 771,
    "start_time": "2022-11-29T07:49:32.399Z"
   },
   {
    "duration": 10,
    "start_time": "2022-11-29T07:49:33.171Z"
   },
   {
    "duration": 10,
    "start_time": "2022-11-29T07:49:33.183Z"
   },
   {
    "duration": 9,
    "start_time": "2022-11-29T07:49:33.195Z"
   },
   {
    "duration": 6,
    "start_time": "2022-11-29T07:49:33.206Z"
   },
   {
    "duration": 14,
    "start_time": "2022-11-29T07:49:33.213Z"
   },
   {
    "duration": 158,
    "start_time": "2022-11-29T07:49:33.228Z"
   },
   {
    "duration": 11,
    "start_time": "2022-11-29T07:49:33.388Z"
   },
   {
    "duration": 166,
    "start_time": "2022-11-29T07:49:33.400Z"
   },
   {
    "duration": 138,
    "start_time": "2022-11-29T07:49:33.568Z"
   },
   {
    "duration": 6,
    "start_time": "2022-11-29T07:49:33.708Z"
   },
   {
    "duration": 17,
    "start_time": "2022-11-29T07:49:33.715Z"
   },
   {
    "duration": 160,
    "start_time": "2022-11-29T07:49:33.733Z"
   },
   {
    "duration": 11,
    "start_time": "2022-11-29T07:49:33.895Z"
   },
   {
    "duration": 183,
    "start_time": "2022-11-29T07:49:33.908Z"
   },
   {
    "duration": 7,
    "start_time": "2022-11-29T07:49:34.093Z"
   },
   {
    "duration": 26,
    "start_time": "2022-11-29T07:49:34.102Z"
   },
   {
    "duration": 205,
    "start_time": "2022-11-29T07:49:34.132Z"
   },
   {
    "duration": 15,
    "start_time": "2022-11-29T07:49:34.339Z"
   },
   {
    "duration": 216,
    "start_time": "2022-11-29T07:49:34.355Z"
   },
   {
    "duration": 11,
    "start_time": "2022-11-29T07:49:34.572Z"
   },
   {
    "duration": 15,
    "start_time": "2022-11-29T07:49:34.585Z"
   },
   {
    "duration": 167,
    "start_time": "2022-11-29T07:49:34.602Z"
   },
   {
    "duration": 7,
    "start_time": "2022-11-29T07:49:34.771Z"
   },
   {
    "duration": 26,
    "start_time": "2022-11-29T07:49:34.780Z"
   },
   {
    "duration": 167,
    "start_time": "2022-11-29T07:49:34.807Z"
   },
   {
    "duration": 9,
    "start_time": "2022-11-29T07:49:34.977Z"
   },
   {
    "duration": 225,
    "start_time": "2022-11-29T07:49:34.987Z"
   },
   {
    "duration": 6,
    "start_time": "2022-11-29T07:49:35.213Z"
   },
   {
    "duration": 294,
    "start_time": "2022-11-29T07:49:35.221Z"
   },
   {
    "duration": 156,
    "start_time": "2022-11-29T07:49:35.516Z"
   },
   {
    "duration": 269,
    "start_time": "2022-11-29T07:49:35.677Z"
   },
   {
    "duration": 230,
    "start_time": "2022-11-29T07:49:35.948Z"
   },
   {
    "duration": 300,
    "start_time": "2022-11-29T07:49:36.179Z"
   },
   {
    "duration": 322,
    "start_time": "2022-11-29T07:49:36.481Z"
   },
   {
    "duration": 142,
    "start_time": "2022-11-29T07:49:36.805Z"
   },
   {
    "duration": 330,
    "start_time": "2022-11-29T07:49:36.949Z"
   },
   {
    "duration": 229,
    "start_time": "2022-11-29T07:49:37.280Z"
   },
   {
    "duration": 241,
    "start_time": "2022-11-29T07:49:37.511Z"
   },
   {
    "duration": 10,
    "start_time": "2022-11-29T07:49:37.754Z"
   },
   {
    "duration": 1441,
    "start_time": "2022-11-29T07:49:37.765Z"
   },
   {
    "duration": 8,
    "start_time": "2022-11-29T07:49:39.207Z"
   },
   {
    "duration": 190,
    "start_time": "2022-11-29T07:49:39.216Z"
   },
   {
    "duration": 185,
    "start_time": "2022-11-29T07:49:39.408Z"
   },
   {
    "duration": 5,
    "start_time": "2022-11-29T07:49:39.594Z"
   },
   {
    "duration": 9,
    "start_time": "2022-11-29T07:49:39.601Z"
   },
   {
    "duration": 184,
    "start_time": "2022-11-29T07:49:39.611Z"
   },
   {
    "duration": 183,
    "start_time": "2022-11-29T07:49:39.797Z"
   },
   {
    "duration": 5,
    "start_time": "2022-11-29T07:49:39.982Z"
   },
   {
    "duration": 15,
    "start_time": "2022-11-29T07:49:39.988Z"
   },
   {
    "duration": 7,
    "start_time": "2022-11-29T07:49:40.005Z"
   },
   {
    "duration": 17,
    "start_time": "2022-11-29T07:49:40.014Z"
   },
   {
    "duration": 7,
    "start_time": "2022-11-29T07:49:40.032Z"
   }
  ],
  "kernelspec": {
   "display_name": "Python 3 (ipykernel)",
   "language": "python",
   "name": "python3"
  },
  "language_info": {
   "codemirror_mode": {
    "name": "ipython",
    "version": 3
   },
   "file_extension": ".py",
   "mimetype": "text/x-python",
   "name": "python",
   "nbconvert_exporter": "python",
   "pygments_lexer": "ipython3",
   "version": "3.9.7"
  },
  "toc": {
   "base_numbering": 1,
   "nav_menu": {},
   "number_sections": true,
   "sideBar": true,
   "skip_h1_title": true,
   "title_cell": "Table of Contents",
   "title_sidebar": "Contents",
   "toc_cell": false,
   "toc_position": {},
   "toc_section_display": true,
   "toc_window_display": false
  }
 },
 "nbformat": 4,
 "nbformat_minor": 5
}
